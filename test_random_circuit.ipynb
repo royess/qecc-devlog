{
 "cells": [
  {
   "cell_type": "code",
   "execution_count": 2,
   "id": "e315260b-89e9-42bb-8f87-3abaf5599e63",
   "metadata": {},
   "outputs": [
    {
     "name": "stdout",
     "output_type": "stream",
     "text": [
      "\u001b[32m\u001b[1mStatus\u001b[22m\u001b[39m `~/.julia/environments/v1.10/Project.toml`\n",
      "  \u001b[90m[861a8166] \u001b[39mCombinatorics v1.0.2\n",
      "  \u001b[90m[7073ff75] \u001b[39mIJulia v1.24.2\n",
      "  \u001b[90m[2b0e0bc5] \u001b[39mLanguageServer v4.5.1\n",
      "  \u001b[90m[91a5bcdd] \u001b[39mPlots v1.40.4\n",
      "  \u001b[90m[b0d11df0] \u001b[39mQuantikz v1.3.1\n",
      "  \u001b[90m[0525e862] \u001b[39mQuantumClifford v0.9.4 `../../../Documents/Repos/QuantumClifford.jl`\n",
      "  \u001b[90m[295af30f] \u001b[39mRevise v3.5.14\n",
      "  \u001b[90m[37e2e46d] \u001b[39mLinearAlgebra\n"
     ]
    }
   ],
   "source": [
    "import Pkg; Pkg.status()"
   ]
  },
  {
   "cell_type": "code",
   "execution_count": 3,
   "id": "6c3cb144-abc4-4f07-a8a4-97487f168b5f",
   "metadata": {},
   "outputs": [],
   "source": [
    "using QuantumClifford, QuantumClifford.ECC"
   ]
  },
  {
   "cell_type": "code",
   "execution_count": 4,
   "id": "9d8319df-fdd1-4c03-84e7-68ed0a8c965c",
   "metadata": {
    "scrolled": true
   },
   "outputs": [
    {
     "name": "stderr",
     "output_type": "stream",
     "text": [
      "\u001b[32m\u001b[1mPrecompiling\u001b[22m\u001b[39m QuantumCliffordQuantikzExt\n",
      "\u001b[32m  ✓ \u001b[39m\u001b[90mQuantumClifford → QuantumCliffordQuantikzExt\u001b[39m\n",
      "  1 dependency successfully precompiled in 2 seconds. 110 already precompiled.\n"
     ]
    }
   ],
   "source": [
    "using Quantikz"
   ]
  },
  {
   "cell_type": "code",
   "execution_count": 5,
   "id": "11f69027-79d2-4542-8b28-37665703c260",
   "metadata": {},
   "outputs": [],
   "source": [
    "# methods(RandomCircuitCode)"
   ]
  },
  {
   "cell_type": "markdown",
   "id": "fda3b9aa-73dd-4a49-a261-02bab6254ff3",
   "metadata": {},
   "source": [
    "# All-to-all connection"
   ]
  },
  {
   "cell_type": "code",
   "execution_count": 6,
   "id": "7a6d0b9a-95d3-4dcc-8548-b50d58cba11f",
   "metadata": {},
   "outputs": [
    {
     "data": {
      "image/png": "[encoded data removed]",
      "text/plain": [
       "30-element Vector{QuantumClifford.AbstractOperation}:\n",
       " SparseGate{QuantumClifford.Tableau{Vector{UInt8}, Matrix{UInt64}}}(CliffordOperator on 2 qubits, [4, 9])\n",
       " SparseGate{QuantumClifford.Tableau{Vector{UInt8}, Matrix{UInt64}}}(CliffordOperator on 2 qubits, [2, 6])\n",
       " SparseGate{QuantumClifford.Tableau{Vector{UInt8}, Matrix{UInt64}}}(CliffordOperator on 2 qubits, [9, 6])\n",
       " SparseGate{QuantumClifford.Tableau{Vector{UInt8}, Matrix{UInt64}}}(CliffordOperator on 2 qubits, [3, 1])\n",
       " SparseGate{QuantumClifford.Tableau{Vector{UInt8}, Matrix{UInt64}}}(CliffordOperator on 2 qubits, [2, 8])\n",
       " SparseGate{QuantumClifford.Tableau{Vector{UInt8}, Matrix{UInt64}}}(CliffordOperator on 2 qubits, [2, 5])\n",
       " SparseGate{QuantumClifford.Tableau{Vector{UInt8}, Matrix{UInt64}}}(CliffordOperator on 2 qubits, [3, 5])\n",
       " SparseGate{QuantumClifford.Tableau{Vector{UInt8}, Matrix{UInt64}}}(CliffordOperator on 2 qubits, [1, 8])\n",
       " SparseGate{QuantumClifford.Tableau{Vector{UInt8}, Matrix{UInt64}}}(CliffordOperator on 2 qubits, [5, 7])\n",
       " SparseGate{QuantumClifford.Tableau{Vector{UInt8}, Matrix{UInt64}}}(CliffordOperator on 2 qubits, [6, 2])\n",
       " SparseGate{QuantumClifford.Tableau{Vector{UInt8}, Matrix{UInt64}}}(CliffordOperator on 2 qubits, [1, 9])\n",
       " SparseGate{QuantumClifford.Tableau{Vector{UInt8}, Matrix{UInt64}}}(CliffordOperator on 2 qubits, [2, 1])\n",
       " SparseGate{QuantumClifford.Tableau{Vector{UInt8}, Matrix{UInt64}}}(CliffordOperator on 2 qubits, [10, 2])\n",
       " ⋮\n",
       " SparseGate{QuantumClifford.Tableau{Vector{UInt8}, Matrix{UInt64}}}(CliffordOperator on 2 qubits, [10, 4])\n",
       " SparseGate{QuantumClifford.Tableau{Vector{UInt8}, Matrix{UInt64}}}(CliffordOperator on 2 qubits, [2, 4])\n",
       " SparseGate{QuantumClifford.Tableau{Vector{UInt8}, Matrix{UInt64}}}(CliffordOperator on 2 qubits, [6, 2])\n",
       " SparseGate{QuantumClifford.Tableau{Vector{UInt8}, Matrix{UInt64}}}(CliffordOperator on 2 qubits, [9, 6])\n",
       " SparseGate{QuantumClifford.Tableau{Vector{UInt8}, Matrix{UInt64}}}(CliffordOperator on 2 qubits, [3, 6])\n",
       " SparseGate{QuantumClifford.Tableau{Vector{UInt8}, Matrix{UInt64}}}(CliffordOperator on 2 qubits, [4, 6])\n",
       " SparseGate{QuantumClifford.Tableau{Vector{UInt8}, Matrix{UInt64}}}(CliffordOperator on 2 qubits, [7, 6])\n",
       " SparseGate{QuantumClifford.Tableau{Vector{UInt8}, Matrix{UInt64}}}(CliffordOperator on 2 qubits, [3, 8])\n",
       " SparseGate{QuantumClifford.Tableau{Vector{UInt8}, Matrix{UInt64}}}(CliffordOperator on 2 qubits, [10, 4])\n",
       " SparseGate{QuantumClifford.Tableau{Vector{UInt8}, Matrix{UInt64}}}(CliffordOperator on 2 qubits, [4, 8])\n",
       " SparseGate{QuantumClifford.Tableau{Vector{UInt8}, Matrix{UInt64}}}(CliffordOperator on 2 qubits, [7, 4])\n",
       " SparseGate{QuantumClifford.Tableau{Vector{UInt8}, Matrix{UInt64}}}(CliffordOperator on 2 qubits, [3, 1])"
      ]
     },
     "execution_count": 6,
     "metadata": {},
     "output_type": "execute_result"
    }
   ],
   "source": [
    "c1 = RandomCircuitCode(10, Val(:alltoall), 30, 2)\n",
    "c1.circ"
   ]
  },
  {
   "cell_type": "code",
   "execution_count": 7,
   "id": "6319e253-c08c-42a1-ab7e-63b75ab23c3f",
   "metadata": {},
   "outputs": [
    {
     "data": {
      "text/plain": [
       "+ __YYXXXY_Z\n",
       "+ _XXX_XX___\n",
       "- _ZXZYXXXX_\n",
       "- XYY____YY_\n",
       "+ ___XZ_X___\n",
       "+ Z_Y_Y_YX_X\n",
       "+ ___Y__Y__X\n",
       "- ZZZX____XZ"
      ]
     },
     "execution_count": 7,
     "metadata": {},
     "output_type": "execute_result"
    }
   ],
   "source": [
    "c1 |> parity_checks"
   ]
  },
  {
   "cell_type": "code",
   "execution_count": 7,
   "id": "43a77ce6-a257-425e-b85c-bdcdd7a996d7",
   "metadata": {},
   "outputs": [
    {
     "data": {
      "image/png": "[encoded data removed]",
      "text/plain": [
       "30-element Vector{QuantumClifford.AbstractOperation}:\n",
       " SparseGate{QuantumClifford.Tableau{Vector{UInt8}, Matrix{UInt64}}}(CliffordOperator on 2 qubits, [9, 7])\n",
       " SparseGate{QuantumClifford.Tableau{Vector{UInt8}, Matrix{UInt64}}}(CliffordOperator on 2 qubits, [7, 6])\n",
       " SparseGate{QuantumClifford.Tableau{Vector{UInt8}, Matrix{UInt64}}}(CliffordOperator on 2 qubits, [9, 1])\n",
       " SparseGate{QuantumClifford.Tableau{Vector{UInt8}, Matrix{UInt64}}}(CliffordOperator on 2 qubits, [1, 3])\n",
       " SparseGate{QuantumClifford.Tableau{Vector{UInt8}, Matrix{UInt64}}}(CliffordOperator on 2 qubits, [5, 9])\n",
       " SparseGate{QuantumClifford.Tableau{Vector{UInt8}, Matrix{UInt64}}}(CliffordOperator on 2 qubits, [5, 3])\n",
       " SparseGate{QuantumClifford.Tableau{Vector{UInt8}, Matrix{UInt64}}}(CliffordOperator on 2 qubits, [1, 8])\n",
       " SparseGate{QuantumClifford.Tableau{Vector{UInt8}, Matrix{UInt64}}}(CliffordOperator on 2 qubits, [10, 4])\n",
       " SparseGate{QuantumClifford.Tableau{Vector{UInt8}, Matrix{UInt64}}}(CliffordOperator on 2 qubits, [5, 10])\n",
       " SparseGate{QuantumClifford.Tableau{Vector{UInt8}, Matrix{UInt64}}}(CliffordOperator on 2 qubits, [8, 6])\n",
       " SparseGate{QuantumClifford.Tableau{Vector{UInt8}, Matrix{UInt64}}}(CliffordOperator on 2 qubits, [2, 8])\n",
       " SparseGate{QuantumClifford.Tableau{Vector{UInt8}, Matrix{UInt64}}}(CliffordOperator on 2 qubits, [5, 7])\n",
       " SparseGate{QuantumClifford.Tableau{Vector{UInt8}, Matrix{UInt64}}}(CliffordOperator on 2 qubits, [2, 10])\n",
       " ⋮\n",
       " SparseGate{QuantumClifford.Tableau{Vector{UInt8}, Matrix{UInt64}}}(CliffordOperator on 2 qubits, [8, 9])\n",
       " SparseGate{QuantumClifford.Tableau{Vector{UInt8}, Matrix{UInt64}}}(CliffordOperator on 2 qubits, [7, 4])\n",
       " SparseGate{QuantumClifford.Tableau{Vector{UInt8}, Matrix{UInt64}}}(CliffordOperator on 2 qubits, [2, 7])\n",
       " SparseGate{QuantumClifford.Tableau{Vector{UInt8}, Matrix{UInt64}}}(CliffordOperator on 2 qubits, [10, 9])\n",
       " SparseGate{QuantumClifford.Tableau{Vector{UInt8}, Matrix{UInt64}}}(CliffordOperator on 2 qubits, [2, 4])\n",
       " SparseGate{QuantumClifford.Tableau{Vector{UInt8}, Matrix{UInt64}}}(CliffordOperator on 2 qubits, [7, 2])\n",
       " SparseGate{QuantumClifford.Tableau{Vector{UInt8}, Matrix{UInt64}}}(CliffordOperator on 2 qubits, [10, 2])\n",
       " SparseGate{QuantumClifford.Tableau{Vector{UInt8}, Matrix{UInt64}}}(CliffordOperator on 2 qubits, [3, 7])\n",
       " SparseGate{QuantumClifford.Tableau{Vector{UInt8}, Matrix{UInt64}}}(CliffordOperator on 2 qubits, [5, 2])\n",
       " SparseGate{QuantumClifford.Tableau{Vector{UInt8}, Matrix{UInt64}}}(CliffordOperator on 2 qubits, [4, 2])\n",
       " SparseGate{QuantumClifford.Tableau{Vector{UInt8}, Matrix{UInt64}}}(CliffordOperator on 2 qubits, [2, 10])\n",
       " SparseGate{QuantumClifford.Tableau{Vector{UInt8}, Matrix{UInt64}}}(CliffordOperator on 2 qubits, [5, 10])"
      ]
     },
     "execution_count": 7,
     "metadata": {},
     "output_type": "execute_result"
    }
   ],
   "source": [
    "c2 = RandomCircuitCode(10, Val(:alltoall), 30, 1:2:7)\n",
    "c2.circ"
   ]
  },
  {
   "cell_type": "code",
   "execution_count": 8,
   "id": "289d86a9-c049-4b35-b269-8093b91c723d",
   "metadata": {},
   "outputs": [
    {
     "data": {
      "text/plain": [
       "- _YX_X__ZYY\n",
       "- _ZZYX_X_YY\n",
       "+ _Z__Z_XX_X\n",
       "- Y_________\n",
       "+ _X_XYZ_YZY\n",
       "+ _Z_Z__X_Z_"
      ]
     },
     "execution_count": 8,
     "metadata": {},
     "output_type": "execute_result"
    }
   ],
   "source": [
    "c2 |> parity_checks"
   ]
  },
  {
   "cell_type": "markdown",
   "id": "18d822fe-e1dc-4d90-b381-1f6ddeecb349",
   "metadata": {},
   "source": [
    "# Brickwork connection"
   ]
  },
  {
   "cell_type": "code",
   "execution_count": 9,
   "id": "0ae8f28f-29c1-44ff-8691-c50dfbee44c7",
   "metadata": {},
   "outputs": [
    {
     "data": {
      "image/png": "[encoded data removed]",
      "text/plain": [
       "9-element Vector{QuantumClifford.AbstractOperation}:\n",
       " SparseGate{QuantumClifford.Tableau{Vector{UInt8}, Matrix{UInt64}}}(CliffordOperator on 2 qubits, [1, 2])\n",
       " SparseGate{QuantumClifford.Tableau{Vector{UInt8}, Matrix{UInt64}}}(CliffordOperator on 2 qubits, [3, 4])\n",
       " SparseGate{QuantumClifford.Tableau{Vector{UInt8}, Matrix{UInt64}}}(CliffordOperator on 2 qubits, [5, 6])\n",
       " SparseGate{QuantumClifford.Tableau{Vector{UInt8}, Matrix{UInt64}}}(CliffordOperator on 2 qubits, [2, 3])\n",
       " SparseGate{QuantumClifford.Tableau{Vector{UInt8}, Matrix{UInt64}}}(CliffordOperator on 2 qubits, [4, 5])\n",
       " SparseGate{QuantumClifford.Tableau{Vector{UInt8}, Matrix{UInt64}}}(CliffordOperator on 2 qubits, [6, 7])\n",
       " SparseGate{QuantumClifford.Tableau{Vector{UInt8}, Matrix{UInt64}}}(CliffordOperator on 2 qubits, [1, 2])\n",
       " SparseGate{QuantumClifford.Tableau{Vector{UInt8}, Matrix{UInt64}}}(CliffordOperator on 2 qubits, [3, 4])\n",
       " SparseGate{QuantumClifford.Tableau{Vector{UInt8}, Matrix{UInt64}}}(CliffordOperator on 2 qubits, [5, 6])"
      ]
     },
     "execution_count": 9,
     "metadata": {},
     "output_type": "execute_result"
    }
   ],
   "source": [
    "c3 = RandomCircuitCode((7,), Val(:brickwork), 3, [1,3,7])\n",
    "c3.circ"
   ]
  },
  {
   "cell_type": "code",
   "execution_count": 10,
   "id": "6b964afb-4035-4447-b964-83bd59ef22fc",
   "metadata": {},
   "outputs": [
    {
     "data": {
      "text/plain": [
       "- _YXZ___\n",
       "- ZYXZ___\n",
       "- ____X__\n",
       "- _____X_"
      ]
     },
     "execution_count": 10,
     "metadata": {},
     "output_type": "execute_result"
    }
   ],
   "source": [
    "c3 |> parity_checks"
   ]
  },
  {
   "cell_type": "code",
   "execution_count": 11,
   "id": "3d1b5343-884c-4024-9719-88ce12956926",
   "metadata": {},
   "outputs": [
    {
     "data": {
      "image/png": "[encoded data removed]",
      "text/plain": [
       "38-element Vector{QuantumClifford.AbstractOperation}:\n",
       " SparseGate{QuantumClifford.Tableau{Vector{UInt8}, Matrix{UInt64}}}(CliffordOperator on 2 qubits, [1, 2])\n",
       " SparseGate{QuantumClifford.Tableau{Vector{UInt8}, Matrix{UInt64}}}(CliffordOperator on 2 qubits, [3, 4])\n",
       " SparseGate{QuantumClifford.Tableau{Vector{UInt8}, Matrix{UInt64}}}(CliffordOperator on 2 qubits, [5, 6])\n",
       " SparseGate{QuantumClifford.Tableau{Vector{UInt8}, Matrix{UInt64}}}(CliffordOperator on 2 qubits, [7, 8])\n",
       " SparseGate{QuantumClifford.Tableau{Vector{UInt8}, Matrix{UInt64}}}(CliffordOperator on 2 qubits, [9, 10])\n",
       " SparseGate{QuantumClifford.Tableau{Vector{UInt8}, Matrix{UInt64}}}(CliffordOperator on 2 qubits, [11, 12])\n",
       " SparseGate{QuantumClifford.Tableau{Vector{UInt8}, Matrix{UInt64}}}(CliffordOperator on 2 qubits, [13, 14])\n",
       " SparseGate{QuantumClifford.Tableau{Vector{UInt8}, Matrix{UInt64}}}(CliffordOperator on 2 qubits, [15, 16])\n",
       " SparseGate{QuantumClifford.Tableau{Vector{UInt8}, Matrix{UInt64}}}(CliffordOperator on 2 qubits, [17, 18])\n",
       " SparseGate{QuantumClifford.Tableau{Vector{UInt8}, Matrix{UInt64}}}(CliffordOperator on 2 qubits, [19, 20])\n",
       " SparseGate{QuantumClifford.Tableau{Vector{UInt8}, Matrix{UInt64}}}(CliffordOperator on 2 qubits, [2, 3])\n",
       " SparseGate{QuantumClifford.Tableau{Vector{UInt8}, Matrix{UInt64}}}(CliffordOperator on 2 qubits, [4, 5])\n",
       " SparseGate{QuantumClifford.Tableau{Vector{UInt8}, Matrix{UInt64}}}(CliffordOperator on 2 qubits, [6, 7])\n",
       " ⋮\n",
       " SparseGate{QuantumClifford.Tableau{Vector{UInt8}, Matrix{UInt64}}}(CliffordOperator on 2 qubits, [15, 16])\n",
       " SparseGate{QuantumClifford.Tableau{Vector{UInt8}, Matrix{UInt64}}}(CliffordOperator on 2 qubits, [17, 18])\n",
       " SparseGate{QuantumClifford.Tableau{Vector{UInt8}, Matrix{UInt64}}}(CliffordOperator on 2 qubits, [19, 20])\n",
       " SparseGate{QuantumClifford.Tableau{Vector{UInt8}, Matrix{UInt64}}}(CliffordOperator on 2 qubits, [2, 3])\n",
       " SparseGate{QuantumClifford.Tableau{Vector{UInt8}, Matrix{UInt64}}}(CliffordOperator on 2 qubits, [4, 5])\n",
       " SparseGate{QuantumClifford.Tableau{Vector{UInt8}, Matrix{UInt64}}}(CliffordOperator on 2 qubits, [6, 7])\n",
       " SparseGate{QuantumClifford.Tableau{Vector{UInt8}, Matrix{UInt64}}}(CliffordOperator on 2 qubits, [8, 9])\n",
       " SparseGate{QuantumClifford.Tableau{Vector{UInt8}, Matrix{UInt64}}}(CliffordOperator on 2 qubits, [10, 11])\n",
       " SparseGate{QuantumClifford.Tableau{Vector{UInt8}, Matrix{UInt64}}}(CliffordOperator on 2 qubits, [12, 13])\n",
       " SparseGate{QuantumClifford.Tableau{Vector{UInt8}, Matrix{UInt64}}}(CliffordOperator on 2 qubits, [14, 15])\n",
       " SparseGate{QuantumClifford.Tableau{Vector{UInt8}, Matrix{UInt64}}}(CliffordOperator on 2 qubits, [16, 17])\n",
       " SparseGate{QuantumClifford.Tableau{Vector{UInt8}, Matrix{UInt64}}}(CliffordOperator on 2 qubits, [18, 19])"
      ]
     },
     "execution_count": 11,
     "metadata": {},
     "output_type": "execute_result"
    }
   ],
   "source": [
    "c4 = RandomCircuitCode((20,), Val(:brickwork), 4, 1:2:20)\n",
    "c4.circ"
   ]
  },
  {
   "cell_type": "code",
   "execution_count": 12,
   "id": "57d5d5a2-36e3-457a-aa80-a063350678e2",
   "metadata": {},
   "outputs": [
    {
     "data": {
      "text/plain": [
       "+ XZZYX_______________\n",
       "+ _XZXX_Z_____________\n",
       "+ _XZ_Z_Y_____________\n",
       "+ ___ZZY_Z____________\n",
       "+ _____Z_YXZX_________\n",
       "+ ________XZ_XZ_______\n",
       "+ ___________YXZZ_____\n",
       "- ___________ZXZYYZ___\n",
       "- _________________XZZ\n",
       "- ________________ZX_Z"
      ]
     },
     "execution_count": 12,
     "metadata": {},
     "output_type": "execute_result"
    }
   ],
   "source": [
    "c4 |> parity_checks"
   ]
  },
  {
   "cell_type": "code",
   "execution_count": 13,
   "id": "8e186dcd-7063-4f24-84a4-376f7723d293",
   "metadata": {},
   "outputs": [
    {
     "data": {
      "image/png": "[encoded data removed]",
      "text/plain": [
       "38-element Vector{QuantumClifford.AbstractOperation}:\n",
       " SparseGate{QuantumClifford.Tableau{Vector{UInt8}, Matrix{UInt64}}}(CliffordOperator on 2 qubits, [1, 2])\n",
       " SparseGate{QuantumClifford.Tableau{Vector{UInt8}, Matrix{UInt64}}}(CliffordOperator on 2 qubits, [3, 4])\n",
       " SparseGate{QuantumClifford.Tableau{Vector{UInt8}, Matrix{UInt64}}}(CliffordOperator on 2 qubits, [5, 6])\n",
       " SparseGate{QuantumClifford.Tableau{Vector{UInt8}, Matrix{UInt64}}}(CliffordOperator on 2 qubits, [7, 8])\n",
       " SparseGate{QuantumClifford.Tableau{Vector{UInt8}, Matrix{UInt64}}}(CliffordOperator on 2 qubits, [9, 10])\n",
       " SparseGate{QuantumClifford.Tableau{Vector{UInt8}, Matrix{UInt64}}}(CliffordOperator on 2 qubits, [11, 12])\n",
       " SparseGate{QuantumClifford.Tableau{Vector{UInt8}, Matrix{UInt64}}}(CliffordOperator on 2 qubits, [13, 14])\n",
       " SparseGate{QuantumClifford.Tableau{Vector{UInt8}, Matrix{UInt64}}}(CliffordOperator on 2 qubits, [15, 16])\n",
       " SparseGate{QuantumClifford.Tableau{Vector{UInt8}, Matrix{UInt64}}}(CliffordOperator on 2 qubits, [17, 18])\n",
       " SparseGate{QuantumClifford.Tableau{Vector{UInt8}, Matrix{UInt64}}}(CliffordOperator on 2 qubits, [19, 20])\n",
       " SparseGate{QuantumClifford.Tableau{Vector{UInt8}, Matrix{UInt64}}}(CliffordOperator on 2 qubits, [21, 22])\n",
       " SparseGate{QuantumClifford.Tableau{Vector{UInt8}, Matrix{UInt64}}}(CliffordOperator on 2 qubits, [23, 24])\n",
       " SparseGate{QuantumClifford.Tableau{Vector{UInt8}, Matrix{UInt64}}}(CliffordOperator on 2 qubits, [5, 9])\n",
       " ⋮\n",
       " SparseGate{QuantumClifford.Tableau{Vector{UInt8}, Matrix{UInt64}}}(CliffordOperator on 2 qubits, [1, 5])\n",
       " SparseGate{QuantumClifford.Tableau{Vector{UInt8}, Matrix{UInt64}}}(CliffordOperator on 2 qubits, [2, 6])\n",
       " SparseGate{QuantumClifford.Tableau{Vector{UInt8}, Matrix{UInt64}}}(CliffordOperator on 2 qubits, [3, 7])\n",
       " SparseGate{QuantumClifford.Tableau{Vector{UInt8}, Matrix{UInt64}}}(CliffordOperator on 2 qubits, [4, 8])\n",
       " SparseGate{QuantumClifford.Tableau{Vector{UInt8}, Matrix{UInt64}}}(CliffordOperator on 2 qubits, [9, 13])\n",
       " SparseGate{QuantumClifford.Tableau{Vector{UInt8}, Matrix{UInt64}}}(CliffordOperator on 2 qubits, [10, 14])\n",
       " SparseGate{QuantumClifford.Tableau{Vector{UInt8}, Matrix{UInt64}}}(CliffordOperator on 2 qubits, [11, 15])\n",
       " SparseGate{QuantumClifford.Tableau{Vector{UInt8}, Matrix{UInt64}}}(CliffordOperator on 2 qubits, [12, 16])\n",
       " SparseGate{QuantumClifford.Tableau{Vector{UInt8}, Matrix{UInt64}}}(CliffordOperator on 2 qubits, [17, 21])\n",
       " SparseGate{QuantumClifford.Tableau{Vector{UInt8}, Matrix{UInt64}}}(CliffordOperator on 2 qubits, [18, 22])\n",
       " SparseGate{QuantumClifford.Tableau{Vector{UInt8}, Matrix{UInt64}}}(CliffordOperator on 2 qubits, [19, 23])\n",
       " SparseGate{QuantumClifford.Tableau{Vector{UInt8}, Matrix{UInt64}}}(CliffordOperator on 2 qubits, [20, 24])"
      ]
     },
     "execution_count": 13,
     "metadata": {},
     "output_type": "execute_result"
    }
   ],
   "source": [
    "c5 = RandomCircuitCode((4,6), Val(:brickwork), 4, 1:10)\n",
    "c5.circ"
   ]
  },
  {
   "cell_type": "code",
   "execution_count": 14,
   "id": "035fefe3-2385-4a46-aa9c-c6a1ccd3f88e",
   "metadata": {},
   "outputs": [
    {
     "data": {
      "text/plain": [
       "+ ___Z_______X___Z________\n",
       "+ _Y____X_________________\n",
       "- ____________X___Z___X___\n",
       "- __________Y___Z_________\n",
       "- ___________Z___Y________\n",
       "- _________X_______XZ__ZY_\n",
       "+ _________________X___Z__\n",
       "- ____________X____X___Z__\n",
       "+ _________Z_Z_Z_Y___Y__XZ\n",
       "+ _________Y___Z_____Z__XZ\n",
       "+ ________________XZX_YYX_\n",
       "- ________________YZY_YYX_\n",
       "+ _________________Z___Y__\n",
       "+ _________________Z_X_Y_Y"
      ]
     },
     "execution_count": 14,
     "metadata": {},
     "output_type": "execute_result"
    }
   ],
   "source": [
    "c5 |> parity_checks"
   ]
  },
  {
   "cell_type": "markdown",
   "id": "73217348-100b-4951-a166-3734c44f6343",
   "metadata": {},
   "source": [
    "# Debug\n"
   ]
  },
  {
   "cell_type": "code",
   "execution_count": 41,
   "id": "dc801d29-535a-4872-ad64-4954d7d39a2f",
   "metadata": {},
   "outputs": [],
   "source": [
    "# RandomCircuitCode(10, Val(:alltoall), 30, 1) |> naive_encoding_circuit"
   ]
  },
  {
   "cell_type": "markdown",
   "id": "256e408a-3af5-4f19-adfc-206896666f04",
   "metadata": {},
   "source": [
    "Now, we find a bug cause `ShorSyndromeECCSetup` to fail randomly with a high probability. It seems that it happens for a large number number of qubits, 20 for example.\n",
    "\n",
    "By reading the error information, the problem is when using `compactify_circuit` to concvert the circuit, a `ClassicalXOR{17}` is not handled properly. The operation is introduced by `shor_syndrome_circuit`."
   ]
  },
  {
   "cell_type": "code",
   "execution_count": 132,
   "id": "efc77713-40df-42ef-b54b-7a182961ac90",
   "metadata": {},
   "outputs": [],
   "source": [
    "using Random"
   ]
  },
  {
   "cell_type": "code",
   "execution_count": 133,
   "id": "004c1033-795a-49a2-b2a4-4759ef8f8333",
   "metadata": {},
   "outputs": [
    {
     "data": {
      "text/plain": [
       "TaskLocalRNG()"
      ]
     },
     "execution_count": 133,
     "metadata": {},
     "output_type": "execute_result"
    }
   ],
   "source": [
    "Random.seed!(43)"
   ]
  },
  {
   "cell_type": "code",
   "execution_count": 134,
   "id": "6b473a01-1bc6-4a4e-b7fa-918e5e8a216b",
   "metadata": {},
   "outputs": [
    {
     "data": {
      "text/plain": [
       "2-element Vector{RandomCircuitCode}:\n",
       " RandomCircuitCode((10,), Val{:alltoall}(), QuantumClifford.AbstractOperation[SparseGate{QuantumClifford.Tableau{Vector{UInt8}, Matrix{UInt64}}}(CliffordOperator on 2 qubits, [2, 1]), SparseGate{QuantumClifford.Tableau{Vector{UInt8}, Matrix{UInt64}}}(CliffordOperator on 2 qubits, [2, 3]), SparseGate{QuantumClifford.Tableau{Vector{UInt8}, Matrix{UInt64}}}(CliffordOperator on 2 qubits, [10, 2]), SparseGate{QuantumClifford.Tableau{Vector{UInt8}, Matrix{UInt64}}}(CliffordOperator on 2 qubits, [10, 6]), SparseGate{QuantumClifford.Tableau{Vector{UInt8}, Matrix{UInt64}}}(CliffordOperator on 2 qubits, [5, 9]), SparseGate{QuantumClifford.Tableau{Vector{UInt8}, Matrix{UInt64}}}(CliffordOperator on 2 qubits, [7, 5]), SparseGate{QuantumClifford.Tableau{Vector{UInt8}, Matrix{UInt64}}}(CliffordOperator on 2 qubits, [3, 9]), SparseGate{QuantumClifford.Tableau{Vector{UInt8}, Matrix{UInt64}}}(CliffordOperator on 2 qubits, [3, 8]), SparseGate{QuantumClifford.Tableau{Vector{UInt8}, Matrix{UInt64}}}(CliffordOperator on 2 qubits, [3, 1]), SparseGate{QuantumClifford.Tableau{Vector{UInt8}, Matrix{UInt64}}}(CliffordOperator on 2 qubits, [6, 1])  …  SparseGate{QuantumClifford.Tableau{Vector{UInt8}, Matrix{UInt64}}}(CliffordOperator on 2 qubits, [3, 1]), SparseGate{QuantumClifford.Tableau{Vector{UInt8}, Matrix{UInt64}}}(CliffordOperator on 2 qubits, [4, 7]), SparseGate{QuantumClifford.Tableau{Vector{UInt8}, Matrix{UInt64}}}(CliffordOperator on 2 qubits, [7, 5]), SparseGate{QuantumClifford.Tableau{Vector{UInt8}, Matrix{UInt64}}}(CliffordOperator on 2 qubits, [10, 4]), SparseGate{QuantumClifford.Tableau{Vector{UInt8}, Matrix{UInt64}}}(CliffordOperator on 2 qubits, [4, 8]), SparseGate{QuantumClifford.Tableau{Vector{UInt8}, Matrix{UInt64}}}(CliffordOperator on 2 qubits, [1, 6]), SparseGate{QuantumClifford.Tableau{Vector{UInt8}, Matrix{UInt64}}}(CliffordOperator on 2 qubits, [3, 4]), SparseGate{QuantumClifford.Tableau{Vector{UInt8}, Matrix{UInt64}}}(CliffordOperator on 2 qubits, [8, 9]), SparseGate{QuantumClifford.Tableau{Vector{UInt8}, Matrix{UInt64}}}(CliffordOperator on 2 qubits, [9, 3]), SparseGate{QuantumClifford.Tableau{Vector{UInt8}, Matrix{UInt64}}}(CliffordOperator on 2 qubits, [8, 10])], [1])\n",
       " RandomCircuitCode((20,), Val{:alltoall}(), QuantumClifford.AbstractOperation[SparseGate{QuantumClifford.Tableau{Vector{UInt8}, Matrix{UInt64}}}(CliffordOperator on 2 qubits, [10, 9]), SparseGate{QuantumClifford.Tableau{Vector{UInt8}, Matrix{UInt64}}}(CliffordOperator on 2 qubits, [1, 2]), SparseGate{QuantumClifford.Tableau{Vector{UInt8}, Matrix{UInt64}}}(CliffordOperator on 2 qubits, [16, 4]), SparseGate{QuantumClifford.Tableau{Vector{UInt8}, Matrix{UInt64}}}(CliffordOperator on 2 qubits, [13, 16]), SparseGate{QuantumClifford.Tableau{Vector{UInt8}, Matrix{UInt64}}}(CliffordOperator on 2 qubits, [2, 8]), SparseGate{QuantumClifford.Tableau{Vector{UInt8}, Matrix{UInt64}}}(CliffordOperator on 2 qubits, [1, 20]), SparseGate{QuantumClifford.Tableau{Vector{UInt8}, Matrix{UInt64}}}(CliffordOperator on 2 qubits, [1, 7]), SparseGate{QuantumClifford.Tableau{Vector{UInt8}, Matrix{UInt64}}}(CliffordOperator on 2 qubits, [20, 11]), SparseGate{QuantumClifford.Tableau{Vector{UInt8}, Matrix{UInt64}}}(CliffordOperator on 2 qubits, [9, 10]), SparseGate{QuantumClifford.Tableau{Vector{UInt8}, Matrix{UInt64}}}(CliffordOperator on 2 qubits, [11, 3])  …  SparseGate{QuantumClifford.Tableau{Vector{UInt8}, Matrix{UInt64}}}(CliffordOperator on 2 qubits, [4, 13]), SparseGate{QuantumClifford.Tableau{Vector{UInt8}, Matrix{UInt64}}}(CliffordOperator on 2 qubits, [6, 14]), SparseGate{QuantumClifford.Tableau{Vector{UInt8}, Matrix{UInt64}}}(CliffordOperator on 2 qubits, [15, 14]), SparseGate{QuantumClifford.Tableau{Vector{UInt8}, Matrix{UInt64}}}(CliffordOperator on 2 qubits, [6, 16]), SparseGate{QuantumClifford.Tableau{Vector{UInt8}, Matrix{UInt64}}}(CliffordOperator on 2 qubits, [8, 17]), SparseGate{QuantumClifford.Tableau{Vector{UInt8}, Matrix{UInt64}}}(CliffordOperator on 2 qubits, [15, 12]), SparseGate{QuantumClifford.Tableau{Vector{UInt8}, Matrix{UInt64}}}(CliffordOperator on 2 qubits, [8, 16]), SparseGate{QuantumClifford.Tableau{Vector{UInt8}, Matrix{UInt64}}}(CliffordOperator on 2 qubits, [7, 15]), SparseGate{QuantumClifford.Tableau{Vector{UInt8}, Matrix{UInt64}}}(CliffordOperator on 2 qubits, [19, 12]), SparseGate{QuantumClifford.Tableau{Vector{UInt8}, Matrix{UInt64}}}(CliffordOperator on 2 qubits, [12, 20])], [1])"
      ]
     },
     "execution_count": 134,
     "metadata": {},
     "output_type": "execute_result"
    }
   ],
   "source": [
    "codes_test = [RandomCircuitCode(10, Val(:alltoall), 100, 1), RandomCircuitCode(20, Val(:alltoall), 100, 1)]"
   ]
  },
  {
   "cell_type": "code",
   "execution_count": 135,
   "id": "bb1d0b32-1481-4ce3-8023-c602192a1118",
   "metadata": {},
   "outputs": [
    {
     "data": {
      "text/plain": [
       "+ XY__Z_ZZXY_XXYXYX_ZZ\n",
       "- ZXYZY_X____YZZ_YXZZY\n",
       "- Y_X__X_Y_Y_ZYYX__Z_Z\n",
       "+ YZ__XY_X_____Y_XYZ__\n",
       "+ XZYYYY_ZX_XYZ___YYZX\n",
       "+ XXXXY__ZZZY_YYYZXZXZ\n",
       "- X_ZXYXXZ_ZZXZYXZYYYX\n",
       "+ XXYYYZZYZY_ZY__XZZYY\n",
       "+ Y_YYXYZZ____XYZ__YY_\n",
       "- X_ZYZXXY_XZ_XY__XXZX\n",
       "+ XYY_YYZZ_Z__XZ___XY_\n",
       "- X_ZXZ_YZZ_ZZZYY_Z_XX\n",
       "- YYZ__X_Z_Z_YX_XY__ZY\n",
       "- _YXZXZYZYYZ_ZYX__XZ_\n",
       "+ _XXX_YYXXZZ_YY_ZZXYZ\n",
       "- YXXZXZ_X_Z_XZZ_ZZXZX\n",
       "- XZXXZ___XYXXYXXZZXY_\n",
       "- Z_XYYYZY_XYZZXXXZYXZ\n",
       "- XZX_X_Y_Z_ZXYX_Y_X_Z"
      ]
     },
     "execution_count": 135,
     "metadata": {},
     "output_type": "execute_result"
    }
   ],
   "source": [
    "codes_test[2] |> parity_checks"
   ]
  },
  {
   "cell_type": "code",
   "execution_count": 136,
   "id": "bae325a3-bd74-4a4a-a20e-6c1fa2babeee",
   "metadata": {},
   "outputs": [
    {
     "name": "stdout",
     "output_type": "stream",
     "text": [
      "(max(e...), noise, noise / 4) = (4.0e-5, 0.001, 0.00025)\n"
     ]
    },
    {
     "ename": "LoadError",
     "evalue": "MethodError: \u001b[0mCannot `convert` an object of type \n\u001b[0m  \u001b[92mClassicalXOR{17}\u001b[39m\u001b[0m to an object of type \n\u001b[0m  \u001b[91mUnion{SumTypes.Variant{Symbol(\"QuantumClifford.sHadamard\"), (:_1,), Tuple{Int64}}, SumTypes.Variant{Symbol(\"QuantumClifford.sId1\"), (:_1,), Tuple{Int64}}, SumTypes.Variant{Symbol(\"QuantumClifford.sInvPhase\"), (:_1,), Tuple{Int64}}, SumTypes.Variant{Symbol(\"QuantumClifford.sPhase\"), (:_1,), Tuple{Int64}}, SumTypes.Variant{Symbol(\"QuantumClifford.sX\"), (:_1,), Tuple{Int64}}, SumTypes.Variant{Symbol(\"QuantumClifford.sY\"), (:_1,), Tuple{Int64}}, SumTypes.Variant{Symbol(\"QuantumClifford.sZ\"), (:_1,), Tuple{Int64}}, SumTypes.Variant{Symbol(\"QuantumClifford.sCNOT\"), (:_1, :_2), Tuple{Int64, Int64}}, SumTypes.Variant{Symbol(\"QuantumClifford.sCPHASE\"), (:_1, :_2), Tuple{Int64, Int64}}, SumTypes.Variant{Symbol(\"QuantumClifford.sSWAP\"), (:_1, :_2), Tuple{Int64, Int64}}, SumTypes.Variant{Symbol(\"QuantumClifford.sXCX\"), (:_1, :_2), Tuple{Int64, Int64}}, SumTypes.Variant{Symbol(\"QuantumClifford.sXCY\"), (:_1, :_2), Tuple{Int64, Int64}}, SumTypes.Variant{Symbol(\"QuantumClifford.sXCZ\"), (:_1, :_2), Tuple{Int64, Int64}}, SumTypes.Variant{Symbol(\"QuantumClifford.sYCX\"), (:_1, :_2), Tuple{Int64, Int64}}, SumTypes.Variant{Symbol(\"QuantumClifford.sYCY\"), (:_1, :_2), Tuple{Int64, Int64}}, SumTypes.Variant{Symbol(\"QuantumClifford.sYCZ\"), (:_1, :_2), Tuple{Int64, Int64}}, SumTypes.Variant{Symbol(\"QuantumClifford.sZCX\"), (:_1, :_2), Tuple{Int64, Int64}}, SumTypes.Variant{Symbol(\"QuantumClifford.sZCY\"), (:_1, :_2), Tuple{Int64, Int64}}, SumTypes.Variant{Symbol(\"QuantumClifford.sZCZ\"), (:_1, :_2), Tuple{Int64, Int64}}, SumTypes.Variant{Symbol(\"QuantumClifford.sZCrY\"), (:_1, :_2), Tuple{Int64, Int64}}, SumTypes.Variant{Symbol(\"QuantumClifford.sMX\"), (:_1, :_2), Tuple{Int64, Int64}}, SumTypes.Variant{Symbol(\"QuantumClifford.sMY\"), (:_1, :_2), Tuple{Int64, Int64}}, SumTypes.Variant{Symbol(\"QuantumClifford.sMZ\"), (:_1, :_2), Tuple{Int64, Int64}}, SumTypes.Variant{Symbol(\"QuantumClifford.sMRX\"), (:_1, :_2), Tuple{Int64, Int64}}, SumTypes.Variant{Symbol(\"QuantumClifford.sMRY\"), (:_1, :_2), Tuple{Int64, Int64}}, SumTypes.Variant{Symbol(\"QuantumClifford.sMRZ\"), (:_1, :_2), Tuple{Int64, Int64}}, SumTypes.Variant{Symbol(\"QuantumClifford.ClassicalXOR{2}\"), (:_1, :_2), Tuple{Tuple{Int64, Int64}, Int64}}, SumTypes.Variant{Symbol(\"QuantumClifford.ClassicalXOR{3}\"), (:_1, :_2), Tuple{Tuple{Int64, Int64, Int64}, Int64}}, SumTypes.Variant{Symbol(\"QuantumClifford.ClassicalXOR{4}\"), (:_1, :_2), Tuple{NTuple{4, Int64}, Int64}}, SumTypes.Variant{Symbol(\"QuantumClifford.ClassicalXOR{5}\"), (:_1, :_2), Tuple{NTuple{5, Int64}, Int64}}, SumTypes.Variant{Symbol(\"QuantumClifford.ClassicalXOR{6}\"), (:_1, :_2), Tuple{NTuple{6, Int64}, Int64}}, SumTypes.Variant{Symbol(\"QuantumClifford.ClassicalXOR{7}\"), (:_1, :_2), Tuple{NTuple{7, Int64}, Int64}}, SumTypes.Variant{Symbol(\"QuantumClifford.ClassicalXOR{8}\"), (:_1, :_2), Tuple{NTuple{8, Int64}, Int64}}, SumTypes.Variant{Symbol(\"QuantumClifford.ClassicalXOR{9}\"), (:_1, :_2), Tuple{NTuple{9, Int64}, Int64}}, SumTypes.Variant{Symbol(\"QuantumClifford.ClassicalXOR{10}\"), (:_1, :_2), Tuple{NTuple{10, Int64}, Int64}}, SumTypes.Variant{Symbol(\"QuantumClifford.ClassicalXOR{11}\"), (:_1, :_2), Tuple{NTuple{11, Int64}, Int64}}, SumTypes.Variant{Symbol(\"QuantumClifford.ClassicalXOR{12}\"), (:_1, :_2), Tuple{NTuple{12, Int64}, Int64}}, SumTypes.Variant{Symbol(\"QuantumClifford.ClassicalXOR{13}\"), (:_1, :_2), Tuple{NTuple{13, Int64}, Int64}}, SumTypes.Variant{Symbol(\"QuantumClifford.ClassicalXOR{14}\"), (:_1, :_2), Tuple{NTuple{14, Int64}, Int64}}, SumTypes.Variant{Symbol(\"QuantumClifford.ClassicalXOR{15}\"), (:_1, :_2), Tuple{NTuple{15, Int64}, Int64}}, SumTypes.Variant{Symbol(\"QuantumClifford.ClassicalXOR{16}\"), (:_1, :_2), Tuple{NTuple{16, Int64}, Int64}}, SumTypes.Variant{Symbol(\"QuantumClifford.NoiseOp{(QuantumClifford.UnbiasedUncorrelatedNoise{Float64}, 1)}\"), (:_1, :_2), Tuple{UnbiasedUncorrelatedNoise{Float64}, Tuple{Int64}}}, SumTypes.Variant{Symbol(\"QuantumClifford.NoiseOp{(QuantumClifford.UnbiasedUncorrelatedNoise{Float64}, 2)}\"), (:_1, :_2), Tuple{UnbiasedUncorrelatedNoise{Float64}, Tuple{Int64, Int64}}}, SumTypes.Variant{Symbol(\"QuantumClifford.NoiseOp{(QuantumClifford.UnbiasedUncorrelatedNoise{Float64}, 3)}\"), (:_1, :_2), Tuple{UnbiasedUncorrelatedNoise{Float64}, Tuple{Int64, Int64, Int64}}}, SumTypes.Variant{Symbol(\"QuantumClifford.NoiseOp{(QuantumClifford.UnbiasedUncorrelatedNoise{Float64}, 4)}\"), (:_1, :_2), Tuple{UnbiasedUncorrelatedNoise{Float64}, NTuple{4, Int64}}}, SumTypes.Variant{Symbol(\"QuantumClifford.NoiseOp{(QuantumClifford.UnbiasedUncorrelatedNoise{Float64}, 5)}\"), (:_1, :_2), Tuple{UnbiasedUncorrelatedNoise{Float64}, NTuple{5, Int64}}}, SumTypes.Variant{Symbol(\"QuantumClifford.NoiseOp{(QuantumClifford.UnbiasedUncorrelatedNoise{Float64}, 6)}\"), (:_1, :_2), Tuple{UnbiasedUncorrelatedNoise{Float64}, NTuple{6, Int64}}}, SumTypes.Variant{Symbol(\"QuantumClifford.NoiseOp{(QuantumClifford.UnbiasedUncorrelatedNoise{Float64}, 7)}\"), (:_1, :_2), Tuple{UnbiasedUncorrelatedNoise{Float64}, NTuple{7, Int64}}}, SumTypes.Variant{Symbol(\"QuantumClifford.NoiseOp{(QuantumClifford.UnbiasedUncorrelatedNoise{Float64}, 8)}\"), (:_1, :_2), Tuple{UnbiasedUncorrelatedNoise{Float64}, NTuple{8, Int64}}}, SumTypes.Variant{Symbol(\"QuantumClifford.SingleQubitOperator\"), (:_1, :_2, :_3, :_4, :_5, :_6, :_7), Tuple{Int64, Vararg{Bool, 6}}}, SumTypes.Variant{Symbol(\"QuantumClifford.NoiseOpAll\"), (:_1,), Tuple{QuantumClifford.AbstractNoise}}, SumTypes.Variant{Symbol(\"QuantumClifford.VerifyOp\"), (:_1, :_2), Tuple{Stabilizer, AbstractVector{Int64}}}, SumTypes.Variant{Symbol(\"QuantumClifford.BellMeasurement\"), (:_1, :_2), Tuple{Vector{Union{sMX, sMY, sMZ}}, Bool}}, SumTypes.Variant{Symbol(\"QuantumClifford.NoisyGate\"), (:_1, :_2), Tuple{QuantumClifford.AbstractOperation, QuantumClifford.AbstractNoise}}}\u001b[39m\n\n\u001b[0mClosest candidates are:\n\u001b[0m  convert(::Type{T}, \u001b[91m::T\u001b[39m) where T\n\u001b[0m\u001b[90m   @\u001b[39m \u001b[90mBase\u001b[39m \u001b[90m\u001b[4mBase.jl:84\u001b[24m\u001b[39m\n",
     "output_type": "error",
     "traceback": [
      "MethodError: \u001b[0mCannot `convert` an object of type \n\u001b[0m  \u001b[92mClassicalXOR{17}\u001b[39m\u001b[0m to an object of type \n\u001b[0m  \u001b[91mUnion{SumTypes.Variant{Symbol(\"QuantumClifford.sHadamard\"), (:_1,), Tuple{Int64}}, SumTypes.Variant{Symbol(\"QuantumClifford.sId1\"), (:_1,), Tuple{Int64}}, SumTypes.Variant{Symbol(\"QuantumClifford.sInvPhase\"), (:_1,), Tuple{Int64}}, SumTypes.Variant{Symbol(\"QuantumClifford.sPhase\"), (:_1,), Tuple{Int64}}, SumTypes.Variant{Symbol(\"QuantumClifford.sX\"), (:_1,), Tuple{Int64}}, SumTypes.Variant{Symbol(\"QuantumClifford.sY\"), (:_1,), Tuple{Int64}}, SumTypes.Variant{Symbol(\"QuantumClifford.sZ\"), (:_1,), Tuple{Int64}}, SumTypes.Variant{Symbol(\"QuantumClifford.sCNOT\"), (:_1, :_2), Tuple{Int64, Int64}}, SumTypes.Variant{Symbol(\"QuantumClifford.sCPHASE\"), (:_1, :_2), Tuple{Int64, Int64}}, SumTypes.Variant{Symbol(\"QuantumClifford.sSWAP\"), (:_1, :_2), Tuple{Int64, Int64}}, SumTypes.Variant{Symbol(\"QuantumClifford.sXCX\"), (:_1, :_2), Tuple{Int64, Int64}}, SumTypes.Variant{Symbol(\"QuantumClifford.sXCY\"), (:_1, :_2), Tuple{Int64, Int64}}, SumTypes.Variant{Symbol(\"QuantumClifford.sXCZ\"), (:_1, :_2), Tuple{Int64, Int64}}, SumTypes.Variant{Symbol(\"QuantumClifford.sYCX\"), (:_1, :_2), Tuple{Int64, Int64}}, SumTypes.Variant{Symbol(\"QuantumClifford.sYCY\"), (:_1, :_2), Tuple{Int64, Int64}}, SumTypes.Variant{Symbol(\"QuantumClifford.sYCZ\"), (:_1, :_2), Tuple{Int64, Int64}}, SumTypes.Variant{Symbol(\"QuantumClifford.sZCX\"), (:_1, :_2), Tuple{Int64, Int64}}, SumTypes.Variant{Symbol(\"QuantumClifford.sZCY\"), (:_1, :_2), Tuple{Int64, Int64}}, SumTypes.Variant{Symbol(\"QuantumClifford.sZCZ\"), (:_1, :_2), Tuple{Int64, Int64}}, SumTypes.Variant{Symbol(\"QuantumClifford.sZCrY\"), (:_1, :_2), Tuple{Int64, Int64}}, SumTypes.Variant{Symbol(\"QuantumClifford.sMX\"), (:_1, :_2), Tuple{Int64, Int64}}, SumTypes.Variant{Symbol(\"QuantumClifford.sMY\"), (:_1, :_2), Tuple{Int64, Int64}}, SumTypes.Variant{Symbol(\"QuantumClifford.sMZ\"), (:_1, :_2), Tuple{Int64, Int64}}, SumTypes.Variant{Symbol(\"QuantumClifford.sMRX\"), (:_1, :_2), Tuple{Int64, Int64}}, SumTypes.Variant{Symbol(\"QuantumClifford.sMRY\"), (:_1, :_2), Tuple{Int64, Int64}}, SumTypes.Variant{Symbol(\"QuantumClifford.sMRZ\"), (:_1, :_2), Tuple{Int64, Int64}}, SumTypes.Variant{Symbol(\"QuantumClifford.ClassicalXOR{2}\"), (:_1, :_2), Tuple{Tuple{Int64, Int64}, Int64}}, SumTypes.Variant{Symbol(\"QuantumClifford.ClassicalXOR{3}\"), (:_1, :_2), Tuple{Tuple{Int64, Int64, Int64}, Int64}}, SumTypes.Variant{Symbol(\"QuantumClifford.ClassicalXOR{4}\"), (:_1, :_2), Tuple{NTuple{4, Int64}, Int64}}, SumTypes.Variant{Symbol(\"QuantumClifford.ClassicalXOR{5}\"), (:_1, :_2), Tuple{NTuple{5, Int64}, Int64}}, SumTypes.Variant{Symbol(\"QuantumClifford.ClassicalXOR{6}\"), (:_1, :_2), Tuple{NTuple{6, Int64}, Int64}}, SumTypes.Variant{Symbol(\"QuantumClifford.ClassicalXOR{7}\"), (:_1, :_2), Tuple{NTuple{7, Int64}, Int64}}, SumTypes.Variant{Symbol(\"QuantumClifford.ClassicalXOR{8}\"), (:_1, :_2), Tuple{NTuple{8, Int64}, Int64}}, SumTypes.Variant{Symbol(\"QuantumClifford.ClassicalXOR{9}\"), (:_1, :_2), Tuple{NTuple{9, Int64}, Int64}}, SumTypes.Variant{Symbol(\"QuantumClifford.ClassicalXOR{10}\"), (:_1, :_2), Tuple{NTuple{10, Int64}, Int64}}, SumTypes.Variant{Symbol(\"QuantumClifford.ClassicalXOR{11}\"), (:_1, :_2), Tuple{NTuple{11, Int64}, Int64}}, SumTypes.Variant{Symbol(\"QuantumClifford.ClassicalXOR{12}\"), (:_1, :_2), Tuple{NTuple{12, Int64}, Int64}}, SumTypes.Variant{Symbol(\"QuantumClifford.ClassicalXOR{13}\"), (:_1, :_2), Tuple{NTuple{13, Int64}, Int64}}, SumTypes.Variant{Symbol(\"QuantumClifford.ClassicalXOR{14}\"), (:_1, :_2), Tuple{NTuple{14, Int64}, Int64}}, SumTypes.Variant{Symbol(\"QuantumClifford.ClassicalXOR{15}\"), (:_1, :_2), Tuple{NTuple{15, Int64}, Int64}}, SumTypes.Variant{Symbol(\"QuantumClifford.ClassicalXOR{16}\"), (:_1, :_2), Tuple{NTuple{16, Int64}, Int64}}, SumTypes.Variant{Symbol(\"QuantumClifford.NoiseOp{(QuantumClifford.UnbiasedUncorrelatedNoise{Float64}, 1)}\"), (:_1, :_2), Tuple{UnbiasedUncorrelatedNoise{Float64}, Tuple{Int64}}}, SumTypes.Variant{Symbol(\"QuantumClifford.NoiseOp{(QuantumClifford.UnbiasedUncorrelatedNoise{Float64}, 2)}\"), (:_1, :_2), Tuple{UnbiasedUncorrelatedNoise{Float64}, Tuple{Int64, Int64}}}, SumTypes.Variant{Symbol(\"QuantumClifford.NoiseOp{(QuantumClifford.UnbiasedUncorrelatedNoise{Float64}, 3)}\"), (:_1, :_2), Tuple{UnbiasedUncorrelatedNoise{Float64}, Tuple{Int64, Int64, Int64}}}, SumTypes.Variant{Symbol(\"QuantumClifford.NoiseOp{(QuantumClifford.UnbiasedUncorrelatedNoise{Float64}, 4)}\"), (:_1, :_2), Tuple{UnbiasedUncorrelatedNoise{Float64}, NTuple{4, Int64}}}, SumTypes.Variant{Symbol(\"QuantumClifford.NoiseOp{(QuantumClifford.UnbiasedUncorrelatedNoise{Float64}, 5)}\"), (:_1, :_2), Tuple{UnbiasedUncorrelatedNoise{Float64}, NTuple{5, Int64}}}, SumTypes.Variant{Symbol(\"QuantumClifford.NoiseOp{(QuantumClifford.UnbiasedUncorrelatedNoise{Float64}, 6)}\"), (:_1, :_2), Tuple{UnbiasedUncorrelatedNoise{Float64}, NTuple{6, Int64}}}, SumTypes.Variant{Symbol(\"QuantumClifford.NoiseOp{(QuantumClifford.UnbiasedUncorrelatedNoise{Float64}, 7)}\"), (:_1, :_2), Tuple{UnbiasedUncorrelatedNoise{Float64}, NTuple{7, Int64}}}, SumTypes.Variant{Symbol(\"QuantumClifford.NoiseOp{(QuantumClifford.UnbiasedUncorrelatedNoise{Float64}, 8)}\"), (:_1, :_2), Tuple{UnbiasedUncorrelatedNoise{Float64}, NTuple{8, Int64}}}, SumTypes.Variant{Symbol(\"QuantumClifford.SingleQubitOperator\"), (:_1, :_2, :_3, :_4, :_5, :_6, :_7), Tuple{Int64, Vararg{Bool, 6}}}, SumTypes.Variant{Symbol(\"QuantumClifford.NoiseOpAll\"), (:_1,), Tuple{QuantumClifford.AbstractNoise}}, SumTypes.Variant{Symbol(\"QuantumClifford.VerifyOp\"), (:_1, :_2), Tuple{Stabilizer, AbstractVector{Int64}}}, SumTypes.Variant{Symbol(\"QuantumClifford.BellMeasurement\"), (:_1, :_2), Tuple{Vector{Union{sMX, sMY, sMZ}}, Bool}}, SumTypes.Variant{Symbol(\"QuantumClifford.NoisyGate\"), (:_1, :_2), Tuple{QuantumClifford.AbstractOperation, QuantumClifford.AbstractNoise}}}\u001b[39m\n\n\u001b[0mClosest candidates are:\n\u001b[0m  convert(::Type{T}, \u001b[91m::T\u001b[39m) where T\n\u001b[0m\u001b[90m   @\u001b[39m \u001b[90mBase\u001b[39m \u001b[90m\u001b[4mBase.jl:84\u001b[24m\u001b[39m\n",
      "",
      "Stacktrace:",
      "  [1] QuantumClifford.CompactifiedGate(data::ClassicalXOR{17})",
      "    @ QuantumClifford ./none:0",
      "  [2] _broadcast_getindex_evalf",
      "    @ ./broadcast.jl:709 [inlined]",
      "  [3] _broadcast_getindex",
      "    @ ./broadcast.jl:682 [inlined]",
      "  [4] getindex",
      "    @ ./broadcast.jl:636 [inlined]",
      "  [5] macro expansion",
      "    @ ./broadcast.jl:1004 [inlined]",
      "  [6] macro expansion",
      "    @ ./simdloop.jl:77 [inlined]",
      "  [7] copyto!",
      "    @ ./broadcast.jl:1003 [inlined]",
      "  [8] copyto!",
      "    @ ./broadcast.jl:956 [inlined]",
      "  [9] copy",
      "    @ ./broadcast.jl:928 [inlined]",
      " [10] materialize",
      "    @ ./broadcast.jl:903 [inlined]",
      " [11] compactify_circuit(circuit::Vector{QuantumClifford.AbstractOperation})",
      "    @ QuantumClifford ~/Documents/Repos/QuantumClifford.jl/src/sumtypes.jl:207",
      " [12] _pftrajectories(circuit::Vector{QuantumClifford.AbstractOperation}; trajectories::Int64, threads::Bool)",
      "    @ QuantumClifford ~/Documents/Repos/QuantumClifford.jl/src/pauli_frames.jl:178",
      " [13] _pftrajectories",
      "    @ ~/Documents/Repos/QuantumClifford.jl/src/pauli_frames.jl:174 [inlined]",
      " [14] #pftrajectories#192",
      "    @ ~/Documents/Repos/QuantumClifford.jl/src/pauli_frames.jl:165 [inlined]",
      " [15] pftrajectories",
      "    @ ~/Documents/Repos/QuantumClifford.jl/src/pauli_frames.jl:164 [inlined]",
      " [16] evaluate_decoder(d::TableDecoder, nsamples::Int64, circuit::Vector{QuantumClifford.AbstractOperation}, syndrome_bits::UnitRange{Int64}, logical_bits::UnitRange{Int64}, faults_submatrix::BitMatrix)",
      "    @ QuantumClifford.ECC ~/Documents/Repos/QuantumClifford.jl/src/ecc/decoder_pipeline.jl:164",
      " [17] evaluate_decoder(d::TableDecoder, setup::ShorSyndromeECCSetup, nsamples::Int64)",
      "    @ QuantumClifford.ECC ~/Documents/Repos/QuantumClifford.jl/src/ecc/decoder_pipeline.jl:142",
      " [18] top-level scope",
      "    @ ./In[136]:12"
     ]
    }
   ],
   "source": [
    "noise = 0.001\n",
    "\n",
    "setups = [\n",
    "    # CommutationCheckECCSetup(noise),\n",
    "    # NaiveSyndromeECCSetup(noise, 0),\n",
    "    ShorSyndromeECCSetup(noise, 0),\n",
    "]\n",
    "\n",
    "for c in codes_test\n",
    "    for s in setups\n",
    "        for d in [TableDecoder]\n",
    "            e = evaluate_decoder(d(c), s, 100000)\n",
    "            #@show c\n",
    "            #@show s\n",
    "            #@show e\n",
    "            @show max(e...), noise, noise/4\n",
    "            if max(e...) >= noise/4\n",
    "                println(\"noise is large!\")\n",
    "            end\n",
    "        end\n",
    "    end\n",
    "end"
   ]
  },
  {
   "cell_type": "code",
   "execution_count": 116,
   "id": "5b384069-3152-4de0-ba0e-8129e5b0a44f",
   "metadata": {},
   "outputs": [],
   "source": [
    "# c_test = RandomCircuitCode(20, Val(:alltoall), 100, [1,10]);"
   ]
  },
  {
   "cell_type": "code",
   "execution_count": 115,
   "id": "3d7cd199-ac05-4725-b8a7-e17a0896ee57",
   "metadata": {},
   "outputs": [],
   "source": [
    "# parity_checks(c_test)"
   ]
  },
  {
   "cell_type": "code",
   "execution_count": 63,
   "id": "265209d1-7437-4e25-8f67-e70c6c7bc927",
   "metadata": {},
   "outputs": [],
   "source": [
    "# encoding_circ = naive_encoding_circuit(c_test);"
   ]
  },
  {
   "cell_type": "code",
   "execution_count": 64,
   "id": "1075f6ac-cdf8-4867-95c3-8710d5296956",
   "metadata": {},
   "outputs": [],
   "source": [
    "# compactify_circuit(encoding_circ)"
   ]
  },
  {
   "cell_type": "code",
   "execution_count": 62,
   "id": "3cdcbff5-2ded-4151-a1d4-85d5d3709a18",
   "metadata": {},
   "outputs": [],
   "source": [
    "# pftrajectories(encoding_circ;trajectories=5000)"
   ]
  },
  {
   "cell_type": "code",
   "execution_count": null,
   "id": "ec9de17c-5d73-4db3-91ca-d129ae5c5276",
   "metadata": {},
   "outputs": [],
   "source": []
  }
 ],
 "metadata": {
  "kernelspec": {
   "display_name": "Julia 1.10.3",
   "language": "julia",
   "name": "julia-1.10"
  },
  "language_info": {
   "file_extension": ".jl",
   "mimetype": "application/julia",
   "name": "julia",
   "version": "1.10.3"
  }
 },
 "nbformat": 4,
 "nbformat_minor": 5
}
