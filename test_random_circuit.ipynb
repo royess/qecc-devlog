{
 "cells": [
  {
   "cell_type": "code",
   "execution_count": 1,
   "id": "e315260b-89e9-42bb-8f87-3abaf5599e63",
   "metadata": {},
   "outputs": [
    {
     "name": "stdout",
     "output_type": "stream",
     "text": [
      "\u001b[32m\u001b[1mStatus\u001b[22m\u001b[39m `~/.julia/environments/v1.10/Project.toml`\n",
      "  \u001b[90m[861a8166] \u001b[39mCombinatorics v1.0.2\n",
      "  \u001b[90m[7073ff75] \u001b[39mIJulia v1.24.2\n",
      "  \u001b[90m[2b0e0bc5] \u001b[39mLanguageServer v4.5.1\n",
      "  \u001b[90m[91a5bcdd] \u001b[39mPlots v1.40.4\n",
      "  \u001b[90m[b0d11df0] \u001b[39mQuantikz v1.3.1\n",
      "  \u001b[90m[0525e862] \u001b[39mQuantumClifford v0.9.4 `../../../Documents/Repos/QuantumClifford.jl`\n",
      "  \u001b[90m[295af30f] \u001b[39mRevise v3.5.14\n",
      "  \u001b[90m[37e2e46d] \u001b[39mLinearAlgebra\n"
     ]
    }
   ],
   "source": [
    "import Pkg; Pkg.status()"
   ]
  },
  {
   "cell_type": "code",
   "execution_count": 2,
   "id": "6c3cb144-abc4-4f07-a8a4-97487f168b5f",
   "metadata": {},
   "outputs": [
    {
     "name": "stderr",
     "output_type": "stream",
     "text": [
      "\u001b[32m\u001b[1mPrecompiling\u001b[22m\u001b[39m QuantumClifford\n",
      "\u001b[32m  ✓ \u001b[39mQuantumClifford\n",
      "  1 dependency successfully precompiled in 16 seconds. 39 already precompiled.\n"
     ]
    }
   ],
   "source": [
    "using QuantumClifford, QuantumClifford.ECC"
   ]
  },
  {
   "cell_type": "code",
   "execution_count": 3,
   "id": "9d8319df-fdd1-4c03-84e7-68ed0a8c965c",
   "metadata": {
    "scrolled": true
   },
   "outputs": [
    {
     "name": "stderr",
     "output_type": "stream",
     "text": [
      "\u001b[32m\u001b[1mPrecompiling\u001b[22m\u001b[39m QuantumCliffordQuantikzExt\n",
      "\u001b[32m  ✓ \u001b[39m\u001b[90mQuantumClifford → QuantumCliffordQuantikzExt\u001b[39m\n",
      "  1 dependency successfully precompiled in 2 seconds. 110 already precompiled.\n"
     ]
    }
   ],
   "source": [
    "using Quantikz"
   ]
  },
  {
   "cell_type": "code",
   "execution_count": 4,
   "id": "11f69027-79d2-4542-8b28-37665703c260",
   "metadata": {},
   "outputs": [],
   "source": [
    "# methods(RandomCircuitCode)"
   ]
  },
  {
   "cell_type": "markdown",
   "id": "fda3b9aa-73dd-4a49-a261-02bab6254ff3",
   "metadata": {},
   "source": [
    "# All-to-all connection"
   ]
  },
  {
   "cell_type": "code",
   "execution_count": 5,
   "id": "7a6d0b9a-95d3-4dcc-8548-b50d58cba11f",
   "metadata": {},
   "outputs": [
    {
     "data": {
      "image/png": "[encoded data removed]",
      "text/plain": [
       "30-element Vector{QuantumClifford.AbstractOperation}:\n",
       " SparseGate{QuantumClifford.Tableau{Vector{UInt8}, Matrix{UInt64}}}(CliffordOperator on 2 qubits, [7, 6])\n",
       " SparseGate{QuantumClifford.Tableau{Vector{UInt8}, Matrix{UInt64}}}(CliffordOperator on 2 qubits, [3, 5])\n",
       " SparseGate{QuantumClifford.Tableau{Vector{UInt8}, Matrix{UInt64}}}(CliffordOperator on 2 qubits, [4, 3])\n",
       " SparseGate{QuantumClifford.Tableau{Vector{UInt8}, Matrix{UInt64}}}(CliffordOperator on 2 qubits, [9, 6])\n",
       " SparseGate{QuantumClifford.Tableau{Vector{UInt8}, Matrix{UInt64}}}(CliffordOperator on 2 qubits, [5, 7])\n",
       " SparseGate{QuantumClifford.Tableau{Vector{UInt8}, Matrix{UInt64}}}(CliffordOperator on 2 qubits, [7, 3])\n",
       " SparseGate{QuantumClifford.Tableau{Vector{UInt8}, Matrix{UInt64}}}(CliffordOperator on 2 qubits, [9, 10])\n",
       " SparseGate{QuantumClifford.Tableau{Vector{UInt8}, Matrix{UInt64}}}(CliffordOperator on 2 qubits, [3, 4])\n",
       " SparseGate{QuantumClifford.Tableau{Vector{UInt8}, Matrix{UInt64}}}(CliffordOperator on 2 qubits, [1, 2])\n",
       " SparseGate{QuantumClifford.Tableau{Vector{UInt8}, Matrix{UInt64}}}(CliffordOperator on 2 qubits, [10, 5])\n",
       " SparseGate{QuantumClifford.Tableau{Vector{UInt8}, Matrix{UInt64}}}(CliffordOperator on 2 qubits, [4, 7])\n",
       " SparseGate{QuantumClifford.Tableau{Vector{UInt8}, Matrix{UInt64}}}(CliffordOperator on 2 qubits, [5, 1])\n",
       " SparseGate{QuantumClifford.Tableau{Vector{UInt8}, Matrix{UInt64}}}(CliffordOperator on 2 qubits, [5, 4])\n",
       " ⋮\n",
       " SparseGate{QuantumClifford.Tableau{Vector{UInt8}, Matrix{UInt64}}}(CliffordOperator on 2 qubits, [8, 7])\n",
       " SparseGate{QuantumClifford.Tableau{Vector{UInt8}, Matrix{UInt64}}}(CliffordOperator on 2 qubits, [4, 10])\n",
       " SparseGate{QuantumClifford.Tableau{Vector{UInt8}, Matrix{UInt64}}}(CliffordOperator on 2 qubits, [5, 7])\n",
       " SparseGate{QuantumClifford.Tableau{Vector{UInt8}, Matrix{UInt64}}}(CliffordOperator on 2 qubits, [8, 1])\n",
       " SparseGate{QuantumClifford.Tableau{Vector{UInt8}, Matrix{UInt64}}}(CliffordOperator on 2 qubits, [3, 6])\n",
       " SparseGate{QuantumClifford.Tableau{Vector{UInt8}, Matrix{UInt64}}}(CliffordOperator on 2 qubits, [3, 7])\n",
       " SparseGate{QuantumClifford.Tableau{Vector{UInt8}, Matrix{UInt64}}}(CliffordOperator on 2 qubits, [2, 8])\n",
       " SparseGate{QuantumClifford.Tableau{Vector{UInt8}, Matrix{UInt64}}}(CliffordOperator on 2 qubits, [4, 10])\n",
       " SparseGate{QuantumClifford.Tableau{Vector{UInt8}, Matrix{UInt64}}}(CliffordOperator on 2 qubits, [1, 2])\n",
       " SparseGate{QuantumClifford.Tableau{Vector{UInt8}, Matrix{UInt64}}}(CliffordOperator on 2 qubits, [5, 1])\n",
       " SparseGate{QuantumClifford.Tableau{Vector{UInt8}, Matrix{UInt64}}}(CliffordOperator on 2 qubits, [8, 9])\n",
       " SparseGate{QuantumClifford.Tableau{Vector{UInt8}, Matrix{UInt64}}}(CliffordOperator on 2 qubits, [5, 7])"
      ]
     },
     "execution_count": 5,
     "metadata": {},
     "output_type": "execute_result"
    }
   ],
   "source": [
    "c1 = RandomCircuitCode(10, Val(:alltoall), 30, 4)\n",
    "c1.circ"
   ]
  },
  {
   "cell_type": "code",
   "execution_count": 6,
   "id": "6319e253-c08c-42a1-ab7e-63b75ab23c3f",
   "metadata": {},
   "outputs": [
    {
     "data": {
      "text/plain": [
       "+ YYYYZYXZYY\n",
       "+ YY__Y_Y___\n",
       "- ZZ_Y______\n",
       "+ YX__X_YZX_\n",
       "+ YXY_Y_ZZX_\n",
       "+ YY__Y_YZ__"
      ]
     },
     "execution_count": 6,
     "metadata": {},
     "output_type": "execute_result"
    }
   ],
   "source": [
    "c1 |> parity_checks"
   ]
  },
  {
   "cell_type": "code",
   "execution_count": 7,
   "id": "43a77ce6-a257-425e-b85c-bdcdd7a996d7",
   "metadata": {},
   "outputs": [
    {
     "data": {
      "image/png": "[encoded data removed]",
      "text/plain": [
       "30-element Vector{QuantumClifford.AbstractOperation}:\n",
       " SparseGate{QuantumClifford.Tableau{Vector{UInt8}, Matrix{UInt64}}}(CliffordOperator on 2 qubits, [9, 7])\n",
       " SparseGate{QuantumClifford.Tableau{Vector{UInt8}, Matrix{UInt64}}}(CliffordOperator on 2 qubits, [7, 6])\n",
       " SparseGate{QuantumClifford.Tableau{Vector{UInt8}, Matrix{UInt64}}}(CliffordOperator on 2 qubits, [9, 1])\n",
       " SparseGate{QuantumClifford.Tableau{Vector{UInt8}, Matrix{UInt64}}}(CliffordOperator on 2 qubits, [1, 3])\n",
       " SparseGate{QuantumClifford.Tableau{Vector{UInt8}, Matrix{UInt64}}}(CliffordOperator on 2 qubits, [5, 9])\n",
       " SparseGate{QuantumClifford.Tableau{Vector{UInt8}, Matrix{UInt64}}}(CliffordOperator on 2 qubits, [5, 3])\n",
       " SparseGate{QuantumClifford.Tableau{Vector{UInt8}, Matrix{UInt64}}}(CliffordOperator on 2 qubits, [1, 8])\n",
       " SparseGate{QuantumClifford.Tableau{Vector{UInt8}, Matrix{UInt64}}}(CliffordOperator on 2 qubits, [10, 4])\n",
       " SparseGate{QuantumClifford.Tableau{Vector{UInt8}, Matrix{UInt64}}}(CliffordOperator on 2 qubits, [5, 10])\n",
       " SparseGate{QuantumClifford.Tableau{Vector{UInt8}, Matrix{UInt64}}}(CliffordOperator on 2 qubits, [8, 6])\n",
       " SparseGate{QuantumClifford.Tableau{Vector{UInt8}, Matrix{UInt64}}}(CliffordOperator on 2 qubits, [2, 8])\n",
       " SparseGate{QuantumClifford.Tableau{Vector{UInt8}, Matrix{UInt64}}}(CliffordOperator on 2 qubits, [5, 7])\n",
       " SparseGate{QuantumClifford.Tableau{Vector{UInt8}, Matrix{UInt64}}}(CliffordOperator on 2 qubits, [2, 10])\n",
       " ⋮\n",
       " SparseGate{QuantumClifford.Tableau{Vector{UInt8}, Matrix{UInt64}}}(CliffordOperator on 2 qubits, [8, 9])\n",
       " SparseGate{QuantumClifford.Tableau{Vector{UInt8}, Matrix{UInt64}}}(CliffordOperator on 2 qubits, [7, 4])\n",
       " SparseGate{QuantumClifford.Tableau{Vector{UInt8}, Matrix{UInt64}}}(CliffordOperator on 2 qubits, [2, 7])\n",
       " SparseGate{QuantumClifford.Tableau{Vector{UInt8}, Matrix{UInt64}}}(CliffordOperator on 2 qubits, [10, 9])\n",
       " SparseGate{QuantumClifford.Tableau{Vector{UInt8}, Matrix{UInt64}}}(CliffordOperator on 2 qubits, [2, 4])\n",
       " SparseGate{QuantumClifford.Tableau{Vector{UInt8}, Matrix{UInt64}}}(CliffordOperator on 2 qubits, [7, 2])\n",
       " SparseGate{QuantumClifford.Tableau{Vector{UInt8}, Matrix{UInt64}}}(CliffordOperator on 2 qubits, [10, 2])\n",
       " SparseGate{QuantumClifford.Tableau{Vector{UInt8}, Matrix{UInt64}}}(CliffordOperator on 2 qubits, [3, 7])\n",
       " SparseGate{QuantumClifford.Tableau{Vector{UInt8}, Matrix{UInt64}}}(CliffordOperator on 2 qubits, [5, 2])\n",
       " SparseGate{QuantumClifford.Tableau{Vector{UInt8}, Matrix{UInt64}}}(CliffordOperator on 2 qubits, [4, 2])\n",
       " SparseGate{QuantumClifford.Tableau{Vector{UInt8}, Matrix{UInt64}}}(CliffordOperator on 2 qubits, [2, 10])\n",
       " SparseGate{QuantumClifford.Tableau{Vector{UInt8}, Matrix{UInt64}}}(CliffordOperator on 2 qubits, [5, 10])"
      ]
     },
     "execution_count": 7,
     "metadata": {},
     "output_type": "execute_result"
    }
   ],
   "source": [
    "c2 = RandomCircuitCode(10, Val(:alltoall), 30, 1:2:7)\n",
    "c2.circ"
   ]
  },
  {
   "cell_type": "code",
   "execution_count": 8,
   "id": "289d86a9-c049-4b35-b269-8093b91c723d",
   "metadata": {},
   "outputs": [
    {
     "data": {
      "text/plain": [
       "- _YX_X__ZYY\n",
       "- _ZZYX_X_YY\n",
       "+ _Z__Z_XX_X\n",
       "- Y_________\n",
       "+ _X_XYZ_YZY\n",
       "+ _Z_Z__X_Z_"
      ]
     },
     "execution_count": 8,
     "metadata": {},
     "output_type": "execute_result"
    }
   ],
   "source": [
    "c2 |> parity_checks"
   ]
  },
  {
   "cell_type": "markdown",
   "id": "18d822fe-e1dc-4d90-b381-1f6ddeecb349",
   "metadata": {},
   "source": [
    "# Brickwork connection"
   ]
  },
  {
   "cell_type": "code",
   "execution_count": 9,
   "id": "0ae8f28f-29c1-44ff-8691-c50dfbee44c7",
   "metadata": {},
   "outputs": [
    {
     "data": {
      "image/png": "[encoded data removed]",
      "text/plain": [
       "9-element Vector{QuantumClifford.AbstractOperation}:\n",
       " SparseGate{QuantumClifford.Tableau{Vector{UInt8}, Matrix{UInt64}}}(CliffordOperator on 2 qubits, [1, 2])\n",
       " SparseGate{QuantumClifford.Tableau{Vector{UInt8}, Matrix{UInt64}}}(CliffordOperator on 2 qubits, [3, 4])\n",
       " SparseGate{QuantumClifford.Tableau{Vector{UInt8}, Matrix{UInt64}}}(CliffordOperator on 2 qubits, [5, 6])\n",
       " SparseGate{QuantumClifford.Tableau{Vector{UInt8}, Matrix{UInt64}}}(CliffordOperator on 2 qubits, [2, 3])\n",
       " SparseGate{QuantumClifford.Tableau{Vector{UInt8}, Matrix{UInt64}}}(CliffordOperator on 2 qubits, [4, 5])\n",
       " SparseGate{QuantumClifford.Tableau{Vector{UInt8}, Matrix{UInt64}}}(CliffordOperator on 2 qubits, [6, 7])\n",
       " SparseGate{QuantumClifford.Tableau{Vector{UInt8}, Matrix{UInt64}}}(CliffordOperator on 2 qubits, [1, 2])\n",
       " SparseGate{QuantumClifford.Tableau{Vector{UInt8}, Matrix{UInt64}}}(CliffordOperator on 2 qubits, [3, 4])\n",
       " SparseGate{QuantumClifford.Tableau{Vector{UInt8}, Matrix{UInt64}}}(CliffordOperator on 2 qubits, [5, 6])"
      ]
     },
     "execution_count": 9,
     "metadata": {},
     "output_type": "execute_result"
    }
   ],
   "source": [
    "c3 = RandomCircuitCode((7,), Val(:brickwork), 3, [1,3,7])\n",
    "c3.circ"
   ]
  },
  {
   "cell_type": "code",
   "execution_count": 10,
   "id": "6b964afb-4035-4447-b964-83bd59ef22fc",
   "metadata": {},
   "outputs": [
    {
     "data": {
      "text/plain": [
       "- _YXZ___\n",
       "- ZYXZ___\n",
       "- ____X__\n",
       "- _____X_"
      ]
     },
     "execution_count": 10,
     "metadata": {},
     "output_type": "execute_result"
    }
   ],
   "source": [
    "c3 |> parity_checks"
   ]
  },
  {
   "cell_type": "code",
   "execution_count": 11,
   "id": "3d1b5343-884c-4024-9719-88ce12956926",
   "metadata": {},
   "outputs": [
    {
     "data": {
      "image/png": "[encoded data removed]",
      "text/plain": [
       "38-element Vector{QuantumClifford.AbstractOperation}:\n",
       " SparseGate{QuantumClifford.Tableau{Vector{UInt8}, Matrix{UInt64}}}(CliffordOperator on 2 qubits, [1, 2])\n",
       " SparseGate{QuantumClifford.Tableau{Vector{UInt8}, Matrix{UInt64}}}(CliffordOperator on 2 qubits, [3, 4])\n",
       " SparseGate{QuantumClifford.Tableau{Vector{UInt8}, Matrix{UInt64}}}(CliffordOperator on 2 qubits, [5, 6])\n",
       " SparseGate{QuantumClifford.Tableau{Vector{UInt8}, Matrix{UInt64}}}(CliffordOperator on 2 qubits, [7, 8])\n",
       " SparseGate{QuantumClifford.Tableau{Vector{UInt8}, Matrix{UInt64}}}(CliffordOperator on 2 qubits, [9, 10])\n",
       " SparseGate{QuantumClifford.Tableau{Vector{UInt8}, Matrix{UInt64}}}(CliffordOperator on 2 qubits, [11, 12])\n",
       " SparseGate{QuantumClifford.Tableau{Vector{UInt8}, Matrix{UInt64}}}(CliffordOperator on 2 qubits, [13, 14])\n",
       " SparseGate{QuantumClifford.Tableau{Vector{UInt8}, Matrix{UInt64}}}(CliffordOperator on 2 qubits, [15, 16])\n",
       " SparseGate{QuantumClifford.Tableau{Vector{UInt8}, Matrix{UInt64}}}(CliffordOperator on 2 qubits, [17, 18])\n",
       " SparseGate{QuantumClifford.Tableau{Vector{UInt8}, Matrix{UInt64}}}(CliffordOperator on 2 qubits, [19, 20])\n",
       " SparseGate{QuantumClifford.Tableau{Vector{UInt8}, Matrix{UInt64}}}(CliffordOperator on 2 qubits, [2, 3])\n",
       " SparseGate{QuantumClifford.Tableau{Vector{UInt8}, Matrix{UInt64}}}(CliffordOperator on 2 qubits, [4, 5])\n",
       " SparseGate{QuantumClifford.Tableau{Vector{UInt8}, Matrix{UInt64}}}(CliffordOperator on 2 qubits, [6, 7])\n",
       " ⋮\n",
       " SparseGate{QuantumClifford.Tableau{Vector{UInt8}, Matrix{UInt64}}}(CliffordOperator on 2 qubits, [15, 16])\n",
       " SparseGate{QuantumClifford.Tableau{Vector{UInt8}, Matrix{UInt64}}}(CliffordOperator on 2 qubits, [17, 18])\n",
       " SparseGate{QuantumClifford.Tableau{Vector{UInt8}, Matrix{UInt64}}}(CliffordOperator on 2 qubits, [19, 20])\n",
       " SparseGate{QuantumClifford.Tableau{Vector{UInt8}, Matrix{UInt64}}}(CliffordOperator on 2 qubits, [2, 3])\n",
       " SparseGate{QuantumClifford.Tableau{Vector{UInt8}, Matrix{UInt64}}}(CliffordOperator on 2 qubits, [4, 5])\n",
       " SparseGate{QuantumClifford.Tableau{Vector{UInt8}, Matrix{UInt64}}}(CliffordOperator on 2 qubits, [6, 7])\n",
       " SparseGate{QuantumClifford.Tableau{Vector{UInt8}, Matrix{UInt64}}}(CliffordOperator on 2 qubits, [8, 9])\n",
       " SparseGate{QuantumClifford.Tableau{Vector{UInt8}, Matrix{UInt64}}}(CliffordOperator on 2 qubits, [10, 11])\n",
       " SparseGate{QuantumClifford.Tableau{Vector{UInt8}, Matrix{UInt64}}}(CliffordOperator on 2 qubits, [12, 13])\n",
       " SparseGate{QuantumClifford.Tableau{Vector{UInt8}, Matrix{UInt64}}}(CliffordOperator on 2 qubits, [14, 15])\n",
       " SparseGate{QuantumClifford.Tableau{Vector{UInt8}, Matrix{UInt64}}}(CliffordOperator on 2 qubits, [16, 17])\n",
       " SparseGate{QuantumClifford.Tableau{Vector{UInt8}, Matrix{UInt64}}}(CliffordOperator on 2 qubits, [18, 19])"
      ]
     },
     "execution_count": 11,
     "metadata": {},
     "output_type": "execute_result"
    }
   ],
   "source": [
    "c4 = RandomCircuitCode((20,), Val(:brickwork), 4, 1:2:20)\n",
    "c4.circ"
   ]
  },
  {
   "cell_type": "code",
   "execution_count": 12,
   "id": "57d5d5a2-36e3-457a-aa80-a063350678e2",
   "metadata": {},
   "outputs": [
    {
     "data": {
      "text/plain": [
       "+ XZZYX_______________\n",
       "+ _XZXX_Z_____________\n",
       "+ _XZ_Z_Y_____________\n",
       "+ ___ZZY_Z____________\n",
       "+ _____Z_YXZX_________\n",
       "+ ________XZ_XZ_______\n",
       "+ ___________YXZZ_____\n",
       "- ___________ZXZYYZ___\n",
       "- _________________XZZ\n",
       "- ________________ZX_Z"
      ]
     },
     "execution_count": 12,
     "metadata": {},
     "output_type": "execute_result"
    }
   ],
   "source": [
    "c4 |> parity_checks"
   ]
  },
  {
   "cell_type": "code",
   "execution_count": 13,
   "id": "8e186dcd-7063-4f24-84a4-376f7723d293",
   "metadata": {},
   "outputs": [
    {
     "data": {
      "image/png": "[encoded data removed]",
      "text/plain": [
       "38-element Vector{QuantumClifford.AbstractOperation}:\n",
       " SparseGate{QuantumClifford.Tableau{Vector{UInt8}, Matrix{UInt64}}}(CliffordOperator on 2 qubits, [1, 2])\n",
       " SparseGate{QuantumClifford.Tableau{Vector{UInt8}, Matrix{UInt64}}}(CliffordOperator on 2 qubits, [3, 4])\n",
       " SparseGate{QuantumClifford.Tableau{Vector{UInt8}, Matrix{UInt64}}}(CliffordOperator on 2 qubits, [5, 6])\n",
       " SparseGate{QuantumClifford.Tableau{Vector{UInt8}, Matrix{UInt64}}}(CliffordOperator on 2 qubits, [7, 8])\n",
       " SparseGate{QuantumClifford.Tableau{Vector{UInt8}, Matrix{UInt64}}}(CliffordOperator on 2 qubits, [9, 10])\n",
       " SparseGate{QuantumClifford.Tableau{Vector{UInt8}, Matrix{UInt64}}}(CliffordOperator on 2 qubits, [11, 12])\n",
       " SparseGate{QuantumClifford.Tableau{Vector{UInt8}, Matrix{UInt64}}}(CliffordOperator on 2 qubits, [13, 14])\n",
       " SparseGate{QuantumClifford.Tableau{Vector{UInt8}, Matrix{UInt64}}}(CliffordOperator on 2 qubits, [15, 16])\n",
       " SparseGate{QuantumClifford.Tableau{Vector{UInt8}, Matrix{UInt64}}}(CliffordOperator on 2 qubits, [17, 18])\n",
       " SparseGate{QuantumClifford.Tableau{Vector{UInt8}, Matrix{UInt64}}}(CliffordOperator on 2 qubits, [19, 20])\n",
       " SparseGate{QuantumClifford.Tableau{Vector{UInt8}, Matrix{UInt64}}}(CliffordOperator on 2 qubits, [21, 22])\n",
       " SparseGate{QuantumClifford.Tableau{Vector{UInt8}, Matrix{UInt64}}}(CliffordOperator on 2 qubits, [23, 24])\n",
       " SparseGate{QuantumClifford.Tableau{Vector{UInt8}, Matrix{UInt64}}}(CliffordOperator on 2 qubits, [5, 9])\n",
       " ⋮\n",
       " SparseGate{QuantumClifford.Tableau{Vector{UInt8}, Matrix{UInt64}}}(CliffordOperator on 2 qubits, [1, 5])\n",
       " SparseGate{QuantumClifford.Tableau{Vector{UInt8}, Matrix{UInt64}}}(CliffordOperator on 2 qubits, [2, 6])\n",
       " SparseGate{QuantumClifford.Tableau{Vector{UInt8}, Matrix{UInt64}}}(CliffordOperator on 2 qubits, [3, 7])\n",
       " SparseGate{QuantumClifford.Tableau{Vector{UInt8}, Matrix{UInt64}}}(CliffordOperator on 2 qubits, [4, 8])\n",
       " SparseGate{QuantumClifford.Tableau{Vector{UInt8}, Matrix{UInt64}}}(CliffordOperator on 2 qubits, [9, 13])\n",
       " SparseGate{QuantumClifford.Tableau{Vector{UInt8}, Matrix{UInt64}}}(CliffordOperator on 2 qubits, [10, 14])\n",
       " SparseGate{QuantumClifford.Tableau{Vector{UInt8}, Matrix{UInt64}}}(CliffordOperator on 2 qubits, [11, 15])\n",
       " SparseGate{QuantumClifford.Tableau{Vector{UInt8}, Matrix{UInt64}}}(CliffordOperator on 2 qubits, [12, 16])\n",
       " SparseGate{QuantumClifford.Tableau{Vector{UInt8}, Matrix{UInt64}}}(CliffordOperator on 2 qubits, [17, 21])\n",
       " SparseGate{QuantumClifford.Tableau{Vector{UInt8}, Matrix{UInt64}}}(CliffordOperator on 2 qubits, [18, 22])\n",
       " SparseGate{QuantumClifford.Tableau{Vector{UInt8}, Matrix{UInt64}}}(CliffordOperator on 2 qubits, [19, 23])\n",
       " SparseGate{QuantumClifford.Tableau{Vector{UInt8}, Matrix{UInt64}}}(CliffordOperator on 2 qubits, [20, 24])"
      ]
     },
     "execution_count": 13,
     "metadata": {},
     "output_type": "execute_result"
    }
   ],
   "source": [
    "c5 = RandomCircuitCode((4,6), Val(:brickwork), 4, 1:10)\n",
    "c5.circ"
   ]
  },
  {
   "cell_type": "code",
   "execution_count": 14,
   "id": "035fefe3-2385-4a46-aa9c-c6a1ccd3f88e",
   "metadata": {},
   "outputs": [
    {
     "data": {
      "text/plain": [
       "+ ___Z_______X___Z________\n",
       "+ _Y____X_________________\n",
       "- ____________X___Z___X___\n",
       "- __________Y___Z_________\n",
       "- ___________Z___Y________\n",
       "- _________X_______XZ__ZY_\n",
       "+ _________________X___Z__\n",
       "- ____________X____X___Z__\n",
       "+ _________Z_Z_Z_Y___Y__XZ\n",
       "+ _________Y___Z_____Z__XZ\n",
       "+ ________________XZX_YYX_\n",
       "- ________________YZY_YYX_\n",
       "+ _________________Z___Y__\n",
       "+ _________________Z_X_Y_Y"
      ]
     },
     "execution_count": 14,
     "metadata": {},
     "output_type": "execute_result"
    }
   ],
   "source": [
    "c5 |> parity_checks"
   ]
  },
  {
   "cell_type": "markdown",
   "id": "73217348-100b-4951-a166-3734c44f6343",
   "metadata": {},
   "source": [
    "# Debug\n",
    "\n",
    "The code here produce a bounds error when generating naive encoding circuits, to check why."
   ]
  },
  {
   "cell_type": "code",
   "execution_count": 15,
   "id": "dc801d29-535a-4872-ad64-4954d7d39a2f",
   "metadata": {},
   "outputs": [
    {
     "data": {
      "image/png": "[encoded data removed]",
      "text/plain": [
       "27-element Vector{QuantumClifford.AbstractOperation}:\n",
       " sHadamard(1)\n",
       " sZCY(1,10)\n",
       " sHadamard(2)\n",
       " sPhase(2)\n",
       " sZCZ(2,10)\n",
       " sHadamard(3)\n",
       " sPhase(3)\n",
       " sHadamard(4)\n",
       " sPhase(4)\n",
       " sZCZ(4,2)\n",
       " sZCX(4,8)\n",
       " sZCX(4,10)\n",
       " sHadamard(5)\n",
       " ⋮\n",
       " sZCZ(5,4)\n",
       " sZCY(5,10)\n",
       " sHadamard(6)\n",
       " sPhase(6)\n",
       " sHadamard(7)\n",
       " sZ(4)\n",
       " sZ(5)\n",
       " sZ(7)\n",
       " sX(9)\n",
       " sSWAP(10,9)\n",
       " sSWAP(9,7)\n",
       " sSWAP(7,6)"
      ]
     },
     "execution_count": 15,
     "metadata": {},
     "output_type": "execute_result"
    }
   ],
   "source": [
    "RandomCircuitCode(10, Val(:alltoall), 30, 1) |> naive_encoding_circuit"
   ]
  }
 ],
 "metadata": {
  "kernelspec": {
   "display_name": "Julia 1.10.3",
   "language": "julia",
   "name": "julia-1.10"
  },
  "language_info": {
   "file_extension": ".jl",
   "mimetype": "application/julia",
   "name": "julia",
   "version": "1.10.3"
  }
 },
 "nbformat": 4,
 "nbformat_minor": 5
}
