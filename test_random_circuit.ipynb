{
 "cells": [
  {
   "cell_type": "code",
   "execution_count": 1,
   "id": "e315260b-89e9-42bb-8f87-3abaf5599e63",
   "metadata": {},
   "outputs": [
    {
     "name": "stdout",
     "output_type": "stream",
     "text": [
      "\u001b[32m\u001b[1mStatus\u001b[22m\u001b[39m `~/.julia/environments/v1.10/Project.toml`\n",
      "  \u001b[90m[861a8166] \u001b[39mCombinatorics v1.0.2\n",
      "  \u001b[90m[7073ff75] \u001b[39mIJulia v1.24.2\n",
      "  \u001b[90m[2b0e0bc5] \u001b[39mLanguageServer v4.5.1\n",
      "  \u001b[90m[91a5bcdd] \u001b[39mPlots v1.40.4\n",
      "  \u001b[90m[b0d11df0] \u001b[39mQuantikz v1.3.1\n",
      "  \u001b[90m[0525e862] \u001b[39mQuantumClifford v0.9.4 `../../../Documents/Repos/QuantumClifford.jl`\n",
      "  \u001b[90m[295af30f] \u001b[39mRevise v3.5.14\n",
      "  \u001b[90m[37e2e46d] \u001b[39mLinearAlgebra\n"
     ]
    }
   ],
   "source": [
    "import Pkg; Pkg.status()"
   ]
  },
  {
   "cell_type": "code",
   "execution_count": 2,
   "id": "6c3cb144-abc4-4f07-a8a4-97487f168b5f",
   "metadata": {},
   "outputs": [
    {
     "name": "stderr",
     "output_type": "stream",
     "text": [
      "\u001b[32m\u001b[1mPrecompiling\u001b[22m\u001b[39m QuantumClifford\n",
      "\u001b[32m  ✓ \u001b[39mQuantumClifford\n",
      "  1 dependency successfully precompiled in 15 seconds. 39 already precompiled.\n"
     ]
    }
   ],
   "source": [
    "using QuantumClifford, QuantumClifford.ECC"
   ]
  },
  {
   "cell_type": "code",
   "execution_count": 3,
   "id": "9d8319df-fdd1-4c03-84e7-68ed0a8c965c",
   "metadata": {
    "scrolled": true
   },
   "outputs": [
    {
     "name": "stderr",
     "output_type": "stream",
     "text": [
      "\u001b[32m\u001b[1mPrecompiling\u001b[22m\u001b[39m QuantumCliffordQuantikzExt\n",
      "\u001b[32m  ✓ \u001b[39m\u001b[90mQuantumClifford → QuantumCliffordQuantikzExt\u001b[39m\n",
      "  1 dependency successfully precompiled in 2 seconds. 110 already precompiled.\n"
     ]
    }
   ],
   "source": [
    "using Quantikz"
   ]
  },
  {
   "cell_type": "code",
   "execution_count": 4,
   "id": "11f69027-79d2-4542-8b28-37665703c260",
   "metadata": {},
   "outputs": [],
   "source": [
    "# methods(RandomCircuitCode)"
   ]
  },
  {
   "cell_type": "markdown",
   "id": "fda3b9aa-73dd-4a49-a261-02bab6254ff3",
   "metadata": {},
   "source": [
    "# All-to-all connection"
   ]
  },
  {
   "cell_type": "code",
   "execution_count": 5,
   "id": "7a6d0b9a-95d3-4dcc-8548-b50d58cba11f",
   "metadata": {},
   "outputs": [
    {
     "data": {
      "image/png": "[encoded data removed]",
      "text/plain": [
       "30-element Vector{QuantumClifford.AbstractOperation}:\n",
       " SparseGate{QuantumClifford.Tableau{Vector{UInt8}, Matrix{UInt64}}}(CliffordOperator on 2 qubits, [8, 10])\n",
       " SparseGate{QuantumClifford.Tableau{Vector{UInt8}, Matrix{UInt64}}}(CliffordOperator on 2 qubits, [7, 3])\n",
       " SparseGate{QuantumClifford.Tableau{Vector{UInt8}, Matrix{UInt64}}}(CliffordOperator on 2 qubits, [4, 3])\n",
       " SparseGate{QuantumClifford.Tableau{Vector{UInt8}, Matrix{UInt64}}}(CliffordOperator on 2 qubits, [8, 3])\n",
       " SparseGate{QuantumClifford.Tableau{Vector{UInt8}, Matrix{UInt64}}}(CliffordOperator on 2 qubits, [4, 8])\n",
       " SparseGate{QuantumClifford.Tableau{Vector{UInt8}, Matrix{UInt64}}}(CliffordOperator on 2 qubits, [4, 5])\n",
       " SparseGate{QuantumClifford.Tableau{Vector{UInt8}, Matrix{UInt64}}}(CliffordOperator on 2 qubits, [8, 9])\n",
       " SparseGate{QuantumClifford.Tableau{Vector{UInt8}, Matrix{UInt64}}}(CliffordOperator on 2 qubits, [6, 10])\n",
       " SparseGate{QuantumClifford.Tableau{Vector{UInt8}, Matrix{UInt64}}}(CliffordOperator on 2 qubits, [2, 6])\n",
       " SparseGate{QuantumClifford.Tableau{Vector{UInt8}, Matrix{UInt64}}}(CliffordOperator on 2 qubits, [2, 8])\n",
       " SparseGate{QuantumClifford.Tableau{Vector{UInt8}, Matrix{UInt64}}}(CliffordOperator on 2 qubits, [1, 4])\n",
       " SparseGate{QuantumClifford.Tableau{Vector{UInt8}, Matrix{UInt64}}}(CliffordOperator on 2 qubits, [10, 7])\n",
       " SparseGate{QuantumClifford.Tableau{Vector{UInt8}, Matrix{UInt64}}}(CliffordOperator on 2 qubits, [5, 7])\n",
       " ⋮\n",
       " SparseGate{QuantumClifford.Tableau{Vector{UInt8}, Matrix{UInt64}}}(CliffordOperator on 2 qubits, [3, 7])\n",
       " SparseGate{QuantumClifford.Tableau{Vector{UInt8}, Matrix{UInt64}}}(CliffordOperator on 2 qubits, [3, 5])\n",
       " SparseGate{QuantumClifford.Tableau{Vector{UInt8}, Matrix{UInt64}}}(CliffordOperator on 2 qubits, [2, 4])\n",
       " SparseGate{QuantumClifford.Tableau{Vector{UInt8}, Matrix{UInt64}}}(CliffordOperator on 2 qubits, [5, 6])\n",
       " SparseGate{QuantumClifford.Tableau{Vector{UInt8}, Matrix{UInt64}}}(CliffordOperator on 2 qubits, [1, 5])\n",
       " SparseGate{QuantumClifford.Tableau{Vector{UInt8}, Matrix{UInt64}}}(CliffordOperator on 2 qubits, [2, 8])\n",
       " SparseGate{QuantumClifford.Tableau{Vector{UInt8}, Matrix{UInt64}}}(CliffordOperator on 2 qubits, [7, 3])\n",
       " SparseGate{QuantumClifford.Tableau{Vector{UInt8}, Matrix{UInt64}}}(CliffordOperator on 2 qubits, [4, 3])\n",
       " SparseGate{QuantumClifford.Tableau{Vector{UInt8}, Matrix{UInt64}}}(CliffordOperator on 2 qubits, [9, 2])\n",
       " SparseGate{QuantumClifford.Tableau{Vector{UInt8}, Matrix{UInt64}}}(CliffordOperator on 2 qubits, [4, 6])\n",
       " SparseGate{QuantumClifford.Tableau{Vector{UInt8}, Matrix{UInt64}}}(CliffordOperator on 2 qubits, [7, 10])\n",
       " SparseGate{QuantumClifford.Tableau{Vector{UInt8}, Matrix{UInt64}}}(CliffordOperator on 2 qubits, [10, 2])"
      ]
     },
     "execution_count": 5,
     "metadata": {},
     "output_type": "execute_result"
    }
   ],
   "source": [
    "c1 = RandomCircuitCode(10, Val(:alltoall), 30, 5)\n",
    "c1.circ"
   ]
  },
  {
   "cell_type": "code",
   "execution_count": 6,
   "id": "6319e253-c08c-42a1-ab7e-63b75ab23c3f",
   "metadata": {},
   "outputs": [
    {
     "data": {
      "text/plain": [
       "+ Z_X_Y_____\n",
       "+ _Y_ZYX_XYX\n",
       "- _XXY_YZ__Y\n",
       "- _X_Z__Z_ZX\n",
       "- X_Z_YX____"
      ]
     },
     "execution_count": 6,
     "metadata": {},
     "output_type": "execute_result"
    }
   ],
   "source": [
    "c1 |> parity_checks"
   ]
  },
  {
   "cell_type": "code",
   "execution_count": 7,
   "id": "43a77ce6-a257-425e-b85c-bdcdd7a996d7",
   "metadata": {},
   "outputs": [
    {
     "data": {
      "image/png": "[encoded data removed]",
      "text/plain": [
       "30-element Vector{QuantumClifford.AbstractOperation}:\n",
       " SparseGate{QuantumClifford.Tableau{Vector{UInt8}, Matrix{UInt64}}}(CliffordOperator on 2 qubits, [10, 7])\n",
       " SparseGate{QuantumClifford.Tableau{Vector{UInt8}, Matrix{UInt64}}}(CliffordOperator on 2 qubits, [3, 9])\n",
       " SparseGate{QuantumClifford.Tableau{Vector{UInt8}, Matrix{UInt64}}}(CliffordOperator on 2 qubits, [3, 7])\n",
       " SparseGate{QuantumClifford.Tableau{Vector{UInt8}, Matrix{UInt64}}}(CliffordOperator on 2 qubits, [5, 1])\n",
       " SparseGate{QuantumClifford.Tableau{Vector{UInt8}, Matrix{UInt64}}}(CliffordOperator on 2 qubits, [8, 5])\n",
       " SparseGate{QuantumClifford.Tableau{Vector{UInt8}, Matrix{UInt64}}}(CliffordOperator on 2 qubits, [9, 7])\n",
       " SparseGate{QuantumClifford.Tableau{Vector{UInt8}, Matrix{UInt64}}}(CliffordOperator on 2 qubits, [9, 4])\n",
       " SparseGate{QuantumClifford.Tableau{Vector{UInt8}, Matrix{UInt64}}}(CliffordOperator on 2 qubits, [8, 4])\n",
       " SparseGate{QuantumClifford.Tableau{Vector{UInt8}, Matrix{UInt64}}}(CliffordOperator on 2 qubits, [8, 7])\n",
       " SparseGate{QuantumClifford.Tableau{Vector{UInt8}, Matrix{UInt64}}}(CliffordOperator on 2 qubits, [3, 5])\n",
       " SparseGate{QuantumClifford.Tableau{Vector{UInt8}, Matrix{UInt64}}}(CliffordOperator on 2 qubits, [8, 3])\n",
       " SparseGate{QuantumClifford.Tableau{Vector{UInt8}, Matrix{UInt64}}}(CliffordOperator on 2 qubits, [9, 5])\n",
       " SparseGate{QuantumClifford.Tableau{Vector{UInt8}, Matrix{UInt64}}}(CliffordOperator on 2 qubits, [10, 2])\n",
       " ⋮\n",
       " SparseGate{QuantumClifford.Tableau{Vector{UInt8}, Matrix{UInt64}}}(CliffordOperator on 2 qubits, [7, 6])\n",
       " SparseGate{QuantumClifford.Tableau{Vector{UInt8}, Matrix{UInt64}}}(CliffordOperator on 2 qubits, [1, 2])\n",
       " SparseGate{QuantumClifford.Tableau{Vector{UInt8}, Matrix{UInt64}}}(CliffordOperator on 2 qubits, [2, 5])\n",
       " SparseGate{QuantumClifford.Tableau{Vector{UInt8}, Matrix{UInt64}}}(CliffordOperator on 2 qubits, [9, 2])\n",
       " SparseGate{QuantumClifford.Tableau{Vector{UInt8}, Matrix{UInt64}}}(CliffordOperator on 2 qubits, [9, 7])\n",
       " SparseGate{QuantumClifford.Tableau{Vector{UInt8}, Matrix{UInt64}}}(CliffordOperator on 2 qubits, [6, 10])\n",
       " SparseGate{QuantumClifford.Tableau{Vector{UInt8}, Matrix{UInt64}}}(CliffordOperator on 2 qubits, [2, 5])\n",
       " SparseGate{QuantumClifford.Tableau{Vector{UInt8}, Matrix{UInt64}}}(CliffordOperator on 2 qubits, [2, 3])\n",
       " SparseGate{QuantumClifford.Tableau{Vector{UInt8}, Matrix{UInt64}}}(CliffordOperator on 2 qubits, [1, 2])\n",
       " SparseGate{QuantumClifford.Tableau{Vector{UInt8}, Matrix{UInt64}}}(CliffordOperator on 2 qubits, [6, 1])\n",
       " SparseGate{QuantumClifford.Tableau{Vector{UInt8}, Matrix{UInt64}}}(CliffordOperator on 2 qubits, [10, 3])\n",
       " SparseGate{QuantumClifford.Tableau{Vector{UInt8}, Matrix{UInt64}}}(CliffordOperator on 2 qubits, [4, 6])"
      ]
     },
     "execution_count": 7,
     "metadata": {},
     "output_type": "execute_result"
    }
   ],
   "source": [
    "c2 = RandomCircuitCode(10, Val(:alltoall), 30, 1:2:7)\n",
    "c2.circ"
   ]
  },
  {
   "cell_type": "code",
   "execution_count": 8,
   "id": "289d86a9-c049-4b35-b269-8093b91c723d",
   "metadata": {},
   "outputs": [
    {
     "data": {
      "text/plain": [
       "- YZYXXXZZYX\n",
       "+ ZYYZ_ZYXYX\n",
       "- _XXZXZ____\n",
       "- Z_X_ZXXZY_"
      ]
     },
     "execution_count": 8,
     "metadata": {},
     "output_type": "execute_result"
    }
   ],
   "source": [
    "c2 |> parity_checks"
   ]
  },
  {
   "cell_type": "markdown",
   "id": "18d822fe-e1dc-4d90-b381-1f6ddeecb349",
   "metadata": {},
   "source": [
    "# Brickwise connection"
   ]
  },
  {
   "cell_type": "code",
   "execution_count": 9,
   "id": "0ae8f28f-29c1-44ff-8691-c50dfbee44c7",
   "metadata": {},
   "outputs": [
    {
     "data": {
      "image/png": "[encoded data removed]",
      "text/plain": [
       "9-element Vector{QuantumClifford.AbstractOperation}:\n",
       " SparseGate{QuantumClifford.Tableau{Vector{UInt8}, Matrix{UInt64}}}(CliffordOperator on 2 qubits, [1, 2])\n",
       " SparseGate{QuantumClifford.Tableau{Vector{UInt8}, Matrix{UInt64}}}(CliffordOperator on 2 qubits, [3, 4])\n",
       " SparseGate{QuantumClifford.Tableau{Vector{UInt8}, Matrix{UInt64}}}(CliffordOperator on 2 qubits, [5, 6])\n",
       " SparseGate{QuantumClifford.Tableau{Vector{UInt8}, Matrix{UInt64}}}(CliffordOperator on 2 qubits, [2, 3])\n",
       " SparseGate{QuantumClifford.Tableau{Vector{UInt8}, Matrix{UInt64}}}(CliffordOperator on 2 qubits, [4, 5])\n",
       " SparseGate{QuantumClifford.Tableau{Vector{UInt8}, Matrix{UInt64}}}(CliffordOperator on 2 qubits, [6, 7])\n",
       " SparseGate{QuantumClifford.Tableau{Vector{UInt8}, Matrix{UInt64}}}(CliffordOperator on 2 qubits, [1, 2])\n",
       " SparseGate{QuantumClifford.Tableau{Vector{UInt8}, Matrix{UInt64}}}(CliffordOperator on 2 qubits, [3, 4])\n",
       " SparseGate{QuantumClifford.Tableau{Vector{UInt8}, Matrix{UInt64}}}(CliffordOperator on 2 qubits, [5, 6])"
      ]
     },
     "execution_count": 9,
     "metadata": {},
     "output_type": "execute_result"
    }
   ],
   "source": [
    "c3 = RandomCircuitCode((7,), Val(:brickwork), 3, 1:4)\n",
    "c3.circ"
   ]
  },
  {
   "cell_type": "code",
   "execution_count": 10,
   "id": "6b964afb-4035-4447-b964-83bd59ef22fc",
   "metadata": {},
   "outputs": [
    {
     "data": {
      "text/plain": [
       "+ ZZX____\n",
       "+ YXX____\n",
       "+ ZXYY___\n",
       "- ZXY____"
      ]
     },
     "execution_count": 10,
     "metadata": {},
     "output_type": "execute_result"
    }
   ],
   "source": [
    "c3 |> parity_checks"
   ]
  },
  {
   "cell_type": "code",
   "execution_count": 11,
   "id": "3d1b5343-884c-4024-9719-88ce12956926",
   "metadata": {},
   "outputs": [
    {
     "data": {
      "image/png": "[encoded data removed]",
      "text/plain": [
       "38-element Vector{QuantumClifford.AbstractOperation}:\n",
       " SparseGate{QuantumClifford.Tableau{Vector{UInt8}, Matrix{UInt64}}}(CliffordOperator on 2 qubits, [1, 2])\n",
       " SparseGate{QuantumClifford.Tableau{Vector{UInt8}, Matrix{UInt64}}}(CliffordOperator on 2 qubits, [3, 4])\n",
       " SparseGate{QuantumClifford.Tableau{Vector{UInt8}, Matrix{UInt64}}}(CliffordOperator on 2 qubits, [5, 6])\n",
       " SparseGate{QuantumClifford.Tableau{Vector{UInt8}, Matrix{UInt64}}}(CliffordOperator on 2 qubits, [7, 8])\n",
       " SparseGate{QuantumClifford.Tableau{Vector{UInt8}, Matrix{UInt64}}}(CliffordOperator on 2 qubits, [9, 10])\n",
       " SparseGate{QuantumClifford.Tableau{Vector{UInt8}, Matrix{UInt64}}}(CliffordOperator on 2 qubits, [11, 12])\n",
       " SparseGate{QuantumClifford.Tableau{Vector{UInt8}, Matrix{UInt64}}}(CliffordOperator on 2 qubits, [13, 14])\n",
       " SparseGate{QuantumClifford.Tableau{Vector{UInt8}, Matrix{UInt64}}}(CliffordOperator on 2 qubits, [15, 16])\n",
       " SparseGate{QuantumClifford.Tableau{Vector{UInt8}, Matrix{UInt64}}}(CliffordOperator on 2 qubits, [17, 18])\n",
       " SparseGate{QuantumClifford.Tableau{Vector{UInt8}, Matrix{UInt64}}}(CliffordOperator on 2 qubits, [19, 20])\n",
       " SparseGate{QuantumClifford.Tableau{Vector{UInt8}, Matrix{UInt64}}}(CliffordOperator on 2 qubits, [2, 3])\n",
       " SparseGate{QuantumClifford.Tableau{Vector{UInt8}, Matrix{UInt64}}}(CliffordOperator on 2 qubits, [4, 5])\n",
       " SparseGate{QuantumClifford.Tableau{Vector{UInt8}, Matrix{UInt64}}}(CliffordOperator on 2 qubits, [6, 7])\n",
       " ⋮\n",
       " SparseGate{QuantumClifford.Tableau{Vector{UInt8}, Matrix{UInt64}}}(CliffordOperator on 2 qubits, [15, 16])\n",
       " SparseGate{QuantumClifford.Tableau{Vector{UInt8}, Matrix{UInt64}}}(CliffordOperator on 2 qubits, [17, 18])\n",
       " SparseGate{QuantumClifford.Tableau{Vector{UInt8}, Matrix{UInt64}}}(CliffordOperator on 2 qubits, [19, 20])\n",
       " SparseGate{QuantumClifford.Tableau{Vector{UInt8}, Matrix{UInt64}}}(CliffordOperator on 2 qubits, [2, 3])\n",
       " SparseGate{QuantumClifford.Tableau{Vector{UInt8}, Matrix{UInt64}}}(CliffordOperator on 2 qubits, [4, 5])\n",
       " SparseGate{QuantumClifford.Tableau{Vector{UInt8}, Matrix{UInt64}}}(CliffordOperator on 2 qubits, [6, 7])\n",
       " SparseGate{QuantumClifford.Tableau{Vector{UInt8}, Matrix{UInt64}}}(CliffordOperator on 2 qubits, [8, 9])\n",
       " SparseGate{QuantumClifford.Tableau{Vector{UInt8}, Matrix{UInt64}}}(CliffordOperator on 2 qubits, [10, 11])\n",
       " SparseGate{QuantumClifford.Tableau{Vector{UInt8}, Matrix{UInt64}}}(CliffordOperator on 2 qubits, [12, 13])\n",
       " SparseGate{QuantumClifford.Tableau{Vector{UInt8}, Matrix{UInt64}}}(CliffordOperator on 2 qubits, [14, 15])\n",
       " SparseGate{QuantumClifford.Tableau{Vector{UInt8}, Matrix{UInt64}}}(CliffordOperator on 2 qubits, [16, 17])\n",
       " SparseGate{QuantumClifford.Tableau{Vector{UInt8}, Matrix{UInt64}}}(CliffordOperator on 2 qubits, [18, 19])"
      ]
     },
     "execution_count": 11,
     "metadata": {},
     "output_type": "execute_result"
    }
   ],
   "source": [
    "c4 = RandomCircuitCode((20,), Val(:brickwork), 4, 1:2:20)\n",
    "c4.circ"
   ]
  },
  {
   "cell_type": "code",
   "execution_count": 12,
   "id": "57d5d5a2-36e3-457a-aa80-a063350678e2",
   "metadata": {},
   "outputs": [
    {
     "data": {
      "text/plain": [
       "+ XZZZZ_______________\n",
       "- Y_Z_Y_______________\n",
       "+ ___XY_XZ____________\n",
       "+ _____YYYYXY_________\n",
       "- _______ZXYZZX_______\n",
       "+ _________YX_YZY_____\n",
       "- ___________XZ_X_X___\n",
       "- _____________Z_ZXZ__\n",
       "+ _____________Z_Z_Z__\n",
       "+ _______________YXY_Z"
      ]
     },
     "execution_count": 12,
     "metadata": {},
     "output_type": "execute_result"
    }
   ],
   "source": [
    "c4 |> parity_checks"
   ]
  },
  {
   "cell_type": "code",
   "execution_count": 15,
   "id": "8e186dcd-7063-4f24-84a4-376f7723d293",
   "metadata": {},
   "outputs": [
    {
     "data": {
      "image/png": "[encoded data removed]",
      "text/plain": [
       "38-element Vector{QuantumClifford.AbstractOperation}:\n",
       " SparseGate{QuantumClifford.Tableau{Vector{UInt8}, Matrix{UInt64}}}(CliffordOperator on 2 qubits, [1, 2])\n",
       " SparseGate{QuantumClifford.Tableau{Vector{UInt8}, Matrix{UInt64}}}(CliffordOperator on 2 qubits, [3, 4])\n",
       " SparseGate{QuantumClifford.Tableau{Vector{UInt8}, Matrix{UInt64}}}(CliffordOperator on 2 qubits, [5, 6])\n",
       " SparseGate{QuantumClifford.Tableau{Vector{UInt8}, Matrix{UInt64}}}(CliffordOperator on 2 qubits, [7, 8])\n",
       " SparseGate{QuantumClifford.Tableau{Vector{UInt8}, Matrix{UInt64}}}(CliffordOperator on 2 qubits, [9, 10])\n",
       " SparseGate{QuantumClifford.Tableau{Vector{UInt8}, Matrix{UInt64}}}(CliffordOperator on 2 qubits, [11, 12])\n",
       " SparseGate{QuantumClifford.Tableau{Vector{UInt8}, Matrix{UInt64}}}(CliffordOperator on 2 qubits, [13, 14])\n",
       " SparseGate{QuantumClifford.Tableau{Vector{UInt8}, Matrix{UInt64}}}(CliffordOperator on 2 qubits, [15, 16])\n",
       " SparseGate{QuantumClifford.Tableau{Vector{UInt8}, Matrix{UInt64}}}(CliffordOperator on 2 qubits, [17, 18])\n",
       " SparseGate{QuantumClifford.Tableau{Vector{UInt8}, Matrix{UInt64}}}(CliffordOperator on 2 qubits, [19, 20])\n",
       " SparseGate{QuantumClifford.Tableau{Vector{UInt8}, Matrix{UInt64}}}(CliffordOperator on 2 qubits, [21, 22])\n",
       " SparseGate{QuantumClifford.Tableau{Vector{UInt8}, Matrix{UInt64}}}(CliffordOperator on 2 qubits, [23, 24])\n",
       " SparseGate{QuantumClifford.Tableau{Vector{UInt8}, Matrix{UInt64}}}(CliffordOperator on 2 qubits, [5, 9])\n",
       " ⋮\n",
       " SparseGate{QuantumClifford.Tableau{Vector{UInt8}, Matrix{UInt64}}}(CliffordOperator on 2 qubits, [1, 5])\n",
       " SparseGate{QuantumClifford.Tableau{Vector{UInt8}, Matrix{UInt64}}}(CliffordOperator on 2 qubits, [2, 6])\n",
       " SparseGate{QuantumClifford.Tableau{Vector{UInt8}, Matrix{UInt64}}}(CliffordOperator on 2 qubits, [3, 7])\n",
       " SparseGate{QuantumClifford.Tableau{Vector{UInt8}, Matrix{UInt64}}}(CliffordOperator on 2 qubits, [4, 8])\n",
       " SparseGate{QuantumClifford.Tableau{Vector{UInt8}, Matrix{UInt64}}}(CliffordOperator on 2 qubits, [9, 13])\n",
       " SparseGate{QuantumClifford.Tableau{Vector{UInt8}, Matrix{UInt64}}}(CliffordOperator on 2 qubits, [10, 14])\n",
       " SparseGate{QuantumClifford.Tableau{Vector{UInt8}, Matrix{UInt64}}}(CliffordOperator on 2 qubits, [11, 15])\n",
       " SparseGate{QuantumClifford.Tableau{Vector{UInt8}, Matrix{UInt64}}}(CliffordOperator on 2 qubits, [12, 16])\n",
       " SparseGate{QuantumClifford.Tableau{Vector{UInt8}, Matrix{UInt64}}}(CliffordOperator on 2 qubits, [17, 21])\n",
       " SparseGate{QuantumClifford.Tableau{Vector{UInt8}, Matrix{UInt64}}}(CliffordOperator on 2 qubits, [18, 22])\n",
       " SparseGate{QuantumClifford.Tableau{Vector{UInt8}, Matrix{UInt64}}}(CliffordOperator on 2 qubits, [19, 23])\n",
       " SparseGate{QuantumClifford.Tableau{Vector{UInt8}, Matrix{UInt64}}}(CliffordOperator on 2 qubits, [20, 24])"
      ]
     },
     "execution_count": 15,
     "metadata": {},
     "output_type": "execute_result"
    }
   ],
   "source": [
    "c5 = RandomCircuitCode((4,6), Val(:brickwork), 4, 1:10)\n",
    "c5.circ"
   ]
  },
  {
   "cell_type": "code",
   "execution_count": 16,
   "id": "035fefe3-2385-4a46-aa9c-c6a1ccd3f88e",
   "metadata": {},
   "outputs": [
    {
     "data": {
      "text/plain": [
       "+ Y_______________________\n",
       "+ _____Y__________________\n",
       "- __Z___XZ________________\n",
       "+ __X___XY________________\n",
       "+ YZ__X_X_____X_Y_________\n",
       "+ ____Z____X__X_Z_________\n",
       "+ _Z_Y_______Z___X________\n",
       "- _XYX_YY__Y_Z_XYX________\n",
       "- _Z____X_________________\n",
       "- ____________X___________"
      ]
     },
     "execution_count": 16,
     "metadata": {},
     "output_type": "execute_result"
    }
   ],
   "source": [
    "c5 |> parity_checks"
   ]
  },
  {
   "cell_type": "code",
   "execution_count": null,
   "id": "61292a5e-1cb3-48dc-9843-df50a6a95c81",
   "metadata": {},
   "outputs": [],
   "source": []
  }
 ],
 "metadata": {
  "kernelspec": {
   "display_name": "Julia 1.10.3",
   "language": "julia",
   "name": "julia-1.10"
  },
  "language_info": {
   "file_extension": ".jl",
   "mimetype": "application/julia",
   "name": "julia",
   "version": "1.10.3"
  }
 },
 "nbformat": 4,
 "nbformat_minor": 5
}
