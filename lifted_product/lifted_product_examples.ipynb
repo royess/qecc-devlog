{
 "cells": [
  {
   "cell_type": "code",
   "execution_count": 1,
   "metadata": {},
   "outputs": [],
   "source": [
    "using Revise\n",
    "using QuantumClifford.ECC\n",
    "# using Nemo, LinearAlgebra"
   ]
  },
  {
   "cell_type": "code",
   "execution_count": 2,
   "metadata": {},
   "outputs": [
    {
     "name": "stderr",
     "output_type": "stream",
     "text": [
      "\u001b[32m\u001b[1m  Activating\u001b[22m\u001b[39m project at `~/.julia/environments/v1.10`\n"
     ]
    },
    {
     "name": "stdout",
     "output_type": "stream",
     "text": [
      "\u001b[32m\u001b[1mStatus\u001b[22m\u001b[39m `~/.julia/environments/v1.10/Project.toml`\n",
      "  \u001b[90m[c3fe647b] \u001b[39mAbstractAlgebra v0.41.9\n",
      "\u001b[32m⌃\u001b[39m \u001b[90m[e30172f5] \u001b[39mDocumenter v1.4.1\n",
      "  \u001b[90m[daee34ce] \u001b[39mDocumenterCitations v1.3.3\n",
      "\u001b[32m⌃\u001b[39m \u001b[90m[7073ff75] \u001b[39mIJulia v1.24.2\n",
      "  \u001b[90m[2b0e0bc5] \u001b[39mLanguageServer v4.5.1\n",
      "\u001b[32m⌃\u001b[39m \u001b[90m[2edaba10] \u001b[39mNemo v0.45.5\n",
      "\u001b[32m⌃\u001b[39m \u001b[90m[91a5bcdd] \u001b[39mPlots v1.40.4\n",
      "  \u001b[90m[17f5de1a] \u001b[39mPyQDecoders v0.2.1\n",
      "  \u001b[90m[6099a3de] \u001b[39mPythonCall v0.9.20\n",
      "  \u001b[90m[b0d11df0] \u001b[39mQuantikz v1.3.1\n",
      "  \u001b[90m[0525e862] \u001b[39mQuantumClifford v0.9.5 `../../../Documents/Repos/QuantumClifford.jl`\n",
      "  \u001b[90m[5717a53b] \u001b[39mQuantumInterface v0.3.4\n",
      "  \u001b[90m[fb686558] \u001b[39mRandomExtensions v0.4.4\n",
      "\u001b[32m⌃\u001b[39m \u001b[90m[295af30f] \u001b[39mRevise v3.5.14\n",
      "  \u001b[90m[37e2e46d] \u001b[39mLinearAlgebra\n",
      "\u001b[36m\u001b[1mInfo\u001b[22m\u001b[39m Packages marked with \u001b[32m⌃\u001b[39m have new versions available and may be upgradable.\n"
     ]
    }
   ],
   "source": [
    "import Pkg\n",
    "Pkg.activate()\n",
    "Pkg.status()"
   ]
  },
  {
   "cell_type": "code",
   "execution_count": 3,
   "metadata": {},
   "outputs": [],
   "source": [
    "# Pkg.resolve()"
   ]
  },
  {
   "cell_type": "markdown",
   "metadata": {},
   "source": [
    "## Simple example"
   ]
  },
  {
   "cell_type": "code",
   "execution_count": 4,
   "metadata": {},
   "outputs": [],
   "source": [
    "import Nemo: GF, Perm"
   ]
  },
  {
   "cell_type": "code",
   "execution_count": 5,
   "metadata": {},
   "outputs": [
    {
     "data": {
      "text/plain": [
       "40×40 Matrix{Int64}:\n",
       " 1  0  0  0  0  0  0  0  0  0  0  0  0  …  0  0  0  0  0  0  0  0  0  0  0  0\n",
       " 0  1  0  0  0  0  0  0  0  0  0  0  0     0  0  0  0  0  0  0  0  0  0  0  0\n",
       " 0  0  1  0  0  0  0  0  0  0  0  0  0     0  0  0  0  0  0  0  0  0  0  0  0\n",
       " 0  0  0  1  0  0  0  0  0  0  0  0  0     0  0  0  0  0  0  0  0  0  0  0  0\n",
       " 0  0  0  0  1  0  0  0  0  0  0  0  0     0  0  0  0  0  0  0  0  0  0  0  0\n",
       " 0  0  0  0  0  1  0  0  0  0  0  0  0  …  0  0  0  0  0  0  0  0  0  0  0  0\n",
       " 0  0  0  0  0  0  1  0  0  0  0  0  0     0  0  0  0  0  0  0  0  0  0  0  0\n",
       " 0  0  0  0  0  0  0  1  0  0  0  0  0     0  0  0  0  0  0  0  0  0  0  0  0\n",
       " 0  0  0  0  0  0  0  0  1  0  0  0  0     1  0  0  0  0  0  0  0  0  0  0  0\n",
       " 0  0  0  0  0  0  0  0  0  1  0  0  0     0  1  0  0  0  0  0  0  0  0  0  0\n",
       " ⋮              ⋮              ⋮        ⋱        ⋮              ⋮           \n",
       " 0  0  0  0  0  0  0  0  0  0  0  1  0     0  0  0  1  0  0  0  0  0  0  0  0\n",
       " 0  0  0  0  0  0  0  0  0  0  0  0  1     0  0  0  0  1  0  0  0  0  0  0  0\n",
       " 0  0  0  0  0  0  0  0  0  0  0  0  0     0  0  0  0  0  1  0  0  0  0  0  0\n",
       " 0  0  0  0  0  0  0  0  0  0  0  0  0     0  0  0  0  0  0  1  0  0  0  0  0\n",
       " 0  0  0  0  0  0  0  0  0  0  0  0  0  …  0  0  0  0  0  0  0  1  0  0  0  0\n",
       " 0  0  0  0  0  0  0  0  0  0  0  0  0     0  0  0  0  0  0  0  0  1  0  0  0\n",
       " 0  0  0  0  0  0  0  0  0  0  0  0  0     0  0  0  0  0  0  0  0  0  1  0  0\n",
       " 0  0  0  0  0  0  0  0  0  0  0  0  0     0  0  0  0  0  0  0  0  0  0  1  0\n",
       " 0  0  0  0  0  0  0  0  0  0  0  0  0     0  0  0  0  0  0  0  0  0  0  0  1"
      ]
     },
     "metadata": {},
     "output_type": "display_data"
    }
   ],
   "source": [
    "R = PermutationGroupRing(GF(2), 20)\n",
    "A = Matrix(R[Dict(Perm(20) => 1) Dict(Perm(20) => 1); Perm(vcat([1,3,2], 4:20)) Dict(Perm(20) => 1)])\n",
    "c = LiftedCode(A)\n",
    "parity_checks(c)\n"
   ]
  },
  {
   "cell_type": "code",
   "execution_count": 6,
   "metadata": {},
   "outputs": [
    {
     "data": {
      "text/plain": [
       "+ X___________________________________⋯_____________________________________\n",
       "+ _X__________________________________⋯_____________________________________\n",
       "+ __X_________________________________⋯_____________________________________\n",
       "+ ___X________________________________⋯_____________________________________\n",
       "+ ____X_______________________________⋯_____________________________________\n",
       "+ _____X______________________________⋯_____________________________________\n",
       "+ ______X_____________________________⋯_____________________________________\n",
       "+ _______X____________________________⋯_____________________________________\n",
       "+ ________X___________________________⋯_____________________________________\n",
       " ⋮\n",
       "+ ____________________________________⋯_____________________________Z_______\n",
       "+ ____________________________________⋯______________________________Z______\n",
       "+ ____________________________________⋯_______________________________Z_____\n",
       "+ ____________________________________⋯________________________________Z____\n",
       "+ ____________________________________⋯_________________________________Z___\n",
       "+ ____________________________________⋯__________________________________Z__\n",
       "+ ____________________________________⋯___________________________________Z_\n",
       "+ ____________________________________⋯____________________________________Z"
      ]
     },
     "metadata": {},
     "output_type": "display_data"
    }
   ],
   "source": [
    "lpc = LPCode(c, c)\n",
    "lpc |> parity_checks"
   ]
  },
  {
   "attachments": {
    "image.png": {
     "image/png": "[encoded data removed]"
    }
   },
   "cell_type": "markdown",
   "metadata": {},
   "source": [
    "## 2111.07029\n",
    "\n",
    "### 155 qubits\n",
    "\n",
    "Example 1, page 16,  [155, 64, 20], l = 31\n",
    "\n",
    "![image.png](attachment:image.png)"
   ]
  },
  {
   "cell_type": "code",
   "execution_count": 63,
   "metadata": {},
   "outputs": [
    {
     "data": {
      "text/plain": [
       "PermGroupRing{Nemo.FqFieldElem}(Prime field of characteristic 2, 31, #undef)"
      ]
     },
     "metadata": {},
     "output_type": "display_data"
    }
   ],
   "source": [
    "R1 = PermutationGroupRing(GF(2), 31)"
   ]
  },
  {
   "cell_type": "code",
   "execution_count": 64,
   "metadata": {},
   "outputs": [
    {
     "data": {
      "text/plain": [
       "3×5 Matrix{PermGroupRingElem{Nemo.FqFieldElem}}:\n",
       " PermGroupRingElem{FqFieldElem}(Dict{Perm{Int64}, FqFieldElem}((1,2,3,4,5,6,7,8,9,10,11,12,13,14,15,16,17,18,19,20,21,22,23,24,25,26,27,28,29 …=>1), PermGroupRing{FqFieldElem}(Prime field of characteristic 2, 31, #undef))  …  PermGroupRingElem{FqFieldElem}(Dict{Perm{Int64}, FqFieldElem}((1,17,2,18,3,19,4,20,5,21,6,22,7,23,8,24,9,25,10,26,11,27,12,28,13,29,14,30,15 …=>1), PermGroupRing{FqFieldElem}(Prime field of characteristic 2, 31, #undef))\n",
       " PermGroupRingElem{FqFieldElem}(Dict{Perm{Int64}, FqFieldElem}((1,6,11,16,21,26,31,5,10,15,20,25,30,4,9,14,19,24,29,3,8,13,18,23,28,2,7,12,17 …=>1), PermGroupRing{FqFieldElem}(Prime field of characteristic 2, 31, #undef))     PermGroupRingElem{FqFieldElem}(Dict{Perm{Int64}, FqFieldElem}((1,19,6,24,11,29,16,3,21,8,26,13,31,18,5,23,10,28,15,2,20,7,25,12,30,17,4,22,9 …=>1), PermGroupRing{FqFieldElem}(Prime field of characteristic 2, 31, #undef))\n",
       " PermGroupRingElem{FqFieldElem}(Dict{Perm{Int64}, FqFieldElem}((1,26,20,14,8,2,27,21,15,9,3,28,22,16,10,4,29,23,17,11,5,30,24,18,12,6,31,25,1 …=>1), PermGroupRing{FqFieldElem}(Prime field of characteristic 2, 31, #undef))     PermGroupRingElem{FqFieldElem}(Dict{Perm{Int64}, FqFieldElem}((1,29,26,23,20,17,14,11,8,5,2,30,27,24,21,18,15,12,9,6,3,31,28,25,22,19,16,13, …=>1), PermGroupRing{FqFieldElem}(Prime field of characteristic 2, 31, #undef))"
      ]
     },
     "metadata": {},
     "output_type": "display_data"
    }
   ],
   "source": [
    "B = [\n",
    "    1 2 4 8 16;\n",
    "    5 10 20 9 18;\n",
    "    25 19 7 14 28]\n",
    "    \n",
    "A = map(B) do x\n",
    "    R1(cyclic_permutation(x, 31))\n",
    "end"
   ]
  },
  {
   "cell_type": "code",
   "execution_count": 70,
   "metadata": {},
   "outputs": [
    {
     "data": {
      "text/plain": [
       "LPCode{PermGroupRingElem{Nemo.FqFieldElem}}(LiftedCode{PermGroupRingElem{Nemo.FqFieldElem}}(PermGroupRingElem{Nemo.FqFieldElem}[PermGroupRingElem{Nemo.FqFieldElem}(Dict{Perm{Int64}, Nemo.FqFieldElem}((1,2,3,4,5,6,7,8,9,10,11,12,13,14,15,16,17,18,19,20,21,22,23,24,25,26,27,28,29 … => 1), PermGroupRing{Nemo.FqFieldElem}(Prime field of characteristic 2, 31, #undef)) PermGroupRingElem{Nemo.FqFieldElem}(Dict{Perm{Int64}, Nemo.FqFieldElem}((1,3,5,7,9,11,13,15,17,19,21,23,25,27,29,31,2,4,6,8,10,12,14,16,18,20,22,24,26 … => 1), PermGroupRing{Nemo.FqFieldElem}(Prime field of characteristic 2, 31, #undef)) … PermGroupRingElem{Nemo.FqFieldElem}(Dict{Perm{Int64}, Nemo.FqFieldElem}((1,9,17,25,2,10,18,26,3,11,19,27,4,12,20,28,5,13,21,29,6,14,22,30,7,15,23,31,8 … => 1), PermGroupRing{Nemo.FqFieldElem}(Prime field of characteristic 2, 31, #undef)) PermGroupRingElem{Nemo.FqFieldElem}(Dict{Perm{Int64}, Nemo.FqFieldElem}((1,17,2,18,3,19,4,20,5,21,6,22,7,23,8,24,9,25,10,26,11,27,12,28,13,29,14,30,15 … => 1), PermGroupRing{Nemo.FqFieldElem}(Prime field of characteristic 2, 31, #undef)); PermGroupRingElem{Nemo.FqFieldElem}(Dict{Perm{Int64}, Nemo.FqFieldElem}((1,6,11,16,21,26,31,5,10,15,20,25,30,4,9,14,19,24,29,3,8,13,18,23,28,2,7,12,17 … => 1), PermGroupRing{Nemo.FqFieldElem}(Prime field of characteristic 2, 31, #undef)) PermGroupRingElem{Nemo.FqFieldElem}(Dict{Perm{Int64}, Nemo.FqFieldElem}((1,11,21,31,10,20,30,9,19,29,8,18,28,7,17,27,6,16,26,5,15,25,4,14,24,3,13,23,2 … => 1), PermGroupRing{Nemo.FqFieldElem}(Prime field of characteristic 2, 31, #undef)) … PermGroupRingElem{Nemo.FqFieldElem}(Dict{Perm{Int64}, Nemo.FqFieldElem}((1,10,19,28,6,15,24,2,11,20,29,7,16,25,3,12,21,30,8,17,26,4,13,22,31,9,18,27,5 … => 1), PermGroupRing{Nemo.FqFieldElem}(Prime field of characteristic 2, 31, #undef)) PermGroupRingElem{Nemo.FqFieldElem}(Dict{Perm{Int64}, Nemo.FqFieldElem}((1,19,6,24,11,29,16,3,21,8,26,13,31,18,5,23,10,28,15,2,20,7,25,12,30,17,4,22,9 … => 1), PermGroupRing{Nemo.FqFieldElem}(Prime field of characteristic 2, 31, #undef)); PermGroupRingElem{Nemo.FqFieldElem}(Dict{Perm{Int64}, Nemo.FqFieldElem}((1,26,20,14,8,2,27,21,15,9,3,28,22,16,10,4,29,23,17,11,5,30,24,18,12,6,31,25,1 … => 1), PermGroupRing{Nemo.FqFieldElem}(Prime field of characteristic 2, 31, #undef)) PermGroupRingElem{Nemo.FqFieldElem}(Dict{Perm{Int64}, Nemo.FqFieldElem}((1,20,8,27,15,3,22,10,29,17,5,24,12,31,19,7,26,14,2,21,9,28,16,4,23,11,30,18,6 … => 1), PermGroupRing{Nemo.FqFieldElem}(Prime field of characteristic 2, 31, #undef)) … PermGroupRingElem{Nemo.FqFieldElem}(Dict{Perm{Int64}, Nemo.FqFieldElem}((1,15,29,12,26,9,23,6,20,3,17,31,14,28,11,25,8,22,5,19,2,16,30,13,27,10,24,7,2 … => 1), PermGroupRing{Nemo.FqFieldElem}(Prime field of characteristic 2, 31, #undef)) PermGroupRingElem{Nemo.FqFieldElem}(Dict{Perm{Int64}, Nemo.FqFieldElem}((1,29,26,23,20,17,14,11,8,5,2,30,27,24,21,18,15,12,9,6,3,31,28,25,22,19,16,13, … => 1), PermGroupRing{Nemo.FqFieldElem}(Prime field of characteristic 2, 31, #undef))], QuantumClifford.ECC.permutation_repr), LiftedCode{PermGroupRingElem{Nemo.FqFieldElem}}(PermGroupRingElem{Nemo.FqFieldElem}[PermGroupRingElem{Nemo.FqFieldElem}(Dict{Perm{Int64}, Nemo.FqFieldElem}((1,2,3,4,5,6,7,8,9,10,11,12,13,14,15,16,17,18,19,20,21,22,23,24,25,26,27,28,29 … => 1), PermGroupRing{Nemo.FqFieldElem}(Prime field of characteristic 2, 31, #undef)) PermGroupRingElem{Nemo.FqFieldElem}(Dict{Perm{Int64}, Nemo.FqFieldElem}((1,3,5,7,9,11,13,15,17,19,21,23,25,27,29,31,2,4,6,8,10,12,14,16,18,20,22,24,26 … => 1), PermGroupRing{Nemo.FqFieldElem}(Prime field of characteristic 2, 31, #undef)) … PermGroupRingElem{Nemo.FqFieldElem}(Dict{Perm{Int64}, Nemo.FqFieldElem}((1,9,17,25,2,10,18,26,3,11,19,27,4,12,20,28,5,13,21,29,6,14,22,30,7,15,23,31,8 … => 1), PermGroupRing{Nemo.FqFieldElem}(Prime field of characteristic 2, 31, #undef)) PermGroupRingElem{Nemo.FqFieldElem}(Dict{Perm{Int64}, Nemo.FqFieldElem}((1,17,2,18,3,19,4,20,5,21,6,22,7,23,8,24,9,25,10,26,11,27,12,28,13,29,14,30,15 … => 1), PermGroupRing{Nemo.FqFieldElem}(Prime field of characteristic 2, 31, #undef)); PermGroupRingElem{Nemo.FqFieldElem}(Dict{Perm{Int64}, Nemo.FqFieldElem}((1,6,11,16,21,26,31,5,10,15,20,25,30,4,9,14,19,24,29,3,8,13,18,23,28,2,7,12,17 … => 1), PermGroupRing{Nemo.FqFieldElem}(Prime field of characteristic 2, 31, #undef)) PermGroupRingElem{Nemo.FqFieldElem}(Dict{Perm{Int64}, Nemo.FqFieldElem}((1,11,21,31,10,20,30,9,19,29,8,18,28,7,17,27,6,16,26,5,15,25,4,14,24,3,13,23,2 … => 1), PermGroupRing{Nemo.FqFieldElem}(Prime field of characteristic 2, 31, #undef)) … PermGroupRingElem{Nemo.FqFieldElem}(Dict{Perm{Int64}, Nemo.FqFieldElem}((1,10,19,28,6,15,24,2,11,20,29,7,16,25,3,12,21,30,8,17,26,4,13,22,31,9,18,27,5 … => 1), PermGroupRing{Nemo.FqFieldElem}(Prime field of characteristic 2, 31, #undef)) PermGroupRingElem{Nemo.FqFieldElem}(Dict{Perm{Int64}, Nemo.FqFieldElem}((1,19,6,24,11,29,16,3,21,8,26,13,31,18,5,23,10,28,15,2,20,7,25,12,30,17,4,22,9 … => 1), PermGroupRing{Nemo.FqFieldElem}(Prime field of characteristic 2, 31, #undef)); PermGroupRingElem{Nemo.FqFieldElem}(Dict{Perm{Int64}, Nemo.FqFieldElem}((1,26,20,14,8,2,27,21,15,9,3,28,22,16,10,4,29,23,17,11,5,30,24,18,12,6,31,25,1 … => 1), PermGroupRing{Nemo.FqFieldElem}(Prime field of characteristic 2, 31, #undef)) PermGroupRingElem{Nemo.FqFieldElem}(Dict{Perm{Int64}, Nemo.FqFieldElem}((1,20,8,27,15,3,22,10,29,17,5,24,12,31,19,7,26,14,2,21,9,28,16,4,23,11,30,18,6 … => 1), PermGroupRing{Nemo.FqFieldElem}(Prime field of characteristic 2, 31, #undef)) … PermGroupRingElem{Nemo.FqFieldElem}(Dict{Perm{Int64}, Nemo.FqFieldElem}((1,15,29,12,26,9,23,6,20,3,17,31,14,28,11,25,8,22,5,19,2,16,30,13,27,10,24,7,2 … => 1), PermGroupRing{Nemo.FqFieldElem}(Prime field of characteristic 2, 31, #undef)) PermGroupRingElem{Nemo.FqFieldElem}(Dict{Perm{Int64}, Nemo.FqFieldElem}((1,29,26,23,20,17,14,11,8,5,2,30,27,24,21,18,15,12,9,6,3,31,28,25,22,19,16,13, … => 1), PermGroupRing{Nemo.FqFieldElem}(Prime field of characteristic 2, 31, #undef))], QuantumClifford.ECC.permutation_repr), QuantumClifford.ECC.permutation_repr)"
      ]
     },
     "metadata": {},
     "output_type": "display_data"
    }
   ],
   "source": [
    "code1 = LPCode(LiftedCode(A), LiftedCode(A))"
   ]
  },
  {
   "cell_type": "code",
   "execution_count": 71,
   "metadata": {},
   "outputs": [
    {
     "data": {
      "text/plain": [
       "+ _X__________________________________⋯_____________________________________\n",
       "+ __X_________________________________⋯_____________________________________\n",
       "+ ___X________________________________⋯_____________________________________\n",
       "+ ____X_______________________________⋯_____________________________________\n",
       "+ _____X______________________________⋯_____________________________________\n",
       "+ ______X_____________________________⋯_____________________________________\n",
       "+ _______X____________________________⋯_____________________________________\n",
       "+ ________X___________________________⋯_____________________________________\n",
       "+ _________X__________________________⋯_____________________________________\n",
       " ⋮\n",
       "+ ____________________________________⋯________________________________Z____\n",
       "+ ____________________________________⋯_________________________________Z___\n",
       "+ ____________________________________⋯__________________________________Z__\n",
       "+ ____________________________________⋯___________________________________Z_\n",
       "+ ____________________________________⋯____________________________________Z\n",
       "+ ____________________________________⋯______Z______________________________\n",
       "+ ____________________________________⋯_______Z_____________________________\n",
       "+ ____________________________________⋯________Z____________________________"
      ]
     },
     "metadata": {},
     "output_type": "display_data"
    }
   ],
   "source": [
    "parity_checks(code1)"
   ]
  },
  {
   "cell_type": "code",
   "execution_count": 72,
   "metadata": {},
   "outputs": [
    {
     "data": {
      "text/plain": [
       "1054"
      ]
     },
     "metadata": {},
     "output_type": "display_data"
    }
   ],
   "source": [
    "code_n(code1)"
   ]
  },
  {
   "cell_type": "code",
   "execution_count": 73,
   "metadata": {},
   "outputs": [
    {
     "data": {
      "text/plain": [
       "140"
      ]
     },
     "metadata": {},
     "output_type": "display_data"
    }
   ],
   "source": [
    "code_k(code1)"
   ]
  },
  {
   "cell_type": "code",
   "execution_count": 74,
   "metadata": {},
   "outputs": [
    {
     "data": {
      "text/plain": [
       "465×1054 Matrix{Int64}:\n",
       " 0  1  0  0  0  0  0  0  0  0  0  0  0  …  0  0  0  0  0  0  0  0  0  0  0  0\n",
       " 0  0  1  0  0  0  0  0  0  0  0  0  0     0  0  0  0  0  0  0  0  0  0  0  0\n",
       " 0  0  0  1  0  0  0  0  0  0  0  0  0     0  0  0  0  0  0  0  0  0  0  0  0\n",
       " 0  0  0  0  1  0  0  0  0  0  0  0  0     0  0  0  0  0  0  0  0  0  0  0  0\n",
       " 0  0  0  0  0  1  0  0  0  0  0  0  0     0  0  0  0  0  0  0  0  0  0  0  0\n",
       " 0  0  0  0  0  0  1  0  0  0  0  0  0  …  0  0  0  0  0  0  0  0  0  0  0  0\n",
       " 0  0  0  0  0  0  0  1  0  0  0  0  0     0  0  0  0  0  0  0  0  0  0  0  0\n",
       " 0  0  0  0  0  0  0  0  1  0  0  0  0     0  0  0  0  0  0  0  0  0  0  0  0\n",
       " 0  0  0  0  0  0  0  0  0  1  0  0  0     0  0  0  0  0  0  0  0  0  0  0  0\n",
       " 0  0  0  0  0  0  0  0  0  0  1  0  0     0  0  0  0  0  0  0  0  0  0  0  0\n",
       " ⋮              ⋮              ⋮        ⋱           ⋮              ⋮        \n",
       " 0  0  0  0  0  0  0  0  0  0  0  0  0     0  0  0  0  0  0  1  0  0  0  0  0\n",
       " 0  0  0  0  0  0  0  0  0  0  0  0  0     0  0  0  0  0  0  0  1  0  0  0  0\n",
       " 0  0  0  0  0  0  0  0  0  0  0  0  0     0  0  0  0  0  0  0  0  1  0  0  0\n",
       " 0  0  0  0  0  0  0  0  0  0  0  0  0     0  0  0  0  0  0  0  0  0  1  0  0\n",
       " 0  0  0  0  0  0  0  0  0  0  0  0  0  …  0  0  0  0  0  0  0  0  0  0  1  0\n",
       " 0  0  0  0  0  0  0  0  0  0  0  0  0     0  0  0  0  0  0  0  0  0  0  0  1\n",
       " 0  0  0  0  0  0  0  0  0  0  0  0  0     0  0  0  0  0  0  0  0  0  0  0  0\n",
       " 0  0  0  0  0  0  0  0  0  0  0  0  0     0  0  0  0  0  0  0  0  0  0  0  0\n",
       " 0  0  0  0  0  0  0  0  0  0  0  0  0     0  0  0  0  0  0  0  0  0  0  0  0"
      ]
     },
     "metadata": {},
     "output_type": "display_data"
    }
   ],
   "source": [
    "Hx = parity_checks_x(code1)\n",
    "Hz = parity_checks_z(code1)"
   ]
  },
  {
   "cell_type": "code",
   "execution_count": 78,
   "metadata": {},
   "outputs": [
    {
     "name": "stderr",
     "output_type": "stream",
     "text": [
      "┌ Warning: `faults_matrix` was called on an ECC that has redundant rows (is rank-deficient). `faults_matrix` corrected for that, however this is a frequent source of mistakes and inefficiencies. We advise you remove redundant rows from your ECC.\n",
      "└ @ QuantumClifford.ECC /home/yuxuan/Documents/Repos/QuantumClifford.jl/src/ecc/ECC.jl:298\n",
      "┌ Warning: `faults_matrix` was called on an ECC that has redundant rows (is rank-deficient). `faults_matrix` corrected for that, however this is a frequent source of mistakes and inefficiencies. We advise you remove redundant rows from your ECC.\n",
      "└ @ QuantumClifford.ECC /home/yuxuan/Documents/Repos/QuantumClifford.jl/src/ecc/ECC.jl:298\n"
     ]
    },
    {
     "data": {
      "text/plain": [
       "0.0"
      ]
     },
     "metadata": {},
     "output_type": "display_data"
    }
   ],
   "source": [
    "import PyQDecoders\n",
    "\n",
    "noise = 0.001\n",
    "d = code1->PyBeliefPropOSDecoder(code1, maxiter=10)\n",
    "s = CommutationCheckECCSetup(noise)\n",
    "e = evaluate_decoder(d(code1), s, 1000)"
   ]
  },
  {
   "cell_type": "markdown",
   "metadata": {},
   "source": [
    "Single CPU thread, 100 shots cost 22s."
   ]
  },
  {
   "cell_type": "code",
   "execution_count": 79,
   "metadata": {},
   "outputs": [
    {
     "name": "stderr",
     "output_type": "stream",
     "text": [
      "┌ Warning: `faults_matrix` was called on an ECC that has redundant rows (is rank-deficient). `faults_matrix` corrected for that, however this is a frequent source of mistakes and inefficiencies. We advise you remove redundant rows from your ECC.\n",
      "└ @ QuantumClifford.ECC /home/yuxuan/Documents/Repos/QuantumClifford.jl/src/ecc/ECC.jl:298\n",
      "┌ Warning: `faults_matrix` was called on an ECC that has redundant rows (is rank-deficient). `faults_matrix` corrected for that, however this is a frequent source of mistakes and inefficiencies. We advise you remove redundant rows from your ECC.\n",
      "└ @ QuantumClifford.ECC /home/yuxuan/Documents/Repos/QuantumClifford.jl/src/ecc/ECC.jl:298\n"
     ]
    },
    {
     "data": {
      "text/plain": [
       "0.05"
      ]
     },
     "metadata": {},
     "output_type": "display_data"
    }
   ],
   "source": [
    "noise = 0.01\n",
    "d = code1->PyBeliefPropOSDecoder(code1, maxiter=10)\n",
    "s = CommutationCheckECCSetup(noise)\n",
    "e = evaluate_decoder(d(code1), s, 100)"
   ]
  },
  {
   "cell_type": "code",
   "execution_count": 25,
   "metadata": {},
   "outputs": [],
   "source": [
    "# import PyQDecoders: PyBeliefPropOSDecoder\n",
    "\n",
    "codes = [code1]\n",
    "\n",
    "# codes = [\n",
    "#     # TODO\n",
    "# ]\n",
    "\n",
    "noise = 0.001\n",
    "\n",
    "setups = [\n",
    "    CommutationCheckECCSetup(noise),\n",
    "    NaiveSyndromeECCSetup(noise, 0),\n",
    "    ShorSyndromeECCSetup(noise, 0),\n",
    "]\n",
    "\n",
    "for c in codes\n",
    "    for s in setups\n",
    "        for d in [c->PyBeliefPropOSDecoder(c, maxiter=10)]\n",
    "            e = evaluate_decoder(d(c), s, 100000)\n",
    "            @show c\n",
    "            @show s\n",
    "            @show e\n",
    "            @assert max(e...) < noise/4\n",
    "        end\n",
    "    end\n",
    "end"
   ]
  },
  {
   "cell_type": "code",
   "execution_count": 26,
   "metadata": {},
   "outputs": [
    {
     "data": {
      "text/plain": [
       "3×4 Matrix{Int64}:\n",
       " 0   0  0   0\n",
       " 0   2  6   9\n",
       " 0  16  7  11"
      ]
     },
     "metadata": {},
     "output_type": "display_data"
    }
   ],
   "source": [
    "B04 = Dict()\n",
    "\n",
    "B04[7] = [\n",
    "    0 0 0 0;\n",
    "    0 1 2 5;\n",
    "    0 6 3 1\n",
    "]\n",
    "\n",
    "B04[9] = [\n",
    "    0 0 0 0;\n",
    "    0 1 6 7;\n",
    "    0 4 5 2\n",
    "]\n",
    "\n",
    "B04[17] = [\n",
    "    0 0 0 0;\n",
    "    0 1 2 11;\n",
    "    0 8 12 13\n",
    "]\n",
    "\n",
    "B04[19] = [\n",
    "    0 0 0 0;\n",
    "    0 2 6 9;\n",
    "    0 16 7 11\n",
    "]\n"
   ]
  },
  {
   "cell_type": "code",
   "execution_count": 28,
   "metadata": {},
   "outputs": [
    {
     "data": {
      "text/plain": [
       "3×5 Matrix{Int64}:\n",
       " 0   0   0   0   0\n",
       " 0   2  14  24  25\n",
       " 0  16  11  14  13"
      ]
     },
     "metadata": {},
     "output_type": "display_data"
    }
   ],
   "source": [
    "B118 = Dict()\n",
    "\n",
    "B118[16] = [\n",
    "    0 0 0 0 0;\n",
    "    0 2 4 7 11;\n",
    "    0 3 10 14 15\n",
    "]\n",
    "\n",
    "B118[21] = [\n",
    "    0 0 0 0 0;\n",
    "    0 4 5 7 17;\n",
    "    0 14 18 12 11\n",
    "]\n",
    "\n",
    "B118[30] = [\n",
    "    0 0 0 0 0;\n",
    "    0 2 14 24 25;\n",
    "    0 16 11 14 13\n",
    "]"
   ]
  },
  {
   "cell_type": "code",
   "execution_count": 29,
   "metadata": {},
   "outputs": [
    {
     "data": {
      "text/plain": [
       "3×4 Matrix{PermGroupRingElem{Nemo.FqFieldElem}}:\n",
       " PermGroupRingElem{FqFieldElem}(Dict{Perm{Int64}, FqFieldElem}(()=>1), PermGroupRing{FqFieldElem}(Prime field of characteristic 2, 7, #undef))  …  PermGroupRingElem{FqFieldElem}(Dict{Perm{Int64}, FqFieldElem}(()=>1), PermGroupRing{FqFieldElem}(Prime field of characteristic 2, 7, #undef))\n",
       " PermGroupRingElem{FqFieldElem}(Dict{Perm{Int64}, FqFieldElem}(()=>1), PermGroupRing{FqFieldElem}(Prime field of characteristic 2, 7, #undef))     PermGroupRingElem{FqFieldElem}(Dict{Perm{Int64}, FqFieldElem}((1,6,4,2,7,5,3)=>1), PermGroupRing{FqFieldElem}(Prime field of characteristic 2, 7, #undef))\n",
       " PermGroupRingElem{FqFieldElem}(Dict{Perm{Int64}, FqFieldElem}(()=>1), PermGroupRing{FqFieldElem}(Prime field of characteristic 2, 7, #undef))     PermGroupRingElem{FqFieldElem}(Dict{Perm{Int64}, FqFieldElem}((1,2,3,4,5,6,7)=>1), PermGroupRing{FqFieldElem}(Prime field of characteristic 2, 7, #undef))"
      ]
     },
     "metadata": {},
     "output_type": "display_data"
    }
   ],
   "source": [
    "# A04 = Dict()\n",
    "# l = 7\n",
    "# A04[l] = map(B04[l]) do x\n",
    "#     (PermutationGroupRing(GF(2), l))(cyclic_permutation(x, l))\n",
    "# end"
   ]
  },
  {
   "cell_type": "code",
   "execution_count": 110,
   "metadata": {},
   "outputs": [],
   "source": [
    "LP04 = Dict()\n",
    "for l in keys(B04)\n",
    "    A =  map(B04[l]) do x\n",
    "        (PermutationGroupRing(GF(2), l))(cyclic_permutation(x, l))\n",
    "    end\n",
    "    LP04[l] = LPCode(LiftedCode(A), LiftedCode(A))\n",
    "end"
   ]
  },
  {
   "cell_type": "code",
   "execution_count": 121,
   "metadata": {},
   "outputs": [],
   "source": [
    "LP118 = Dict()\n",
    "for l in keys(B118)\n",
    "    A =  map(B118[l]) do x\n",
    "        (PermutationGroupRing(GF(2), l))(cyclic_permutation(x, l))\n",
    "    end\n",
    "    LP118[l] = LPCode(LiftedCode(A), LiftedCode(A))\n",
    "end"
   ]
  },
  {
   "cell_type": "code",
   "execution_count": 124,
   "metadata": {},
   "outputs": [],
   "source": [
    "# code_n(LP04[19])"
   ]
  },
  {
   "cell_type": "code",
   "execution_count": 85,
   "metadata": {},
   "outputs": [
    {
     "name": "stderr",
     "output_type": "stream",
     "text": [
      "┌ Warning: `faults_matrix` was called on an ECC that has redundant rows (is rank-deficient). `faults_matrix` corrected for that, however this is a frequent source of mistakes and inefficiencies. We advise you remove redundant rows from your ECC.\n",
      "└ @ QuantumClifford.ECC /home/yuxuan/Documents/Repos/QuantumClifford.jl/src/ecc/ECC.jl:298\n",
      "┌ Warning: `faults_matrix` was called on an ECC that has redundant rows (is rank-deficient). `faults_matrix` corrected for that, however this is a frequent source of mistakes and inefficiencies. We advise you remove redundant rows from your ECC.\n",
      "└ @ QuantumClifford.ECC /home/yuxuan/Documents/Repos/QuantumClifford.jl/src/ecc/ECC.jl:298\n"
     ]
    },
    {
     "data": {
      "text/plain": [
       "4.0e-5"
      ]
     },
     "metadata": {},
     "output_type": "display_data"
    }
   ],
   "source": [
    "noise = 0.001\n",
    "l = 7\n",
    "code = LP04[l]\n",
    "d = code->PyBeliefPropOSDecoder(code, maxiter=10)\n",
    "s = CommutationCheckECCSetup(noise)\n",
    "e = evaluate_decoder(d(code), s, 100000)"
   ]
  },
  {
   "cell_type": "code",
   "execution_count": 96,
   "metadata": {},
   "outputs": [
    {
     "name": "stderr",
     "output_type": "stream",
     "text": [
      "┌ Warning: `faults_matrix` was called on an ECC that has redundant rows (is rank-deficient). `faults_matrix` corrected for that, however this is a frequent source of mistakes and inefficiencies. We advise you remove redundant rows from your ECC.\n",
      "└ @ QuantumClifford.ECC /home/yuxuan/Documents/Repos/QuantumClifford.jl/src/ecc/ECC.jl:298\n",
      "┌ Warning: `faults_matrix` was called on an ECC that has redundant rows (is rank-deficient). `faults_matrix` corrected for that, however this is a frequent source of mistakes and inefficiencies. We advise you remove redundant rows from your ECC.\n",
      "└ @ QuantumClifford.ECC /home/yuxuan/Documents/Repos/QuantumClifford.jl/src/ecc/ECC.jl:298\n"
     ]
    },
    {
     "data": {
      "text/plain": [
       "0.00351"
      ]
     },
     "metadata": {},
     "output_type": "display_data"
    }
   ],
   "source": [
    "noise = 0.005\n",
    "l = 7\n",
    "code = LP04[l]\n",
    "d = code->PyBeliefPropOSDecoder(code, maxiter=10)\n",
    "s = CommutationCheckECCSetup(noise)\n",
    "e = evaluate_decoder(d(code), s, 100000)"
   ]
  },
  {
   "cell_type": "code",
   "execution_count": 119,
   "metadata": {},
   "outputs": [
    {
     "name": "stdout",
     "output_type": "stream",
     "text": [
      "l = 7\n",
      "s = CommutationCheckECCSetup(0.001)\n"
     ]
    },
    {
     "name": "stderr",
     "output_type": "stream",
     "text": [
      "┌ Warning: `faults_matrix` was called on an ECC that has redundant rows (is rank-deficient). `faults_matrix` corrected for that, however this is a frequent source of mistakes and inefficiencies. We advise you remove redundant rows from your ECC.\n",
      "└ @ QuantumClifford.ECC /home/yuxuan/Documents/Repos/QuantumClifford.jl/src/ecc/ECC.jl:298\n",
      "┌ Warning: `faults_matrix` was called on an ECC that has redundant rows (is rank-deficient). `faults_matrix` corrected for that, however this is a frequent source of mistakes and inefficiencies. We advise you remove redundant rows from your ECC.\n",
      "└ @ QuantumClifford.ECC /home/yuxuan/Documents/Repos/QuantumClifford.jl/src/ecc/ECC.jl:298\n"
     ]
    },
    {
     "name": "stdout",
     "output_type": "stream",
     "text": [
      " 10.905748 seconds (12.71 M allocations: 785.566 MiB, 2.26% gc time, 0.02% compilation time)\n",
      "e = 5.0e-5\n",
      "l = 9\n",
      "s = CommutationCheckECCSetup(0.001)\n"
     ]
    },
    {
     "name": "stderr",
     "output_type": "stream",
     "text": [
      "┌ Warning: `faults_matrix` was called on an ECC that has redundant rows (is rank-deficient). `faults_matrix` corrected for that, however this is a frequent source of mistakes and inefficiencies. We advise you remove redundant rows from your ECC.\n",
      "└ @ QuantumClifford.ECC /home/yuxuan/Documents/Repos/QuantumClifford.jl/src/ecc/ECC.jl:298\n",
      "┌ Warning: `faults_matrix` was called on an ECC that has redundant rows (is rank-deficient). `faults_matrix` corrected for that, however this is a frequent source of mistakes and inefficiencies. We advise you remove redundant rows from your ECC.\n",
      "└ @ QuantumClifford.ECC /home/yuxuan/Documents/Repos/QuantumClifford.jl/src/ecc/ECC.jl:298\n"
     ]
    },
    {
     "name": "stdout",
     "output_type": "stream",
     "text": [
      " 15.745683 seconds (12.69 M allocations: 885.503 MiB, 1.30% gc time)\n",
      "e = 0.0\n",
      "l = 17\n",
      "s = CommutationCheckECCSetup(0.001)\n"
     ]
    },
    {
     "name": "stderr",
     "output_type": "stream",
     "text": [
      "┌ Warning: `faults_matrix` was called on an ECC that has redundant rows (is rank-deficient). `faults_matrix` corrected for that, however this is a frequent source of mistakes and inefficiencies. We advise you remove redundant rows from your ECC.\n",
      "└ @ QuantumClifford.ECC /home/yuxuan/Documents/Repos/QuantumClifford.jl/src/ecc/ECC.jl:298\n",
      "┌ Warning: `faults_matrix` was called on an ECC that has redundant rows (is rank-deficient). `faults_matrix` corrected for that, however this is a frequent source of mistakes and inefficiencies. We advise you remove redundant rows from your ECC.\n",
      "└ @ QuantumClifford.ECC /home/yuxuan/Documents/Repos/QuantumClifford.jl/src/ecc/ECC.jl:298\n"
     ]
    },
    {
     "name": "stdout",
     "output_type": "stream",
     "text": [
      " 92.727176 seconds (12.76 M allocations: 1.262 GiB, 0.55% gc time)\n",
      "e = 0.0\n",
      "l = 19\n",
      "s = CommutationCheckECCSetup(0.001)\n"
     ]
    },
    {
     "name": "stderr",
     "output_type": "stream",
     "text": [
      "┌ Warning: `faults_matrix` was called on an ECC that has redundant rows (is rank-deficient). `faults_matrix` corrected for that, however this is a frequent source of mistakes and inefficiencies. We advise you remove redundant rows from your ECC.\n",
      "└ @ QuantumClifford.ECC /home/yuxuan/Documents/Repos/QuantumClifford.jl/src/ecc/ECC.jl:298\n",
      "┌ Warning: `faults_matrix` was called on an ECC that has redundant rows (is rank-deficient). `faults_matrix` corrected for that, however this is a frequent source of mistakes and inefficiencies. We advise you remove redundant rows from your ECC.\n",
      "└ @ QuantumClifford.ECC /home/yuxuan/Documents/Repos/QuantumClifford.jl/src/ecc/ECC.jl:298\n"
     ]
    },
    {
     "name": "stdout",
     "output_type": "stream",
     "text": [
      "145.327434 seconds (12.76 M allocations: 1.360 GiB, 0.16% gc time)\n",
      "e = 1.0e-5\n"
     ]
    }
   ],
   "source": [
    "# codes = values(LP04)\n",
    "\n",
    "noise = 0.001\n",
    "\n",
    "setups = [\n",
    "    CommutationCheckECCSetup(noise),\n",
    "    # NaiveSyndromeECCSetup(noise, 0),\n",
    "    # ShorSyndromeECCSetup(noise, 0),\n",
    "]\n",
    "\n",
    "for (l, c) in LP04\n",
    "    for s in setups\n",
    "        for d in [c->PyBeliefPropOSDecoder(c, maxiter=10)]\n",
    "            @show l\n",
    "            # @show c\n",
    "            @show s\n",
    "            @time begin\n",
    "                e = evaluate_decoder(d(c), s, 100000)\n",
    "                # e = evaluate_decoder(d(c), s, 10000) # fewer shots to be faster\n",
    "            end\n",
    "            @show e\n",
    "            @assert max(e...) < noise/4\n",
    "        end\n",
    "    end\n",
    "end"
   ]
  },
  {
   "cell_type": "code",
   "execution_count": 125,
   "metadata": {},
   "outputs": [
    {
     "name": "stdout",
     "output_type": "stream",
     "text": [
      "l = 16\n",
      "s = CommutationCheckECCSetup(0.001)\n"
     ]
    },
    {
     "name": "stderr",
     "output_type": "stream",
     "text": [
      "┌ Warning: `faults_matrix` was called on an ECC that has redundant rows (is rank-deficient). `faults_matrix` corrected for that, however this is a frequent source of mistakes and inefficiencies. We advise you remove redundant rows from your ECC.\n",
      "└ @ QuantumClifford.ECC /home/yuxuan/Documents/Repos/QuantumClifford.jl/src/ecc/ECC.jl:298\n",
      "┌ Warning: `faults_matrix` was called on an ECC that has redundant rows (is rank-deficient). `faults_matrix` corrected for that, however this is a frequent source of mistakes and inefficiencies. We advise you remove redundant rows from your ECC.\n",
      "└ @ QuantumClifford.ECC /home/yuxuan/Documents/Repos/QuantumClifford.jl/src/ecc/ECC.jl:298\n"
     ]
    },
    {
     "name": "stdout",
     "output_type": "stream",
     "text": [
      "  2.417592 seconds (431.43 k allocations: 99.405 MiB, 0.87% gc time, 40.06% compilation time)\n",
      "e = 0.0\n",
      "l = 21\n",
      "s = CommutationCheckECCSetup(0.001)\n"
     ]
    },
    {
     "name": "stderr",
     "output_type": "stream",
     "text": [
      "┌ Warning: `faults_matrix` was called on an ECC that has redundant rows (is rank-deficient). `faults_matrix` corrected for that, however this is a frequent source of mistakes and inefficiencies. We advise you remove redundant rows from your ECC.\n",
      "└ @ QuantumClifford.ECC /home/yuxuan/Documents/Repos/QuantumClifford.jl/src/ecc/ECC.jl:298\n",
      "┌ Warning: `faults_matrix` was called on an ECC that has redundant rows (is rank-deficient). `faults_matrix` corrected for that, however this is a frequent source of mistakes and inefficiencies. We advise you remove redundant rows from your ECC.\n",
      "└ @ QuantumClifford.ECC /home/yuxuan/Documents/Repos/QuantumClifford.jl/src/ecc/ECC.jl:298\n"
     ]
    },
    {
     "name": "stdout",
     "output_type": "stream",
     "text": [
      "  7.295986 seconds (519.12 k allocations: 172.598 MiB, 0.28% gc time, 19.27% compilation time)\n",
      "e = 0.0\n",
      "l = 30\n",
      "s = CommutationCheckECCSetup(0.001)\n"
     ]
    },
    {
     "name": "stderr",
     "output_type": "stream",
     "text": [
      "┌ Warning: `faults_matrix` was called on an ECC that has redundant rows (is rank-deficient). `faults_matrix` corrected for that, however this is a frequent source of mistakes and inefficiencies. We advise you remove redundant rows from your ECC.\n",
      "└ @ QuantumClifford.ECC /home/yuxuan/Documents/Repos/QuantumClifford.jl/src/ecc/ECC.jl:298\n",
      "┌ Warning: `faults_matrix` was called on an ECC that has redundant rows (is rank-deficient). `faults_matrix` corrected for that, however this is a frequent source of mistakes and inefficiencies. We advise you remove redundant rows from your ECC.\n",
      "└ @ QuantumClifford.ECC /home/yuxuan/Documents/Repos/QuantumClifford.jl/src/ecc/ECC.jl:298\n"
     ]
    },
    {
     "name": "stdout",
     "output_type": "stream",
     "text": [
      " 15.721361 seconds (601.34 k allocations: 296.350 MiB, 0.32% gc time, 13.70% compilation time)\n",
      "e = 0.0\n"
     ]
    }
   ],
   "source": [
    "noise = 0.001\n",
    "\n",
    "setups = [\n",
    "    CommutationCheckECCSetup(noise),\n",
    "    # NaiveSyndromeECCSetup(noise, 0),\n",
    "    # ShorSyndromeECCSetup(noise, 0),\n",
    "]\n",
    "\n",
    "for (l, c) in LP118\n",
    "    for s in setups\n",
    "        for d in [c->PyBeliefPropOSDecoder(c, maxiter=10)]\n",
    "            @show l\n",
    "            # @show c\n",
    "            @show s\n",
    "            @time begin\n",
    "                # e = evaluate_decoder(d(c), s, 100000)\n",
    "                e = evaluate_decoder(d(c), s, 1000) # fewer shots to be faster\n",
    "            end\n",
    "            @show e\n",
    "            @assert max(e...) < noise/4\n",
    "        end\n",
    "    end\n",
    "end"
   ]
  },
  {
   "cell_type": "code",
   "execution_count": 198,
   "metadata": {},
   "outputs": [
    {
     "data": {
      "text/plain": [
       "LPCode{PermGroupRingElem{Nemo.FqFieldElem}}(LiftedCode{PermGroupRingElem{Nemo.FqFieldElem}}(PermGroupRingElem{Nemo.FqFieldElem}[PermGroupRingElem{Nemo.FqFieldElem}(Dict{Perm{Int64}, Nemo.FqFieldElem}((1,28,55,19,46,10,37)(2,29,56,20,47,11,38)(3,30,57,21,48,12,39)(4,31,58,22,49, … => 1), PermGroupRing{Nemo.FqFieldElem}(Prime field of characteristic 2, 63, #undef)) PermGroupRingElem{Nemo.FqFieldElem}(Dict{Perm, Nemo.FqFieldElem}(), PermGroupRing{Nemo.FqFieldElem}(Prime field of characteristic 2, 63, #undef)) … PermGroupRingElem{Nemo.FqFieldElem}(Dict{Perm{Int64}, Nemo.FqFieldElem}(() => 1), PermGroupRing{Nemo.FqFieldElem}(Prime field of characteristic 2, 63, #undef)) PermGroupRingElem{Nemo.FqFieldElem}(Dict{Perm{Int64}, Nemo.FqFieldElem}((1,55,46,37,28,19,10)(2,56,47,38,29,20,11)(3,57,48,39,30,21,12)(4,58,49,40,31, … => 1), PermGroupRing{Nemo.FqFieldElem}(Prime field of characteristic 2, 63, #undef)); PermGroupRingElem{Nemo.FqFieldElem}(Dict{Perm{Int64}, Nemo.FqFieldElem}((1,55,46,37,28,19,10)(2,56,47,38,29,20,11)(3,57,48,39,30,21,12)(4,58,49,40,31, … => 1), PermGroupRing{Nemo.FqFieldElem}(Prime field of characteristic 2, 63, #undef)) PermGroupRingElem{Nemo.FqFieldElem}(Dict{Perm{Int64}, Nemo.FqFieldElem}((1,28,55,19,46,10,37)(2,29,56,20,47,11,38)(3,30,57,21,48,12,39)(4,31,58,22,49, … => 1), PermGroupRing{Nemo.FqFieldElem}(Prime field of characteristic 2, 63, #undef)) … PermGroupRingElem{Nemo.FqFieldElem}(Dict{Perm, Nemo.FqFieldElem}(), PermGroupRing{Nemo.FqFieldElem}(Prime field of characteristic 2, 63, #undef)) PermGroupRingElem{Nemo.FqFieldElem}(Dict{Perm{Int64}, Nemo.FqFieldElem}(() => 1), PermGroupRing{Nemo.FqFieldElem}(Prime field of characteristic 2, 63, #undef)); … ; PermGroupRingElem{Nemo.FqFieldElem}(Dict{Perm, Nemo.FqFieldElem}(), PermGroupRing{Nemo.FqFieldElem}(Prime field of characteristic 2, 63, #undef)) PermGroupRingElem{Nemo.FqFieldElem}(Dict{Perm, Nemo.FqFieldElem}(), PermGroupRing{Nemo.FqFieldElem}(Prime field of characteristic 2, 63, #undef)) … PermGroupRingElem{Nemo.FqFieldElem}(Dict{Perm{Int64}, Nemo.FqFieldElem}((1,28,55,19,46,10,37)(2,29,56,20,47,11,38)(3,30,57,21,48,12,39)(4,31,58,22,49, … => 1), PermGroupRing{Nemo.FqFieldElem}(Prime field of characteristic 2, 63, #undef)) PermGroupRingElem{Nemo.FqFieldElem}(Dict{Perm, Nemo.FqFieldElem}(), PermGroupRing{Nemo.FqFieldElem}(Prime field of characteristic 2, 63, #undef)); PermGroupRingElem{Nemo.FqFieldElem}(Dict{Perm, Nemo.FqFieldElem}(), PermGroupRing{Nemo.FqFieldElem}(Prime field of characteristic 2, 63, #undef)) PermGroupRingElem{Nemo.FqFieldElem}(Dict{Perm, Nemo.FqFieldElem}(), PermGroupRing{Nemo.FqFieldElem}(Prime field of characteristic 2, 63, #undef)) … PermGroupRingElem{Nemo.FqFieldElem}(Dict{Perm{Int64}, Nemo.FqFieldElem}((1,55,46,37,28,19,10)(2,56,47,38,29,20,11)(3,57,48,39,30,21,12)(4,58,49,40,31, … => 1), PermGroupRing{Nemo.FqFieldElem}(Prime field of characteristic 2, 63, #undef)) PermGroupRingElem{Nemo.FqFieldElem}(Dict{Perm{Int64}, Nemo.FqFieldElem}((1,28,55,19,46,10,37)(2,29,56,20,47,11,38)(3,30,57,21,48,12,39)(4,31,58,22,49, … => 1), PermGroupRing{Nemo.FqFieldElem}(Prime field of characteristic 2, 63, #undef))], QuantumClifford.ECC.permutation_repr), LiftedCode{PermGroupRingElem{Nemo.FqFieldElem}}(PermGroupRingElem{Nemo.FqFieldElem}[PermGroupRingElem{Nemo.FqFieldElem}(Dict{Perm, Nemo.FqFieldElem}(() => 1, (1,58,52,46,40,34,28,22,16,10,4,61,55,49,43,37,31,25,19,13,7)(2,59,53,47,41,35 … => 1, (1,63,62,61,60,59,58,57,56,55,54,53,52,51,50,49,48,47,46,45,44,43,42,41,40,39, … => 1), PermGroupRing{Nemo.FqFieldElem}(Prime field of characteristic 2, 63, #undef));;], QuantumClifford.ECC.permutation_repr), QuantumClifford.ECC.permutation_repr)"
      ]
     },
     "metadata": {},
     "output_type": "display_data"
    }
   ],
   "source": [
    "# more_codes = []\n",
    "l = 63\n",
    "R = PermutationGroupRing(GF(2), l)\n",
    "A = zeros(R, 7,7)\n",
    "A[LinearAlgebra.diagind(A)] .= R(cyclic_permutation(27, l))\n",
    "A[LinearAlgebra.diagind(A, -1)] .= R(cyclic_permutation(54, l))\n",
    "A[LinearAlgebra.diagind(A, 6)] .= R(cyclic_permutation(54, l))\n",
    "A[LinearAlgebra.diagind(A, -2)] .= R(1)\n",
    "A[LinearAlgebra.diagind(A, 5)] .= R(1)\n",
    "\n",
    "B = zeros(R, 1, 1)\n",
    "B[1,1] = (R(1) + R(cyclic_permutation(1, l)) + R(cyclic_permutation(6, l)))' # adjoint due to different notations\n",
    "code = LPCode(LiftedCode(A), LiftedCode(B))\n"
   ]
  },
  {
   "cell_type": "code",
   "execution_count": 199,
   "metadata": {},
   "outputs": [
    {
     "data": {
      "text/plain": [
       "882"
      ]
     },
     "metadata": {},
     "output_type": "display_data"
    }
   ],
   "source": [
    "code_n(code)"
   ]
  },
  {
   "cell_type": "code",
   "execution_count": 200,
   "metadata": {},
   "outputs": [
    {
     "data": {
      "text/plain": [
       "0"
      ]
     },
     "metadata": {},
     "output_type": "display_data"
    }
   ],
   "source": [
    "code_k(code)"
   ]
  },
  {
   "cell_type": "code",
   "execution_count": 202,
   "metadata": {},
   "outputs": [
    {
     "data": {
      "text/plain": [
       "LPCode{PermGroupRingElem{Nemo.FqFieldElem}}(LiftedCode{PermGroupRingElem{Nemo.FqFieldElem}}(PermGroupRingElem{Nemo.FqFieldElem}[PermGroupRingElem{Nemo.FqFieldElem}(Dict{Perm{Int64}, Nemo.FqFieldElem}((1,28,55,19,46,10,37)(2,29,56,20,47,11,38)(3,30,57,21,48,12,39)(4,31,58,22,49, … => 1), PermGroupRing{Nemo.FqFieldElem}(Prime field of characteristic 2, 63, #undef)) PermGroupRingElem{Nemo.FqFieldElem}(Dict{Perm, Nemo.FqFieldElem}(), PermGroupRing{Nemo.FqFieldElem}(Prime field of characteristic 2, 63, #undef)) … PermGroupRingElem{Nemo.FqFieldElem}(Dict{Perm{Int64}, Nemo.FqFieldElem}((1,28,55,19,46,10,37)(2,29,56,20,47,11,38)(3,30,57,21,48,12,39)(4,31,58,22,49, … => 1), PermGroupRing{Nemo.FqFieldElem}(Prime field of characteristic 2, 63, #undef)) PermGroupRingElem{Nemo.FqFieldElem}(Dict{Perm{Int64}, Nemo.FqFieldElem}(() => 1), PermGroupRing{Nemo.FqFieldElem}(Prime field of characteristic 2, 63, #undef)); PermGroupRingElem{Nemo.FqFieldElem}(Dict{Perm{Int64}, Nemo.FqFieldElem}(() => 1), PermGroupRing{Nemo.FqFieldElem}(Prime field of characteristic 2, 63, #undef)) PermGroupRingElem{Nemo.FqFieldElem}(Dict{Perm{Int64}, Nemo.FqFieldElem}((1,28,55,19,46,10,37)(2,29,56,20,47,11,38)(3,30,57,21,48,12,39)(4,31,58,22,49, … => 1), PermGroupRing{Nemo.FqFieldElem}(Prime field of characteristic 2, 63, #undef)) … PermGroupRingElem{Nemo.FqFieldElem}(Dict{Perm{Int64}, Nemo.FqFieldElem}((1,19,37,55,10,28,46)(2,20,38,56,11,29,47)(3,21,39,57,12,30,48)(4,22,40,58,13, … => 1), PermGroupRing{Nemo.FqFieldElem}(Prime field of characteristic 2, 63, #undef)) PermGroupRingElem{Nemo.FqFieldElem}(Dict{Perm{Int64}, Nemo.FqFieldElem}((1,28,55,19,46,10,37)(2,29,56,20,47,11,38)(3,30,57,21,48,12,39)(4,31,58,22,49, … => 1), PermGroupRing{Nemo.FqFieldElem}(Prime field of characteristic 2, 63, #undef)); … ; PermGroupRingElem{Nemo.FqFieldElem}(Dict{Perm, Nemo.FqFieldElem}(), PermGroupRing{Nemo.FqFieldElem}(Prime field of characteristic 2, 63, #undef)) PermGroupRingElem{Nemo.FqFieldElem}(Dict{Perm{Int64}, Nemo.FqFieldElem}(() => 1), PermGroupRing{Nemo.FqFieldElem}(Prime field of characteristic 2, 63, #undef)) … PermGroupRingElem{Nemo.FqFieldElem}(Dict{Perm{Int64}, Nemo.FqFieldElem}((1,28,55,19,46,10,37)(2,29,56,20,47,11,38)(3,30,57,21,48,12,39)(4,31,58,22,49, … => 1), PermGroupRing{Nemo.FqFieldElem}(Prime field of characteristic 2, 63, #undef)) PermGroupRingElem{Nemo.FqFieldElem}(Dict{Perm, Nemo.FqFieldElem}(), PermGroupRing{Nemo.FqFieldElem}(Prime field of characteristic 2, 63, #undef)); PermGroupRingElem{Nemo.FqFieldElem}(Dict{Perm, Nemo.FqFieldElem}(), PermGroupRing{Nemo.FqFieldElem}(Prime field of characteristic 2, 63, #undef)) PermGroupRingElem{Nemo.FqFieldElem}(Dict{Perm, Nemo.FqFieldElem}(), PermGroupRing{Nemo.FqFieldElem}(Prime field of characteristic 2, 63, #undef)) … PermGroupRingElem{Nemo.FqFieldElem}(Dict{Perm{Int64}, Nemo.FqFieldElem}(() => 1), PermGroupRing{Nemo.FqFieldElem}(Prime field of characteristic 2, 63, #undef)) PermGroupRingElem{Nemo.FqFieldElem}(Dict{Perm{Int64}, Nemo.FqFieldElem}((1,28,55,19,46,10,37)(2,29,56,20,47,11,38)(3,30,57,21,48,12,39)(4,31,58,22,49, … => 1), PermGroupRing{Nemo.FqFieldElem}(Prime field of characteristic 2, 63, #undef))], QuantumClifford.ECC.permutation_repr), LiftedCode{PermGroupRingElem{Nemo.FqFieldElem}}(PermGroupRingElem{Nemo.FqFieldElem}[PermGroupRingElem{Nemo.FqFieldElem}(Dict{Perm, Nemo.FqFieldElem}(() => 1, (1,58,52,46,40,34,28,22,16,10,4,61,55,49,43,37,31,25,19,13,7)(2,59,53,47,41,35 … => 1, (1,63,62,61,60,59,58,57,56,55,54,53,52,51,50,49,48,47,46,45,44,43,42,41,40,39, … => 1), PermGroupRing{Nemo.FqFieldElem}(Prime field of characteristic 2, 63, #undef));;], QuantumClifford.ECC.permutation_repr), QuantumClifford.ECC.permutation_repr)"
      ]
     },
     "metadata": {},
     "output_type": "display_data"
    }
   ],
   "source": [
    "# more_codes = []\n",
    "l = 63\n",
    "R = PermutationGroupRing(GF(2), l)\n",
    "A = zeros(R, 7,7)\n",
    "A[LinearAlgebra.diagind(A)] .= R(cyclic_permutation(27, l))\n",
    "A[LinearAlgebra.diagind(A, -1)] .= R(1)\n",
    "A[LinearAlgebra.diagind(A, 6)] .= R(1)\n",
    "A[LinearAlgebra.diagind(A, -2)] .= R(cyclic_permutation(27, l))\n",
    "A[LinearAlgebra.diagind(A, 5)] .= R(cyclic_permutation(27, l))\n",
    "A[LinearAlgebra.diagind(A, -3)] .= R(cyclic_permutation(18, l))\n",
    "A[LinearAlgebra.diagind(A, 4)] .= R(cyclic_permutation(18, l))\n",
    "A[LinearAlgebra.diagind(A, -4)] .= R(1)\n",
    "A[LinearAlgebra.diagind(A, 3)] .= R(1)\n",
    "\n",
    "B = zeros(R, 1, 1)\n",
    "B[1,1] = (R(1) + R(cyclic_permutation(1, l)) + R(cyclic_permutation(6, l)))' # adjoint due to different notations\n",
    "code = LPCode(LiftedCode(A), LiftedCode(B))"
   ]
  },
  {
   "cell_type": "code",
   "execution_count": 204,
   "metadata": {},
   "outputs": [
    {
     "data": {
      "text/plain": [
       "882"
      ]
     },
     "metadata": {},
     "output_type": "display_data"
    }
   ],
   "source": [
    "code_n(code)"
   ]
  },
  {
   "cell_type": "code",
   "execution_count": 205,
   "metadata": {},
   "outputs": [
    {
     "data": {
      "text/plain": [
       "hgp_debug"
      ]
     },
     "metadata": {},
     "output_type": "display_data"
    }
   ],
   "source": [
    "\"\"\"Hypergraph product of two classical codes.\"\"\"\n",
    "function hgp_debug(h₁,h₂)\n",
    "    r₁, n₁ = size(h₁)\n",
    "    r₂, n₂ = size(h₂)\n",
    "    hx = hcat(kron(h₁, LinearAlgebra.I(n₂)), kron(LinearAlgebra.I(r₁), h₂'))\n",
    "    hz = hcat(kron(LinearAlgebra.I(n₁), h₂), kron(h₁', LinearAlgebra.I(r₂)))\n",
    "    hx, hz\n",
    "end"
   ]
  },
  {
   "cell_type": "code",
   "execution_count": 207,
   "metadata": {},
   "outputs": [
    {
     "data": {
      "text/plain": [
       "(PermGroupRingElem{Nemo.FqFieldElem}[PermGroupRingElem{Nemo.FqFieldElem}(Dict{Perm, Nemo.FqFieldElem}((1,28,55,19,46,10,37)(2,29,56,20,47,11,38)(3,30,57,21,48,12,39)(4,31,58,22,49, … => 1), PermGroupRing{Nemo.FqFieldElem}(Prime field of characteristic 2, 63, #undef)) PermGroupRingElem{Nemo.FqFieldElem}(Dict{Perm, Nemo.FqFieldElem}(), PermGroupRing{Nemo.FqFieldElem}(Prime field of characteristic 2, 63, #undef)) … PermGroupRingElem{Nemo.FqFieldElem}(Dict{Perm, Nemo.FqFieldElem}(), PermGroupRing{Nemo.FqFieldElem}(Prime field of characteristic 2, 63, #undef)) PermGroupRingElem{Nemo.FqFieldElem}(Dict{Perm, Nemo.FqFieldElem}(), PermGroupRing{Nemo.FqFieldElem}(Prime field of characteristic 2, 63, #undef)); PermGroupRingElem{Nemo.FqFieldElem}(Dict{Perm, Nemo.FqFieldElem}(() => 1), PermGroupRing{Nemo.FqFieldElem}(Prime field of characteristic 2, 63, #undef)) PermGroupRingElem{Nemo.FqFieldElem}(Dict{Perm, Nemo.FqFieldElem}((1,28,55,19,46,10,37)(2,29,56,20,47,11,38)(3,30,57,21,48,12,39)(4,31,58,22,49, … => 1), PermGroupRing{Nemo.FqFieldElem}(Prime field of characteristic 2, 63, #undef)) … PermGroupRingElem{Nemo.FqFieldElem}(Dict{Perm, Nemo.FqFieldElem}(), PermGroupRing{Nemo.FqFieldElem}(Prime field of characteristic 2, 63, #undef)) PermGroupRingElem{Nemo.FqFieldElem}(Dict{Perm, Nemo.FqFieldElem}(), PermGroupRing{Nemo.FqFieldElem}(Prime field of characteristic 2, 63, #undef)); … ; PermGroupRingElem{Nemo.FqFieldElem}(Dict{Perm, Nemo.FqFieldElem}(), PermGroupRing{Nemo.FqFieldElem}(Prime field of characteristic 2, 63, #undef)) PermGroupRingElem{Nemo.FqFieldElem}(Dict{Perm, Nemo.FqFieldElem}(() => 1), PermGroupRing{Nemo.FqFieldElem}(Prime field of characteristic 2, 63, #undef)) … PermGroupRingElem{Nemo.FqFieldElem}(Dict{Perm, Nemo.FqFieldElem}(() => 1, (1,7,13,19,25,31,37,43,49,55,61,4,10,16,22,28,34,40,46,52,58)(2,8,14,20,26,32, … => 1, (1,2,3,4,5,6,7,8,9,10,11,12,13,14,15,16,17,18,19,20,21,22,23,24,25,26,27,28,29 … => 1), PermGroupRing{Nemo.FqFieldElem}(Prime field of characteristic 2, 63, #undef)) PermGroupRingElem{Nemo.FqFieldElem}(Dict{Perm, Nemo.FqFieldElem}(), PermGroupRing{Nemo.FqFieldElem}(Prime field of characteristic 2, 63, #undef)); PermGroupRingElem{Nemo.FqFieldElem}(Dict{Perm, Nemo.FqFieldElem}(), PermGroupRing{Nemo.FqFieldElem}(Prime field of characteristic 2, 63, #undef)) PermGroupRingElem{Nemo.FqFieldElem}(Dict{Perm, Nemo.FqFieldElem}(), PermGroupRing{Nemo.FqFieldElem}(Prime field of characteristic 2, 63, #undef)) … PermGroupRingElem{Nemo.FqFieldElem}(Dict{Perm, Nemo.FqFieldElem}(), PermGroupRing{Nemo.FqFieldElem}(Prime field of characteristic 2, 63, #undef)) PermGroupRingElem{Nemo.FqFieldElem}(Dict{Perm, Nemo.FqFieldElem}(() => 1, (1,7,13,19,25,31,37,43,49,55,61,4,10,16,22,28,34,40,46,52,58)(2,8,14,20,26,32, … => 1, (1,2,3,4,5,6,7,8,9,10,11,12,13,14,15,16,17,18,19,20,21,22,23,24,25,26,27,28,29 … => 1), PermGroupRing{Nemo.FqFieldElem}(Prime field of characteristic 2, 63, #undef))], PermGroupRingElem{Nemo.FqFieldElem}[PermGroupRingElem{Nemo.FqFieldElem}(Dict{Perm, Nemo.FqFieldElem}(() => 1, (1,58,52,46,40,34,28,22,16,10,4,61,55,49,43,37,31,25,19,13,7)(2,59,53,47,41,35 … => 1, (1,63,62,61,60,59,58,57,56,55,54,53,52,51,50,49,48,47,46,45,44,43,42,41,40,39, … => 1), PermGroupRing{Nemo.FqFieldElem}(Prime field of characteristic 2, 63, #undef)) PermGroupRingElem{Nemo.FqFieldElem}(Dict{Perm, Nemo.FqFieldElem}(), PermGroupRing{Nemo.FqFieldElem}(Prime field of characteristic 2, 63, #undef)) … PermGroupRingElem{Nemo.FqFieldElem}(Dict{Perm, Nemo.FqFieldElem}(), PermGroupRing{Nemo.FqFieldElem}(Prime field of characteristic 2, 63, #undef)) PermGroupRingElem{Nemo.FqFieldElem}(Dict{Perm, Nemo.FqFieldElem}(), PermGroupRing{Nemo.FqFieldElem}(Prime field of characteristic 2, 63, #undef)); PermGroupRingElem{Nemo.FqFieldElem}(Dict{Perm, Nemo.FqFieldElem}(), PermGroupRing{Nemo.FqFieldElem}(Prime field of characteristic 2, 63, #undef)) PermGroupRingElem{Nemo.FqFieldElem}(Dict{Perm, Nemo.FqFieldElem}(() => 1, (1,58,52,46,40,34,28,22,16,10,4,61,55,49,43,37,31,25,19,13,7)(2,59,53,47,41,35 … => 1, (1,63,62,61,60,59,58,57,56,55,54,53,52,51,50,49,48,47,46,45,44,43,42,41,40,39, … => 1), PermGroupRing{Nemo.FqFieldElem}(Prime field of characteristic 2, 63, #undef)) … PermGroupRingElem{Nemo.FqFieldElem}(Dict{Perm, Nemo.FqFieldElem}(() => 1), PermGroupRing{Nemo.FqFieldElem}(Prime field of characteristic 2, 63, #undef)) PermGroupRingElem{Nemo.FqFieldElem}(Dict{Perm, Nemo.FqFieldElem}(), PermGroupRing{Nemo.FqFieldElem}(Prime field of characteristic 2, 63, #undef)); … ; PermGroupRingElem{Nemo.FqFieldElem}(Dict{Perm, Nemo.FqFieldElem}(), PermGroupRing{Nemo.FqFieldElem}(Prime field of characteristic 2, 63, #undef)) PermGroupRingElem{Nemo.FqFieldElem}(Dict{Perm, Nemo.FqFieldElem}(), PermGroupRing{Nemo.FqFieldElem}(Prime field of characteristic 2, 63, #undef)) … PermGroupRingElem{Nemo.FqFieldElem}(Dict{Perm, Nemo.FqFieldElem}((1,37,10,46,19,55,28)(2,38,11,47,20,56,29)(3,39,12,48,21,57,30)(4,40,13,49,22, … => 1), PermGroupRing{Nemo.FqFieldElem}(Prime field of characteristic 2, 63, #undef)) PermGroupRingElem{Nemo.FqFieldElem}(Dict{Perm, Nemo.FqFieldElem}(() => 1), PermGroupRing{Nemo.FqFieldElem}(Prime field of characteristic 2, 63, #undef)); PermGroupRingElem{Nemo.FqFieldElem}(Dict{Perm, Nemo.FqFieldElem}(), PermGroupRing{Nemo.FqFieldElem}(Prime field of characteristic 2, 63, #undef)) PermGroupRingElem{Nemo.FqFieldElem}(Dict{Perm, Nemo.FqFieldElem}(), PermGroupRing{Nemo.FqFieldElem}(Prime field of characteristic 2, 63, #undef)) … PermGroupRingElem{Nemo.FqFieldElem}(Dict{Perm, Nemo.FqFieldElem}(), PermGroupRing{Nemo.FqFieldElem}(Prime field of characteristic 2, 63, #undef)) PermGroupRingElem{Nemo.FqFieldElem}(Dict{Perm, Nemo.FqFieldElem}((1,37,10,46,19,55,28)(2,38,11,47,20,56,29)(3,39,12,48,21,57,30)(4,40,13,49,22, … => 1), PermGroupRing{Nemo.FqFieldElem}(Prime field of characteristic 2, 63, #undef))])"
      ]
     },
     "metadata": {},
     "output_type": "display_data"
    }
   ],
   "source": [
    "hx, hz = hgp_debug(A,B)"
   ]
  },
  {
   "cell_type": "code",
   "execution_count": 225,
   "metadata": {},
   "outputs": [
    {
     "data": {
      "text/plain": [
       "true"
      ]
     },
     "metadata": {},
     "output_type": "display_data"
    }
   ],
   "source": [
    "hx[2,9] == b'"
   ]
  },
  {
   "cell_type": "code",
   "execution_count": 219,
   "metadata": {},
   "outputs": [
    {
     "data": {
      "text/plain": [
       "7×7 Matrix{PermGroupRingElem{Nemo.FqFieldElem}}:\n",
       " PermGroupRingElem{FqFieldElem}(Dict{Perm, FqFieldElem}(()=>1, (1,7,13,19,25,31,37,43,49,55,61,4,10,16,22,28,34,40,46,52,58)(2,8,14,20,26,32, …=>1, (1,2,3,4,5,6,7,8,9,10,11,12,13,14,15,16,17,18,19,20,21,22,23,24,25,26,27,28,29 …=>1), PermGroupRing{FqFieldElem}(Prime field of characteristic 2, 63, #undef))  …  PermGroupRingElem{FqFieldElem}(Dict{Perm, FqFieldElem}(), PermGroupRing{FqFieldElem}(Prime field of characteristic 2, 63, #undef))\n",
       " PermGroupRingElem{FqFieldElem}(Dict{Perm, FqFieldElem}(), PermGroupRing{FqFieldElem}(Prime field of characteristic 2, 63, #undef))                                                                                                                                                                                    PermGroupRingElem{FqFieldElem}(Dict{Perm, FqFieldElem}(), PermGroupRing{FqFieldElem}(Prime field of characteristic 2, 63, #undef))\n",
       " PermGroupRingElem{FqFieldElem}(Dict{Perm, FqFieldElem}(), PermGroupRing{FqFieldElem}(Prime field of characteristic 2, 63, #undef))                                                                                                                                                                                    PermGroupRingElem{FqFieldElem}(Dict{Perm, FqFieldElem}(), PermGroupRing{FqFieldElem}(Prime field of characteristic 2, 63, #undef))\n",
       " PermGroupRingElem{FqFieldElem}(Dict{Perm, FqFieldElem}(), PermGroupRing{FqFieldElem}(Prime field of characteristic 2, 63, #undef))                                                                                                                                                                                    PermGroupRingElem{FqFieldElem}(Dict{Perm, FqFieldElem}(), PermGroupRing{FqFieldElem}(Prime field of characteristic 2, 63, #undef))\n",
       " PermGroupRingElem{FqFieldElem}(Dict{Perm, FqFieldElem}(), PermGroupRing{FqFieldElem}(Prime field of characteristic 2, 63, #undef))                                                                                                                                                                                    PermGroupRingElem{FqFieldElem}(Dict{Perm, FqFieldElem}(), PermGroupRing{FqFieldElem}(Prime field of characteristic 2, 63, #undef))\n",
       " PermGroupRingElem{FqFieldElem}(Dict{Perm, FqFieldElem}(), PermGroupRing{FqFieldElem}(Prime field of characteristic 2, 63, #undef))                                                                                                                                                                                 …  PermGroupRingElem{FqFieldElem}(Dict{Perm, FqFieldElem}(), PermGroupRing{FqFieldElem}(Prime field of characteristic 2, 63, #undef))\n",
       " PermGroupRingElem{FqFieldElem}(Dict{Perm, FqFieldElem}(), PermGroupRing{FqFieldElem}(Prime field of characteristic 2, 63, #undef))                                                                                                                                                                                    PermGroupRingElem{FqFieldElem}(Dict{Perm, FqFieldElem}(()=>1, (1,7,13,19,25,31,37,43,49,55,61,4,10,16,22,28,34,40,46,52,58)(2,8,14,20,26,32, …=>1, (1,2,3,4,5,6,7,8,9,10,11,12,13,14,15,16,17,18,19,20,21,22,23,24,25,26,27,28,29 …=>1), PermGroupRing{FqFieldElem}(Prime field of characteristic 2, 63, #undef))"
      ]
     },
     "metadata": {},
     "output_type": "display_data"
    }
   ],
   "source": [
    "hx[1:7,8:14]"
   ]
  },
  {
   "cell_type": "code",
   "execution_count": null,
   "metadata": {},
   "outputs": [],
   "source": [
    "hx[]"
   ]
  },
  {
   "cell_type": "code",
   "execution_count": 209,
   "metadata": {},
   "outputs": [
    {
     "data": {
      "text/plain": [
       "7×14 Matrix{PermGroupRingElem{Nemo.FqFieldElem}}:\n",
       " PermGroupRingElem{FqFieldElem}(Dict{Perm, FqFieldElem}(()=>1, (1,58,52,46,40,34,28,22,16,10,4,61,55,49,43,37,31,25,19,13,7)(2,59,53,47,41,35 …=>1, (1,63,62,61,60,59,58,57,56,55,54,53,52,51,50,49,48,47,46,45,44,43,42,41,40,39, …=>1), PermGroupRing{FqFieldElem}(Prime field of characteristic 2, 63, #undef))  …  PermGroupRingElem{FqFieldElem}(Dict{Perm, FqFieldElem}(), PermGroupRing{FqFieldElem}(Prime field of characteristic 2, 63, #undef))\n",
       " PermGroupRingElem{FqFieldElem}(Dict{Perm, FqFieldElem}(), PermGroupRing{FqFieldElem}(Prime field of characteristic 2, 63, #undef))                                                                                                                                                                                    PermGroupRingElem{FqFieldElem}(Dict{Perm, FqFieldElem}(), PermGroupRing{FqFieldElem}(Prime field of characteristic 2, 63, #undef))\n",
       " PermGroupRingElem{FqFieldElem}(Dict{Perm, FqFieldElem}(), PermGroupRing{FqFieldElem}(Prime field of characteristic 2, 63, #undef))                                                                                                                                                                                    PermGroupRingElem{FqFieldElem}(Dict{Perm, FqFieldElem}(()=>1), PermGroupRing{FqFieldElem}(Prime field of characteristic 2, 63, #undef))\n",
       " PermGroupRingElem{FqFieldElem}(Dict{Perm, FqFieldElem}(), PermGroupRing{FqFieldElem}(Prime field of characteristic 2, 63, #undef))                                                                                                                                                                                    PermGroupRingElem{FqFieldElem}(Dict{Perm, FqFieldElem}((1,46,28,10,55,37,19)(2,47,29,11,56,38,20)(3,48,30,12,57,39,21)(4,49,31,13,58, …=>1), PermGroupRing{FqFieldElem}(Prime field of characteristic 2, 63, #undef))\n",
       " PermGroupRingElem{FqFieldElem}(Dict{Perm, FqFieldElem}(), PermGroupRing{FqFieldElem}(Prime field of characteristic 2, 63, #undef))                                                                                                                                                                                    PermGroupRingElem{FqFieldElem}(Dict{Perm, FqFieldElem}((1,37,10,46,19,55,28)(2,38,11,47,20,56,29)(3,39,12,48,21,57,30)(4,40,13,49,22, …=>1), PermGroupRing{FqFieldElem}(Prime field of characteristic 2, 63, #undef))\n",
       " PermGroupRingElem{FqFieldElem}(Dict{Perm, FqFieldElem}(), PermGroupRing{FqFieldElem}(Prime field of characteristic 2, 63, #undef))                                                                                                                                                                                 …  PermGroupRingElem{FqFieldElem}(Dict{Perm, FqFieldElem}(()=>1), PermGroupRing{FqFieldElem}(Prime field of characteristic 2, 63, #undef))\n",
       " PermGroupRingElem{FqFieldElem}(Dict{Perm, FqFieldElem}(), PermGroupRing{FqFieldElem}(Prime field of characteristic 2, 63, #undef))                                                                                                                                                                                    PermGroupRingElem{FqFieldElem}(Dict{Perm, FqFieldElem}((1,37,10,46,19,55,28)(2,38,11,47,20,56,29)(3,39,12,48,21,57,30)(4,40,13,49,22, …=>1), PermGroupRing{FqFieldElem}(Prime field of characteristic 2, 63, #undef))"
      ]
     },
     "metadata": {},
     "output_type": "display_data"
    }
   ],
   "source": [
    "hz"
   ]
  },
  {
   "cell_type": "code",
   "execution_count": 228,
   "metadata": {},
   "outputs": [
    {
     "data": {
      "text/plain": [
       "441×882 Matrix{Int64}:\n",
       " 0  0  0  0  0  0  0  0  0  0  0  0  0  …  0  0  0  0  0  0  0  0  0  0  0  0\n",
       " 0  0  0  0  0  0  0  0  0  0  0  0  0     0  0  0  0  0  0  0  0  0  0  0  0\n",
       " 0  0  0  0  0  0  0  0  0  0  0  0  0     0  0  0  0  0  0  0  0  0  0  0  0\n",
       " 0  0  0  0  0  0  0  0  0  0  0  0  0     0  0  0  0  0  0  0  0  0  0  0  0\n",
       " 0  0  0  0  0  0  0  0  0  0  0  0  0     0  0  0  0  0  0  0  0  0  0  0  0\n",
       " 0  0  0  0  0  0  0  0  0  0  0  0  0  …  0  0  0  0  0  0  0  0  0  0  0  0\n",
       " 0  0  0  0  0  0  0  0  0  0  0  0  0     0  0  0  0  0  0  0  0  0  0  0  0\n",
       " 0  0  0  0  0  0  0  0  0  0  0  0  0     0  0  0  0  0  0  0  0  0  0  0  0\n",
       " 0  0  0  0  0  0  0  0  0  0  0  0  0     0  0  0  0  0  0  0  0  0  0  0  0\n",
       " 0  0  0  0  0  0  0  0  0  0  0  0  0     0  0  0  0  0  0  0  0  0  0  0  0\n",
       " ⋮              ⋮              ⋮        ⋱  ⋮              ⋮              ⋮  \n",
       " 0  0  0  0  0  0  0  0  0  0  0  0  0     0  0  0  1  1  0  0  0  0  1  0  0\n",
       " 0  0  0  0  0  0  0  0  0  0  0  0  0     0  0  0  0  1  1  0  0  0  0  1  0\n",
       " 0  0  0  0  0  0  0  0  0  0  0  0  0     0  0  0  0  0  1  1  0  0  0  0  1\n",
       " 0  0  0  0  0  0  0  0  0  0  0  0  0  …  0  0  0  0  0  0  1  1  0  0  0  0\n",
       " 0  0  0  0  0  0  0  0  0  0  0  0  0     0  0  0  0  0  0  0  1  1  0  0  0\n",
       " 0  0  0  0  0  0  0  0  0  0  0  0  0     0  0  0  0  0  0  0  0  1  1  0  0\n",
       " 0  0  0  0  0  0  0  0  0  0  0  0  0     0  0  0  0  0  0  0  0  0  1  1  0\n",
       " 0  0  0  0  0  0  0  0  0  0  0  0  0     0  0  0  0  0  0  0  0  0  0  1  1\n",
       " 0  0  0  0  0  0  0  0  0  0  0  0  0  …  0  0  0  0  0  0  0  0  0  0  0  1"
      ]
     },
     "metadata": {},
     "output_type": "display_data"
    }
   ],
   "source": [
    "parity_checks_x(code)"
   ]
  },
  {
   "cell_type": "code",
   "execution_count": 233,
   "metadata": {},
   "outputs": [
    {
     "data": {
      "text/plain": [
       "63"
      ]
     },
     "metadata": {},
     "output_type": "display_data"
    }
   ],
   "source": [
    "code.repr(b') |> LinearAlgebra.rank"
   ]
  },
  {
   "cell_type": "code",
   "execution_count": 234,
   "metadata": {},
   "outputs": [
    {
     "data": {
      "text/plain": [
       "Dict{Any, Any} with 4 entries:\n",
       "  7  => LPCode{PermGroupRingElem{FqFieldElem}}(LiftedCode{PermGroupRingElem{FqF…\n",
       "  9  => LPCode{PermGroupRingElem{FqFieldElem}}(LiftedCode{PermGroupRingElem{FqF…\n",
       "  17 => LPCode{PermGroupRingElem{FqFieldElem}}(LiftedCode{PermGroupRingElem{FqF…\n",
       "  19 => LPCode{PermGroupRingElem{FqFieldElem}}(LiftedCode{PermGroupRingElem{FqF…"
      ]
     },
     "metadata": {},
     "output_type": "display_data"
    }
   ],
   "source": [
    "LP04"
   ]
  },
  {
   "cell_type": "code",
   "execution_count": 236,
   "metadata": {},
   "outputs": [],
   "source": [
    "# using FileIO"
   ]
  },
  {
   "cell_type": "code",
   "execution_count": 275,
   "metadata": {},
   "outputs": [
    {
     "name": "stdout",
     "output_type": "stream",
     "text": [
      "[1 0 0 0 0 0 0 0 0 0 0 0 0 0 0 0 0 0 0 0 0 0 0 0 0 0 0 0 1 0 0 0 0 0 0 0 0 0 0 0 0 0 0 0 0 0 0 0 0 0 0 0 0 0 0 0 1 0 0 0 0 0 0 0 0 0 0 0 0 0 0 0 0 0 0 0 0 0 0 0 0 0 0 0 1 0 0 0 0 0 0 0 0 0 0 0 0 0 0 0 0 0 0 0 0 0 0 0 0 0 0 0 1 0 0 0 0 0 0 1 0 0 0 0 0 0 1 0 0 0 0 0 0 0 0 0 0 0 0 0 0 0 0 0 0 0 0 0 0 0 0 0 0 0 0 0 0 0 0 0 0 0 0 0 0 0 0 0 0 0 0 0 0 0 0; 0 1 0 0 0 0 0 0 0 0 0 0 0 0 0 0 0 0 0 0 0 0 0 0 0 0 0 0 0 1 0 0 0 0 0 0 0 0 0 0 0 0 0 0 0 0 0 0 0 0 0 0 0 0 0 0 0 1 0 0 0 0 0 0 0 0 0 0 0 0 0 0 0 0 0 0 0 0 0 0 0 0 0 0 0 1 0 0 0 0 0 0 0 0 0 0 0 0 0 0 0 0 0 0 0 0 0 0 0 0 0 0 0 1 0 0 0 0 0 0 1 0 0 0 0 0 0 1 0 0 0 0 0 0 0 0 0 0 0 0 0 0 0 0 0 0 0 0 0 0 0 0 0 0 0 0 0 0 0 0 0 0 0 0 0 0 0 0 0 0 0 0 0 0 0; 0 0 1 0 0 0 0 0 0 0 0 0 0 0 0 0 0 0 0 0 0 0 0 0 0 0 0 0 0 0 1 0 0 0 0 0 0 0 0 0 0 0 0 0 0 0 0 0 0 0 0 0 0 0 0 0 0 0 1 0 0 0 0 0 0 0 0 0 0 0 0 0 0 0 0 0 0 0 0 0 0 0 0 0 0 0 1 0 0 0 0 0 0 0 0 0 0 0 0 0 0 0 0 0 0 0 0 0 0 0 0 0 0 0 1 0 0 0 0 0 0 1 0 0 0 0 0 0 1 0 0 0 0 0 0 0 0 0 0 0 0 0 0 0 0 0 0 0 0 0 0 0 0 0 0 0 0 0 0 0 0 0 0 0 0 0 0 0 0 0 0 0 0 0 0; 0 0 0 1 0 0 0 0 0 0 0 0 0 0 0 0 0 0 0 0 0 0 0 0 0 0 0 0 0 0 0 1 0 0 0 0 0 0 0 0 0 0 0 0 0 0 0 0 0 0 0 0 0 0 0 0 0 0 0 1 0 0 0 0 0 0 0 0 0 0 0 0 0 0 0 0 0 0 0 0 0 0 0 0 0 0 0 1 0 0 0 0 0 0 0 0 0 0 0 0 0 0 0 0 0 0 0 0 0 0 0 0 0 0 0 1 0 0 0 0 0 0 1 0 0 0 0 0 0 1 0 0 0 0 0 0 0 0 0 0 0 0 0 0 0 0 0 0 0 0 0 0 0 0 0 0 0 0 0 0 0 0 0 0 0 0 0 0 0 0 0 0 0 0 0; 0 0 0 0 1 0 0 0 0 0 0 0 0 0 0 0 0 0 0 0 0 0 0 0 0 0 0 0 0 0 0 0 1 0 0 0 0 0 0 0 0 0 0 0 0 0 0 0 0 0 0 0 0 0 0 0 0 0 0 0 1 0 0 0 0 0 0 0 0 0 0 0 0 0 0 0 0 0 0 0 0 0 0 0 0 0 0 0 1 0 0 0 0 0 0 0 0 0 0 0 0 0 0 0 0 0 0 0 0 0 0 0 0 0 0 0 1 0 0 0 0 0 0 1 0 0 0 0 0 0 1 0 0 0 0 0 0 0 0 0 0 0 0 0 0 0 0 0 0 0 0 0 0 0 0 0 0 0 0 0 0 0 0 0 0 0 0 0 0 0 0 0 0 0 0; 0 0 0 0 0 1 0 0 0 0 0 0 0 0 0 0 0 0 0 0 0 0 0 0 0 0 0 0 0 0 0 0 0 1 0 0 0 0 0 0 0 0 0 0 0 0 0 0 0 0 0 0 0 0 0 0 0 0 0 0 0 1 0 0 0 0 0 0 0 0 0 0 0 0 0 0 0 0 0 0 0 0 0 0 0 0 0 0 0 1 0 0 0 0 0 0 0 0 0 0 0 0 0 0 0 0 0 0 0 0 0 0 0 0 0 0 0 1 0 0 0 0 0 0 1 0 0 0 0 0 0 1 0 0 0 0 0 0 0 0 0 0 0 0 0 0 0 0 0 0 0 0 0 0 0 0 0 0 0 0 0 0 0 0 0 0 0 0 0 0 0 0 0 0 0; 0 0 0 0 0 0 1 0 0 0 0 0 0 0 0 0 0 0 0 0 0 0 0 0 0 0 0 0 0 0 0 0 0 0 1 0 0 0 0 0 0 0 0 0 0 0 0 0 0 0 0 0 0 0 0 0 0 0 0 0 0 0 1 0 0 0 0 0 0 0 0 0 0 0 0 0 0 0 0 0 0 0 0 0 0 0 0 0 0 0 1 0 0 0 0 0 0 0 0 0 0 0 0 0 0 0 0 0 0 0 0 0 0 0 0 0 0 0 1 0 0 0 0 0 0 1 0 0 0 0 0 0 1 0 0 0 0 0 0 0 0 0 0 0 0 0 0 0 0 0 0 0 0 0 0 0 0 0 0 0 0 0 0 0 0 0 0 0 0 0 0 0 0 0 0; 0 0 0 0 0 0 0 1 0 0 0 0 0 0 0 0 0 0 0 0 0 0 0 0 0 0 0 0 0 0 0 0 0 0 0 1 0 0 0 0 0 0 0 0 0 0 0 0 0 0 0 0 0 0 0 0 0 0 0 0 0 0 0 1 0 0 0 0 0 0 0 0 0 0 0 0 0 0 0 0 0 0 0 0 0 0 0 0 0 0 0 1 0 0 0 0 0 0 0 0 0 0 0 0 0 0 0 0 0 0 0 0 1 0 0 0 0 0 0 0 0 0 0 0 0 1 0 1 0 0 0 0 0 0 0 0 0 0 0 0 0 0 0 0 0 0 0 0 0 0 0 0 0 0 0 0 0 0 0 0 0 0 0 0 0 0 0 0 0 0 0 0 0 0 0; 0 0 0 0 0 0 0 0 1 0 0 0 0 0 0 0 0 0 0 0 0 0 0 0 0 0 0 0 0 0 0 0 0 0 0 0 1 0 0 0 0 0 0 0 0 0 0 0 0 0 0 0 0 0 0 0 0 0 0 0 0 0 0 0 1 0 0 0 0 0 0 0 0 0 0 0 0 0 0 0 0 0 0 0 0 0 0 0 0 0 0 0 1 0 0 0 0 0 0 0 0 0 0 0 0 0 0 0 0 0 0 0 0 1 0 0 0 0 0 1 0 0 0 0 0 0 0 0 1 0 0 0 0 0 0 0 0 0 0 0 0 0 0 0 0 0 0 0 0 0 0 0 0 0 0 0 0 0 0 0 0 0 0 0 0 0 0 0 0 0 0 0 0 0 0; 0 0 0 0 0 0 0 0 0 1 0 0 0 0 0 0 0 0 0 0 0 0 0 0 0 0 0 0 0 0 0 0 0 0 0 0 0 1 0 0 0 0 0 0 0 0 0 0 0 0 0 0 0 0 0 0 0 0 0 0 0 0 0 0 0 1 0 0 0 0 0 0 0 0 0 0 0 0 0 0 0 0 0 0 0 0 0 0 0 0 0 0 0 1 0 0 0 0 0 0 0 0 0 0 0 0 0 0 0 0 0 0 0 0 1 0 0 0 0 0 1 0 0 0 0 0 0 0 0 1 0 0 0 0 0 0 0 0 0 0 0 0 0 0 0 0 0 0 0 0 0 0 0 0 0 0 0 0 0 0 0 0 0 0 0 0 0 0 0 0 0 0 0 0 0; 0 0 0 0 0 0 0 0 0 0 1 0 0 0 0 0 0 0 0 0 0 0 0 0 0 0 0 0 0 0 0 0 0 0 0 0 0 0 1 0 0 0 0 0 0 0 0 0 0 0 0 0 0 0 0 0 0 0 0 0 0 0 0 0 0 0 1 0 0 0 0 0 0 0 0 0 0 0 0 0 0 0 0 0 0 0 0 0 0 0 0 0 0 0 1 0 0 0 0 0 0 0 0 0 0 0 0 0 0 0 0 0 0 0 0 1 0 0 0 0 0 1 0 0 0 0 0 0 0 0 1 0 0 0 0 0 0 0 0 0 0 0 0 0 0 0 0 0 0 0 0 0 0 0 0 0 0 0 0 0 0 0 0 0 0 0 0 0 0 0 0 0 0 0 0; 0 0 0 0 0 0 0 0 0 0 0 1 0 0 0 0 0 0 0 0 0 0 0 0 0 0 0 0 0 0 0 0 0 0 0 0 0 0 0 1 0 0 0 0 0 0 0 0 0 0 0 0 0 0 0 0 0 0 0 0 0 0 0 0 0 0 0 1 0 0 0 0 0 0 0 0 0 0 0 0 0 0 0 0 0 0 0 0 0 0 0 0 0 0 0 1 0 0 0 0 0 0 0 0 0 0 0 0 0 0 0 0 0 0 0 0 1 0 0 0 0 0 1 0 0 0 0 0 0 0 0 1 0 0 0 0 0 0 0 0 0 0 0 0 0 0 0 0 0 0 0 0 0 0 0 0 0 0 0 0 0 0 0 0 0 0 0 0 0 0 0 0 0 0 0; 0 0 0 0 0 0 0 0 0 0 0 0 1 0 0 0 0 0 0 0 0 0 0 0 0 0 0 0 0 0 0 0 0 0 0 0 0 0 0 0 1 0 0 0 0 0 0 0 0 0 0 0 0 0 0 0 0 0 0 0 0 0 0 0 0 0 0 0 1 0 0 0 0 0 0 0 0 0 0 0 0 0 0 0 0 0 0 0 0 0 0 0 0 0 0 0 1 0 0 0 0 0 0 0 0 0 0 0 0 0 0 0 0 0 0 0 0 1 0 0 0 0 0 1 0 0 0 0 0 0 0 0 1 0 0 0 0 0 0 0 0 0 0 0 0 0 0 0 0 0 0 0 0 0 0 0 0 0 0 0 0 0 0 0 0 0 0 0 0 0 0 0 0 0 0; 0 0 0 0 0 0 0 0 0 0 0 0 0 1 0 0 0 0 0 0 0 0 0 0 0 0 0 0 0 0 0 0 0 0 0 0 0 0 0 0 0 1 0 0 0 0 0 0 0 0 0 0 0 0 0 0 0 0 0 0 0 0 0 0 0 0 0 0 0 1 0 0 0 0 0 0 0 0 0 0 0 0 0 0 0 0 0 0 0 0 0 0 0 0 0 0 0 1 0 0 0 0 0 0 0 0 0 0 0 0 0 0 0 0 0 0 0 0 1 0 0 0 0 0 1 0 1 0 0 0 0 0 0 0 0 0 0 0 0 0 0 0 0 0 0 0 0 0 0 0 0 0 0 0 0 0 0 0 0 0 0 0 0 0 0 0 0 0 0 0 0 0 0 0 0; 0 0 0 0 0 0 0 0 0 0 0 0 0 0 1 0 0 0 0 0 0 0 0 0 0 0 0 0 0 0 0 0 0 0 0 0 0 0 0 0 0 0 1 0 0 0 0 0 0 0 0 0 0 0 0 0 0 0 0 0 0 0 0 0 0 0 0 0 0 0 1 0 0 0 0 0 0 0 0 0 0 0 0 0 0 0 0 0 0 0 0 0 0 0 0 0 0 0 1 0 0 0 0 0 0 0 0 0 0 0 0 0 1 0 0 0 0 0 0 0 0 0 0 0 1 0 0 0 0 0 1 0 0 0 0 0 0 0 0 0 0 0 0 0 0 0 0 0 0 0 0 0 0 0 0 0 0 0 0 0 0 0 0 0 0 0 0 0 0 0 0 0 0 0 0; 0 0 0 0 0 0 0 0 0 0 0 0 0 0 0 1 0 0 0 0 0 0 0 0 0 0 0 0 0 0 0 0 0 0 0 0 0 0 0 0 0 0 0 1 0 0 0 0 0 0 0 0 0 0 0 0 0 0 0 0 0 0 0 0 0 0 0 0 0 0 0 1 0 0 0 0 0 0 0 0 0 0 0 0 0 0 0 0 0 0 0 0 0 0 0 0 0 0 0 1 0 0 0 0 0 0 0 0 0 0 0 0 0 1 0 0 0 0 0 0 0 0 0 0 0 1 0 0 0 0 0 1 0 0 0 0 0 0 0 0 0 0 0 0 0 0 0 0 0 0 0 0 0 0 0 0 0 0 0 0 0 0 0 0 0 0 0 0 0 0 0 0 0 0 0; 0 0 0 0 0 0 0 0 0 0 0 0 0 0 0 0 1 0 0 0 0 0 0 0 0 0 0 0 0 0 0 0 0 0 0 0 0 0 0 0 0 0 0 0 1 0 0 0 0 0 0 0 0 0 0 0 0 0 0 0 0 0 0 0 0 0 0 0 0 0 0 0 1 0 0 0 0 0 0 0 0 0 0 0 0 0 0 0 0 0 0 0 0 0 0 0 0 0 0 0 1 0 0 0 0 0 0 0 0 0 0 0 0 0 1 0 0 0 0 1 0 0 0 0 0 0 0 0 0 0 0 0 1 0 0 0 0 0 0 0 0 0 0 0 0 0 0 0 0 0 0 0 0 0 0 0 0 0 0 0 0 0 0 0 0 0 0 0 0 0 0 0 0 0 0; 0 0 0 0 0 0 0 0 0 0 0 0 0 0 0 0 0 1 0 0 0 0 0 0 0 0 0 0 0 0 0 0 0 0 0 0 0 0 0 0 0 0 0 0 0 1 0 0 0 0 0 0 0 0 0 0 0 0 0 0 0 0 0 0 0 0 0 0 0 0 0 0 0 1 0 0 0 0 0 0 0 0 0 0 0 0 0 0 0 0 0 0 0 0 0 0 0 0 0 0 0 1 0 0 0 0 0 0 0 0 0 0 0 0 0 1 0 0 0 0 1 0 0 0 0 0 1 0 0 0 0 0 0 0 0 0 0 0 0 0 0 0 0 0 0 0 0 0 0 0 0 0 0 0 0 0 0 0 0 0 0 0 0 0 0 0 0 0 0 0 0 0 0 0 0; 0 0 0 0 0 0 0 0 0 0 0 0 0 0 0 0 0 0 1 0 0 0 0 0 0 0 0 0 0 0 0 0 0 0 0 0 0 0 0 0 0 0 0 0 0 0 1 0 0 0 0 0 0 0 0 0 0 0 0 0 0 0 0 0 0 0 0 0 0 0 0 0 0 0 1 0 0 0 0 0 0 0 0 0 0 0 0 0 0 0 0 0 0 0 0 0 0 0 0 0 0 0 1 0 0 0 0 0 0 0 0 0 0 0 0 0 1 0 0 0 0 1 0 0 0 0 0 1 0 0 0 0 0 0 0 0 0 0 0 0 0 0 0 0 0 0 0 0 0 0 0 0 0 0 0 0 0 0 0 0 0 0 0 0 0 0 0 0 0 0 0 0 0 0 0; 0 0 0 0 0 0 0 0 0 0 0 0 0 0 0 0 0 0 0 1 0 0 0 0 0 0 0 0 0 0 0 0 0 0 0 0 0 0 0 0 0 0 0 0 0 0 0 1 0 0 0 0 0 0 0 0 0 0 0 0 0 0 0 0 0 0 0 0 0 0 0 0 0 0 0 1 0 0 0 0 0 0 0 0 0 0 0 0 0 0 0 0 0 0 0 0 0 0 0 0 0 0 0 1 0 0 0 0 0 0 0 0 0 0 0 0 0 1 0 0 0 0 1 0 0 0 0 0 1 0 0 0 0 0 0 0 0 0 0 0 0 0 0 0 0 0 0 0 0 0 0 0 0 0 0 0 0 0 0 0 0 0 0 0 0 0 0 0 0 0 0 0 0 0 0; 0 0 0 0 0 0 0 0 0 0 0 0 0 0 0 0 0 0 0 0 1 0 0 0 0 0 0 0 0 0 0 0 0 0 0 0 0 0 0 0 0 0 0 0 0 0 0 0 1 0 0 0 0 0 0 0 0 0 0 0 0 0 0 0 0 0 0 0 0 0 0 0 0 0 0 0 1 0 0 0 0 0 0 0 0 0 0 0 0 0 0 0 0 0 0 0 0 0 0 0 0 0 0 0 1 0 0 0 0 0 0 0 0 0 0 0 0 0 1 0 0 0 0 1 0 0 0 0 0 1 0 0 0 0 0 0 0 0 0 0 0 0 0 0 0 0 0 0 0 0 0 0 0 0 0 0 0 0 0 0 0 0 0 0 0 0 0 0 0 0 0 0 0 0 0; 0 0 0 0 0 0 0 0 0 0 0 0 0 0 0 0 0 0 0 0 0 1 0 0 0 0 0 0 0 0 0 0 0 0 0 0 0 0 0 0 0 0 0 0 0 0 0 0 0 1 0 0 0 0 0 0 0 0 0 0 0 0 0 0 0 0 0 0 0 0 0 0 0 0 0 0 0 1 0 0 0 0 0 0 0 0 0 0 0 0 0 0 0 0 0 0 0 0 0 0 0 0 0 0 0 1 0 0 0 0 0 0 1 0 0 0 0 0 0 0 0 1 0 0 0 0 0 0 0 0 0 0 1 0 0 0 0 0 0 0 0 0 0 0 0 0 0 0 0 0 0 0 0 0 0 0 0 0 0 0 0 0 0 0 0 0 0 0 0 0 0 0 0 0 0; 0 0 0 0 0 0 0 0 0 0 0 0 0 0 0 0 0 0 0 0 0 0 1 0 0 0 0 0 0 0 0 0 0 0 0 0 0 0 0 0 0 0 0 0 0 0 0 0 0 0 1 0 0 0 0 0 0 0 0 0 0 0 0 0 0 0 0 0 0 0 0 0 0 0 0 0 0 0 1 0 0 0 0 0 0 0 0 0 0 0 0 0 0 0 0 0 0 0 0 0 0 0 0 0 0 0 1 0 0 0 0 0 0 1 0 0 0 0 0 0 0 0 1 0 0 0 1 0 0 0 0 0 0 0 0 0 0 0 0 0 0 0 0 0 0 0 0 0 0 0 0 0 0 0 0 0 0 0 0 0 0 0 0 0 0 0 0 0 0 0 0 0 0 0 0; 0 0 0 0 0 0 0 0 0 0 0 0 0 0 0 0 0 0 0 0 0 0 0 1 0 0 0 0 0 0 0 0 0 0 0 0 0 0 0 0 0 0 0 0 0 0 0 0 0 0 0 1 0 0 0 0 0 0 0 0 0 0 0 0 0 0 0 0 0 0 0 0 0 0 0 0 0 0 0 1 0 0 0 0 0 0 0 0 0 0 0 0 0 0 0 0 0 0 0 0 0 0 0 0 0 0 0 1 0 0 0 0 0 0 1 0 0 0 0 0 0 0 0 1 0 0 0 1 0 0 0 0 0 0 0 0 0 0 0 0 0 0 0 0 0 0 0 0 0 0 0 0 0 0 0 0 0 0 0 0 0 0 0 0 0 0 0 0 0 0 0 0 0 0 0; 0 0 0 0 0 0 0 0 0 0 0 0 0 0 0 0 0 0 0 0 0 0 0 0 1 0 0 0 0 0 0 0 0 0 0 0 0 0 0 0 0 0 0 0 0 0 0 0 0 0 0 0 1 0 0 0 0 0 0 0 0 0 0 0 0 0 0 0 0 0 0 0 0 0 0 0 0 0 0 0 1 0 0 0 0 0 0 0 0 0 0 0 0 0 0 0 0 0 0 0 0 0 0 0 0 0 0 0 1 0 0 0 0 0 0 1 0 0 0 0 0 0 0 0 1 0 0 0 1 0 0 0 0 0 0 0 0 0 0 0 0 0 0 0 0 0 0 0 0 0 0 0 0 0 0 0 0 0 0 0 0 0 0 0 0 0 0 0 0 0 0 0 0 0 0; 0 0 0 0 0 0 0 0 0 0 0 0 0 0 0 0 0 0 0 0 0 0 0 0 0 1 0 0 0 0 0 0 0 0 0 0 0 0 0 0 0 0 0 0 0 0 0 0 0 0 0 0 0 1 0 0 0 0 0 0 0 0 0 0 0 0 0 0 0 0 0 0 0 0 0 0 0 0 0 0 0 1 0 0 0 0 0 0 0 0 0 0 0 0 0 0 0 0 0 0 0 0 0 0 0 0 0 0 0 1 0 0 0 0 0 0 1 0 0 0 0 0 0 0 0 1 0 0 0 1 0 0 0 0 0 0 0 0 0 0 0 0 0 0 0 0 0 0 0 0 0 0 0 0 0 0 0 0 0 0 0 0 0 0 0 0 0 0 0 0 0 0 0 0 0; 0 0 0 0 0 0 0 0 0 0 0 0 0 0 0 0 0 0 0 0 0 0 0 0 0 0 1 0 0 0 0 0 0 0 0 0 0 0 0 0 0 0 0 0 0 0 0 0 0 0 0 0 0 0 1 0 0 0 0 0 0 0 0 0 0 0 0 0 0 0 0 0 0 0 0 0 0 0 0 0 0 0 1 0 0 0 0 0 0 0 0 0 0 0 0 0 0 0 0 0 0 0 0 0 0 0 0 0 0 0 1 0 0 0 0 0 0 1 0 1 0 0 0 0 0 0 0 0 0 0 1 0 0 0 0 0 0 0 0 0 0 0 0 0 0 0 0 0 0 0 0 0 0 0 0 0 0 0 0 0 0 0 0 0 0 0 0 0 0 0 0 0 0 0 0; 0 0 0 0 0 0 0 0 0 0 0 0 0 0 0 0 0 0 0 0 0 0 0 0 0 0 0 1 0 0 0 0 0 0 0 0 0 0 0 0 0 0 0 0 0 0 0 0 0 0 0 0 0 0 0 1 0 0 0 0 0 0 0 0 0 0 0 0 0 0 0 0 0 0 0 0 0 0 0 0 0 0 0 1 0 0 0 0 0 0 0 0 0 0 0 0 0 0 0 0 0 0 0 0 0 0 0 0 0 0 0 1 0 0 0 0 0 0 1 0 1 0 0 0 0 0 0 0 0 0 0 1 0 0 0 0 0 0 0 0 0 0 0 0 0 0 0 0 0 0 0 0 0 0 0 0 0 0 0 0 0 0 0 0 0 0 0 0 0 0 0 0 0 0 0; 1 0 0 0 0 0 0 0 0 0 0 0 0 0 0 0 0 0 0 0 0 0 0 0 0 0 0 0 0 1 0 0 0 0 0 0 0 0 0 0 0 0 0 0 0 0 0 0 0 0 0 0 0 0 0 0 0 0 1 0 0 0 0 0 0 0 0 0 0 0 0 0 0 0 0 0 0 0 0 0 0 0 0 0 0 0 0 0 0 1 0 0 0 0 0 0 0 0 0 0 0 0 0 0 0 0 0 0 0 0 0 0 0 0 0 0 0 0 0 0 0 0 0 0 0 0 0 0 0 0 0 0 0 1 0 0 0 0 0 0 1 0 0 0 0 0 0 1 0 0 0 0 0 0 0 0 0 0 0 0 0 0 0 0 0 0 0 0 0 0 0 0 0 0 0; 0 1 0 0 0 0 0 0 0 0 0 0 0 0 0 0 0 0 0 0 0 0 0 0 0 0 0 0 0 0 1 0 0 0 0 0 0 0 0 0 0 0 0 0 0 0 0 0 0 0 0 0 0 0 0 0 0 0 0 1 0 0 0 0 0 0 0 0 0 0 0 0 0 0 0 0 0 0 0 0 0 0 0 0 0 0 0 0 0 0 1 0 0 0 0 0 0 0 0 0 0 0 0 0 0 0 0 0 0 0 0 0 0 0 0 0 0 0 0 0 0 0 0 0 0 0 0 0 0 0 0 0 0 0 1 0 0 0 0 0 0 1 0 0 0 0 0 0 1 0 0 0 0 0 0 0 0 0 0 0 0 0 0 0 0 0 0 0 0 0 0 0 0 0 0; 0 0 1 0 0 0 0 0 0 0 0 0 0 0 0 0 0 0 0 0 0 0 0 0 0 0 0 0 0 0 0 1 0 0 0 0 0 0 0 0 0 0 0 0 0 0 0 0 0 0 0 0 0 0 0 0 0 0 0 0 1 0 0 0 0 0 0 0 0 0 0 0 0 0 0 0 0 0 0 0 0 0 0 0 1 0 0 0 0 0 0 0 0 0 0 0 0 0 0 0 0 0 0 0 0 0 0 0 0 0 0 0 0 0 0 0 0 0 0 0 0 0 0 0 0 0 0 0 0 0 0 0 0 0 0 1 0 0 0 0 0 0 1 0 0 0 0 0 0 1 0 0 0 0 0 0 0 0 0 0 0 0 0 0 0 0 0 0 0 0 0 0 0 0 0; 0 0 0 1 0 0 0 0 0 0 0 0 0 0 0 0 0 0 0 0 0 0 0 0 0 0 0 0 0 0 0 0 1 0 0 0 0 0 0 0 0 0 0 0 0 0 0 0 0 0 0 0 0 0 0 0 0 0 0 0 0 1 0 0 0 0 0 0 0 0 0 0 0 0 0 0 0 0 0 0 0 0 0 0 0 1 0 0 0 0 0 0 0 0 0 0 0 0 0 0 0 0 0 0 0 0 0 0 0 0 0 0 0 0 0 0 0 0 0 0 0 0 0 0 0 0 0 0 0 0 0 0 0 0 0 0 1 0 0 0 0 0 0 1 0 0 0 0 0 0 1 0 0 0 0 0 0 0 0 0 0 0 0 0 0 0 0 0 0 0 0 0 0 0 0; 0 0 0 0 1 0 0 0 0 0 0 0 0 0 0 0 0 0 0 0 0 0 0 0 0 0 0 0 0 0 0 0 0 1 0 0 0 0 0 0 0 0 0 0 0 0 0 0 0 0 0 0 0 0 0 0 0 0 0 0 0 0 1 0 0 0 0 0 0 0 0 0 0 0 0 0 0 0 0 0 0 0 0 0 0 0 1 0 0 0 0 0 0 0 0 0 0 0 0 0 0 0 0 0 0 0 0 0 0 0 0 0 0 0 0 0 0 0 0 0 0 0 0 0 0 0 0 0 0 0 0 0 0 0 0 0 0 1 0 0 0 0 0 0 1 0 0 0 0 0 0 1 0 0 0 0 0 0 0 0 0 0 0 0 0 0 0 0 0 0 0 0 0 0 0; 0 0 0 0 0 1 0 0 0 0 0 0 0 0 0 0 0 0 0 0 0 0 0 0 0 0 0 0 0 0 0 0 0 0 1 0 0 0 0 0 0 0 0 0 0 0 0 0 0 0 0 0 0 0 0 0 1 0 0 0 0 0 0 0 0 0 0 0 0 0 0 0 0 0 0 0 0 0 0 0 0 0 0 0 0 0 0 1 0 0 0 0 0 0 0 0 0 0 0 0 0 0 0 0 0 0 0 0 0 0 0 0 0 0 0 0 0 0 0 0 0 0 0 0 0 0 0 0 0 0 0 0 0 0 0 0 0 0 1 0 0 0 0 0 0 1 0 0 0 0 0 0 1 0 0 0 0 0 0 0 0 0 0 0 0 0 0 0 0 0 0 0 0 0 0; 0 0 0 0 0 0 1 0 0 0 0 0 0 0 0 0 0 0 0 0 0 0 0 0 0 0 0 0 1 0 0 0 0 0 0 0 0 0 0 0 0 0 0 0 0 0 0 0 0 0 0 0 0 0 0 0 0 1 0 0 0 0 0 0 0 0 0 0 0 0 0 0 0 0 0 0 0 0 0 0 0 0 0 0 0 0 0 0 1 0 0 0 0 0 0 0 0 0 0 0 0 0 0 0 0 0 0 0 0 0 0 0 0 0 0 0 0 0 0 0 0 0 0 0 0 0 0 0 0 0 0 0 0 0 0 0 0 0 0 1 0 0 0 0 0 0 1 0 0 0 0 0 0 1 0 0 0 0 0 0 0 0 0 0 0 0 0 0 0 0 0 0 0 0 0; 0 0 0 0 0 0 0 1 0 0 0 0 0 0 0 0 0 0 0 0 0 0 0 0 0 0 0 0 0 0 0 0 0 0 0 0 1 0 0 0 0 0 0 0 0 0 0 0 0 0 0 0 0 0 0 0 0 0 0 0 0 0 0 0 0 1 0 0 0 0 0 0 0 0 0 0 0 0 0 0 0 0 0 0 0 0 0 0 0 0 0 0 0 0 0 0 1 0 0 0 0 0 0 0 0 0 0 0 0 0 0 0 0 0 0 0 0 0 0 0 0 0 0 0 0 0 0 0 0 0 0 0 0 1 0 0 0 0 0 0 0 0 0 0 0 0 1 0 1 0 0 0 0 0 0 0 0 0 0 0 0 0 0 0 0 0 0 0 0 0 0 0 0 0 0; 0 0 0 0 0 0 0 0 1 0 0 0 0 0 0 0 0 0 0 0 0 0 0 0 0 0 0 0 0 0 0 0 0 0 0 0 0 1 0 0 0 0 0 0 0 0 0 0 0 0 0 0 0 0 0 0 0 0 0 0 0 0 0 0 0 0 1 0 0 0 0 0 0 0 0 0 0 0 0 0 0 0 0 0 0 0 0 0 0 0 0 0 0 0 0 0 0 1 0 0 0 0 0 0 0 0 0 0 0 0 0 0 0 0 0 0 0 0 0 0 0 0 0 0 0 0 0 0 0 0 0 0 0 0 1 0 0 0 0 0 1 0 0 0 0 0 0 0 0 1 0 0 0 0 0 0 0 0 0 0 0 0 0 0 0 0 0 0 0 0 0 0 0 0 0; 0 0 0 0 0 0 0 0 0 1 0 0 0 0 0 0 0 0 0 0 0 0 0 0 0 0 0 0 0 0 0 0 0 0 0 0 0 0 1 0 0 0 0 0 0 0 0 0 0 0 0 0 0 0 0 0 0 0 0 0 0 0 0 0 0 0 0 1 0 0 0 0 0 0 0 0 0 0 0 0 0 0 0 0 0 0 0 0 0 0 0 1 0 0 0 0 0 0 0 0 0 0 0 0 0 0 0 0 0 0 0 0 0 0 0 0 0 0 0 0 0 0 0 0 0 0 0 0 0 0 0 0 0 0 0 1 0 0 0 0 0 1 0 0 0 0 0 0 0 0 1 0 0 0 0 0 0 0 0 0 0 0 0 0 0 0 0 0 0 0 0 0 0 0 0; 0 0 0 0 0 0 0 0 0 0 1 0 0 0 0 0 0 0 0 0 0 0 0 0 0 0 0 0 0 0 0 0 0 0 0 0 0 0 0 1 0 0 0 0 0 0 0 0 0 0 0 0 0 0 0 0 0 0 0 0 0 0 0 0 0 0 0 0 1 0 0 0 0 0 0 0 0 0 0 0 0 0 0 0 0 0 0 0 0 0 0 0 1 0 0 0 0 0 0 0 0 0 0 0 0 0 0 0 0 0 0 0 0 0 0 0 0 0 0 0 0 0 0 0 0 0 0 0 0 0 0 0 0 0 0 0 1 0 0 0 0 0 1 0 0 0 0 0 0 0 0 1 0 0 0 0 0 0 0 0 0 0 0 0 0 0 0 0 0 0 0 0 0 0 0; 0 0 0 0 0 0 0 0 0 0 0 1 0 0 0 0 0 0 0 0 0 0 0 0 0 0 0 0 0 0 0 0 0 0 0 0 0 0 0 0 1 0 0 0 0 0 0 0 0 0 0 0 0 0 0 0 0 0 0 0 0 0 0 0 0 0 0 0 0 1 0 0 0 0 0 0 0 0 0 0 0 0 0 0 0 0 0 0 0 0 0 0 0 1 0 0 0 0 0 0 0 0 0 0 0 0 0 0 0 0 0 0 0 0 0 0 0 0 0 0 0 0 0 0 0 0 0 0 0 0 0 0 0 0 0 0 0 1 0 0 0 0 0 1 0 0 0 0 0 0 0 0 1 0 0 0 0 0 0 0 0 0 0 0 0 0 0 0 0 0 0 0 0 0 0; 0 0 0 0 0 0 0 0 0 0 0 0 1 0 0 0 0 0 0 0 0 0 0 0 0 0 0 0 0 0 0 0 0 0 0 0 0 0 0 0 0 1 0 0 0 0 0 0 0 0 0 0 0 0 0 0 0 0 0 0 0 0 0 1 0 0 0 0 0 0 0 0 0 0 0 0 0 0 0 0 0 0 0 0 0 0 0 0 0 0 0 0 0 0 1 0 0 0 0 0 0 0 0 0 0 0 0 0 0 0 0 0 0 0 0 0 0 0 0 0 0 0 0 0 0 0 0 0 0 0 0 0 0 0 0 0 0 0 1 0 0 0 0 0 1 0 0 0 0 0 0 0 0 1 0 0 0 0 0 0 0 0 0 0 0 0 0 0 0 0 0 0 0 0 0; 0 0 0 0 0 0 0 0 0 0 0 0 0 1 0 0 0 0 0 0 0 0 0 0 0 0 0 0 0 0 0 0 0 0 0 1 0 0 0 0 0 0 0 0 0 0 0 0 0 0 0 0 0 0 0 0 0 0 0 0 0 0 0 0 1 0 0 0 0 0 0 0 0 0 0 0 0 0 0 0 0 0 0 0 0 0 0 0 0 0 0 0 0 0 0 1 0 0 0 0 0 0 0 0 0 0 0 0 0 0 0 0 0 0 0 0 0 0 0 0 0 0 0 0 0 0 0 0 0 0 0 0 0 0 0 0 0 0 0 1 0 0 0 0 0 1 0 1 0 0 0 0 0 0 0 0 0 0 0 0 0 0 0 0 0 0 0 0 0 0 0 0 0 0 0; 0 0 0 0 0 0 0 0 0 0 0 0 0 0 1 0 0 0 0 0 0 0 0 0 0 0 0 0 0 0 0 0 0 0 0 0 0 0 0 0 0 0 0 1 0 0 0 0 0 0 0 0 0 0 0 0 0 0 0 0 0 0 0 0 0 0 0 0 0 0 0 0 1 0 0 0 0 0 0 0 0 0 0 0 0 0 0 0 0 0 0 0 0 0 0 0 0 0 0 0 0 0 0 1 0 0 0 0 0 0 0 0 0 0 0 0 0 0 0 0 0 0 0 0 0 0 0 0 0 0 0 0 0 1 0 0 0 0 0 0 0 0 0 0 0 1 0 0 0 0 0 1 0 0 0 0 0 0 0 0 0 0 0 0 0 0 0 0 0 0 0 0 0 0 0; 0 0 0 0 0 0 0 0 0 0 0 0 0 0 0 1 0 0 0 0 0 0 0 0 0 0 0 0 0 0 0 0 0 0 0 0 0 0 0 0 0 0 0 0 1 0 0 0 0 0 0 0 0 0 0 0 0 0 0 0 0 0 0 0 0 0 0 0 0 0 0 0 0 1 0 0 0 0 0 0 0 0 0 0 0 0 0 0 0 0 0 0 0 0 0 0 0 0 0 0 0 0 0 0 1 0 0 0 0 0 0 0 0 0 0 0 0 0 0 0 0 0 0 0 0 0 0 0 0 0 0 0 0 0 1 0 0 0 0 0 0 0 0 0 0 0 1 0 0 0 0 0 1 0 0 0 0 0 0 0 0 0 0 0 0 0 0 0 0 0 0 0 0 0 0; 0 0 0 0 0 0 0 0 0 0 0 0 0 0 0 0 1 0 0 0 0 0 0 0 0 0 0 0 0 0 0 0 0 0 0 0 0 0 0 0 0 0 0 0 0 1 0 0 0 0 0 0 0 0 0 0 0 0 0 0 0 0 0 0 0 0 0 0 0 0 0 0 0 0 1 0 0 0 0 0 0 0 0 0 0 0 0 0 0 0 0 0 0 0 0 0 0 0 1 0 0 0 0 0 0 0 0 0 0 0 0 0 0 0 0 0 0 0 0 0 0 0 0 0 0 0 0 0 0 0 0 0 0 0 0 1 0 0 0 0 1 0 0 0 0 0 0 0 0 0 0 0 0 1 0 0 0 0 0 0 0 0 0 0 0 0 0 0 0 0 0 0 0 0 0; 0 0 0 0 0 0 0 0 0 0 0 0 0 0 0 0 0 1 0 0 0 0 0 0 0 0 0 0 0 0 0 0 0 0 0 0 0 0 0 0 0 0 0 0 0 0 1 0 0 0 0 0 0 0 0 0 0 0 0 0 0 0 0 0 0 0 0 0 0 0 0 0 0 0 0 1 0 0 0 0 0 0 0 0 0 0 0 0 0 0 0 0 0 0 0 0 0 0 0 1 0 0 0 0 0 0 0 0 0 0 0 0 0 0 0 0 0 0 0 0 0 0 0 0 0 0 0 0 0 0 0 0 0 0 0 0 1 0 0 0 0 1 0 0 0 0 0 1 0 0 0 0 0 0 0 0 0 0 0 0 0 0 0 0 0 0 0 0 0 0 0 0 0 0 0; 0 0 0 0 0 0 0 0 0 0 0 0 0 0 0 0 0 0 1 0 0 0 0 0 0 0 0 0 0 0 0 0 0 0 0 0 0 0 0 0 0 0 0 0 0 0 0 1 0 0 0 0 0 0 0 0 0 0 0 0 0 0 0 0 0 0 0 0 0 0 0 0 0 0 0 0 1 0 0 0 0 0 0 0 0 0 0 0 0 0 0 0 0 0 0 0 0 0 0 0 1 0 0 0 0 0 0 0 0 0 0 0 0 0 0 0 0 0 0 0 0 0 0 0 0 0 0 0 0 0 0 0 0 0 0 0 0 1 0 0 0 0 1 0 0 0 0 0 1 0 0 0 0 0 0 0 0 0 0 0 0 0 0 0 0 0 0 0 0 0 0 0 0 0 0; 0 0 0 0 0 0 0 0 0 0 0 0 0 0 0 0 0 0 0 1 0 0 0 0 0 0 0 0 0 0 0 0 0 0 0 0 0 0 0 0 0 0 0 0 0 0 0 0 1 0 0 0 0 0 0 0 0 0 0 0 0 0 0 0 0 0 0 0 0 0 1 0 0 0 0 0 0 0 0 0 0 0 0 0 0 0 0 0 0 0 0 0 0 0 0 0 0 0 0 0 0 1 0 0 0 0 0 0 0 0 0 0 0 0 0 0 0 0 0 0 0 0 0 0 0 0 0 0 0 0 0 0 0 0 0 0 0 0 1 0 0 0 0 1 0 0 0 0 0 1 0 0 0 0 0 0 0 0 0 0 0 0 0 0 0 0 0 0 0 0 0 0 0 0 0; 0 0 0 0 0 0 0 0 0 0 0 0 0 0 0 0 0 0 0 0 1 0 0 0 0 0 0 0 0 0 0 0 0 0 0 0 0 0 0 0 0 0 1 0 0 0 0 0 0 0 0 0 0 0 0 0 0 0 0 0 0 0 0 0 0 0 0 0 0 0 0 1 0 0 0 0 0 0 0 0 0 0 0 0 0 0 0 0 0 0 0 0 0 0 0 0 0 0 0 0 0 0 1 0 0 0 0 0 0 0 0 0 0 0 0 0 0 0 0 0 0 0 0 0 0 0 0 0 0 0 0 0 0 0 0 0 0 0 0 1 0 0 0 0 1 0 0 0 0 0 1 0 0 0 0 0 0 0 0 0 0 0 0 0 0 0 0 0 0 0 0 0 0 0 0; 0 0 0 0 0 0 0 0 0 0 0 0 0 0 0 0 0 0 0 0 0 1 0 0 0 0 0 0 0 0 0 0 0 0 0 0 0 0 0 0 0 0 0 0 0 0 0 0 0 0 1 0 0 0 0 0 0 0 0 0 0 0 0 0 0 0 0 0 0 0 0 0 0 0 0 0 0 0 0 1 0 0 0 0 0 0 0 0 0 0 0 0 0 0 0 0 0 0 0 0 0 0 0 0 0 0 0 0 0 0 1 0 0 0 0 0 0 0 0 0 0 0 0 0 0 0 0 0 0 0 0 0 0 1 0 0 0 0 0 0 0 0 1 0 0 0 0 0 0 0 0 0 0 1 0 0 0 0 0 0 0 0 0 0 0 0 0 0 0 0 0 0 0 0 0; 0 0 0 0 0 0 0 0 0 0 0 0 0 0 0 0 0 0 0 0 0 0 1 0 0 0 0 0 0 0 0 0 0 0 0 0 0 0 0 0 0 0 0 0 0 0 0 0 0 0 0 1 0 0 0 0 0 0 0 0 0 0 0 0 0 0 0 0 0 0 0 0 0 0 0 0 0 0 0 0 1 0 0 0 0 0 0 0 0 0 0 0 0 0 0 0 0 0 0 0 0 0 0 0 0 0 0 0 0 0 0 1 0 0 0 0 0 0 0 0 0 0 0 0 0 0 0 0 0 0 0 0 0 0 1 0 0 0 0 0 0 0 0 1 0 0 0 1 0 0 0 0 0 0 0 0 0 0 0 0 0 0 0 0 0 0 0 0 0 0 0 0 0 0 0; 0 0 0 0 0 0 0 0 0 0 0 0 0 0 0 0 0 0 0 0 0 0 0 1 0 0 0 0 0 0 0 0 0 0 0 0 0 0 0 0 0 0 0 0 0 0 0 0 0 0 0 0 1 0 0 0 0 0 0 0 0 0 0 0 0 0 0 0 0 0 0 0 0 0 0 0 0 0 0 0 0 1 0 0 0 0 0 0 0 0 0 0 0 0 0 0 0 0 0 0 0 0 0 0 0 1 0 0 0 0 0 0 0 0 0 0 0 0 0 0 0 0 0 0 0 0 0 0 0 0 0 0 0 0 0 1 0 0 0 0 0 0 0 0 1 0 0 0 1 0 0 0 0 0 0 0 0 0 0 0 0 0 0 0 0 0 0 0 0 0 0 0 0 0 0; 0 0 0 0 0 0 0 0 0 0 0 0 0 0 0 0 0 0 0 0 0 0 0 0 1 0 0 0 0 0 0 0 0 0 0 0 0 0 0 0 0 0 0 0 0 0 0 0 0 0 0 0 0 1 0 0 0 0 0 0 0 0 0 0 0 0 0 0 0 0 0 0 0 0 0 0 0 0 0 0 0 0 1 0 0 0 0 0 0 0 0 0 0 0 0 0 0 0 0 0 0 0 0 0 0 0 1 0 0 0 0 0 0 0 0 0 0 0 0 0 0 0 0 0 0 0 0 0 0 0 0 0 0 0 0 0 1 0 0 0 0 0 0 0 0 1 0 0 0 1 0 0 0 0 0 0 0 0 0 0 0 0 0 0 0 0 0 0 0 0 0 0 0 0 0; 0 0 0 0 0 0 0 0 0 0 0 0 0 0 0 0 0 0 0 0 0 0 0 0 0 1 0 0 0 0 0 0 0 0 0 0 0 0 0 0 0 0 0 0 0 0 0 0 0 0 0 0 0 0 1 0 0 0 0 0 0 0 0 0 0 0 0 0 0 0 0 0 0 0 0 0 0 0 0 0 0 0 0 1 0 0 0 0 0 0 0 0 0 0 0 0 0 0 0 0 0 0 0 0 0 0 0 1 0 0 0 0 0 0 0 0 0 0 0 0 0 0 0 0 0 0 0 0 0 0 0 0 0 0 0 0 0 1 0 0 0 0 0 0 0 0 1 0 0 0 1 0 0 0 0 0 0 0 0 0 0 0 0 0 0 0 0 0 0 0 0 0 0 0 0; 0 0 0 0 0 0 0 0 0 0 0 0 0 0 0 0 0 0 0 0 0 0 0 0 0 0 1 0 0 0 0 0 0 0 0 0 0 0 0 0 0 0 0 0 0 0 0 0 0 0 0 0 0 0 0 1 0 0 0 0 0 0 0 0 0 0 0 0 0 0 0 0 0 0 0 0 0 1 0 0 0 0 0 0 0 0 0 0 0 0 0 0 0 0 0 0 0 0 0 0 0 0 0 0 0 0 0 0 1 0 0 0 0 0 0 0 0 0 0 0 0 0 0 0 0 0 0 0 0 0 0 0 0 0 0 0 0 0 1 0 1 0 0 0 0 0 0 0 0 0 0 1 0 0 0 0 0 0 0 0 0 0 0 0 0 0 0 0 0 0 0 0 0 0 0; 0 0 0 0 0 0 0 0 0 0 0 0 0 0 0 0 0 0 0 0 0 0 0 0 0 0 0 1 0 0 0 0 0 0 0 0 0 0 0 0 0 0 0 0 0 0 0 0 0 1 0 0 0 0 0 0 0 0 0 0 0 0 0 0 0 0 0 0 0 0 0 0 0 0 0 0 0 0 1 0 0 0 0 0 0 0 0 0 0 0 0 0 0 0 0 0 0 0 0 0 0 0 0 0 0 0 0 0 0 1 0 0 0 0 0 0 0 0 0 0 0 0 0 0 0 0 0 0 0 0 0 0 0 0 0 0 0 0 0 1 0 1 0 0 0 0 0 0 0 0 0 0 1 0 0 0 0 0 0 0 0 0 0 0 0 0 0 0 0 0 0 0 0 0 0; 1 0 0 0 0 0 0 0 0 0 0 0 0 0 0 0 0 0 0 0 0 0 0 0 0 0 0 0 0 0 0 0 0 0 1 0 0 0 0 0 0 0 0 0 0 0 0 0 0 0 0 0 0 0 0 0 0 0 0 1 0 0 0 0 0 0 0 0 0 0 0 0 0 0 0 0 0 0 0 0 0 0 0 0 0 1 0 0 0 0 0 0 0 0 0 0 0 0 0 0 0 0 0 0 0 0 0 0 0 0 0 0 0 0 0 0 0 0 0 0 0 0 0 0 0 0 0 0 0 0 0 0 0 0 0 0 0 0 0 0 0 0 0 0 0 0 0 0 0 0 0 0 0 0 1 0 0 0 0 0 0 1 0 0 0 0 0 0 1 0 0 0 0 0 0; 0 1 0 0 0 0 0 0 0 0 0 0 0 0 0 0 0 0 0 0 0 0 0 0 0 0 0 0 1 0 0 0 0 0 0 0 0 0 0 0 0 0 0 0 0 0 0 0 0 0 0 0 0 0 0 0 0 0 0 0 1 0 0 0 0 0 0 0 0 0 0 0 0 0 0 0 0 0 0 0 0 0 0 0 0 0 1 0 0 0 0 0 0 0 0 0 0 0 0 0 0 0 0 0 0 0 0 0 0 0 0 0 0 0 0 0 0 0 0 0 0 0 0 0 0 0 0 0 0 0 0 0 0 0 0 0 0 0 0 0 0 0 0 0 0 0 0 0 0 0 0 0 0 0 0 1 0 0 0 0 0 0 1 0 0 0 0 0 0 1 0 0 0 0 0; 0 0 1 0 0 0 0 0 0 0 0 0 0 0 0 0 0 0 0 0 0 0 0 0 0 0 0 0 0 1 0 0 0 0 0 0 0 0 0 0 0 0 0 0 0 0 0 0 0 0 0 0 0 0 0 0 0 0 0 0 0 1 0 0 0 0 0 0 0 0 0 0 0 0 0 0 0 0 0 0 0 0 0 0 0 0 0 1 0 0 0 0 0 0 0 0 0 0 0 0 0 0 0 0 0 0 0 0 0 0 0 0 0 0 0 0 0 0 0 0 0 0 0 0 0 0 0 0 0 0 0 0 0 0 0 0 0 0 0 0 0 0 0 0 0 0 0 0 0 0 0 0 0 0 0 0 1 0 0 0 0 0 0 1 0 0 0 0 0 0 1 0 0 0 0; 0 0 0 1 0 0 0 0 0 0 0 0 0 0 0 0 0 0 0 0 0 0 0 0 0 0 0 0 0 0 1 0 0 0 0 0 0 0 0 0 0 0 0 0 0 0 0 0 0 0 0 0 0 0 0 0 0 0 0 0 0 0 1 0 0 0 0 0 0 0 0 0 0 0 0 0 0 0 0 0 0 0 0 0 0 0 0 0 1 0 0 0 0 0 0 0 0 0 0 0 0 0 0 0 0 0 0 0 0 0 0 0 0 0 0 0 0 0 0 0 0 0 0 0 0 0 0 0 0 0 0 0 0 0 0 0 0 0 0 0 0 0 0 0 0 0 0 0 0 0 0 0 0 0 0 0 0 1 0 0 0 0 0 0 1 0 0 0 0 0 0 1 0 0 0; 0 0 0 0 1 0 0 0 0 0 0 0 0 0 0 0 0 0 0 0 0 0 0 0 0 0 0 0 0 0 0 1 0 0 0 0 0 0 0 0 0 0 0 0 0 0 0 0 0 0 0 0 0 0 0 0 1 0 0 0 0 0 0 0 0 0 0 0 0 0 0 0 0 0 0 0 0 0 0 0 0 0 0 0 0 0 0 0 0 1 0 0 0 0 0 0 0 0 0 0 0 0 0 0 0 0 0 0 0 0 0 0 0 0 0 0 0 0 0 0 0 0 0 0 0 0 0 0 0 0 0 0 0 0 0 0 0 0 0 0 0 0 0 0 0 0 0 0 0 0 0 0 0 0 0 0 0 0 1 0 0 0 0 0 0 1 0 0 0 0 0 0 1 0 0; 0 0 0 0 0 1 0 0 0 0 0 0 0 0 0 0 0 0 0 0 0 0 0 0 0 0 0 0 0 0 0 0 1 0 0 0 0 0 0 0 0 0 0 0 0 0 0 0 0 0 0 0 0 0 0 0 0 1 0 0 0 0 0 0 0 0 0 0 0 0 0 0 0 0 0 0 0 0 0 0 0 0 0 0 0 0 0 0 0 0 1 0 0 0 0 0 0 0 0 0 0 0 0 0 0 0 0 0 0 0 0 0 0 0 0 0 0 0 0 0 0 0 0 0 0 0 0 0 0 0 0 0 0 0 0 0 0 0 0 0 0 0 0 0 0 0 0 0 0 0 0 0 0 0 0 0 0 0 0 1 0 0 0 0 0 0 1 0 0 0 0 0 0 1 0; 0 0 0 0 0 0 1 0 0 0 0 0 0 0 0 0 0 0 0 0 0 0 0 0 0 0 0 0 0 0 0 0 0 1 0 0 0 0 0 0 0 0 0 0 0 0 0 0 0 0 0 0 0 0 0 0 0 0 1 0 0 0 0 0 0 0 0 0 0 0 0 0 0 0 0 0 0 0 0 0 0 0 0 0 1 0 0 0 0 0 0 0 0 0 0 0 0 0 0 0 0 0 0 0 0 0 0 0 0 0 0 0 0 0 0 0 0 0 0 0 0 0 0 0 0 0 0 0 0 0 0 0 0 0 0 0 0 0 0 0 0 0 0 0 0 0 0 0 0 0 0 0 0 0 0 0 0 0 0 0 1 0 0 0 0 0 0 1 0 0 0 0 0 0 1; 0 0 0 0 0 0 0 1 0 0 0 0 0 0 0 0 0 0 0 0 0 0 0 0 0 0 0 0 0 0 0 0 0 0 0 0 0 0 0 0 0 1 0 0 0 0 0 0 0 0 0 0 0 0 0 0 0 0 0 0 0 0 0 0 0 0 1 0 0 0 0 0 0 0 0 0 0 0 0 0 0 0 0 0 0 0 0 0 0 0 0 0 1 0 0 0 0 0 0 0 0 0 0 0 0 0 0 0 0 0 0 0 0 0 0 0 0 0 0 0 0 0 0 0 0 0 0 0 0 0 0 0 0 0 0 0 0 0 0 0 0 0 0 0 0 0 0 0 0 0 0 0 0 0 1 0 0 0 0 0 0 0 0 0 0 0 0 1 0 1 0 0 0 0 0; 0 0 0 0 0 0 0 0 1 0 0 0 0 0 0 0 0 0 0 0 0 0 0 0 0 0 0 0 0 0 0 0 0 0 0 1 0 0 0 0 0 0 0 0 0 0 0 0 0 0 0 0 0 0 0 0 0 0 0 0 0 0 0 0 0 0 0 1 0 0 0 0 0 0 0 0 0 0 0 0 0 0 0 0 0 0 0 0 0 0 0 0 0 1 0 0 0 0 0 0 0 0 0 0 0 0 0 0 0 0 0 0 0 0 0 0 0 0 0 0 0 0 0 0 0 0 0 0 0 0 0 0 0 0 0 0 0 0 0 0 0 0 0 0 0 0 0 0 0 0 0 0 0 0 0 1 0 0 0 0 0 1 0 0 0 0 0 0 0 0 1 0 0 0 0; 0 0 0 0 0 0 0 0 0 1 0 0 0 0 0 0 0 0 0 0 0 0 0 0 0 0 0 0 0 0 0 0 0 0 0 0 1 0 0 0 0 0 0 0 0 0 0 0 0 0 0 0 0 0 0 0 0 0 0 0 0 0 0 0 0 0 0 0 1 0 0 0 0 0 0 0 0 0 0 0 0 0 0 0 0 0 0 0 0 0 0 0 0 0 1 0 0 0 0 0 0 0 0 0 0 0 0 0 0 0 0 0 0 0 0 0 0 0 0 0 0 0 0 0 0 0 0 0 0 0 0 0 0 0 0 0 0 0 0 0 0 0 0 0 0 0 0 0 0 0 0 0 0 0 0 0 1 0 0 0 0 0 1 0 0 0 0 0 0 0 0 1 0 0 0; 0 0 0 0 0 0 0 0 0 0 1 0 0 0 0 0 0 0 0 0 0 0 0 0 0 0 0 0 0 0 0 0 0 0 0 0 0 1 0 0 0 0 0 0 0 0 0 0 0 0 0 0 0 0 0 0 0 0 0 0 0 0 0 0 0 0 0 0 0 1 0 0 0 0 0 0 0 0 0 0 0 0 0 0 0 0 0 0 0 0 0 0 0 0 0 1 0 0 0 0 0 0 0 0 0 0 0 0 0 0 0 0 0 0 0 0 0 0 0 0 0 0 0 0 0 0 0 0 0 0 0 0 0 0 0 0 0 0 0 0 0 0 0 0 0 0 0 0 0 0 0 0 0 0 0 0 0 1 0 0 0 0 0 1 0 0 0 0 0 0 0 0 1 0 0; 0 0 0 0 0 0 0 0 0 0 0 1 0 0 0 0 0 0 0 0 0 0 0 0 0 0 0 0 0 0 0 0 0 0 0 0 0 0 1 0 0 0 0 0 0 0 0 0 0 0 0 0 0 0 0 0 0 0 0 0 0 0 0 1 0 0 0 0 0 0 0 0 0 0 0 0 0 0 0 0 0 0 0 0 0 0 0 0 0 0 0 0 0 0 0 0 1 0 0 0 0 0 0 0 0 0 0 0 0 0 0 0 0 0 0 0 0 0 0 0 0 0 0 0 0 0 0 0 0 0 0 0 0 0 0 0 0 0 0 0 0 0 0 0 0 0 0 0 0 0 0 0 0 0 0 0 0 0 1 0 0 0 0 0 1 0 0 0 0 0 0 0 0 1 0; 0 0 0 0 0 0 0 0 0 0 0 0 1 0 0 0 0 0 0 0 0 0 0 0 0 0 0 0 0 0 0 0 0 0 0 0 0 0 0 1 0 0 0 0 0 0 0 0 0 0 0 0 0 0 0 0 0 0 0 0 0 0 0 0 1 0 0 0 0 0 0 0 0 0 0 0 0 0 0 0 0 0 0 0 0 0 0 0 0 0 0 0 0 0 0 0 0 1 0 0 0 0 0 0 0 0 0 0 0 0 0 0 0 0 0 0 0 0 0 0 0 0 0 0 0 0 0 0 0 0 0 0 0 0 0 0 0 0 0 0 0 0 0 0 0 0 0 0 0 0 0 0 0 0 0 0 0 0 0 1 0 0 0 0 0 1 0 0 0 0 0 0 0 0 1; 0 0 0 0 0 0 0 0 0 0 0 0 0 1 0 0 0 0 0 0 0 0 0 0 0 0 0 0 0 0 0 0 0 0 0 0 0 0 0 0 1 0 0 0 0 0 0 0 0 0 0 0 0 0 0 0 0 0 0 0 0 0 0 0 0 1 0 0 0 0 0 0 0 0 0 0 0 0 0 0 0 0 0 0 0 0 0 0 0 0 0 1 0 0 0 0 0 0 0 0 0 0 0 0 0 0 0 0 0 0 0 0 0 0 0 0 0 0 0 0 0 0 0 0 0 0 0 0 0 0 0 0 0 0 0 0 0 0 0 0 0 0 0 0 0 0 0 0 0 0 0 0 0 0 0 0 0 0 0 0 1 0 0 0 0 0 1 0 1 0 0 0 0 0 0; 0 0 0 0 0 0 0 0 0 0 0 0 0 0 1 0 0 0 0 0 0 0 0 0 0 0 0 0 0 0 0 0 0 0 0 0 0 0 0 0 0 0 0 0 0 0 0 0 1 0 0 0 0 0 0 0 0 0 0 0 0 0 0 0 0 0 0 0 0 0 0 0 0 1 0 0 0 0 0 0 0 0 0 0 0 0 0 0 0 0 0 0 0 0 0 0 0 0 0 1 0 0 0 0 0 0 0 0 0 0 0 0 0 0 0 0 0 0 0 0 0 0 0 0 0 0 0 0 0 0 0 0 0 0 0 0 0 0 0 0 0 0 0 0 0 0 0 0 0 0 0 0 0 0 1 0 0 0 0 0 0 0 0 0 0 0 1 0 0 0 0 0 1 0 0; 0 0 0 0 0 0 0 0 0 0 0 0 0 0 0 1 0 0 0 0 0 0 0 0 0 0 0 0 0 0 0 0 0 0 0 0 0 0 0 0 0 0 1 0 0 0 0 0 0 0 0 0 0 0 0 0 0 0 0 0 0 0 0 0 0 0 0 0 0 0 0 0 0 0 1 0 0 0 0 0 0 0 0 0 0 0 0 0 0 0 0 0 0 0 0 0 0 0 0 0 1 0 0 0 0 0 0 0 0 0 0 0 0 0 0 0 0 0 0 0 0 0 0 0 0 0 0 0 0 0 0 0 0 0 0 0 0 0 0 0 0 0 0 0 0 0 0 0 0 0 0 0 0 0 0 1 0 0 0 0 0 0 0 0 0 0 0 1 0 0 0 0 0 1 0; 0 0 0 0 0 0 0 0 0 0 0 0 0 0 0 0 1 0 0 0 0 0 0 0 0 0 0 0 0 0 0 0 0 0 0 0 0 0 0 0 0 0 0 1 0 0 0 0 0 0 0 0 0 0 0 0 0 0 0 0 0 0 0 0 0 0 0 0 0 0 0 0 0 0 0 1 0 0 0 0 0 0 0 0 0 0 0 0 0 0 0 0 0 0 0 0 0 0 0 0 0 1 0 0 0 0 0 0 0 0 0 0 0 0 0 0 0 0 0 0 0 0 0 0 0 0 0 0 0 0 0 0 0 0 0 0 0 0 0 0 0 0 0 0 0 0 0 0 0 0 0 0 0 0 0 0 1 0 0 0 0 1 0 0 0 0 0 0 0 0 0 0 0 0 1; 0 0 0 0 0 0 0 0 0 0 0 0 0 0 0 0 0 1 0 0 0 0 0 0 0 0 0 0 0 0 0 0 0 0 0 0 0 0 0 0 0 0 0 0 1 0 0 0 0 0 0 0 0 0 0 0 0 0 0 0 0 0 0 0 0 0 0 0 0 0 0 0 0 0 0 0 1 0 0 0 0 0 0 0 0 0 0 0 0 0 0 0 0 0 0 0 0 0 0 0 0 0 1 0 0 0 0 0 0 0 0 0 0 0 0 0 0 0 0 0 0 0 0 0 0 0 0 0 0 0 0 0 0 0 0 0 0 0 0 0 0 0 0 0 0 0 0 0 0 0 0 0 0 0 0 0 0 1 0 0 0 0 1 0 0 0 0 0 1 0 0 0 0 0 0; 0 0 0 0 0 0 0 0 0 0 0 0 0 0 0 0 0 0 1 0 0 0 0 0 0 0 0 0 0 0 0 0 0 0 0 0 0 0 0 0 0 0 0 0 0 1 0 0 0 0 0 0 0 0 0 0 0 0 0 0 0 0 0 0 0 0 0 0 0 0 1 0 0 0 0 0 0 0 0 0 0 0 0 0 0 0 0 0 0 0 0 0 0 0 0 0 0 0 0 0 0 0 0 1 0 0 0 0 0 0 0 0 0 0 0 0 0 0 0 0 0 0 0 0 0 0 0 0 0 0 0 0 0 0 0 0 0 0 0 0 0 0 0 0 0 0 0 0 0 0 0 0 0 0 0 0 0 0 1 0 0 0 0 1 0 0 0 0 0 1 0 0 0 0 0; 0 0 0 0 0 0 0 0 0 0 0 0 0 0 0 0 0 0 0 1 0 0 0 0 0 0 0 0 0 0 0 0 0 0 0 0 0 0 0 0 0 0 0 0 0 0 1 0 0 0 0 0 0 0 0 0 0 0 0 0 0 0 0 0 0 0 0 0 0 0 0 1 0 0 0 0 0 0 0 0 0 0 0 0 0 0 0 0 0 0 0 0 0 0 0 0 0 0 0 0 0 0 0 0 1 0 0 0 0 0 0 0 0 0 0 0 0 0 0 0 0 0 0 0 0 0 0 0 0 0 0 0 0 0 0 0 0 0 0 0 0 0 0 0 0 0 0 0 0 0 0 0 0 0 0 0 0 0 0 1 0 0 0 0 1 0 0 0 0 0 1 0 0 0 0; 0 0 0 0 0 0 0 0 0 0 0 0 0 0 0 0 0 0 0 0 1 0 0 0 0 0 0 0 0 0 0 0 0 0 0 0 0 0 0 0 0 0 0 0 0 0 0 1 0 0 0 0 0 0 0 0 0 0 0 0 0 0 0 0 0 0 0 0 0 0 0 0 1 0 0 0 0 0 0 0 0 0 0 0 0 0 0 0 0 0 0 0 0 0 0 0 0 0 1 0 0 0 0 0 0 0 0 0 0 0 0 0 0 0 0 0 0 0 0 0 0 0 0 0 0 0 0 0 0 0 0 0 0 0 0 0 0 0 0 0 0 0 0 0 0 0 0 0 0 0 0 0 0 0 0 0 0 0 0 0 1 0 0 0 0 1 0 0 0 0 0 1 0 0 0; 0 0 0 0 0 0 0 0 0 0 0 0 0 0 0 0 0 0 0 0 0 1 0 0 0 0 0 0 0 0 0 0 0 0 0 0 0 0 0 0 0 0 0 0 0 0 0 0 0 0 0 0 0 0 0 1 0 0 0 0 0 0 0 0 0 0 0 0 0 0 0 0 0 0 0 0 0 0 0 0 1 0 0 0 0 0 0 0 0 0 0 0 0 0 0 0 0 0 0 0 0 0 0 0 0 0 1 0 0 0 0 0 0 0 0 0 0 0 0 0 0 0 0 0 0 0 0 0 0 0 0 0 0 0 0 0 0 0 0 0 0 0 0 0 0 0 0 0 0 0 0 0 0 0 1 0 0 0 0 0 0 0 0 1 0 0 0 0 0 0 0 0 0 0 1; 0 0 0 0 0 0 0 0 0 0 0 0 0 0 0 0 0 0 0 0 0 0 1 0 0 0 0 0 0 0 0 0 0 0 0 0 0 0 0 0 0 0 0 0 0 0 0 0 0 1 0 0 0 0 0 0 0 0 0 0 0 0 0 0 0 0 0 0 0 0 0 0 0 0 0 0 0 0 0 0 0 1 0 0 0 0 0 0 0 0 0 0 0 0 0 0 0 0 0 0 0 0 0 0 0 0 0 1 0 0 0 0 0 0 0 0 0 0 0 0 0 0 0 0 0 0 0 0 0 0 0 0 0 0 0 0 0 0 0 0 0 0 0 0 0 0 0 0 0 0 0 0 0 0 0 1 0 0 0 0 0 0 0 0 1 0 0 0 1 0 0 0 0 0 0; 0 0 0 0 0 0 0 0 0 0 0 0 0 0 0 0 0 0 0 0 0 0 0 1 0 0 0 0 0 0 0 0 0 0 0 0 0 0 0 0 0 0 0 0 0 0 0 0 0 0 1 0 0 0 0 0 0 0 0 0 0 0 0 0 0 0 0 0 0 0 0 0 0 0 0 0 0 0 0 0 0 0 1 0 0 0 0 0 0 0 0 0 0 0 0 0 0 0 0 0 0 0 0 0 0 0 0 0 1 0 0 0 0 0 0 0 0 0 0 0 0 0 0 0 0 0 0 0 0 0 0 0 0 0 0 0 0 0 0 0 0 0 0 0 0 0 0 0 0 0 0 0 0 0 0 0 1 0 0 0 0 0 0 0 0 1 0 0 0 1 0 0 0 0 0; 0 0 0 0 0 0 0 0 0 0 0 0 0 0 0 0 0 0 0 0 0 0 0 0 1 0 0 0 0 0 0 0 0 0 0 0 0 0 0 0 0 0 0 0 0 0 0 0 0 0 0 1 0 0 0 0 0 0 0 0 0 0 0 0 0 0 0 0 0 0 0 0 0 0 0 0 0 0 0 0 0 0 0 1 0 0 0 0 0 0 0 0 0 0 0 0 0 0 0 0 0 0 0 0 0 0 0 0 0 1 0 0 0 0 0 0 0 0 0 0 0 0 0 0 0 0 0 0 0 0 0 0 0 0 0 0 0 0 0 0 0 0 0 0 0 0 0 0 0 0 0 0 0 0 0 0 0 1 0 0 0 0 0 0 0 0 1 0 0 0 1 0 0 0 0; 0 0 0 0 0 0 0 0 0 0 0 0 0 0 0 0 0 0 0 0 0 0 0 0 0 1 0 0 0 0 0 0 0 0 0 0 0 0 0 0 0 0 0 0 0 0 0 0 0 0 0 0 1 0 0 0 0 0 0 0 0 0 0 0 0 0 0 0 0 0 0 0 0 0 0 0 0 1 0 0 0 0 0 0 0 0 0 0 0 0 0 0 0 0 0 0 0 0 0 0 0 0 0 0 0 0 0 0 0 0 1 0 0 0 0 0 0 0 0 0 0 0 0 0 0 0 0 0 0 0 0 0 0 0 0 0 0 0 0 0 0 0 0 0 0 0 0 0 0 0 0 0 0 0 0 0 0 0 1 0 0 0 0 0 0 0 0 1 0 0 0 1 0 0 0; 0 0 0 0 0 0 0 0 0 0 0 0 0 0 0 0 0 0 0 0 0 0 0 0 0 0 1 0 0 0 0 0 0 0 0 0 0 0 0 0 0 0 0 0 0 0 0 0 0 0 0 0 0 1 0 0 0 0 0 0 0 0 0 0 0 0 0 0 0 0 0 0 0 0 0 0 0 0 1 0 0 0 0 0 0 0 0 0 0 0 0 0 0 0 0 0 0 0 0 0 0 0 0 0 0 0 0 0 0 0 0 1 0 0 0 0 0 0 0 0 0 0 0 0 0 0 0 0 0 0 0 0 0 0 0 0 0 0 0 0 0 0 0 0 0 0 0 0 0 0 0 0 0 0 0 0 0 0 0 1 0 1 0 0 0 0 0 0 0 0 0 0 1 0 0; 0 0 0 0 0 0 0 0 0 0 0 0 0 0 0 0 0 0 0 0 0 0 0 0 0 0 0 1 0 0 0 0 0 0 0 0 0 0 0 0 0 0 0 0 0 0 0 0 0 0 0 0 0 0 1 0 0 0 0 0 0 0 0 0 0 0 0 0 0 0 0 0 0 0 0 0 0 0 0 1 0 0 0 0 0 0 0 0 0 0 0 0 0 0 0 0 0 0 0 0 0 0 0 0 0 1 0 0 0 0 0 0 0 0 0 0 0 0 0 0 0 0 0 0 0 0 0 0 0 0 0 0 0 0 0 0 0 0 0 0 0 0 0 0 0 0 0 0 0 0 0 0 0 0 0 0 0 0 0 0 1 0 1 0 0 0 0 0 0 0 0 0 0 1 0]\n"
     ]
    }
   ],
   "source": [
    "println(parity_checks_x(LP04[7]))"
   ]
  },
  {
   "cell_type": "code",
   "execution_count": 277,
   "metadata": {},
   "outputs": [],
   "source": [
    "function save_matrix_to_txt(matrix, filename)\n",
    "    open(filename, \"w\") do io\n",
    "        for row in eachrow(matrix)\n",
    "            for i in 1:length(row)\n",
    "                if i == length(row)\n",
    "                    print(io, row[i])\n",
    "                else\n",
    "                    print(io, row[i], \" \")\n",
    "                end\n",
    "            end\n",
    "            println(io)\n",
    "        end\n",
    "    end\n",
    "end\n",
    "\n",
    "# Example usage\n",
    "#   matrix = [1 2 3; 4 5 6; 7 8 9]\n",
    "save_matrix_to_txt(parity_checks_x(LP04[7]), \"lp04_7x.txt\")\n",
    "save_matrix_to_txt(parity_checks_z(LP04[7]), \"lp04_7z.txt\")\n"
   ]
  },
  {
   "cell_type": "code",
   "execution_count": 285,
   "metadata": {},
   "outputs": [
    {
     "data": {
      "text/plain": [
       "84×175 Matrix{Int64}:\n",
       " 1  0  0  0  0  0  0  0  0  0  0  0  0  …  0  0  0  0  0  0  0  0  0  0  0  0\n",
       " 0  1  0  0  0  0  0  0  0  0  0  0  0     0  0  0  0  0  0  0  0  0  0  0  0\n",
       " 0  0  1  0  0  0  0  0  0  0  0  0  0     0  0  0  0  0  0  0  0  0  0  0  0\n",
       " 0  0  0  1  0  0  0  0  0  0  0  0  0     0  0  0  0  0  0  0  0  0  0  0  0\n",
       " 0  0  0  0  1  0  0  0  0  0  0  0  0     0  0  0  0  0  0  0  0  0  0  0  0\n",
       " 0  0  0  0  0  1  0  0  0  0  0  0  0  …  0  0  0  0  0  0  0  0  0  0  0  0\n",
       " 0  0  0  0  0  0  1  0  0  0  0  0  0     0  0  0  0  0  0  0  0  0  0  0  0\n",
       " 0  0  0  0  0  0  0  1  0  0  0  0  0     0  0  0  0  0  0  0  0  0  0  0  0\n",
       " 0  0  0  0  0  0  0  0  1  0  0  0  0     0  0  0  0  0  0  0  0  0  0  0  0\n",
       " 0  0  0  0  0  0  0  0  0  1  0  0  0     0  0  0  0  0  0  0  0  0  0  0  0\n",
       " ⋮              ⋮              ⋮        ⋱        ⋮              ⋮           \n",
       " 0  0  0  0  0  0  0  0  0  0  0  0  0  …  0  1  0  0  0  0  0  1  0  0  0  0\n",
       " 0  0  0  0  0  0  0  0  0  0  0  0  0     0  0  1  0  0  0  0  0  1  0  0  0\n",
       " 0  0  0  0  0  0  0  0  0  0  0  0  0     1  0  0  0  0  0  0  0  0  0  0  1\n",
       " 0  0  0  0  0  0  0  0  0  0  0  0  0     0  1  0  0  0  1  0  0  0  0  0  0\n",
       " 0  0  0  0  0  0  0  0  0  0  0  0  0     0  0  1  0  0  0  1  0  0  0  0  0\n",
       " 0  0  0  0  0  0  0  0  0  0  0  0  0  …  0  0  0  1  0  0  0  1  0  0  0  0\n",
       " 0  0  0  0  0  0  0  0  0  0  0  0  0     0  0  0  0  1  0  0  0  1  0  0  0\n",
       " 0  0  0  0  0  0  0  0  0  0  0  0  0     0  0  0  0  0  0  0  0  0  1  0  0\n",
       " 0  0  0  0  0  0  0  0  0  0  0  0  0     0  0  0  0  0  0  0  0  0  0  1  0"
      ]
     },
     "metadata": {},
     "output_type": "display_data"
    }
   ],
   "source": [
    "parity_checks_x(LP04[7])"
   ]
  },
  {
   "cell_type": "code",
   "execution_count": null,
   "metadata": {},
   "outputs": [],
   "source": []
  }
 ],
 "metadata": {
  "kernelspec": {
   "display_name": "Julia 1.10.4",
   "language": "julia",
   "name": "julia-1.10"
  },
  "language_info": {
   "file_extension": ".jl",
   "mimetype": "application/julia",
   "name": "julia",
   "version": "1.10.4"
  }
 },
 "nbformat": 4,
 "nbformat_minor": 2
}
