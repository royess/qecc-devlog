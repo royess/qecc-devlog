{
 "cells": [
  {
   "cell_type": "code",
   "execution_count": 1,
   "id": "ab5875a8-37bc-4ee0-a910-2765f5b88076",
   "metadata": {},
   "outputs": [],
   "source": [
    "abstract type A end\n",
    "struct B <: A end\n",
    "struct C <: A end"
   ]
  },
  {
   "cell_type": "code",
   "execution_count": 8,
   "id": "9920691f-e459-4a52-b930-37ee37e94880",
   "metadata": {},
   "outputs": [],
   "source": [
    "xs = [B() for i in 1:100000];\n",
    "ys = [C() for i in 1:100000];"
   ]
  },
  {
   "cell_type": "code",
   "execution_count": 9,
   "id": "f92dac0d-142b-470f-a154-3c5d8623fe61",
   "metadata": {},
   "outputs": [
    {
     "ename": "LoadError",
     "evalue": "StackOverflowError:",
     "output_type": "error",
     "traceback": [
      "StackOverflowError:",
      "",
      "Stacktrace:",
      " [1] promote_typeof(::B, ::B, ::Vararg{Any}) (repeats 14425 times)",
      "   @ Base ./promotion.jl:373",
      " [2] vect(::B, ::Vararg{Any})",
      "   @ Base ./array.jl:186",
      " [3] top-level scope",
      "   @ In[9]:1"
     ]
    }
   ],
   "source": [
    "[xs..., ys...]"
   ]
  },
  {
   "cell_type": "code",
   "execution_count": 10,
   "id": "355749df-aa27-42df-8c56-5b4837a23f2d",
   "metadata": {},
   "outputs": [
    {
     "data": {
      "text/plain": [
       "200000-element Vector{A}:\n",
       " B()\n",
       " B()\n",
       " B()\n",
       " B()\n",
       " B()\n",
       " B()\n",
       " B()\n",
       " B()\n",
       " B()\n",
       " B()\n",
       " B()\n",
       " B()\n",
       " B()\n",
       " ⋮\n",
       " C()\n",
       " C()\n",
       " C()\n",
       " C()\n",
       " C()\n",
       " C()\n",
       " C()\n",
       " C()\n",
       " C()\n",
       " C()\n",
       " C()\n",
       " C()"
      ]
     },
     "execution_count": 10,
     "metadata": {},
     "output_type": "execute_result"
    }
   ],
   "source": [
    "vcat(xs, ys)"
   ]
  },
  {
   "cell_type": "code",
   "execution_count": null,
   "id": "9d5dd6a4-2cd0-40a8-9e49-876d00370217",
   "metadata": {},
   "outputs": [],
   "source": []
  }
 ],
 "metadata": {
  "kernelspec": {
   "display_name": "Julia 1.10.4",
   "language": "julia",
   "name": "julia-1.10"
  },
  "language_info": {
   "file_extension": ".jl",
   "mimetype": "application/julia",
   "name": "julia",
   "version": "1.10.4"
  }
 },
 "nbformat": 4,
 "nbformat_minor": 5
}
