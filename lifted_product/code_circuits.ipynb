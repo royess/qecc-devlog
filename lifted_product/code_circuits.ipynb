{
 "cells": [
  {
   "cell_type": "code",
   "execution_count": 2,
   "id": "4e1648bc-74e2-4cc4-9ffa-b2551eeb66e1",
   "metadata": {},
   "outputs": [],
   "source": [
    "using Revise\n",
    "using QuantumClifford.ECC\n",
    "using QuantumClifford"
   ]
  },
  {
   "cell_type": "code",
   "execution_count": 3,
   "id": "ccc0f243-32e0-4707-8006-2408ff797b79",
   "metadata": {},
   "outputs": [],
   "source": [
    "import Nemo: GF\n",
    "import LinearAlgebra"
   ]
  },
  {
   "cell_type": "code",
   "execution_count": 4,
   "id": "6523470a-0fdc-46cd-9c91-ce283418776e",
   "metadata": {},
   "outputs": [
    {
     "data": {
      "text/plain": [
       "1-element Vector{Any}:\n",
       " LPCode(PermGroupRingElem[Dict{AbstractAlgebra.Perm{Int64}, Nemo.FqFieldElem}((1,28,55,19,46,10,37)(2,29,56,20,47,11,38)(3,30,57,21,48,12,39)(4,31,58,22,49, … => 1) Dict{AbstractAlgebra.Perm, Nemo.FqFieldElem}() … Dict{AbstractAlgebra.Perm{Int64}, Nemo.FqFieldElem}(() => 1) Dict{AbstractAlgebra.Perm{Int64}, Nemo.FqFieldElem}((1,55,46,37,28,19,10)(2,56,47,38,29,20,11)(3,57,48,39,30,21,12)(4,58,49,40,31, … => 1); Dict{AbstractAlgebra.Perm{Int64}, Nemo.FqFieldElem}((1,55,46,37,28,19,10)(2,56,47,38,29,20,11)(3,57,48,39,30,21,12)(4,58,49,40,31, … => 1) Dict{AbstractAlgebra.Perm{Int64}, Nemo.FqFieldElem}((1,28,55,19,46,10,37)(2,29,56,20,47,11,38)(3,30,57,21,48,12,39)(4,31,58,22,49, … => 1) … Dict{AbstractAlgebra.Perm, Nemo.FqFieldElem}() Dict{AbstractAlgebra.Perm{Int64}, Nemo.FqFieldElem}(() => 1); … ; Dict{AbstractAlgebra.Perm, Nemo.FqFieldElem}() Dict{AbstractAlgebra.Perm, Nemo.FqFieldElem}() … Dict{AbstractAlgebra.Perm{Int64}, Nemo.FqFieldElem}((1,28,55,19,46,10,37)(2,29,56,20,47,11,38)(3,30,57,21,48,12,39)(4,31,58,22,49, … => 1) Dict{AbstractAlgebra.Perm, Nemo.FqFieldElem}(); Dict{AbstractAlgebra.Perm, Nemo.FqFieldElem}() Dict{AbstractAlgebra.Perm, Nemo.FqFieldElem}() … Dict{AbstractAlgebra.Perm{Int64}, Nemo.FqFieldElem}((1,55,46,37,28,19,10)(2,56,47,38,29,20,11)(3,57,48,39,30,21,12)(4,58,49,40,31, … => 1) Dict{AbstractAlgebra.Perm{Int64}, Nemo.FqFieldElem}((1,28,55,19,46,10,37)(2,29,56,20,47,11,38)(3,30,57,21,48,12,39)(4,31,58,22,49, … => 1)], PermGroupRingElem[Dict{AbstractAlgebra.Perm, Nemo.FqFieldElem}(() => 1, (1,58,52,46,40,34,28,22,16,10,4,61,55,49,43,37,31,25,19,13,7)(2,59,53,47,41,35 … => 1, (1,63,62,61,60,59,58,57,56,55,54,53,52,51,50,49,48,47,46,45,44,43,42,41,40,39, … => 1);;], QuantumClifford.ECC.permutation_repr)"
      ]
     },
     "execution_count": 4,
     "metadata": {},
     "output_type": "execute_result"
    }
   ],
   "source": [
    "# test codes LP04 and LP118 are from https://arxiv.org/pdf/2111.07029\n",
    "\n",
    "B04 = Dict(\n",
    "    7 => [ 0 0 0 0; 0 1 2 5; 0 6 3 1],\n",
    "    9 => [0 0 0 0; 0 1 6 7; 0 4 5 2],\n",
    "    17 => [0 0 0 0; 0 1 2 11; 0 8 12 13],\n",
    "    19 => [0 0 0 0; 0 2 6 9; 0 16 7 11]\n",
    ")\n",
    "\n",
    "B118 = Dict(\n",
    "    16 => [0 0 0 0 0; 0 2 4 7 11; 0 3 10 14 15],\n",
    "    21 => [0 0 0 0 0; 0 4 5 7 17; 0 14 18 12 11],\n",
    "    30 => [0 0 0 0 0; 0 2 14 24 25; 0 16 11 14 13],\n",
    ")\n",
    "\n",
    "LP04 = []\n",
    "for l in keys(B04)\n",
    "    A = map(B04[l]) do x\n",
    "        (PermutationGroupRing(GF(2), l))(cyclic_permutation(x, l))\n",
    "    end\n",
    "    push!(LP04, LPCode(LiftedCode(A), LiftedCode(A)))\n",
    "end\n",
    "\n",
    "LP118 = []\n",
    "for l in keys(B118)\n",
    "    A = map(B118[l]) do x\n",
    "        (PermutationGroupRing(GF(2), l))(cyclic_permutation(x, l))\n",
    "    end\n",
    "    push!(LP118, LPCode(LiftedCode(A), LiftedCode(A)))\n",
    "end\n",
    "\n",
    "other_lifted_product_codes = []\n",
    "\n",
    "# from https://arxiv.org/abs/2202.01702v3\n",
    "\n",
    "l = 63\n",
    "R = PermutationGroupRing(GF(2), l)\n",
    "A = zeros(R, 7,7)\n",
    "A[LinearAlgebra.diagind(A)] .= R(cyclic_permutation(27, l))\n",
    "A[LinearAlgebra.diagind(A, -1)] .= R(cyclic_permutation(54, l))\n",
    "A[LinearAlgebra.diagind(A, 6)] .= R(cyclic_permutation(54, l))\n",
    "A[LinearAlgebra.diagind(A, -2)] .= R(1)\n",
    "A[LinearAlgebra.diagind(A, 5)] .= R(1)\n",
    "\n",
    "B = zeros(R, 1, 1)\n",
    "B[1,1] = (R(1) + R(cyclic_permutation(1, l)) + R(cyclic_permutation(6, l)))'\n",
    "\n",
    "push!(other_lifted_product_codes, LPCode(LiftedCode(A), LiftedCode(B)))"
   ]
  },
  {
   "cell_type": "code",
   "execution_count": 5,
   "id": "5671664e-1391-4d23-a055-d0e65cd6655c",
   "metadata": {},
   "outputs": [
    {
     "data": {
      "text/plain": [
       "19"
      ]
     },
     "execution_count": 5,
     "metadata": {},
     "output_type": "execute_result"
    }
   ],
   "source": [
    "code = LP04[1]\n",
    "code_k(code)"
   ]
  },
  {
   "cell_type": "code",
   "execution_count": 6,
   "id": "af5d21fc-b15f-44ad-9cb8-0960c5be89aa",
   "metadata": {
    "scrolled": true
   },
   "outputs": [],
   "source": [
    "# naive_encoding_circuit(code)"
   ]
  },
  {
   "cell_type": "code",
   "execution_count": 7,
   "id": "16ac551b-3ca7-491f-8ff2-b8e3c56033c2",
   "metadata": {},
   "outputs": [],
   "source": [
    "# naive_syndrome_circuit(code)"
   ]
  },
  {
   "cell_type": "code",
   "execution_count": 8,
   "id": "87ce59ff-3714-4f95-a447-da12d36b95c3",
   "metadata": {},
   "outputs": [],
   "source": [
    "# shor_syndrome_circuit(code)"
   ]
  },
  {
   "cell_type": "code",
   "execution_count": 9,
   "id": "0a6d00aa-cb51-4501-b27d-989cbcebbf0c",
   "metadata": {
    "scrolled": true
   },
   "outputs": [
    {
     "name": "stdout",
     "output_type": "stream",
     "text": [
      "c = LPCode(PermGroupRingElem[Dict{AbstractAlgebra.Perm{Int64}, Nemo.FqFieldElem}(() => 1) Dict{AbstractAlgebra.Perm{Int64}, Nemo.FqFieldElem}(() => 1) Dict{AbstractAlgebra.Perm{Int64}, Nemo.FqFieldElem}(() => 1) Dict{AbstractAlgebra.Perm{Int64}, Nemo.FqFieldElem}(() => 1); Dict{AbstractAlgebra.Perm{Int64}, Nemo.FqFieldElem}(() => 1) Dict{AbstractAlgebra.Perm{Int64}, Nemo.FqFieldElem}((1,2,3,4,5,6,7) => 1) Dict{AbstractAlgebra.Perm{Int64}, Nemo.FqFieldElem}((1,3,5,7,2,4,6) => 1) Dict{AbstractAlgebra.Perm{Int64}, Nemo.FqFieldElem}((1,6,4,2,7,5,3) => 1); Dict{AbstractAlgebra.Perm{Int64}, Nemo.FqFieldElem}(() => 1) Dict{AbstractAlgebra.Perm{Int64}, Nemo.FqFieldElem}((1,7,6,5,4,3,2) => 1) Dict{AbstractAlgebra.Perm{Int64}, Nemo.FqFieldElem}((1,4,7,3,6,2,5) => 1) Dict{AbstractAlgebra.Perm{Int64}, Nemo.FqFieldElem}((1,2,3,4,5,6,7) => 1)], PermGroupRingElem[Dict{AbstractAlgebra.Perm{Int64}, Nemo.FqFieldElem}(() => 1) Dict{AbstractAlgebra.Perm{Int64}, Nemo.FqFieldElem}(() => 1) Dict{AbstractAlgebra.Perm{Int64}, Nemo.FqFieldElem}(() => 1) Dict{AbstractAlgebra.Perm{Int64}, Nemo.FqFieldElem}(() => 1); Dict{AbstractAlgebra.Perm{Int64}, Nemo.FqFieldElem}(() => 1) Dict{AbstractAlgebra.Perm{Int64}, Nemo.FqFieldElem}((1,2,3,4,5,6,7) => 1) Dict{AbstractAlgebra.Perm{Int64}, Nemo.FqFieldElem}((1,3,5,7,2,4,6) => 1) Dict{AbstractAlgebra.Perm{Int64}, Nemo.FqFieldElem}((1,6,4,2,7,5,3) => 1); Dict{AbstractAlgebra.Perm{Int64}, Nemo.FqFieldElem}(() => 1) Dict{AbstractAlgebra.Perm{Int64}, Nemo.FqFieldElem}((1,7,6,5,4,3,2) => 1) Dict{AbstractAlgebra.Perm{Int64}, Nemo.FqFieldElem}((1,4,7,3,6,2,5) => 1) Dict{AbstractAlgebra.Perm{Int64}, Nemo.FqFieldElem}((1,2,3,4,5,6,7) => 1)], QuantumClifford.ECC.permutation_repr)\n",
      "s = CommutationCheckECCSetup(0.001)\n"
     ]
    },
    {
     "name": "stderr",
     "output_type": "stream",
     "text": [
      "\u001b[33m\u001b[1m┌ \u001b[22m\u001b[39m\u001b[33m\u001b[1mWarning: \u001b[22m\u001b[39m`faults_matrix` was called on an ECC that has redundant rows (is rank-deficient). `faults_matrix` corrected for that, however this is a frequent source of mistakes and inefficiencies. We advise you remove redundant rows from your ECC.\n",
      "\u001b[33m\u001b[1m└ \u001b[22m\u001b[39m\u001b[90m@ QuantumClifford.ECC ~/Documents/Repos/QuantumClifford.jl/src/ecc/ECC.jl:310\u001b[39m\n",
      "\u001b[33m\u001b[1m┌ \u001b[22m\u001b[39m\u001b[33m\u001b[1mWarning: \u001b[22m\u001b[39m`faults_matrix` was called on an ECC that has redundant rows (is rank-deficient). `faults_matrix` corrected for that, however this is a frequent source of mistakes and inefficiencies. We advise you remove redundant rows from your ECC.\n",
      "\u001b[33m\u001b[1m└ \u001b[22m\u001b[39m\u001b[90m@ QuantumClifford.ECC ~/Documents/Repos/QuantumClifford.jl/src/ecc/ECC.jl:310\u001b[39m\n"
     ]
    },
    {
     "name": "stdout",
     "output_type": "stream",
     "text": [
      "e = 4.0e-5\n",
      "c = LPCode(PermGroupRingElem[Dict{AbstractAlgebra.Perm{Int64}, Nemo.FqFieldElem}(() => 1) Dict{AbstractAlgebra.Perm{Int64}, Nemo.FqFieldElem}(() => 1) Dict{AbstractAlgebra.Perm{Int64}, Nemo.FqFieldElem}(() => 1) Dict{AbstractAlgebra.Perm{Int64}, Nemo.FqFieldElem}(() => 1); Dict{AbstractAlgebra.Perm{Int64}, Nemo.FqFieldElem}(() => 1) Dict{AbstractAlgebra.Perm{Int64}, Nemo.FqFieldElem}((1,2,3,4,5,6,7) => 1) Dict{AbstractAlgebra.Perm{Int64}, Nemo.FqFieldElem}((1,3,5,7,2,4,6) => 1) Dict{AbstractAlgebra.Perm{Int64}, Nemo.FqFieldElem}((1,6,4,2,7,5,3) => 1); Dict{AbstractAlgebra.Perm{Int64}, Nemo.FqFieldElem}(() => 1) Dict{AbstractAlgebra.Perm{Int64}, Nemo.FqFieldElem}((1,7,6,5,4,3,2) => 1) Dict{AbstractAlgebra.Perm{Int64}, Nemo.FqFieldElem}((1,4,7,3,6,2,5) => 1) Dict{AbstractAlgebra.Perm{Int64}, Nemo.FqFieldElem}((1,2,3,4,5,6,7) => 1)], PermGroupRingElem[Dict{AbstractAlgebra.Perm{Int64}, Nemo.FqFieldElem}(() => 1) Dict{AbstractAlgebra.Perm{Int64}, Nemo.FqFieldElem}(() => 1) Dict{AbstractAlgebra.Perm{Int64}, Nemo.FqFieldElem}(() => 1) Dict{AbstractAlgebra.Perm{Int64}, Nemo.FqFieldElem}(() => 1); Dict{AbstractAlgebra.Perm{Int64}, Nemo.FqFieldElem}(() => 1) Dict{AbstractAlgebra.Perm{Int64}, Nemo.FqFieldElem}((1,2,3,4,5,6,7) => 1) Dict{AbstractAlgebra.Perm{Int64}, Nemo.FqFieldElem}((1,3,5,7,2,4,6) => 1) Dict{AbstractAlgebra.Perm{Int64}, Nemo.FqFieldElem}((1,6,4,2,7,5,3) => 1); Dict{AbstractAlgebra.Perm{Int64}, Nemo.FqFieldElem}(() => 1) Dict{AbstractAlgebra.Perm{Int64}, Nemo.FqFieldElem}((1,7,6,5,4,3,2) => 1) Dict{AbstractAlgebra.Perm{Int64}, Nemo.FqFieldElem}((1,4,7,3,6,2,5) => 1) Dict{AbstractAlgebra.Perm{Int64}, Nemo.FqFieldElem}((1,2,3,4,5,6,7) => 1)], QuantumClifford.ECC.permutation_repr)\n",
      "s = NaiveSyndromeECCSetup(0.001, 0.0)\n"
     ]
    },
    {
     "name": "stderr",
     "output_type": "stream",
     "text": [
      "\u001b[33m\u001b[1m┌ \u001b[22m\u001b[39m\u001b[33m\u001b[1mWarning: \u001b[22m\u001b[39m`faults_matrix` was called on an ECC that has redundant rows (is rank-deficient). `faults_matrix` corrected for that, however this is a frequent source of mistakes and inefficiencies. We advise you remove redundant rows from your ECC.\n",
      "\u001b[33m\u001b[1m└ \u001b[22m\u001b[39m\u001b[90m@ QuantumClifford.ECC ~/Documents/Repos/QuantumClifford.jl/src/ecc/ECC.jl:310\u001b[39m\n",
      "\u001b[33m\u001b[1m┌ \u001b[22m\u001b[39m\u001b[33m\u001b[1mWarning: \u001b[22m\u001b[39m`faults_matrix` was called on an ECC that has redundant rows (is rank-deficient). `faults_matrix` corrected for that, however this is a frequent source of mistakes and inefficiencies. We advise you remove redundant rows from your ECC.\n",
      "\u001b[33m\u001b[1m└ \u001b[22m\u001b[39m\u001b[90m@ QuantumClifford.ECC ~/Documents/Repos/QuantumClifford.jl/src/ecc/ECC.jl:310\u001b[39m\n"
     ]
    },
    {
     "name": "stdout",
     "output_type": "stream",
     "text": [
      "e = (2.0e-5, 1.0e-5)\n",
      "c = LPCode(PermGroupRingElem[Dict{AbstractAlgebra.Perm{Int64}, Nemo.FqFieldElem}(() => 1) Dict{AbstractAlgebra.Perm{Int64}, Nemo.FqFieldElem}(() => 1) Dict{AbstractAlgebra.Perm{Int64}, Nemo.FqFieldElem}(() => 1) Dict{AbstractAlgebra.Perm{Int64}, Nemo.FqFieldElem}(() => 1); Dict{AbstractAlgebra.Perm{Int64}, Nemo.FqFieldElem}(() => 1) Dict{AbstractAlgebra.Perm{Int64}, Nemo.FqFieldElem}((1,2,3,4,5,6,7) => 1) Dict{AbstractAlgebra.Perm{Int64}, Nemo.FqFieldElem}((1,3,5,7,2,4,6) => 1) Dict{AbstractAlgebra.Perm{Int64}, Nemo.FqFieldElem}((1,6,4,2,7,5,3) => 1); Dict{AbstractAlgebra.Perm{Int64}, Nemo.FqFieldElem}(() => 1) Dict{AbstractAlgebra.Perm{Int64}, Nemo.FqFieldElem}((1,7,6,5,4,3,2) => 1) Dict{AbstractAlgebra.Perm{Int64}, Nemo.FqFieldElem}((1,4,7,3,6,2,5) => 1) Dict{AbstractAlgebra.Perm{Int64}, Nemo.FqFieldElem}((1,2,3,4,5,6,7) => 1)], PermGroupRingElem[Dict{AbstractAlgebra.Perm{Int64}, Nemo.FqFieldElem}(() => 1) Dict{AbstractAlgebra.Perm{Int64}, Nemo.FqFieldElem}(() => 1) Dict{AbstractAlgebra.Perm{Int64}, Nemo.FqFieldElem}(() => 1) Dict{AbstractAlgebra.Perm{Int64}, Nemo.FqFieldElem}(() => 1); Dict{AbstractAlgebra.Perm{Int64}, Nemo.FqFieldElem}(() => 1) Dict{AbstractAlgebra.Perm{Int64}, Nemo.FqFieldElem}((1,2,3,4,5,6,7) => 1) Dict{AbstractAlgebra.Perm{Int64}, Nemo.FqFieldElem}((1,3,5,7,2,4,6) => 1) Dict{AbstractAlgebra.Perm{Int64}, Nemo.FqFieldElem}((1,6,4,2,7,5,3) => 1); Dict{AbstractAlgebra.Perm{Int64}, Nemo.FqFieldElem}(() => 1) Dict{AbstractAlgebra.Perm{Int64}, Nemo.FqFieldElem}((1,7,6,5,4,3,2) => 1) Dict{AbstractAlgebra.Perm{Int64}, Nemo.FqFieldElem}((1,4,7,3,6,2,5) => 1) Dict{AbstractAlgebra.Perm{Int64}, Nemo.FqFieldElem}((1,2,3,4,5,6,7) => 1)], QuantumClifford.ECC.permutation_repr)\n",
      "s = ShorSyndromeECCSetup(0.001, 0.0)\n"
     ]
    },
    {
     "name": "stderr",
     "output_type": "stream",
     "text": [
      "\u001b[33m\u001b[1m┌ \u001b[22m\u001b[39m\u001b[33m\u001b[1mWarning: \u001b[22m\u001b[39m`faults_matrix` was called on an ECC that has redundant rows (is rank-deficient). `faults_matrix` corrected for that, however this is a frequent source of mistakes and inefficiencies. We advise you remove redundant rows from your ECC.\n",
      "\u001b[33m\u001b[1m└ \u001b[22m\u001b[39m\u001b[90m@ QuantumClifford.ECC ~/Documents/Repos/QuantumClifford.jl/src/ecc/ECC.jl:310\u001b[39m\n",
      "\u001b[33m\u001b[1m┌ \u001b[22m\u001b[39m\u001b[33m\u001b[1mWarning: \u001b[22m\u001b[39m`faults_matrix` was called on an ECC that has redundant rows (is rank-deficient). `faults_matrix` corrected for that, however this is a frequent source of mistakes and inefficiencies. We advise you remove redundant rows from your ECC.\n",
      "\u001b[33m\u001b[1m└ \u001b[22m\u001b[39m\u001b[90m@ QuantumClifford.ECC ~/Documents/Repos/QuantumClifford.jl/src/ecc/ECC.jl:310\u001b[39m\n"
     ]
    },
    {
     "name": "stdout",
     "output_type": "stream",
     "text": [
      "e = (5.0e-5, 6.0e-5)\n",
      "c = LPCode(PermGroupRingElem[Dict{AbstractAlgebra.Perm{Int64}, Nemo.FqFieldElem}(() => 1) Dict{AbstractAlgebra.Perm{Int64}, Nemo.FqFieldElem}(() => 1) Dict{AbstractAlgebra.Perm{Int64}, Nemo.FqFieldElem}(() => 1) Dict{AbstractAlgebra.Perm{Int64}, Nemo.FqFieldElem}(() => 1); Dict{AbstractAlgebra.Perm{Int64}, Nemo.FqFieldElem}(() => 1) Dict{AbstractAlgebra.Perm{Int64}, Nemo.FqFieldElem}((1,2,3,4,5,6,7,8,9) => 1) Dict{AbstractAlgebra.Perm{Int64}, Nemo.FqFieldElem}((1,7,4)(2,8,5)(3,9,6) => 1) Dict{AbstractAlgebra.Perm{Int64}, Nemo.FqFieldElem}((1,8,6,4,2,9,7,5,3) => 1); Dict{AbstractAlgebra.Perm{Int64}, Nemo.FqFieldElem}(() => 1) Dict{AbstractAlgebra.Perm{Int64}, Nemo.FqFieldElem}((1,5,9,4,8,3,7,2,6) => 1) Dict{AbstractAlgebra.Perm{Int64}, Nemo.FqFieldElem}((1,6,2,7,3,8,4,9,5) => 1) Dict{AbstractAlgebra.Perm{Int64}, Nemo.FqFieldElem}((1,3,5,7,9,2,4,6,8) => 1)], PermGroupRingElem[Dict{AbstractAlgebra.Perm{Int64}, Nemo.FqFieldElem}(() => 1) Dict{AbstractAlgebra.Perm{Int64}, Nemo.FqFieldElem}(() => 1) Dict{AbstractAlgebra.Perm{Int64}, Nemo.FqFieldElem}(() => 1) Dict{AbstractAlgebra.Perm{Int64}, Nemo.FqFieldElem}(() => 1); Dict{AbstractAlgebra.Perm{Int64}, Nemo.FqFieldElem}(() => 1) Dict{AbstractAlgebra.Perm{Int64}, Nemo.FqFieldElem}((1,2,3,4,5,6,7,8,9) => 1) Dict{AbstractAlgebra.Perm{Int64}, Nemo.FqFieldElem}((1,7,4)(2,8,5)(3,9,6) => 1) Dict{AbstractAlgebra.Perm{Int64}, Nemo.FqFieldElem}((1,8,6,4,2,9,7,5,3) => 1); Dict{AbstractAlgebra.Perm{Int64}, Nemo.FqFieldElem}(() => 1) Dict{AbstractAlgebra.Perm{Int64}, Nemo.FqFieldElem}((1,5,9,4,8,3,7,2,6) => 1) Dict{AbstractAlgebra.Perm{Int64}, Nemo.FqFieldElem}((1,6,2,7,3,8,4,9,5) => 1) Dict{AbstractAlgebra.Perm{Int64}, Nemo.FqFieldElem}((1,3,5,7,9,2,4,6,8) => 1)], QuantumClifford.ECC.permutation_repr)\n",
      "s = CommutationCheckECCSetup(0.001)\n"
     ]
    },
    {
     "name": "stderr",
     "output_type": "stream",
     "text": [
      "\u001b[33m\u001b[1m┌ \u001b[22m\u001b[39m\u001b[33m\u001b[1mWarning: \u001b[22m\u001b[39m`faults_matrix` was called on an ECC that has redundant rows (is rank-deficient). `faults_matrix` corrected for that, however this is a frequent source of mistakes and inefficiencies. We advise you remove redundant rows from your ECC.\n",
      "\u001b[33m\u001b[1m└ \u001b[22m\u001b[39m\u001b[90m@ QuantumClifford.ECC ~/Documents/Repos/QuantumClifford.jl/src/ecc/ECC.jl:310\u001b[39m\n",
      "\u001b[33m\u001b[1m┌ \u001b[22m\u001b[39m\u001b[33m\u001b[1mWarning: \u001b[22m\u001b[39m`faults_matrix` was called on an ECC that has redundant rows (is rank-deficient). `faults_matrix` corrected for that, however this is a frequent source of mistakes and inefficiencies. We advise you remove redundant rows from your ECC.\n",
      "\u001b[33m\u001b[1m└ \u001b[22m\u001b[39m\u001b[90m@ QuantumClifford.ECC ~/Documents/Repos/QuantumClifford.jl/src/ecc/ECC.jl:310\u001b[39m\n"
     ]
    },
    {
     "name": "stdout",
     "output_type": "stream",
     "text": [
      "e = 1.0e-5\n",
      "c = LPCode(PermGroupRingElem[Dict{AbstractAlgebra.Perm{Int64}, Nemo.FqFieldElem}(() => 1) Dict{AbstractAlgebra.Perm{Int64}, Nemo.FqFieldElem}(() => 1) Dict{AbstractAlgebra.Perm{Int64}, Nemo.FqFieldElem}(() => 1) Dict{AbstractAlgebra.Perm{Int64}, Nemo.FqFieldElem}(() => 1); Dict{AbstractAlgebra.Perm{Int64}, Nemo.FqFieldElem}(() => 1) Dict{AbstractAlgebra.Perm{Int64}, Nemo.FqFieldElem}((1,2,3,4,5,6,7,8,9) => 1) Dict{AbstractAlgebra.Perm{Int64}, Nemo.FqFieldElem}((1,7,4)(2,8,5)(3,9,6) => 1) Dict{AbstractAlgebra.Perm{Int64}, Nemo.FqFieldElem}((1,8,6,4,2,9,7,5,3) => 1); Dict{AbstractAlgebra.Perm{Int64}, Nemo.FqFieldElem}(() => 1) Dict{AbstractAlgebra.Perm{Int64}, Nemo.FqFieldElem}((1,5,9,4,8,3,7,2,6) => 1) Dict{AbstractAlgebra.Perm{Int64}, Nemo.FqFieldElem}((1,6,2,7,3,8,4,9,5) => 1) Dict{AbstractAlgebra.Perm{Int64}, Nemo.FqFieldElem}((1,3,5,7,9,2,4,6,8) => 1)], PermGroupRingElem[Dict{AbstractAlgebra.Perm{Int64}, Nemo.FqFieldElem}(() => 1) Dict{AbstractAlgebra.Perm{Int64}, Nemo.FqFieldElem}(() => 1) Dict{AbstractAlgebra.Perm{Int64}, Nemo.FqFieldElem}(() => 1) Dict{AbstractAlgebra.Perm{Int64}, Nemo.FqFieldElem}(() => 1); Dict{AbstractAlgebra.Perm{Int64}, Nemo.FqFieldElem}(() => 1) Dict{AbstractAlgebra.Perm{Int64}, Nemo.FqFieldElem}((1,2,3,4,5,6,7,8,9) => 1) Dict{AbstractAlgebra.Perm{Int64}, Nemo.FqFieldElem}((1,7,4)(2,8,5)(3,9,6) => 1) Dict{AbstractAlgebra.Perm{Int64}, Nemo.FqFieldElem}((1,8,6,4,2,9,7,5,3) => 1); Dict{AbstractAlgebra.Perm{Int64}, Nemo.FqFieldElem}(() => 1) Dict{AbstractAlgebra.Perm{Int64}, Nemo.FqFieldElem}((1,5,9,4,8,3,7,2,6) => 1) Dict{AbstractAlgebra.Perm{Int64}, Nemo.FqFieldElem}((1,6,2,7,3,8,4,9,5) => 1) Dict{AbstractAlgebra.Perm{Int64}, Nemo.FqFieldElem}((1,3,5,7,9,2,4,6,8) => 1)], QuantumClifford.ECC.permutation_repr)\n",
      "s = NaiveSyndromeECCSetup(0.001, 0.0)\n"
     ]
    },
    {
     "name": "stderr",
     "output_type": "stream",
     "text": [
      "\u001b[33m\u001b[1m┌ \u001b[22m\u001b[39m\u001b[33m\u001b[1mWarning: \u001b[22m\u001b[39m`faults_matrix` was called on an ECC that has redundant rows (is rank-deficient). `faults_matrix` corrected for that, however this is a frequent source of mistakes and inefficiencies. We advise you remove redundant rows from your ECC.\n",
      "\u001b[33m\u001b[1m└ \u001b[22m\u001b[39m\u001b[90m@ QuantumClifford.ECC ~/Documents/Repos/QuantumClifford.jl/src/ecc/ECC.jl:310\u001b[39m\n",
      "\u001b[33m\u001b[1m┌ \u001b[22m\u001b[39m\u001b[33m\u001b[1mWarning: \u001b[22m\u001b[39m`faults_matrix` was called on an ECC that has redundant rows (is rank-deficient). `faults_matrix` corrected for that, however this is a frequent source of mistakes and inefficiencies. We advise you remove redundant rows from your ECC.\n",
      "\u001b[33m\u001b[1m└ \u001b[22m\u001b[39m\u001b[90m@ QuantumClifford.ECC ~/Documents/Repos/QuantumClifford.jl/src/ecc/ECC.jl:310\u001b[39m\n"
     ]
    },
    {
     "name": "stdout",
     "output_type": "stream",
     "text": [
      "e = (2.0e-5, 3.0e-5)\n",
      "c = LPCode(PermGroupRingElem[Dict{AbstractAlgebra.Perm{Int64}, Nemo.FqFieldElem}(() => 1) Dict{AbstractAlgebra.Perm{Int64}, Nemo.FqFieldElem}(() => 1) Dict{AbstractAlgebra.Perm{Int64}, Nemo.FqFieldElem}(() => 1) Dict{AbstractAlgebra.Perm{Int64}, Nemo.FqFieldElem}(() => 1); Dict{AbstractAlgebra.Perm{Int64}, Nemo.FqFieldElem}(() => 1) Dict{AbstractAlgebra.Perm{Int64}, Nemo.FqFieldElem}((1,2,3,4,5,6,7,8,9) => 1) Dict{AbstractAlgebra.Perm{Int64}, Nemo.FqFieldElem}((1,7,4)(2,8,5)(3,9,6) => 1) Dict{AbstractAlgebra.Perm{Int64}, Nemo.FqFieldElem}((1,8,6,4,2,9,7,5,3) => 1); Dict{AbstractAlgebra.Perm{Int64}, Nemo.FqFieldElem}(() => 1) Dict{AbstractAlgebra.Perm{Int64}, Nemo.FqFieldElem}((1,5,9,4,8,3,7,2,6) => 1) Dict{AbstractAlgebra.Perm{Int64}, Nemo.FqFieldElem}((1,6,2,7,3,8,4,9,5) => 1) Dict{AbstractAlgebra.Perm{Int64}, Nemo.FqFieldElem}((1,3,5,7,9,2,4,6,8) => 1)], PermGroupRingElem[Dict{AbstractAlgebra.Perm{Int64}, Nemo.FqFieldElem}(() => 1) Dict{AbstractAlgebra.Perm{Int64}, Nemo.FqFieldElem}(() => 1) Dict{AbstractAlgebra.Perm{Int64}, Nemo.FqFieldElem}(() => 1) Dict{AbstractAlgebra.Perm{Int64}, Nemo.FqFieldElem}(() => 1); Dict{AbstractAlgebra.Perm{Int64}, Nemo.FqFieldElem}(() => 1) Dict{AbstractAlgebra.Perm{Int64}, Nemo.FqFieldElem}((1,2,3,4,5,6,7,8,9) => 1) Dict{AbstractAlgebra.Perm{Int64}, Nemo.FqFieldElem}((1,7,4)(2,8,5)(3,9,6) => 1) Dict{AbstractAlgebra.Perm{Int64}, Nemo.FqFieldElem}((1,8,6,4,2,9,7,5,3) => 1); Dict{AbstractAlgebra.Perm{Int64}, Nemo.FqFieldElem}(() => 1) Dict{AbstractAlgebra.Perm{Int64}, Nemo.FqFieldElem}((1,5,9,4,8,3,7,2,6) => 1) Dict{AbstractAlgebra.Perm{Int64}, Nemo.FqFieldElem}((1,6,2,7,3,8,4,9,5) => 1) Dict{AbstractAlgebra.Perm{Int64}, Nemo.FqFieldElem}((1,3,5,7,9,2,4,6,8) => 1)], QuantumClifford.ECC.permutation_repr)\n",
      "s = ShorSyndromeECCSetup(0.001, 0.0)\n"
     ]
    },
    {
     "name": "stderr",
     "output_type": "stream",
     "text": [
      "\u001b[33m\u001b[1m┌ \u001b[22m\u001b[39m\u001b[33m\u001b[1mWarning: \u001b[22m\u001b[39m`faults_matrix` was called on an ECC that has redundant rows (is rank-deficient). `faults_matrix` corrected for that, however this is a frequent source of mistakes and inefficiencies. We advise you remove redundant rows from your ECC.\n",
      "\u001b[33m\u001b[1m└ \u001b[22m\u001b[39m\u001b[90m@ QuantumClifford.ECC ~/Documents/Repos/QuantumClifford.jl/src/ecc/ECC.jl:310\u001b[39m\n",
      "\u001b[33m\u001b[1m┌ \u001b[22m\u001b[39m\u001b[33m\u001b[1mWarning: \u001b[22m\u001b[39m`faults_matrix` was called on an ECC that has redundant rows (is rank-deficient). `faults_matrix` corrected for that, however this is a frequent source of mistakes and inefficiencies. We advise you remove redundant rows from your ECC.\n",
      "\u001b[33m\u001b[1m└ \u001b[22m\u001b[39m\u001b[90m@ QuantumClifford.ECC ~/Documents/Repos/QuantumClifford.jl/src/ecc/ECC.jl:310\u001b[39m\n"
     ]
    },
    {
     "name": "stdout",
     "output_type": "stream",
     "text": [
      "e = (1.0e-5, 3.0e-5)\n",
      "c = LPCode(PermGroupRingElem[Dict{AbstractAlgebra.Perm{Int64}, Nemo.FqFieldElem}(() => 1) Dict{AbstractAlgebra.Perm{Int64}, Nemo.FqFieldElem}(() => 1) Dict{AbstractAlgebra.Perm{Int64}, Nemo.FqFieldElem}(() => 1) Dict{AbstractAlgebra.Perm{Int64}, Nemo.FqFieldElem}(() => 1); Dict{AbstractAlgebra.Perm{Int64}, Nemo.FqFieldElem}(() => 1) Dict{AbstractAlgebra.Perm{Int64}, Nemo.FqFieldElem}((1,2,3,4,5,6,7,8,9,10,11,12,13,14,15,16,17) => 1) Dict{AbstractAlgebra.Perm{Int64}, Nemo.FqFieldElem}((1,3,5,7,9,11,13,15,17,2,4,6,8,10,12,14,16) => 1) Dict{AbstractAlgebra.Perm{Int64}, Nemo.FqFieldElem}((1,12,6,17,11,5,16,10,4,15,9,3,14,8,2,13,7) => 1); Dict{AbstractAlgebra.Perm{Int64}, Nemo.FqFieldElem}(() => 1) Dict{AbstractAlgebra.Perm{Int64}, Nemo.FqFieldElem}((1,9,17,8,16,7,15,6,14,5,13,4,12,3,11,2,10) => 1) Dict{AbstractAlgebra.Perm{Int64}, Nemo.FqFieldElem}((1,13,8,3,15,10,5,17,12,7,2,14,9,4,16,11,6) => 1) Dict{AbstractAlgebra.Perm{Int64}, Nemo.FqFieldElem}((1,14,10,6,2,15,11,7,3,16,12,8,4,17,13,9,5) => 1)], PermGroupRingElem[Dict{AbstractAlgebra.Perm{Int64}, Nemo.FqFieldElem}(() => 1) Dict{AbstractAlgebra.Perm{Int64}, Nemo.FqFieldElem}(() => 1) Dict{AbstractAlgebra.Perm{Int64}, Nemo.FqFieldElem}(() => 1) Dict{AbstractAlgebra.Perm{Int64}, Nemo.FqFieldElem}(() => 1); Dict{AbstractAlgebra.Perm{Int64}, Nemo.FqFieldElem}(() => 1) Dict{AbstractAlgebra.Perm{Int64}, Nemo.FqFieldElem}((1,2,3,4,5,6,7,8,9,10,11,12,13,14,15,16,17) => 1) Dict{AbstractAlgebra.Perm{Int64}, Nemo.FqFieldElem}((1,3,5,7,9,11,13,15,17,2,4,6,8,10,12,14,16) => 1) Dict{AbstractAlgebra.Perm{Int64}, Nemo.FqFieldElem}((1,12,6,17,11,5,16,10,4,15,9,3,14,8,2,13,7) => 1); Dict{AbstractAlgebra.Perm{Int64}, Nemo.FqFieldElem}(() => 1) Dict{AbstractAlgebra.Perm{Int64}, Nemo.FqFieldElem}((1,9,17,8,16,7,15,6,14,5,13,4,12,3,11,2,10) => 1) Dict{AbstractAlgebra.Perm{Int64}, Nemo.FqFieldElem}((1,13,8,3,15,10,5,17,12,7,2,14,9,4,16,11,6) => 1) Dict{AbstractAlgebra.Perm{Int64}, Nemo.FqFieldElem}((1,14,10,6,2,15,11,7,3,16,12,8,4,17,13,9,5) => 1)], QuantumClifford.ECC.permutation_repr)\n",
      "s = CommutationCheckECCSetup(0.001)\n"
     ]
    },
    {
     "name": "stderr",
     "output_type": "stream",
     "text": [
      "\u001b[33m\u001b[1m┌ \u001b[22m\u001b[39m\u001b[33m\u001b[1mWarning: \u001b[22m\u001b[39m`faults_matrix` was called on an ECC that has redundant rows (is rank-deficient). `faults_matrix` corrected for that, however this is a frequent source of mistakes and inefficiencies. We advise you remove redundant rows from your ECC.\n",
      "\u001b[33m\u001b[1m└ \u001b[22m\u001b[39m\u001b[90m@ QuantumClifford.ECC ~/Documents/Repos/QuantumClifford.jl/src/ecc/ECC.jl:310\u001b[39m\n",
      "\u001b[33m\u001b[1m┌ \u001b[22m\u001b[39m\u001b[33m\u001b[1mWarning: \u001b[22m\u001b[39m`faults_matrix` was called on an ECC that has redundant rows (is rank-deficient). `faults_matrix` corrected for that, however this is a frequent source of mistakes and inefficiencies. We advise you remove redundant rows from your ECC.\n",
      "\u001b[33m\u001b[1m└ \u001b[22m\u001b[39m\u001b[90m@ QuantumClifford.ECC ~/Documents/Repos/QuantumClifford.jl/src/ecc/ECC.jl:310\u001b[39m\n"
     ]
    },
    {
     "name": "stdout",
     "output_type": "stream",
     "text": [
      "e = 0.0\n",
      "c = LPCode(PermGroupRingElem[Dict{AbstractAlgebra.Perm{Int64}, Nemo.FqFieldElem}(() => 1) Dict{AbstractAlgebra.Perm{Int64}, Nemo.FqFieldElem}(() => 1) Dict{AbstractAlgebra.Perm{Int64}, Nemo.FqFieldElem}(() => 1) Dict{AbstractAlgebra.Perm{Int64}, Nemo.FqFieldElem}(() => 1); Dict{AbstractAlgebra.Perm{Int64}, Nemo.FqFieldElem}(() => 1) Dict{AbstractAlgebra.Perm{Int64}, Nemo.FqFieldElem}((1,2,3,4,5,6,7,8,9,10,11,12,13,14,15,16,17) => 1) Dict{AbstractAlgebra.Perm{Int64}, Nemo.FqFieldElem}((1,3,5,7,9,11,13,15,17,2,4,6,8,10,12,14,16) => 1) Dict{AbstractAlgebra.Perm{Int64}, Nemo.FqFieldElem}((1,12,6,17,11,5,16,10,4,15,9,3,14,8,2,13,7) => 1); Dict{AbstractAlgebra.Perm{Int64}, Nemo.FqFieldElem}(() => 1) Dict{AbstractAlgebra.Perm{Int64}, Nemo.FqFieldElem}((1,9,17,8,16,7,15,6,14,5,13,4,12,3,11,2,10) => 1) Dict{AbstractAlgebra.Perm{Int64}, Nemo.FqFieldElem}((1,13,8,3,15,10,5,17,12,7,2,14,9,4,16,11,6) => 1) Dict{AbstractAlgebra.Perm{Int64}, Nemo.FqFieldElem}((1,14,10,6,2,15,11,7,3,16,12,8,4,17,13,9,5) => 1)], PermGroupRingElem[Dict{AbstractAlgebra.Perm{Int64}, Nemo.FqFieldElem}(() => 1) Dict{AbstractAlgebra.Perm{Int64}, Nemo.FqFieldElem}(() => 1) Dict{AbstractAlgebra.Perm{Int64}, Nemo.FqFieldElem}(() => 1) Dict{AbstractAlgebra.Perm{Int64}, Nemo.FqFieldElem}(() => 1); Dict{AbstractAlgebra.Perm{Int64}, Nemo.FqFieldElem}(() => 1) Dict{AbstractAlgebra.Perm{Int64}, Nemo.FqFieldElem}((1,2,3,4,5,6,7,8,9,10,11,12,13,14,15,16,17) => 1) Dict{AbstractAlgebra.Perm{Int64}, Nemo.FqFieldElem}((1,3,5,7,9,11,13,15,17,2,4,6,8,10,12,14,16) => 1) Dict{AbstractAlgebra.Perm{Int64}, Nemo.FqFieldElem}((1,12,6,17,11,5,16,10,4,15,9,3,14,8,2,13,7) => 1); Dict{AbstractAlgebra.Perm{Int64}, Nemo.FqFieldElem}(() => 1) Dict{AbstractAlgebra.Perm{Int64}, Nemo.FqFieldElem}((1,9,17,8,16,7,15,6,14,5,13,4,12,3,11,2,10) => 1) Dict{AbstractAlgebra.Perm{Int64}, Nemo.FqFieldElem}((1,13,8,3,15,10,5,17,12,7,2,14,9,4,16,11,6) => 1) Dict{AbstractAlgebra.Perm{Int64}, Nemo.FqFieldElem}((1,14,10,6,2,15,11,7,3,16,12,8,4,17,13,9,5) => 1)], QuantumClifford.ECC.permutation_repr)\n",
      "s = NaiveSyndromeECCSetup(0.001, 0.0)\n"
     ]
    },
    {
     "name": "stderr",
     "output_type": "stream",
     "text": [
      "\u001b[33m\u001b[1m┌ \u001b[22m\u001b[39m\u001b[33m\u001b[1mWarning: \u001b[22m\u001b[39m`faults_matrix` was called on an ECC that has redundant rows (is rank-deficient). `faults_matrix` corrected for that, however this is a frequent source of mistakes and inefficiencies. We advise you remove redundant rows from your ECC.\n",
      "\u001b[33m\u001b[1m└ \u001b[22m\u001b[39m\u001b[90m@ QuantumClifford.ECC ~/Documents/Repos/QuantumClifford.jl/src/ecc/ECC.jl:310\u001b[39m\n",
      "\u001b[33m\u001b[1m┌ \u001b[22m\u001b[39m\u001b[33m\u001b[1mWarning: \u001b[22m\u001b[39m`faults_matrix` was called on an ECC that has redundant rows (is rank-deficient). `faults_matrix` corrected for that, however this is a frequent source of mistakes and inefficiencies. We advise you remove redundant rows from your ECC.\n",
      "\u001b[33m\u001b[1m└ \u001b[22m\u001b[39m\u001b[90m@ QuantumClifford.ECC ~/Documents/Repos/QuantumClifford.jl/src/ecc/ECC.jl:310\u001b[39m\n"
     ]
    },
    {
     "name": "stdout",
     "output_type": "stream",
     "text": [
      "e = (0.0, 0.0)\n",
      "c = LPCode(PermGroupRingElem[Dict{AbstractAlgebra.Perm{Int64}, Nemo.FqFieldElem}(() => 1) Dict{AbstractAlgebra.Perm{Int64}, Nemo.FqFieldElem}(() => 1) Dict{AbstractAlgebra.Perm{Int64}, Nemo.FqFieldElem}(() => 1) Dict{AbstractAlgebra.Perm{Int64}, Nemo.FqFieldElem}(() => 1); Dict{AbstractAlgebra.Perm{Int64}, Nemo.FqFieldElem}(() => 1) Dict{AbstractAlgebra.Perm{Int64}, Nemo.FqFieldElem}((1,2,3,4,5,6,7,8,9,10,11,12,13,14,15,16,17) => 1) Dict{AbstractAlgebra.Perm{Int64}, Nemo.FqFieldElem}((1,3,5,7,9,11,13,15,17,2,4,6,8,10,12,14,16) => 1) Dict{AbstractAlgebra.Perm{Int64}, Nemo.FqFieldElem}((1,12,6,17,11,5,16,10,4,15,9,3,14,8,2,13,7) => 1); Dict{AbstractAlgebra.Perm{Int64}, Nemo.FqFieldElem}(() => 1) Dict{AbstractAlgebra.Perm{Int64}, Nemo.FqFieldElem}((1,9,17,8,16,7,15,6,14,5,13,4,12,3,11,2,10) => 1) Dict{AbstractAlgebra.Perm{Int64}, Nemo.FqFieldElem}((1,13,8,3,15,10,5,17,12,7,2,14,9,4,16,11,6) => 1) Dict{AbstractAlgebra.Perm{Int64}, Nemo.FqFieldElem}((1,14,10,6,2,15,11,7,3,16,12,8,4,17,13,9,5) => 1)], PermGroupRingElem[Dict{AbstractAlgebra.Perm{Int64}, Nemo.FqFieldElem}(() => 1) Dict{AbstractAlgebra.Perm{Int64}, Nemo.FqFieldElem}(() => 1) Dict{AbstractAlgebra.Perm{Int64}, Nemo.FqFieldElem}(() => 1) Dict{AbstractAlgebra.Perm{Int64}, Nemo.FqFieldElem}(() => 1); Dict{AbstractAlgebra.Perm{Int64}, Nemo.FqFieldElem}(() => 1) Dict{AbstractAlgebra.Perm{Int64}, Nemo.FqFieldElem}((1,2,3,4,5,6,7,8,9,10,11,12,13,14,15,16,17) => 1) Dict{AbstractAlgebra.Perm{Int64}, Nemo.FqFieldElem}((1,3,5,7,9,11,13,15,17,2,4,6,8,10,12,14,16) => 1) Dict{AbstractAlgebra.Perm{Int64}, Nemo.FqFieldElem}((1,12,6,17,11,5,16,10,4,15,9,3,14,8,2,13,7) => 1); Dict{AbstractAlgebra.Perm{Int64}, Nemo.FqFieldElem}(() => 1) Dict{AbstractAlgebra.Perm{Int64}, Nemo.FqFieldElem}((1,9,17,8,16,7,15,6,14,5,13,4,12,3,11,2,10) => 1) Dict{AbstractAlgebra.Perm{Int64}, Nemo.FqFieldElem}((1,13,8,3,15,10,5,17,12,7,2,14,9,4,16,11,6) => 1) Dict{AbstractAlgebra.Perm{Int64}, Nemo.FqFieldElem}((1,14,10,6,2,15,11,7,3,16,12,8,4,17,13,9,5) => 1)], QuantumClifford.ECC.permutation_repr)\n",
      "s = ShorSyndromeECCSetup(0.001, 0.0)\n"
     ]
    },
    {
     "name": "stderr",
     "output_type": "stream",
     "text": [
      "\u001b[33m\u001b[1m┌ \u001b[22m\u001b[39m\u001b[33m\u001b[1mWarning: \u001b[22m\u001b[39m`faults_matrix` was called on an ECC that has redundant rows (is rank-deficient). `faults_matrix` corrected for that, however this is a frequent source of mistakes and inefficiencies. We advise you remove redundant rows from your ECC.\n",
      "\u001b[33m\u001b[1m└ \u001b[22m\u001b[39m\u001b[90m@ QuantumClifford.ECC ~/Documents/Repos/QuantumClifford.jl/src/ecc/ECC.jl:310\u001b[39m\n",
      "\u001b[33m\u001b[1m┌ \u001b[22m\u001b[39m\u001b[33m\u001b[1mWarning: \u001b[22m\u001b[39m`faults_matrix` was called on an ECC that has redundant rows (is rank-deficient). `faults_matrix` corrected for that, however this is a frequent source of mistakes and inefficiencies. We advise you remove redundant rows from your ECC.\n",
      "\u001b[33m\u001b[1m└ \u001b[22m\u001b[39m\u001b[90m@ QuantumClifford.ECC ~/Documents/Repos/QuantumClifford.jl/src/ecc/ECC.jl:310\u001b[39m\n"
     ]
    },
    {
     "name": "stdout",
     "output_type": "stream",
     "text": [
      "e = (0.0, 0.0)\n",
      "c = LPCode(PermGroupRingElem[Dict{AbstractAlgebra.Perm{Int64}, Nemo.FqFieldElem}(() => 1) Dict{AbstractAlgebra.Perm{Int64}, Nemo.FqFieldElem}(() => 1) Dict{AbstractAlgebra.Perm{Int64}, Nemo.FqFieldElem}(() => 1) Dict{AbstractAlgebra.Perm{Int64}, Nemo.FqFieldElem}(() => 1); Dict{AbstractAlgebra.Perm{Int64}, Nemo.FqFieldElem}(() => 1) Dict{AbstractAlgebra.Perm{Int64}, Nemo.FqFieldElem}((1,3,5,7,9,11,13,15,17,19,2,4,6,8,10,12,14,16,18) => 1) Dict{AbstractAlgebra.Perm{Int64}, Nemo.FqFieldElem}((1,7,13,19,6,12,18,5,11,17,4,10,16,3,9,15,2,8,14) => 1) Dict{AbstractAlgebra.Perm{Int64}, Nemo.FqFieldElem}((1,10,19,9,18,8,17,7,16,6,15,5,14,4,13,3,12,2,11) => 1); Dict{AbstractAlgebra.Perm{Int64}, Nemo.FqFieldElem}(() => 1) Dict{AbstractAlgebra.Perm{Int64}, Nemo.FqFieldElem}((1,17,14,11,8,5,2,18,15,12,9,6,3,19,16,13,10,7,4) => 1) Dict{AbstractAlgebra.Perm{Int64}, Nemo.FqFieldElem}((1,8,15,3,10,17,5,12,19,7,14,2,9,16,4,11,18,6,13) => 1) Dict{AbstractAlgebra.Perm{Int64}, Nemo.FqFieldElem}((1,12,4,15,7,18,10,2,13,5,16,8,19,11,3,14,6,17,9) => 1)], PermGroupRingElem[Dict{AbstractAlgebra.Perm{Int64}, Nemo.FqFieldElem}(() => 1) Dict{AbstractAlgebra.Perm{Int64}, Nemo.FqFieldElem}(() => 1) Dict{AbstractAlgebra.Perm{Int64}, Nemo.FqFieldElem}(() => 1) Dict{AbstractAlgebra.Perm{Int64}, Nemo.FqFieldElem}(() => 1); Dict{AbstractAlgebra.Perm{Int64}, Nemo.FqFieldElem}(() => 1) Dict{AbstractAlgebra.Perm{Int64}, Nemo.FqFieldElem}((1,3,5,7,9,11,13,15,17,19,2,4,6,8,10,12,14,16,18) => 1) Dict{AbstractAlgebra.Perm{Int64}, Nemo.FqFieldElem}((1,7,13,19,6,12,18,5,11,17,4,10,16,3,9,15,2,8,14) => 1) Dict{AbstractAlgebra.Perm{Int64}, Nemo.FqFieldElem}((1,10,19,9,18,8,17,7,16,6,15,5,14,4,13,3,12,2,11) => 1); Dict{AbstractAlgebra.Perm{Int64}, Nemo.FqFieldElem}(() => 1) Dict{AbstractAlgebra.Perm{Int64}, Nemo.FqFieldElem}((1,17,14,11,8,5,2,18,15,12,9,6,3,19,16,13,10,7,4) => 1) Dict{AbstractAlgebra.Perm{Int64}, Nemo.FqFieldElem}((1,8,15,3,10,17,5,12,19,7,14,2,9,16,4,11,18,6,13) => 1) Dict{AbstractAlgebra.Perm{Int64}, Nemo.FqFieldElem}((1,12,4,15,7,18,10,2,13,5,16,8,19,11,3,14,6,17,9) => 1)], QuantumClifford.ECC.permutation_repr)\n",
      "s = CommutationCheckECCSetup(0.001)\n"
     ]
    },
    {
     "name": "stderr",
     "output_type": "stream",
     "text": [
      "\u001b[33m\u001b[1m┌ \u001b[22m\u001b[39m\u001b[33m\u001b[1mWarning: \u001b[22m\u001b[39m`faults_matrix` was called on an ECC that has redundant rows (is rank-deficient). `faults_matrix` corrected for that, however this is a frequent source of mistakes and inefficiencies. We advise you remove redundant rows from your ECC.\n",
      "\u001b[33m\u001b[1m└ \u001b[22m\u001b[39m\u001b[90m@ QuantumClifford.ECC ~/Documents/Repos/QuantumClifford.jl/src/ecc/ECC.jl:310\u001b[39m\n",
      "\u001b[33m\u001b[1m┌ \u001b[22m\u001b[39m\u001b[33m\u001b[1mWarning: \u001b[22m\u001b[39m`faults_matrix` was called on an ECC that has redundant rows (is rank-deficient). `faults_matrix` corrected for that, however this is a frequent source of mistakes and inefficiencies. We advise you remove redundant rows from your ECC.\n",
      "\u001b[33m\u001b[1m└ \u001b[22m\u001b[39m\u001b[90m@ QuantumClifford.ECC ~/Documents/Repos/QuantumClifford.jl/src/ecc/ECC.jl:310\u001b[39m\n"
     ]
    },
    {
     "name": "stdout",
     "output_type": "stream",
     "text": [
      "e = 0.0\n",
      "c = LPCode(PermGroupRingElem[Dict{AbstractAlgebra.Perm{Int64}, Nemo.FqFieldElem}(() => 1) Dict{AbstractAlgebra.Perm{Int64}, Nemo.FqFieldElem}(() => 1) Dict{AbstractAlgebra.Perm{Int64}, Nemo.FqFieldElem}(() => 1) Dict{AbstractAlgebra.Perm{Int64}, Nemo.FqFieldElem}(() => 1); Dict{AbstractAlgebra.Perm{Int64}, Nemo.FqFieldElem}(() => 1) Dict{AbstractAlgebra.Perm{Int64}, Nemo.FqFieldElem}((1,3,5,7,9,11,13,15,17,19,2,4,6,8,10,12,14,16,18) => 1) Dict{AbstractAlgebra.Perm{Int64}, Nemo.FqFieldElem}((1,7,13,19,6,12,18,5,11,17,4,10,16,3,9,15,2,8,14) => 1) Dict{AbstractAlgebra.Perm{Int64}, Nemo.FqFieldElem}((1,10,19,9,18,8,17,7,16,6,15,5,14,4,13,3,12,2,11) => 1); Dict{AbstractAlgebra.Perm{Int64}, Nemo.FqFieldElem}(() => 1) Dict{AbstractAlgebra.Perm{Int64}, Nemo.FqFieldElem}((1,17,14,11,8,5,2,18,15,12,9,6,3,19,16,13,10,7,4) => 1) Dict{AbstractAlgebra.Perm{Int64}, Nemo.FqFieldElem}((1,8,15,3,10,17,5,12,19,7,14,2,9,16,4,11,18,6,13) => 1) Dict{AbstractAlgebra.Perm{Int64}, Nemo.FqFieldElem}((1,12,4,15,7,18,10,2,13,5,16,8,19,11,3,14,6,17,9) => 1)], PermGroupRingElem[Dict{AbstractAlgebra.Perm{Int64}, Nemo.FqFieldElem}(() => 1) Dict{AbstractAlgebra.Perm{Int64}, Nemo.FqFieldElem}(() => 1) Dict{AbstractAlgebra.Perm{Int64}, Nemo.FqFieldElem}(() => 1) Dict{AbstractAlgebra.Perm{Int64}, Nemo.FqFieldElem}(() => 1); Dict{AbstractAlgebra.Perm{Int64}, Nemo.FqFieldElem}(() => 1) Dict{AbstractAlgebra.Perm{Int64}, Nemo.FqFieldElem}((1,3,5,7,9,11,13,15,17,19,2,4,6,8,10,12,14,16,18) => 1) Dict{AbstractAlgebra.Perm{Int64}, Nemo.FqFieldElem}((1,7,13,19,6,12,18,5,11,17,4,10,16,3,9,15,2,8,14) => 1) Dict{AbstractAlgebra.Perm{Int64}, Nemo.FqFieldElem}((1,10,19,9,18,8,17,7,16,6,15,5,14,4,13,3,12,2,11) => 1); Dict{AbstractAlgebra.Perm{Int64}, Nemo.FqFieldElem}(() => 1) Dict{AbstractAlgebra.Perm{Int64}, Nemo.FqFieldElem}((1,17,14,11,8,5,2,18,15,12,9,6,3,19,16,13,10,7,4) => 1) Dict{AbstractAlgebra.Perm{Int64}, Nemo.FqFieldElem}((1,8,15,3,10,17,5,12,19,7,14,2,9,16,4,11,18,6,13) => 1) Dict{AbstractAlgebra.Perm{Int64}, Nemo.FqFieldElem}((1,12,4,15,7,18,10,2,13,5,16,8,19,11,3,14,6,17,9) => 1)], QuantumClifford.ECC.permutation_repr)\n",
      "s = NaiveSyndromeECCSetup(0.001, 0.0)\n"
     ]
    },
    {
     "name": "stderr",
     "output_type": "stream",
     "text": [
      "\u001b[33m\u001b[1m┌ \u001b[22m\u001b[39m\u001b[33m\u001b[1mWarning: \u001b[22m\u001b[39m`faults_matrix` was called on an ECC that has redundant rows (is rank-deficient). `faults_matrix` corrected for that, however this is a frequent source of mistakes and inefficiencies. We advise you remove redundant rows from your ECC.\n",
      "\u001b[33m\u001b[1m└ \u001b[22m\u001b[39m\u001b[90m@ QuantumClifford.ECC ~/Documents/Repos/QuantumClifford.jl/src/ecc/ECC.jl:310\u001b[39m\n",
      "\u001b[33m\u001b[1m┌ \u001b[22m\u001b[39m\u001b[33m\u001b[1mWarning: \u001b[22m\u001b[39m`faults_matrix` was called on an ECC that has redundant rows (is rank-deficient). `faults_matrix` corrected for that, however this is a frequent source of mistakes and inefficiencies. We advise you remove redundant rows from your ECC.\n",
      "\u001b[33m\u001b[1m└ \u001b[22m\u001b[39m\u001b[90m@ QuantumClifford.ECC ~/Documents/Repos/QuantumClifford.jl/src/ecc/ECC.jl:310\u001b[39m\n"
     ]
    },
    {
     "name": "stdout",
     "output_type": "stream",
     "text": [
      "e = (0.0, 0.0)\n",
      "c = LPCode(PermGroupRingElem[Dict{AbstractAlgebra.Perm{Int64}, Nemo.FqFieldElem}(() => 1) Dict{AbstractAlgebra.Perm{Int64}, Nemo.FqFieldElem}(() => 1) Dict{AbstractAlgebra.Perm{Int64}, Nemo.FqFieldElem}(() => 1) Dict{AbstractAlgebra.Perm{Int64}, Nemo.FqFieldElem}(() => 1); Dict{AbstractAlgebra.Perm{Int64}, Nemo.FqFieldElem}(() => 1) Dict{AbstractAlgebra.Perm{Int64}, Nemo.FqFieldElem}((1,3,5,7,9,11,13,15,17,19,2,4,6,8,10,12,14,16,18) => 1) Dict{AbstractAlgebra.Perm{Int64}, Nemo.FqFieldElem}((1,7,13,19,6,12,18,5,11,17,4,10,16,3,9,15,2,8,14) => 1) Dict{AbstractAlgebra.Perm{Int64}, Nemo.FqFieldElem}((1,10,19,9,18,8,17,7,16,6,15,5,14,4,13,3,12,2,11) => 1); Dict{AbstractAlgebra.Perm{Int64}, Nemo.FqFieldElem}(() => 1) Dict{AbstractAlgebra.Perm{Int64}, Nemo.FqFieldElem}((1,17,14,11,8,5,2,18,15,12,9,6,3,19,16,13,10,7,4) => 1) Dict{AbstractAlgebra.Perm{Int64}, Nemo.FqFieldElem}((1,8,15,3,10,17,5,12,19,7,14,2,9,16,4,11,18,6,13) => 1) Dict{AbstractAlgebra.Perm{Int64}, Nemo.FqFieldElem}((1,12,4,15,7,18,10,2,13,5,16,8,19,11,3,14,6,17,9) => 1)], PermGroupRingElem[Dict{AbstractAlgebra.Perm{Int64}, Nemo.FqFieldElem}(() => 1) Dict{AbstractAlgebra.Perm{Int64}, Nemo.FqFieldElem}(() => 1) Dict{AbstractAlgebra.Perm{Int64}, Nemo.FqFieldElem}(() => 1) Dict{AbstractAlgebra.Perm{Int64}, Nemo.FqFieldElem}(() => 1); Dict{AbstractAlgebra.Perm{Int64}, Nemo.FqFieldElem}(() => 1) Dict{AbstractAlgebra.Perm{Int64}, Nemo.FqFieldElem}((1,3,5,7,9,11,13,15,17,19,2,4,6,8,10,12,14,16,18) => 1) Dict{AbstractAlgebra.Perm{Int64}, Nemo.FqFieldElem}((1,7,13,19,6,12,18,5,11,17,4,10,16,3,9,15,2,8,14) => 1) Dict{AbstractAlgebra.Perm{Int64}, Nemo.FqFieldElem}((1,10,19,9,18,8,17,7,16,6,15,5,14,4,13,3,12,2,11) => 1); Dict{AbstractAlgebra.Perm{Int64}, Nemo.FqFieldElem}(() => 1) Dict{AbstractAlgebra.Perm{Int64}, Nemo.FqFieldElem}((1,17,14,11,8,5,2,18,15,12,9,6,3,19,16,13,10,7,4) => 1) Dict{AbstractAlgebra.Perm{Int64}, Nemo.FqFieldElem}((1,8,15,3,10,17,5,12,19,7,14,2,9,16,4,11,18,6,13) => 1) Dict{AbstractAlgebra.Perm{Int64}, Nemo.FqFieldElem}((1,12,4,15,7,18,10,2,13,5,16,8,19,11,3,14,6,17,9) => 1)], QuantumClifford.ECC.permutation_repr)\n",
      "s = ShorSyndromeECCSetup(0.001, 0.0)\n"
     ]
    },
    {
     "name": "stderr",
     "output_type": "stream",
     "text": [
      "\u001b[33m\u001b[1m┌ \u001b[22m\u001b[39m\u001b[33m\u001b[1mWarning: \u001b[22m\u001b[39m`faults_matrix` was called on an ECC that has redundant rows (is rank-deficient). `faults_matrix` corrected for that, however this is a frequent source of mistakes and inefficiencies. We advise you remove redundant rows from your ECC.\n",
      "\u001b[33m\u001b[1m└ \u001b[22m\u001b[39m\u001b[90m@ QuantumClifford.ECC ~/Documents/Repos/QuantumClifford.jl/src/ecc/ECC.jl:310\u001b[39m\n",
      "\u001b[33m\u001b[1m┌ \u001b[22m\u001b[39m\u001b[33m\u001b[1mWarning: \u001b[22m\u001b[39m`faults_matrix` was called on an ECC that has redundant rows (is rank-deficient). `faults_matrix` corrected for that, however this is a frequent source of mistakes and inefficiencies. We advise you remove redundant rows from your ECC.\n",
      "\u001b[33m\u001b[1m└ \u001b[22m\u001b[39m\u001b[90m@ QuantumClifford.ECC ~/Documents/Repos/QuantumClifford.jl/src/ecc/ECC.jl:310\u001b[39m\n"
     ]
    },
    {
     "name": "stdout",
     "output_type": "stream",
     "text": [
      "e = (0.0, 0.0)\n",
      "c = LPCode(PermGroupRingElem[Dict{AbstractAlgebra.Perm{Int64}, Nemo.FqFieldElem}(() => 1) Dict{AbstractAlgebra.Perm{Int64}, Nemo.FqFieldElem}(() => 1) Dict{AbstractAlgebra.Perm{Int64}, Nemo.FqFieldElem}(() => 1) Dict{AbstractAlgebra.Perm{Int64}, Nemo.FqFieldElem}(() => 1) Dict{AbstractAlgebra.Perm{Int64}, Nemo.FqFieldElem}(() => 1); Dict{AbstractAlgebra.Perm{Int64}, Nemo.FqFieldElem}(() => 1) Dict{AbstractAlgebra.Perm{Int64}, Nemo.FqFieldElem}((1,3,5,7,9,11,13,15)(2,4,6,8,10,12,14,16) => 1) Dict{AbstractAlgebra.Perm{Int64}, Nemo.FqFieldElem}((1,5,9,13)(2,6,10,14)(3,7,11,15)(4,8,12,16) => 1) Dict{AbstractAlgebra.Perm{Int64}, Nemo.FqFieldElem}((1,8,15,6,13,4,11,2,9,16,7,14,5,12,3,10) => 1) Dict{AbstractAlgebra.Perm{Int64}, Nemo.FqFieldElem}((1,12,7,2,13,8,3,14,9,4,15,10,5,16,11,6) => 1); Dict{AbstractAlgebra.Perm{Int64}, Nemo.FqFieldElem}(() => 1) Dict{AbstractAlgebra.Perm{Int64}, Nemo.FqFieldElem}((1,4,7,10,13,16,3,6,9,12,15,2,5,8,11,14) => 1) Dict{AbstractAlgebra.Perm{Int64}, Nemo.FqFieldElem}((1,11,5,15,9,3,13,7)(2,12,6,16,10,4,14,8) => 1) Dict{AbstractAlgebra.Perm{Int64}, Nemo.FqFieldElem}((1,15,13,11,9,7,5,3)(2,16,14,12,10,8,6,4) => 1) Dict{AbstractAlgebra.Perm{Int64}, Nemo.FqFieldElem}((1,16,15,14,13,12,11,10,9,8,7,6,5,4,3,2) => 1)], PermGroupRingElem[Dict{AbstractAlgebra.Perm{Int64}, Nemo.FqFieldElem}(() => 1) Dict{AbstractAlgebra.Perm{Int64}, Nemo.FqFieldElem}(() => 1) Dict{AbstractAlgebra.Perm{Int64}, Nemo.FqFieldElem}(() => 1) Dict{AbstractAlgebra.Perm{Int64}, Nemo.FqFieldElem}(() => 1) Dict{AbstractAlgebra.Perm{Int64}, Nemo.FqFieldElem}(() => 1); Dict{AbstractAlgebra.Perm{Int64}, Nemo.FqFieldElem}(() => 1) Dict{AbstractAlgebra.Perm{Int64}, Nemo.FqFieldElem}((1,3,5,7,9,11,13,15)(2,4,6,8,10,12,14,16) => 1) Dict{AbstractAlgebra.Perm{Int64}, Nemo.FqFieldElem}((1,5,9,13)(2,6,10,14)(3,7,11,15)(4,8,12,16) => 1) Dict{AbstractAlgebra.Perm{Int64}, Nemo.FqFieldElem}((1,8,15,6,13,4,11,2,9,16,7,14,5,12,3,10) => 1) Dict{AbstractAlgebra.Perm{Int64}, Nemo.FqFieldElem}((1,12,7,2,13,8,3,14,9,4,15,10,5,16,11,6) => 1); Dict{AbstractAlgebra.Perm{Int64}, Nemo.FqFieldElem}(() => 1) Dict{AbstractAlgebra.Perm{Int64}, Nemo.FqFieldElem}((1,4,7,10,13,16,3,6,9,12,15,2,5,8,11,14) => 1) Dict{AbstractAlgebra.Perm{Int64}, Nemo.FqFieldElem}((1,11,5,15,9,3,13,7)(2,12,6,16,10,4,14,8) => 1) Dict{AbstractAlgebra.Perm{Int64}, Nemo.FqFieldElem}((1,15,13,11,9,7,5,3)(2,16,14,12,10,8,6,4) => 1) Dict{AbstractAlgebra.Perm{Int64}, Nemo.FqFieldElem}((1,16,15,14,13,12,11,10,9,8,7,6,5,4,3,2) => 1)], QuantumClifford.ECC.permutation_repr)\n",
      "s = CommutationCheckECCSetup(0.001)\n"
     ]
    },
    {
     "name": "stderr",
     "output_type": "stream",
     "text": [
      "\u001b[33m\u001b[1m┌ \u001b[22m\u001b[39m\u001b[33m\u001b[1mWarning: \u001b[22m\u001b[39m`faults_matrix` was called on an ECC that has redundant rows (is rank-deficient). `faults_matrix` corrected for that, however this is a frequent source of mistakes and inefficiencies. We advise you remove redundant rows from your ECC.\n",
      "\u001b[33m\u001b[1m└ \u001b[22m\u001b[39m\u001b[90m@ QuantumClifford.ECC ~/Documents/Repos/QuantumClifford.jl/src/ecc/ECC.jl:310\u001b[39m\n",
      "\u001b[33m\u001b[1m┌ \u001b[22m\u001b[39m\u001b[33m\u001b[1mWarning: \u001b[22m\u001b[39m`faults_matrix` was called on an ECC that has redundant rows (is rank-deficient). `faults_matrix` corrected for that, however this is a frequent source of mistakes and inefficiencies. We advise you remove redundant rows from your ECC.\n",
      "\u001b[33m\u001b[1m└ \u001b[22m\u001b[39m\u001b[90m@ QuantumClifford.ECC ~/Documents/Repos/QuantumClifford.jl/src/ecc/ECC.jl:310\u001b[39m\n"
     ]
    },
    {
     "name": "stdout",
     "output_type": "stream",
     "text": [
      "e = 0.0\n",
      "c = LPCode(PermGroupRingElem[Dict{AbstractAlgebra.Perm{Int64}, Nemo.FqFieldElem}(() => 1) Dict{AbstractAlgebra.Perm{Int64}, Nemo.FqFieldElem}(() => 1) Dict{AbstractAlgebra.Perm{Int64}, Nemo.FqFieldElem}(() => 1) Dict{AbstractAlgebra.Perm{Int64}, Nemo.FqFieldElem}(() => 1) Dict{AbstractAlgebra.Perm{Int64}, Nemo.FqFieldElem}(() => 1); Dict{AbstractAlgebra.Perm{Int64}, Nemo.FqFieldElem}(() => 1) Dict{AbstractAlgebra.Perm{Int64}, Nemo.FqFieldElem}((1,3,5,7,9,11,13,15)(2,4,6,8,10,12,14,16) => 1) Dict{AbstractAlgebra.Perm{Int64}, Nemo.FqFieldElem}((1,5,9,13)(2,6,10,14)(3,7,11,15)(4,8,12,16) => 1) Dict{AbstractAlgebra.Perm{Int64}, Nemo.FqFieldElem}((1,8,15,6,13,4,11,2,9,16,7,14,5,12,3,10) => 1) Dict{AbstractAlgebra.Perm{Int64}, Nemo.FqFieldElem}((1,12,7,2,13,8,3,14,9,4,15,10,5,16,11,6) => 1); Dict{AbstractAlgebra.Perm{Int64}, Nemo.FqFieldElem}(() => 1) Dict{AbstractAlgebra.Perm{Int64}, Nemo.FqFieldElem}((1,4,7,10,13,16,3,6,9,12,15,2,5,8,11,14) => 1) Dict{AbstractAlgebra.Perm{Int64}, Nemo.FqFieldElem}((1,11,5,15,9,3,13,7)(2,12,6,16,10,4,14,8) => 1) Dict{AbstractAlgebra.Perm{Int64}, Nemo.FqFieldElem}((1,15,13,11,9,7,5,3)(2,16,14,12,10,8,6,4) => 1) Dict{AbstractAlgebra.Perm{Int64}, Nemo.FqFieldElem}((1,16,15,14,13,12,11,10,9,8,7,6,5,4,3,2) => 1)], PermGroupRingElem[Dict{AbstractAlgebra.Perm{Int64}, Nemo.FqFieldElem}(() => 1) Dict{AbstractAlgebra.Perm{Int64}, Nemo.FqFieldElem}(() => 1) Dict{AbstractAlgebra.Perm{Int64}, Nemo.FqFieldElem}(() => 1) Dict{AbstractAlgebra.Perm{Int64}, Nemo.FqFieldElem}(() => 1) Dict{AbstractAlgebra.Perm{Int64}, Nemo.FqFieldElem}(() => 1); Dict{AbstractAlgebra.Perm{Int64}, Nemo.FqFieldElem}(() => 1) Dict{AbstractAlgebra.Perm{Int64}, Nemo.FqFieldElem}((1,3,5,7,9,11,13,15)(2,4,6,8,10,12,14,16) => 1) Dict{AbstractAlgebra.Perm{Int64}, Nemo.FqFieldElem}((1,5,9,13)(2,6,10,14)(3,7,11,15)(4,8,12,16) => 1) Dict{AbstractAlgebra.Perm{Int64}, Nemo.FqFieldElem}((1,8,15,6,13,4,11,2,9,16,7,14,5,12,3,10) => 1) Dict{AbstractAlgebra.Perm{Int64}, Nemo.FqFieldElem}((1,12,7,2,13,8,3,14,9,4,15,10,5,16,11,6) => 1); Dict{AbstractAlgebra.Perm{Int64}, Nemo.FqFieldElem}(() => 1) Dict{AbstractAlgebra.Perm{Int64}, Nemo.FqFieldElem}((1,4,7,10,13,16,3,6,9,12,15,2,5,8,11,14) => 1) Dict{AbstractAlgebra.Perm{Int64}, Nemo.FqFieldElem}((1,11,5,15,9,3,13,7)(2,12,6,16,10,4,14,8) => 1) Dict{AbstractAlgebra.Perm{Int64}, Nemo.FqFieldElem}((1,15,13,11,9,7,5,3)(2,16,14,12,10,8,6,4) => 1) Dict{AbstractAlgebra.Perm{Int64}, Nemo.FqFieldElem}((1,16,15,14,13,12,11,10,9,8,7,6,5,4,3,2) => 1)], QuantumClifford.ECC.permutation_repr)\n",
      "s = NaiveSyndromeECCSetup(0.001, 0.0)\n"
     ]
    },
    {
     "name": "stderr",
     "output_type": "stream",
     "text": [
      "\u001b[33m\u001b[1m┌ \u001b[22m\u001b[39m\u001b[33m\u001b[1mWarning: \u001b[22m\u001b[39m`faults_matrix` was called on an ECC that has redundant rows (is rank-deficient). `faults_matrix` corrected for that, however this is a frequent source of mistakes and inefficiencies. We advise you remove redundant rows from your ECC.\n",
      "\u001b[33m\u001b[1m└ \u001b[22m\u001b[39m\u001b[90m@ QuantumClifford.ECC ~/Documents/Repos/QuantumClifford.jl/src/ecc/ECC.jl:310\u001b[39m\n",
      "\u001b[33m\u001b[1m┌ \u001b[22m\u001b[39m\u001b[33m\u001b[1mWarning: \u001b[22m\u001b[39m`faults_matrix` was called on an ECC that has redundant rows (is rank-deficient). `faults_matrix` corrected for that, however this is a frequent source of mistakes and inefficiencies. We advise you remove redundant rows from your ECC.\n",
      "\u001b[33m\u001b[1m└ \u001b[22m\u001b[39m\u001b[90m@ QuantumClifford.ECC ~/Documents/Repos/QuantumClifford.jl/src/ecc/ECC.jl:310\u001b[39m\n"
     ]
    },
    {
     "name": "stdout",
     "output_type": "stream",
     "text": [
      "e = (0.0, 0.0)\n",
      "c = LPCode(PermGroupRingElem[Dict{AbstractAlgebra.Perm{Int64}, Nemo.FqFieldElem}(() => 1) Dict{AbstractAlgebra.Perm{Int64}, Nemo.FqFieldElem}(() => 1) Dict{AbstractAlgebra.Perm{Int64}, Nemo.FqFieldElem}(() => 1) Dict{AbstractAlgebra.Perm{Int64}, Nemo.FqFieldElem}(() => 1) Dict{AbstractAlgebra.Perm{Int64}, Nemo.FqFieldElem}(() => 1); Dict{AbstractAlgebra.Perm{Int64}, Nemo.FqFieldElem}(() => 1) Dict{AbstractAlgebra.Perm{Int64}, Nemo.FqFieldElem}((1,3,5,7,9,11,13,15)(2,4,6,8,10,12,14,16) => 1) Dict{AbstractAlgebra.Perm{Int64}, Nemo.FqFieldElem}((1,5,9,13)(2,6,10,14)(3,7,11,15)(4,8,12,16) => 1) Dict{AbstractAlgebra.Perm{Int64}, Nemo.FqFieldElem}((1,8,15,6,13,4,11,2,9,16,7,14,5,12,3,10) => 1) Dict{AbstractAlgebra.Perm{Int64}, Nemo.FqFieldElem}((1,12,7,2,13,8,3,14,9,4,15,10,5,16,11,6) => 1); Dict{AbstractAlgebra.Perm{Int64}, Nemo.FqFieldElem}(() => 1) Dict{AbstractAlgebra.Perm{Int64}, Nemo.FqFieldElem}((1,4,7,10,13,16,3,6,9,12,15,2,5,8,11,14) => 1) Dict{AbstractAlgebra.Perm{Int64}, Nemo.FqFieldElem}((1,11,5,15,9,3,13,7)(2,12,6,16,10,4,14,8) => 1) Dict{AbstractAlgebra.Perm{Int64}, Nemo.FqFieldElem}((1,15,13,11,9,7,5,3)(2,16,14,12,10,8,6,4) => 1) Dict{AbstractAlgebra.Perm{Int64}, Nemo.FqFieldElem}((1,16,15,14,13,12,11,10,9,8,7,6,5,4,3,2) => 1)], PermGroupRingElem[Dict{AbstractAlgebra.Perm{Int64}, Nemo.FqFieldElem}(() => 1) Dict{AbstractAlgebra.Perm{Int64}, Nemo.FqFieldElem}(() => 1) Dict{AbstractAlgebra.Perm{Int64}, Nemo.FqFieldElem}(() => 1) Dict{AbstractAlgebra.Perm{Int64}, Nemo.FqFieldElem}(() => 1) Dict{AbstractAlgebra.Perm{Int64}, Nemo.FqFieldElem}(() => 1); Dict{AbstractAlgebra.Perm{Int64}, Nemo.FqFieldElem}(() => 1) Dict{AbstractAlgebra.Perm{Int64}, Nemo.FqFieldElem}((1,3,5,7,9,11,13,15)(2,4,6,8,10,12,14,16) => 1) Dict{AbstractAlgebra.Perm{Int64}, Nemo.FqFieldElem}((1,5,9,13)(2,6,10,14)(3,7,11,15)(4,8,12,16) => 1) Dict{AbstractAlgebra.Perm{Int64}, Nemo.FqFieldElem}((1,8,15,6,13,4,11,2,9,16,7,14,5,12,3,10) => 1) Dict{AbstractAlgebra.Perm{Int64}, Nemo.FqFieldElem}((1,12,7,2,13,8,3,14,9,4,15,10,5,16,11,6) => 1); Dict{AbstractAlgebra.Perm{Int64}, Nemo.FqFieldElem}(() => 1) Dict{AbstractAlgebra.Perm{Int64}, Nemo.FqFieldElem}((1,4,7,10,13,16,3,6,9,12,15,2,5,8,11,14) => 1) Dict{AbstractAlgebra.Perm{Int64}, Nemo.FqFieldElem}((1,11,5,15,9,3,13,7)(2,12,6,16,10,4,14,8) => 1) Dict{AbstractAlgebra.Perm{Int64}, Nemo.FqFieldElem}((1,15,13,11,9,7,5,3)(2,16,14,12,10,8,6,4) => 1) Dict{AbstractAlgebra.Perm{Int64}, Nemo.FqFieldElem}((1,16,15,14,13,12,11,10,9,8,7,6,5,4,3,2) => 1)], QuantumClifford.ECC.permutation_repr)\n",
      "s = ShorSyndromeECCSetup(0.001, 0.0)\n"
     ]
    },
    {
     "name": "stderr",
     "output_type": "stream",
     "text": [
      "\u001b[33m\u001b[1m┌ \u001b[22m\u001b[39m\u001b[33m\u001b[1mWarning: \u001b[22m\u001b[39m`faults_matrix` was called on an ECC that has redundant rows (is rank-deficient). `faults_matrix` corrected for that, however this is a frequent source of mistakes and inefficiencies. We advise you remove redundant rows from your ECC.\n",
      "\u001b[33m\u001b[1m└ \u001b[22m\u001b[39m\u001b[90m@ QuantumClifford.ECC ~/Documents/Repos/QuantumClifford.jl/src/ecc/ECC.jl:310\u001b[39m\n",
      "\u001b[33m\u001b[1m┌ \u001b[22m\u001b[39m\u001b[33m\u001b[1mWarning: \u001b[22m\u001b[39m`faults_matrix` was called on an ECC that has redundant rows (is rank-deficient). `faults_matrix` corrected for that, however this is a frequent source of mistakes and inefficiencies. We advise you remove redundant rows from your ECC.\n",
      "\u001b[33m\u001b[1m└ \u001b[22m\u001b[39m\u001b[90m@ QuantumClifford.ECC ~/Documents/Repos/QuantumClifford.jl/src/ecc/ECC.jl:310\u001b[39m\n"
     ]
    },
    {
     "name": "stdout",
     "output_type": "stream",
     "text": [
      "e = (0.0, 0.0)\n",
      "c = LPCode(PermGroupRingElem[Dict{AbstractAlgebra.Perm{Int64}, Nemo.FqFieldElem}(() => 1) Dict{AbstractAlgebra.Perm{Int64}, Nemo.FqFieldElem}(() => 1) Dict{AbstractAlgebra.Perm{Int64}, Nemo.FqFieldElem}(() => 1) Dict{AbstractAlgebra.Perm{Int64}, Nemo.FqFieldElem}(() => 1) Dict{AbstractAlgebra.Perm{Int64}, Nemo.FqFieldElem}(() => 1); Dict{AbstractAlgebra.Perm{Int64}, Nemo.FqFieldElem}(() => 1) Dict{AbstractAlgebra.Perm{Int64}, Nemo.FqFieldElem}((1,5,9,13,17,21,4,8,12,16,20,3,7,11,15,19,2,6,10,14,18) => 1) Dict{AbstractAlgebra.Perm{Int64}, Nemo.FqFieldElem}((1,6,11,16,21,5,10,15,20,4,9,14,19,3,8,13,18,2,7,12,17) => 1) Dict{AbstractAlgebra.Perm{Int64}, Nemo.FqFieldElem}((1,8,15)(2,9,16)(3,10,17)(4,11,18)(5,12,19)(6,13,20)(7,14,21) => 1) Dict{AbstractAlgebra.Perm{Int64}, Nemo.FqFieldElem}((1,18,14,10,6,2,19,15,11,7,3,20,16,12,8,4,21,17,13,9,5) => 1); Dict{AbstractAlgebra.Perm{Int64}, Nemo.FqFieldElem}(() => 1) Dict{AbstractAlgebra.Perm{Int64}, Nemo.FqFieldElem}((1,15,8)(2,16,9)(3,17,10)(4,18,11)(5,19,12)(6,20,13)(7,21,14) => 1) Dict{AbstractAlgebra.Perm{Int64}, Nemo.FqFieldElem}((1,19,16,13,10,7,4)(2,20,17,14,11,8,5)(3,21,18,15,12,9,6) => 1) Dict{AbstractAlgebra.Perm{Int64}, Nemo.FqFieldElem}((1,13,4,16,7,19,10)(2,14,5,17,8,20,11)(3,15,6,18,9,21,12) => 1) Dict{AbstractAlgebra.Perm{Int64}, Nemo.FqFieldElem}((1,12,2,13,3,14,4,15,5,16,6,17,7,18,8,19,9,20,10,21,11) => 1)], PermGroupRingElem[Dict{AbstractAlgebra.Perm{Int64}, Nemo.FqFieldElem}(() => 1) Dict{AbstractAlgebra.Perm{Int64}, Nemo.FqFieldElem}(() => 1) Dict{AbstractAlgebra.Perm{Int64}, Nemo.FqFieldElem}(() => 1) Dict{AbstractAlgebra.Perm{Int64}, Nemo.FqFieldElem}(() => 1) Dict{AbstractAlgebra.Perm{Int64}, Nemo.FqFieldElem}(() => 1); Dict{AbstractAlgebra.Perm{Int64}, Nemo.FqFieldElem}(() => 1) Dict{AbstractAlgebra.Perm{Int64}, Nemo.FqFieldElem}((1,5,9,13,17,21,4,8,12,16,20,3,7,11,15,19,2,6,10,14,18) => 1) Dict{AbstractAlgebra.Perm{Int64}, Nemo.FqFieldElem}((1,6,11,16,21,5,10,15,20,4,9,14,19,3,8,13,18,2,7,12,17) => 1) Dict{AbstractAlgebra.Perm{Int64}, Nemo.FqFieldElem}((1,8,15)(2,9,16)(3,10,17)(4,11,18)(5,12,19)(6,13,20)(7,14,21) => 1) Dict{AbstractAlgebra.Perm{Int64}, Nemo.FqFieldElem}((1,18,14,10,6,2,19,15,11,7,3,20,16,12,8,4,21,17,13,9,5) => 1); Dict{AbstractAlgebra.Perm{Int64}, Nemo.FqFieldElem}(() => 1) Dict{AbstractAlgebra.Perm{Int64}, Nemo.FqFieldElem}((1,15,8)(2,16,9)(3,17,10)(4,18,11)(5,19,12)(6,20,13)(7,21,14) => 1) Dict{AbstractAlgebra.Perm{Int64}, Nemo.FqFieldElem}((1,19,16,13,10,7,4)(2,20,17,14,11,8,5)(3,21,18,15,12,9,6) => 1) Dict{AbstractAlgebra.Perm{Int64}, Nemo.FqFieldElem}((1,13,4,16,7,19,10)(2,14,5,17,8,20,11)(3,15,6,18,9,21,12) => 1) Dict{AbstractAlgebra.Perm{Int64}, Nemo.FqFieldElem}((1,12,2,13,3,14,4,15,5,16,6,17,7,18,8,19,9,20,10,21,11) => 1)], QuantumClifford.ECC.permutation_repr)\n",
      "s = CommutationCheckECCSetup(0.001)\n"
     ]
    },
    {
     "name": "stderr",
     "output_type": "stream",
     "text": [
      "\u001b[33m\u001b[1m┌ \u001b[22m\u001b[39m\u001b[33m\u001b[1mWarning: \u001b[22m\u001b[39m`faults_matrix` was called on an ECC that has redundant rows (is rank-deficient). `faults_matrix` corrected for that, however this is a frequent source of mistakes and inefficiencies. We advise you remove redundant rows from your ECC.\n",
      "\u001b[33m\u001b[1m└ \u001b[22m\u001b[39m\u001b[90m@ QuantumClifford.ECC ~/Documents/Repos/QuantumClifford.jl/src/ecc/ECC.jl:310\u001b[39m\n",
      "\u001b[33m\u001b[1m┌ \u001b[22m\u001b[39m\u001b[33m\u001b[1mWarning: \u001b[22m\u001b[39m`faults_matrix` was called on an ECC that has redundant rows (is rank-deficient). `faults_matrix` corrected for that, however this is a frequent source of mistakes and inefficiencies. We advise you remove redundant rows from your ECC.\n",
      "\u001b[33m\u001b[1m└ \u001b[22m\u001b[39m\u001b[90m@ QuantumClifford.ECC ~/Documents/Repos/QuantumClifford.jl/src/ecc/ECC.jl:310\u001b[39m\n"
     ]
    },
    {
     "name": "stdout",
     "output_type": "stream",
     "text": [
      "e = 0.0\n",
      "c = LPCode(PermGroupRingElem[Dict{AbstractAlgebra.Perm{Int64}, Nemo.FqFieldElem}(() => 1) Dict{AbstractAlgebra.Perm{Int64}, Nemo.FqFieldElem}(() => 1) Dict{AbstractAlgebra.Perm{Int64}, Nemo.FqFieldElem}(() => 1) Dict{AbstractAlgebra.Perm{Int64}, Nemo.FqFieldElem}(() => 1) Dict{AbstractAlgebra.Perm{Int64}, Nemo.FqFieldElem}(() => 1); Dict{AbstractAlgebra.Perm{Int64}, Nemo.FqFieldElem}(() => 1) Dict{AbstractAlgebra.Perm{Int64}, Nemo.FqFieldElem}((1,5,9,13,17,21,4,8,12,16,20,3,7,11,15,19,2,6,10,14,18) => 1) Dict{AbstractAlgebra.Perm{Int64}, Nemo.FqFieldElem}((1,6,11,16,21,5,10,15,20,4,9,14,19,3,8,13,18,2,7,12,17) => 1) Dict{AbstractAlgebra.Perm{Int64}, Nemo.FqFieldElem}((1,8,15)(2,9,16)(3,10,17)(4,11,18)(5,12,19)(6,13,20)(7,14,21) => 1) Dict{AbstractAlgebra.Perm{Int64}, Nemo.FqFieldElem}((1,18,14,10,6,2,19,15,11,7,3,20,16,12,8,4,21,17,13,9,5) => 1); Dict{AbstractAlgebra.Perm{Int64}, Nemo.FqFieldElem}(() => 1) Dict{AbstractAlgebra.Perm{Int64}, Nemo.FqFieldElem}((1,15,8)(2,16,9)(3,17,10)(4,18,11)(5,19,12)(6,20,13)(7,21,14) => 1) Dict{AbstractAlgebra.Perm{Int64}, Nemo.FqFieldElem}((1,19,16,13,10,7,4)(2,20,17,14,11,8,5)(3,21,18,15,12,9,6) => 1) Dict{AbstractAlgebra.Perm{Int64}, Nemo.FqFieldElem}((1,13,4,16,7,19,10)(2,14,5,17,8,20,11)(3,15,6,18,9,21,12) => 1) Dict{AbstractAlgebra.Perm{Int64}, Nemo.FqFieldElem}((1,12,2,13,3,14,4,15,5,16,6,17,7,18,8,19,9,20,10,21,11) => 1)], PermGroupRingElem[Dict{AbstractAlgebra.Perm{Int64}, Nemo.FqFieldElem}(() => 1) Dict{AbstractAlgebra.Perm{Int64}, Nemo.FqFieldElem}(() => 1) Dict{AbstractAlgebra.Perm{Int64}, Nemo.FqFieldElem}(() => 1) Dict{AbstractAlgebra.Perm{Int64}, Nemo.FqFieldElem}(() => 1) Dict{AbstractAlgebra.Perm{Int64}, Nemo.FqFieldElem}(() => 1); Dict{AbstractAlgebra.Perm{Int64}, Nemo.FqFieldElem}(() => 1) Dict{AbstractAlgebra.Perm{Int64}, Nemo.FqFieldElem}((1,5,9,13,17,21,4,8,12,16,20,3,7,11,15,19,2,6,10,14,18) => 1) Dict{AbstractAlgebra.Perm{Int64}, Nemo.FqFieldElem}((1,6,11,16,21,5,10,15,20,4,9,14,19,3,8,13,18,2,7,12,17) => 1) Dict{AbstractAlgebra.Perm{Int64}, Nemo.FqFieldElem}((1,8,15)(2,9,16)(3,10,17)(4,11,18)(5,12,19)(6,13,20)(7,14,21) => 1) Dict{AbstractAlgebra.Perm{Int64}, Nemo.FqFieldElem}((1,18,14,10,6,2,19,15,11,7,3,20,16,12,8,4,21,17,13,9,5) => 1); Dict{AbstractAlgebra.Perm{Int64}, Nemo.FqFieldElem}(() => 1) Dict{AbstractAlgebra.Perm{Int64}, Nemo.FqFieldElem}((1,15,8)(2,16,9)(3,17,10)(4,18,11)(5,19,12)(6,20,13)(7,21,14) => 1) Dict{AbstractAlgebra.Perm{Int64}, Nemo.FqFieldElem}((1,19,16,13,10,7,4)(2,20,17,14,11,8,5)(3,21,18,15,12,9,6) => 1) Dict{AbstractAlgebra.Perm{Int64}, Nemo.FqFieldElem}((1,13,4,16,7,19,10)(2,14,5,17,8,20,11)(3,15,6,18,9,21,12) => 1) Dict{AbstractAlgebra.Perm{Int64}, Nemo.FqFieldElem}((1,12,2,13,3,14,4,15,5,16,6,17,7,18,8,19,9,20,10,21,11) => 1)], QuantumClifford.ECC.permutation_repr)\n",
      "s = NaiveSyndromeECCSetup(0.001, 0.0)\n"
     ]
    },
    {
     "name": "stderr",
     "output_type": "stream",
     "text": [
      "\u001b[33m\u001b[1m┌ \u001b[22m\u001b[39m\u001b[33m\u001b[1mWarning: \u001b[22m\u001b[39m`faults_matrix` was called on an ECC that has redundant rows (is rank-deficient). `faults_matrix` corrected for that, however this is a frequent source of mistakes and inefficiencies. We advise you remove redundant rows from your ECC.\n",
      "\u001b[33m\u001b[1m└ \u001b[22m\u001b[39m\u001b[90m@ QuantumClifford.ECC ~/Documents/Repos/QuantumClifford.jl/src/ecc/ECC.jl:310\u001b[39m\n",
      "\u001b[33m\u001b[1m┌ \u001b[22m\u001b[39m\u001b[33m\u001b[1mWarning: \u001b[22m\u001b[39m`faults_matrix` was called on an ECC that has redundant rows (is rank-deficient). `faults_matrix` corrected for that, however this is a frequent source of mistakes and inefficiencies. We advise you remove redundant rows from your ECC.\n",
      "\u001b[33m\u001b[1m└ \u001b[22m\u001b[39m\u001b[90m@ QuantumClifford.ECC ~/Documents/Repos/QuantumClifford.jl/src/ecc/ECC.jl:310\u001b[39m\n"
     ]
    },
    {
     "name": "stdout",
     "output_type": "stream",
     "text": [
      "e = (0.0, 0.0)\n",
      "c = LPCode(PermGroupRingElem[Dict{AbstractAlgebra.Perm{Int64}, Nemo.FqFieldElem}(() => 1) Dict{AbstractAlgebra.Perm{Int64}, Nemo.FqFieldElem}(() => 1) Dict{AbstractAlgebra.Perm{Int64}, Nemo.FqFieldElem}(() => 1) Dict{AbstractAlgebra.Perm{Int64}, Nemo.FqFieldElem}(() => 1) Dict{AbstractAlgebra.Perm{Int64}, Nemo.FqFieldElem}(() => 1); Dict{AbstractAlgebra.Perm{Int64}, Nemo.FqFieldElem}(() => 1) Dict{AbstractAlgebra.Perm{Int64}, Nemo.FqFieldElem}((1,5,9,13,17,21,4,8,12,16,20,3,7,11,15,19,2,6,10,14,18) => 1) Dict{AbstractAlgebra.Perm{Int64}, Nemo.FqFieldElem}((1,6,11,16,21,5,10,15,20,4,9,14,19,3,8,13,18,2,7,12,17) => 1) Dict{AbstractAlgebra.Perm{Int64}, Nemo.FqFieldElem}((1,8,15)(2,9,16)(3,10,17)(4,11,18)(5,12,19)(6,13,20)(7,14,21) => 1) Dict{AbstractAlgebra.Perm{Int64}, Nemo.FqFieldElem}((1,18,14,10,6,2,19,15,11,7,3,20,16,12,8,4,21,17,13,9,5) => 1); Dict{AbstractAlgebra.Perm{Int64}, Nemo.FqFieldElem}(() => 1) Dict{AbstractAlgebra.Perm{Int64}, Nemo.FqFieldElem}((1,15,8)(2,16,9)(3,17,10)(4,18,11)(5,19,12)(6,20,13)(7,21,14) => 1) Dict{AbstractAlgebra.Perm{Int64}, Nemo.FqFieldElem}((1,19,16,13,10,7,4)(2,20,17,14,11,8,5)(3,21,18,15,12,9,6) => 1) Dict{AbstractAlgebra.Perm{Int64}, Nemo.FqFieldElem}((1,13,4,16,7,19,10)(2,14,5,17,8,20,11)(3,15,6,18,9,21,12) => 1) Dict{AbstractAlgebra.Perm{Int64}, Nemo.FqFieldElem}((1,12,2,13,3,14,4,15,5,16,6,17,7,18,8,19,9,20,10,21,11) => 1)], PermGroupRingElem[Dict{AbstractAlgebra.Perm{Int64}, Nemo.FqFieldElem}(() => 1) Dict{AbstractAlgebra.Perm{Int64}, Nemo.FqFieldElem}(() => 1) Dict{AbstractAlgebra.Perm{Int64}, Nemo.FqFieldElem}(() => 1) Dict{AbstractAlgebra.Perm{Int64}, Nemo.FqFieldElem}(() => 1) Dict{AbstractAlgebra.Perm{Int64}, Nemo.FqFieldElem}(() => 1); Dict{AbstractAlgebra.Perm{Int64}, Nemo.FqFieldElem}(() => 1) Dict{AbstractAlgebra.Perm{Int64}, Nemo.FqFieldElem}((1,5,9,13,17,21,4,8,12,16,20,3,7,11,15,19,2,6,10,14,18) => 1) Dict{AbstractAlgebra.Perm{Int64}, Nemo.FqFieldElem}((1,6,11,16,21,5,10,15,20,4,9,14,19,3,8,13,18,2,7,12,17) => 1) Dict{AbstractAlgebra.Perm{Int64}, Nemo.FqFieldElem}((1,8,15)(2,9,16)(3,10,17)(4,11,18)(5,12,19)(6,13,20)(7,14,21) => 1) Dict{AbstractAlgebra.Perm{Int64}, Nemo.FqFieldElem}((1,18,14,10,6,2,19,15,11,7,3,20,16,12,8,4,21,17,13,9,5) => 1); Dict{AbstractAlgebra.Perm{Int64}, Nemo.FqFieldElem}(() => 1) Dict{AbstractAlgebra.Perm{Int64}, Nemo.FqFieldElem}((1,15,8)(2,16,9)(3,17,10)(4,18,11)(5,19,12)(6,20,13)(7,21,14) => 1) Dict{AbstractAlgebra.Perm{Int64}, Nemo.FqFieldElem}((1,19,16,13,10,7,4)(2,20,17,14,11,8,5)(3,21,18,15,12,9,6) => 1) Dict{AbstractAlgebra.Perm{Int64}, Nemo.FqFieldElem}((1,13,4,16,7,19,10)(2,14,5,17,8,20,11)(3,15,6,18,9,21,12) => 1) Dict{AbstractAlgebra.Perm{Int64}, Nemo.FqFieldElem}((1,12,2,13,3,14,4,15,5,16,6,17,7,18,8,19,9,20,10,21,11) => 1)], QuantumClifford.ECC.permutation_repr)\n",
      "s = ShorSyndromeECCSetup(0.001, 0.0)\n"
     ]
    },
    {
     "name": "stderr",
     "output_type": "stream",
     "text": [
      "\u001b[33m\u001b[1m┌ \u001b[22m\u001b[39m\u001b[33m\u001b[1mWarning: \u001b[22m\u001b[39m`faults_matrix` was called on an ECC that has redundant rows (is rank-deficient). `faults_matrix` corrected for that, however this is a frequent source of mistakes and inefficiencies. We advise you remove redundant rows from your ECC.\n",
      "\u001b[33m\u001b[1m└ \u001b[22m\u001b[39m\u001b[90m@ QuantumClifford.ECC ~/Documents/Repos/QuantumClifford.jl/src/ecc/ECC.jl:310\u001b[39m\n",
      "\u001b[33m\u001b[1m┌ \u001b[22m\u001b[39m\u001b[33m\u001b[1mWarning: \u001b[22m\u001b[39m`faults_matrix` was called on an ECC that has redundant rows (is rank-deficient). `faults_matrix` corrected for that, however this is a frequent source of mistakes and inefficiencies. We advise you remove redundant rows from your ECC.\n",
      "\u001b[33m\u001b[1m└ \u001b[22m\u001b[39m\u001b[90m@ QuantumClifford.ECC ~/Documents/Repos/QuantumClifford.jl/src/ecc/ECC.jl:310\u001b[39m\n"
     ]
    },
    {
     "name": "stdout",
     "output_type": "stream",
     "text": [
      "e = (0.0, 0.0)\n",
      "c = LPCode(PermGroupRingElem[Dict{AbstractAlgebra.Perm{Int64}, Nemo.FqFieldElem}(() => 1) Dict{AbstractAlgebra.Perm{Int64}, Nemo.FqFieldElem}(() => 1) Dict{AbstractAlgebra.Perm{Int64}, Nemo.FqFieldElem}(() => 1) Dict{AbstractAlgebra.Perm{Int64}, Nemo.FqFieldElem}(() => 1) Dict{AbstractAlgebra.Perm{Int64}, Nemo.FqFieldElem}(() => 1); Dict{AbstractAlgebra.Perm{Int64}, Nemo.FqFieldElem}(() => 1) Dict{AbstractAlgebra.Perm{Int64}, Nemo.FqFieldElem}((1,3,5,7,9,11,13,15,17,19,21,23,25,27,29)(2,4,6,8,10,12,14,16,18,20,22,24,26,2 … => 1) Dict{AbstractAlgebra.Perm{Int64}, Nemo.FqFieldElem}((1,15,29,13,27,11,25,9,23,7,21,5,19,3,17)(2,16,30,14,28,12,26,10,24,8,22,6,20, … => 1) Dict{AbstractAlgebra.Perm{Int64}, Nemo.FqFieldElem}((1,25,19,13,7)(2,26,20,14,8)(3,27,21,15,9)(4,28,22,16,10)(5,29,23,17,11)(6,30, … => 1) Dict{AbstractAlgebra.Perm{Int64}, Nemo.FqFieldElem}((1,26,21,16,11,6)(2,27,22,17,12,7)(3,28,23,18,13,8)(4,29,24,19,14,9)(5,30,25,2 … => 1); Dict{AbstractAlgebra.Perm{Int64}, Nemo.FqFieldElem}(() => 1) Dict{AbstractAlgebra.Perm{Int64}, Nemo.FqFieldElem}((1,17,3,19,5,21,7,23,9,25,11,27,13,29,15)(2,18,4,20,6,22,8,24,10,26,12,28,14,3 … => 1) Dict{AbstractAlgebra.Perm{Int64}, Nemo.FqFieldElem}((1,12,23,4,15,26,7,18,29,10,21,2,13,24,5,16,27,8,19,30,11,22,3,14,25,6,17,28,9 … => 1) Dict{AbstractAlgebra.Perm{Int64}, Nemo.FqFieldElem}((1,15,29,13,27,11,25,9,23,7,21,5,19,3,17)(2,16,30,14,28,12,26,10,24,8,22,6,20, … => 1) Dict{AbstractAlgebra.Perm{Int64}, Nemo.FqFieldElem}((1,14,27,10,23,6,19,2,15,28,11,24,7,20,3,16,29,12,25,8,21,4,17,30,13,26,9,22,5 … => 1)], PermGroupRingElem[Dict{AbstractAlgebra.Perm{Int64}, Nemo.FqFieldElem}(() => 1) Dict{AbstractAlgebra.Perm{Int64}, Nemo.FqFieldElem}(() => 1) Dict{AbstractAlgebra.Perm{Int64}, Nemo.FqFieldElem}(() => 1) Dict{AbstractAlgebra.Perm{Int64}, Nemo.FqFieldElem}(() => 1) Dict{AbstractAlgebra.Perm{Int64}, Nemo.FqFieldElem}(() => 1); Dict{AbstractAlgebra.Perm{Int64}, Nemo.FqFieldElem}(() => 1) Dict{AbstractAlgebra.Perm{Int64}, Nemo.FqFieldElem}((1,3,5,7,9,11,13,15,17,19,21,23,25,27,29)(2,4,6,8,10,12,14,16,18,20,22,24,26,2 … => 1) Dict{AbstractAlgebra.Perm{Int64}, Nemo.FqFieldElem}((1,15,29,13,27,11,25,9,23,7,21,5,19,3,17)(2,16,30,14,28,12,26,10,24,8,22,6,20, … => 1) Dict{AbstractAlgebra.Perm{Int64}, Nemo.FqFieldElem}((1,25,19,13,7)(2,26,20,14,8)(3,27,21,15,9)(4,28,22,16,10)(5,29,23,17,11)(6,30, … => 1) Dict{AbstractAlgebra.Perm{Int64}, Nemo.FqFieldElem}((1,26,21,16,11,6)(2,27,22,17,12,7)(3,28,23,18,13,8)(4,29,24,19,14,9)(5,30,25,2 … => 1); Dict{AbstractAlgebra.Perm{Int64}, Nemo.FqFieldElem}(() => 1) Dict{AbstractAlgebra.Perm{Int64}, Nemo.FqFieldElem}((1,17,3,19,5,21,7,23,9,25,11,27,13,29,15)(2,18,4,20,6,22,8,24,10,26,12,28,14,3 … => 1) Dict{AbstractAlgebra.Perm{Int64}, Nemo.FqFieldElem}((1,12,23,4,15,26,7,18,29,10,21,2,13,24,5,16,27,8,19,30,11,22,3,14,25,6,17,28,9 … => 1) Dict{AbstractAlgebra.Perm{Int64}, Nemo.FqFieldElem}((1,15,29,13,27,11,25,9,23,7,21,5,19,3,17)(2,16,30,14,28,12,26,10,24,8,22,6,20, … => 1) Dict{AbstractAlgebra.Perm{Int64}, Nemo.FqFieldElem}((1,14,27,10,23,6,19,2,15,28,11,24,7,20,3,16,29,12,25,8,21,4,17,30,13,26,9,22,5 … => 1)], QuantumClifford.ECC.permutation_repr)\n",
      "s = CommutationCheckECCSetup(0.001)\n"
     ]
    },
    {
     "name": "stderr",
     "output_type": "stream",
     "text": [
      "\u001b[33m\u001b[1m┌ \u001b[22m\u001b[39m\u001b[33m\u001b[1mWarning: \u001b[22m\u001b[39m`faults_matrix` was called on an ECC that has redundant rows (is rank-deficient). `faults_matrix` corrected for that, however this is a frequent source of mistakes and inefficiencies. We advise you remove redundant rows from your ECC.\n",
      "\u001b[33m\u001b[1m└ \u001b[22m\u001b[39m\u001b[90m@ QuantumClifford.ECC ~/Documents/Repos/QuantumClifford.jl/src/ecc/ECC.jl:310\u001b[39m\n",
      "\u001b[33m\u001b[1m┌ \u001b[22m\u001b[39m\u001b[33m\u001b[1mWarning: \u001b[22m\u001b[39m`faults_matrix` was called on an ECC that has redundant rows (is rank-deficient). `faults_matrix` corrected for that, however this is a frequent source of mistakes and inefficiencies. We advise you remove redundant rows from your ECC.\n",
      "\u001b[33m\u001b[1m└ \u001b[22m\u001b[39m\u001b[90m@ QuantumClifford.ECC ~/Documents/Repos/QuantumClifford.jl/src/ecc/ECC.jl:310\u001b[39m\n"
     ]
    },
    {
     "name": "stdout",
     "output_type": "stream",
     "text": [
      "e = 0.0\n",
      "c = LPCode(PermGroupRingElem[Dict{AbstractAlgebra.Perm{Int64}, Nemo.FqFieldElem}(() => 1) Dict{AbstractAlgebra.Perm{Int64}, Nemo.FqFieldElem}(() => 1) Dict{AbstractAlgebra.Perm{Int64}, Nemo.FqFieldElem}(() => 1) Dict{AbstractAlgebra.Perm{Int64}, Nemo.FqFieldElem}(() => 1) Dict{AbstractAlgebra.Perm{Int64}, Nemo.FqFieldElem}(() => 1); Dict{AbstractAlgebra.Perm{Int64}, Nemo.FqFieldElem}(() => 1) Dict{AbstractAlgebra.Perm{Int64}, Nemo.FqFieldElem}((1,3,5,7,9,11,13,15,17,19,21,23,25,27,29)(2,4,6,8,10,12,14,16,18,20,22,24,26,2 … => 1) Dict{AbstractAlgebra.Perm{Int64}, Nemo.FqFieldElem}((1,15,29,13,27,11,25,9,23,7,21,5,19,3,17)(2,16,30,14,28,12,26,10,24,8,22,6,20, … => 1) Dict{AbstractAlgebra.Perm{Int64}, Nemo.FqFieldElem}((1,25,19,13,7)(2,26,20,14,8)(3,27,21,15,9)(4,28,22,16,10)(5,29,23,17,11)(6,30, … => 1) Dict{AbstractAlgebra.Perm{Int64}, Nemo.FqFieldElem}((1,26,21,16,11,6)(2,27,22,17,12,7)(3,28,23,18,13,8)(4,29,24,19,14,9)(5,30,25,2 … => 1); Dict{AbstractAlgebra.Perm{Int64}, Nemo.FqFieldElem}(() => 1) Dict{AbstractAlgebra.Perm{Int64}, Nemo.FqFieldElem}((1,17,3,19,5,21,7,23,9,25,11,27,13,29,15)(2,18,4,20,6,22,8,24,10,26,12,28,14,3 … => 1) Dict{AbstractAlgebra.Perm{Int64}, Nemo.FqFieldElem}((1,12,23,4,15,26,7,18,29,10,21,2,13,24,5,16,27,8,19,30,11,22,3,14,25,6,17,28,9 … => 1) Dict{AbstractAlgebra.Perm{Int64}, Nemo.FqFieldElem}((1,15,29,13,27,11,25,9,23,7,21,5,19,3,17)(2,16,30,14,28,12,26,10,24,8,22,6,20, … => 1) Dict{AbstractAlgebra.Perm{Int64}, Nemo.FqFieldElem}((1,14,27,10,23,6,19,2,15,28,11,24,7,20,3,16,29,12,25,8,21,4,17,30,13,26,9,22,5 … => 1)], PermGroupRingElem[Dict{AbstractAlgebra.Perm{Int64}, Nemo.FqFieldElem}(() => 1) Dict{AbstractAlgebra.Perm{Int64}, Nemo.FqFieldElem}(() => 1) Dict{AbstractAlgebra.Perm{Int64}, Nemo.FqFieldElem}(() => 1) Dict{AbstractAlgebra.Perm{Int64}, Nemo.FqFieldElem}(() => 1) Dict{AbstractAlgebra.Perm{Int64}, Nemo.FqFieldElem}(() => 1); Dict{AbstractAlgebra.Perm{Int64}, Nemo.FqFieldElem}(() => 1) Dict{AbstractAlgebra.Perm{Int64}, Nemo.FqFieldElem}((1,3,5,7,9,11,13,15,17,19,21,23,25,27,29)(2,4,6,8,10,12,14,16,18,20,22,24,26,2 … => 1) Dict{AbstractAlgebra.Perm{Int64}, Nemo.FqFieldElem}((1,15,29,13,27,11,25,9,23,7,21,5,19,3,17)(2,16,30,14,28,12,26,10,24,8,22,6,20, … => 1) Dict{AbstractAlgebra.Perm{Int64}, Nemo.FqFieldElem}((1,25,19,13,7)(2,26,20,14,8)(3,27,21,15,9)(4,28,22,16,10)(5,29,23,17,11)(6,30, … => 1) Dict{AbstractAlgebra.Perm{Int64}, Nemo.FqFieldElem}((1,26,21,16,11,6)(2,27,22,17,12,7)(3,28,23,18,13,8)(4,29,24,19,14,9)(5,30,25,2 … => 1); Dict{AbstractAlgebra.Perm{Int64}, Nemo.FqFieldElem}(() => 1) Dict{AbstractAlgebra.Perm{Int64}, Nemo.FqFieldElem}((1,17,3,19,5,21,7,23,9,25,11,27,13,29,15)(2,18,4,20,6,22,8,24,10,26,12,28,14,3 … => 1) Dict{AbstractAlgebra.Perm{Int64}, Nemo.FqFieldElem}((1,12,23,4,15,26,7,18,29,10,21,2,13,24,5,16,27,8,19,30,11,22,3,14,25,6,17,28,9 … => 1) Dict{AbstractAlgebra.Perm{Int64}, Nemo.FqFieldElem}((1,15,29,13,27,11,25,9,23,7,21,5,19,3,17)(2,16,30,14,28,12,26,10,24,8,22,6,20, … => 1) Dict{AbstractAlgebra.Perm{Int64}, Nemo.FqFieldElem}((1,14,27,10,23,6,19,2,15,28,11,24,7,20,3,16,29,12,25,8,21,4,17,30,13,26,9,22,5 … => 1)], QuantumClifford.ECC.permutation_repr)\n",
      "s = NaiveSyndromeECCSetup(0.001, 0.0)\n"
     ]
    },
    {
     "name": "stderr",
     "output_type": "stream",
     "text": [
      "\u001b[33m\u001b[1m┌ \u001b[22m\u001b[39m\u001b[33m\u001b[1mWarning: \u001b[22m\u001b[39m`faults_matrix` was called on an ECC that has redundant rows (is rank-deficient). `faults_matrix` corrected for that, however this is a frequent source of mistakes and inefficiencies. We advise you remove redundant rows from your ECC.\n",
      "\u001b[33m\u001b[1m└ \u001b[22m\u001b[39m\u001b[90m@ QuantumClifford.ECC ~/Documents/Repos/QuantumClifford.jl/src/ecc/ECC.jl:310\u001b[39m\n",
      "\u001b[33m\u001b[1m┌ \u001b[22m\u001b[39m\u001b[33m\u001b[1mWarning: \u001b[22m\u001b[39m`faults_matrix` was called on an ECC that has redundant rows (is rank-deficient). `faults_matrix` corrected for that, however this is a frequent source of mistakes and inefficiencies. We advise you remove redundant rows from your ECC.\n",
      "\u001b[33m\u001b[1m└ \u001b[22m\u001b[39m\u001b[90m@ QuantumClifford.ECC ~/Documents/Repos/QuantumClifford.jl/src/ecc/ECC.jl:310\u001b[39m\n"
     ]
    },
    {
     "name": "stdout",
     "output_type": "stream",
     "text": [
      "e = (0.0, 0.0)\n",
      "c = LPCode(PermGroupRingElem[Dict{AbstractAlgebra.Perm{Int64}, Nemo.FqFieldElem}(() => 1) Dict{AbstractAlgebra.Perm{Int64}, Nemo.FqFieldElem}(() => 1) Dict{AbstractAlgebra.Perm{Int64}, Nemo.FqFieldElem}(() => 1) Dict{AbstractAlgebra.Perm{Int64}, Nemo.FqFieldElem}(() => 1) Dict{AbstractAlgebra.Perm{Int64}, Nemo.FqFieldElem}(() => 1); Dict{AbstractAlgebra.Perm{Int64}, Nemo.FqFieldElem}(() => 1) Dict{AbstractAlgebra.Perm{Int64}, Nemo.FqFieldElem}((1,3,5,7,9,11,13,15,17,19,21,23,25,27,29)(2,4,6,8,10,12,14,16,18,20,22,24,26,2 … => 1) Dict{AbstractAlgebra.Perm{Int64}, Nemo.FqFieldElem}((1,15,29,13,27,11,25,9,23,7,21,5,19,3,17)(2,16,30,14,28,12,26,10,24,8,22,6,20, … => 1) Dict{AbstractAlgebra.Perm{Int64}, Nemo.FqFieldElem}((1,25,19,13,7)(2,26,20,14,8)(3,27,21,15,9)(4,28,22,16,10)(5,29,23,17,11)(6,30, … => 1) Dict{AbstractAlgebra.Perm{Int64}, Nemo.FqFieldElem}((1,26,21,16,11,6)(2,27,22,17,12,7)(3,28,23,18,13,8)(4,29,24,19,14,9)(5,30,25,2 … => 1); Dict{AbstractAlgebra.Perm{Int64}, Nemo.FqFieldElem}(() => 1) Dict{AbstractAlgebra.Perm{Int64}, Nemo.FqFieldElem}((1,17,3,19,5,21,7,23,9,25,11,27,13,29,15)(2,18,4,20,6,22,8,24,10,26,12,28,14,3 … => 1) Dict{AbstractAlgebra.Perm{Int64}, Nemo.FqFieldElem}((1,12,23,4,15,26,7,18,29,10,21,2,13,24,5,16,27,8,19,30,11,22,3,14,25,6,17,28,9 … => 1) Dict{AbstractAlgebra.Perm{Int64}, Nemo.FqFieldElem}((1,15,29,13,27,11,25,9,23,7,21,5,19,3,17)(2,16,30,14,28,12,26,10,24,8,22,6,20, … => 1) Dict{AbstractAlgebra.Perm{Int64}, Nemo.FqFieldElem}((1,14,27,10,23,6,19,2,15,28,11,24,7,20,3,16,29,12,25,8,21,4,17,30,13,26,9,22,5 … => 1)], PermGroupRingElem[Dict{AbstractAlgebra.Perm{Int64}, Nemo.FqFieldElem}(() => 1) Dict{AbstractAlgebra.Perm{Int64}, Nemo.FqFieldElem}(() => 1) Dict{AbstractAlgebra.Perm{Int64}, Nemo.FqFieldElem}(() => 1) Dict{AbstractAlgebra.Perm{Int64}, Nemo.FqFieldElem}(() => 1) Dict{AbstractAlgebra.Perm{Int64}, Nemo.FqFieldElem}(() => 1); Dict{AbstractAlgebra.Perm{Int64}, Nemo.FqFieldElem}(() => 1) Dict{AbstractAlgebra.Perm{Int64}, Nemo.FqFieldElem}((1,3,5,7,9,11,13,15,17,19,21,23,25,27,29)(2,4,6,8,10,12,14,16,18,20,22,24,26,2 … => 1) Dict{AbstractAlgebra.Perm{Int64}, Nemo.FqFieldElem}((1,15,29,13,27,11,25,9,23,7,21,5,19,3,17)(2,16,30,14,28,12,26,10,24,8,22,6,20, … => 1) Dict{AbstractAlgebra.Perm{Int64}, Nemo.FqFieldElem}((1,25,19,13,7)(2,26,20,14,8)(3,27,21,15,9)(4,28,22,16,10)(5,29,23,17,11)(6,30, … => 1) Dict{AbstractAlgebra.Perm{Int64}, Nemo.FqFieldElem}((1,26,21,16,11,6)(2,27,22,17,12,7)(3,28,23,18,13,8)(4,29,24,19,14,9)(5,30,25,2 … => 1); Dict{AbstractAlgebra.Perm{Int64}, Nemo.FqFieldElem}(() => 1) Dict{AbstractAlgebra.Perm{Int64}, Nemo.FqFieldElem}((1,17,3,19,5,21,7,23,9,25,11,27,13,29,15)(2,18,4,20,6,22,8,24,10,26,12,28,14,3 … => 1) Dict{AbstractAlgebra.Perm{Int64}, Nemo.FqFieldElem}((1,12,23,4,15,26,7,18,29,10,21,2,13,24,5,16,27,8,19,30,11,22,3,14,25,6,17,28,9 … => 1) Dict{AbstractAlgebra.Perm{Int64}, Nemo.FqFieldElem}((1,15,29,13,27,11,25,9,23,7,21,5,19,3,17)(2,16,30,14,28,12,26,10,24,8,22,6,20, … => 1) Dict{AbstractAlgebra.Perm{Int64}, Nemo.FqFieldElem}((1,14,27,10,23,6,19,2,15,28,11,24,7,20,3,16,29,12,25,8,21,4,17,30,13,26,9,22,5 … => 1)], QuantumClifford.ECC.permutation_repr)\n",
      "s = ShorSyndromeECCSetup(0.001, 0.0)\n"
     ]
    },
    {
     "name": "stderr",
     "output_type": "stream",
     "text": [
      "\u001b[33m\u001b[1m┌ \u001b[22m\u001b[39m\u001b[33m\u001b[1mWarning: \u001b[22m\u001b[39m`faults_matrix` was called on an ECC that has redundant rows (is rank-deficient). `faults_matrix` corrected for that, however this is a frequent source of mistakes and inefficiencies. We advise you remove redundant rows from your ECC.\n",
      "\u001b[33m\u001b[1m└ \u001b[22m\u001b[39m\u001b[90m@ QuantumClifford.ECC ~/Documents/Repos/QuantumClifford.jl/src/ecc/ECC.jl:310\u001b[39m\n",
      "\u001b[33m\u001b[1m┌ \u001b[22m\u001b[39m\u001b[33m\u001b[1mWarning: \u001b[22m\u001b[39m`faults_matrix` was called on an ECC that has redundant rows (is rank-deficient). `faults_matrix` corrected for that, however this is a frequent source of mistakes and inefficiencies. We advise you remove redundant rows from your ECC.\n",
      "\u001b[33m\u001b[1m└ \u001b[22m\u001b[39m\u001b[90m@ QuantumClifford.ECC ~/Documents/Repos/QuantumClifford.jl/src/ecc/ECC.jl:310\u001b[39m\n"
     ]
    },
    {
     "name": "stdout",
     "output_type": "stream",
     "text": [
      "e = (0.0, 0.0)\n",
      "c = LPCode(PermGroupRingElem[Dict{AbstractAlgebra.Perm{Int64}, Nemo.FqFieldElem}((1,28,55,19,46,10,37)(2,29,56,20,47,11,38)(3,30,57,21,48,12,39)(4,31,58,22,49, … => 1) Dict{AbstractAlgebra.Perm, Nemo.FqFieldElem}() Dict{AbstractAlgebra.Perm, Nemo.FqFieldElem}() Dict{AbstractAlgebra.Perm, Nemo.FqFieldElem}() Dict{AbstractAlgebra.Perm, Nemo.FqFieldElem}() Dict{AbstractAlgebra.Perm{Int64}, Nemo.FqFieldElem}(() => 1) Dict{AbstractAlgebra.Perm{Int64}, Nemo.FqFieldElem}((1,55,46,37,28,19,10)(2,56,47,38,29,20,11)(3,57,48,39,30,21,12)(4,58,49,40,31, … => 1); Dict{AbstractAlgebra.Perm{Int64}, Nemo.FqFieldElem}((1,55,46,37,28,19,10)(2,56,47,38,29,20,11)(3,57,48,39,30,21,12)(4,58,49,40,31, … => 1) Dict{AbstractAlgebra.Perm{Int64}, Nemo.FqFieldElem}((1,28,55,19,46,10,37)(2,29,56,20,47,11,38)(3,30,57,21,48,12,39)(4,31,58,22,49, … => 1) Dict{AbstractAlgebra.Perm, Nemo.FqFieldElem}() Dict{AbstractAlgebra.Perm, Nemo.FqFieldElem}() Dict{AbstractAlgebra.Perm, Nemo.FqFieldElem}() Dict{AbstractAlgebra.Perm, Nemo.FqFieldElem}() Dict{AbstractAlgebra.Perm{Int64}, Nemo.FqFieldElem}(() => 1); Dict{AbstractAlgebra.Perm{Int64}, Nemo.FqFieldElem}(() => 1) Dict{AbstractAlgebra.Perm{Int64}, Nemo.FqFieldElem}((1,55,46,37,28,19,10)(2,56,47,38,29,20,11)(3,57,48,39,30,21,12)(4,58,49,40,31, … => 1) Dict{AbstractAlgebra.Perm{Int64}, Nemo.FqFieldElem}((1,28,55,19,46,10,37)(2,29,56,20,47,11,38)(3,30,57,21,48,12,39)(4,31,58,22,49, … => 1) Dict{AbstractAlgebra.Perm, Nemo.FqFieldElem}() Dict{AbstractAlgebra.Perm, Nemo.FqFieldElem}() Dict{AbstractAlgebra.Perm, Nemo.FqFieldElem}() Dict{AbstractAlgebra.Perm, Nemo.FqFieldElem}(); Dict{AbstractAlgebra.Perm, Nemo.FqFieldElem}() Dict{AbstractAlgebra.Perm{Int64}, Nemo.FqFieldElem}(() => 1) Dict{AbstractAlgebra.Perm{Int64}, Nemo.FqFieldElem}((1,55,46,37,28,19,10)(2,56,47,38,29,20,11)(3,57,48,39,30,21,12)(4,58,49,40,31, … => 1) Dict{AbstractAlgebra.Perm{Int64}, Nemo.FqFieldElem}((1,28,55,19,46,10,37)(2,29,56,20,47,11,38)(3,30,57,21,48,12,39)(4,31,58,22,49, … => 1) Dict{AbstractAlgebra.Perm, Nemo.FqFieldElem}() Dict{AbstractAlgebra.Perm, Nemo.FqFieldElem}() Dict{AbstractAlgebra.Perm, Nemo.FqFieldElem}(); Dict{AbstractAlgebra.Perm, Nemo.FqFieldElem}() Dict{AbstractAlgebra.Perm, Nemo.FqFieldElem}() Dict{AbstractAlgebra.Perm{Int64}, Nemo.FqFieldElem}(() => 1) Dict{AbstractAlgebra.Perm{Int64}, Nemo.FqFieldElem}((1,55,46,37,28,19,10)(2,56,47,38,29,20,11)(3,57,48,39,30,21,12)(4,58,49,40,31, … => 1) Dict{AbstractAlgebra.Perm{Int64}, Nemo.FqFieldElem}((1,28,55,19,46,10,37)(2,29,56,20,47,11,38)(3,30,57,21,48,12,39)(4,31,58,22,49, … => 1) Dict{AbstractAlgebra.Perm, Nemo.FqFieldElem}() Dict{AbstractAlgebra.Perm, Nemo.FqFieldElem}(); Dict{AbstractAlgebra.Perm, Nemo.FqFieldElem}() Dict{AbstractAlgebra.Perm, Nemo.FqFieldElem}() Dict{AbstractAlgebra.Perm, Nemo.FqFieldElem}() Dict{AbstractAlgebra.Perm{Int64}, Nemo.FqFieldElem}(() => 1) Dict{AbstractAlgebra.Perm{Int64}, Nemo.FqFieldElem}((1,55,46,37,28,19,10)(2,56,47,38,29,20,11)(3,57,48,39,30,21,12)(4,58,49,40,31, … => 1) Dict{AbstractAlgebra.Perm{Int64}, Nemo.FqFieldElem}((1,28,55,19,46,10,37)(2,29,56,20,47,11,38)(3,30,57,21,48,12,39)(4,31,58,22,49, … => 1) Dict{AbstractAlgebra.Perm, Nemo.FqFieldElem}(); Dict{AbstractAlgebra.Perm, Nemo.FqFieldElem}() Dict{AbstractAlgebra.Perm, Nemo.FqFieldElem}() Dict{AbstractAlgebra.Perm, Nemo.FqFieldElem}() Dict{AbstractAlgebra.Perm, Nemo.FqFieldElem}() Dict{AbstractAlgebra.Perm{Int64}, Nemo.FqFieldElem}(() => 1) Dict{AbstractAlgebra.Perm{Int64}, Nemo.FqFieldElem}((1,55,46,37,28,19,10)(2,56,47,38,29,20,11)(3,57,48,39,30,21,12)(4,58,49,40,31, … => 1) Dict{AbstractAlgebra.Perm{Int64}, Nemo.FqFieldElem}((1,28,55,19,46,10,37)(2,29,56,20,47,11,38)(3,30,57,21,48,12,39)(4,31,58,22,49, … => 1)], PermGroupRingElem[Dict{AbstractAlgebra.Perm, Nemo.FqFieldElem}(() => 1, (1,58,52,46,40,34,28,22,16,10,4,61,55,49,43,37,31,25,19,13,7)(2,59,53,47,41,35 … => 1, (1,63,62,61,60,59,58,57,56,55,54,53,52,51,50,49,48,47,46,45,44,43,42,41,40,39, … => 1);;], QuantumClifford.ECC.permutation_repr)\n",
      "s = CommutationCheckECCSetup(0.001)\n"
     ]
    },
    {
     "name": "stderr",
     "output_type": "stream",
     "text": [
      "\u001b[33m\u001b[1m┌ \u001b[22m\u001b[39m\u001b[33m\u001b[1mWarning: \u001b[22m\u001b[39m`faults_matrix` was called on an ECC that has redundant rows (is rank-deficient). `faults_matrix` corrected for that, however this is a frequent source of mistakes and inefficiencies. We advise you remove redundant rows from your ECC.\n",
      "\u001b[33m\u001b[1m└ \u001b[22m\u001b[39m\u001b[90m@ QuantumClifford.ECC ~/Documents/Repos/QuantumClifford.jl/src/ecc/ECC.jl:310\u001b[39m\n",
      "\u001b[33m\u001b[1m┌ \u001b[22m\u001b[39m\u001b[33m\u001b[1mWarning: \u001b[22m\u001b[39m`faults_matrix` was called on an ECC that has redundant rows (is rank-deficient). `faults_matrix` corrected for that, however this is a frequent source of mistakes and inefficiencies. We advise you remove redundant rows from your ECC.\n",
      "\u001b[33m\u001b[1m└ \u001b[22m\u001b[39m\u001b[90m@ QuantumClifford.ECC ~/Documents/Repos/QuantumClifford.jl/src/ecc/ECC.jl:310\u001b[39m\n"
     ]
    },
    {
     "name": "stdout",
     "output_type": "stream",
     "text": [
      "e = 0.0\n",
      "c = LPCode(PermGroupRingElem[Dict{AbstractAlgebra.Perm{Int64}, Nemo.FqFieldElem}((1,28,55,19,46,10,37)(2,29,56,20,47,11,38)(3,30,57,21,48,12,39)(4,31,58,22,49, … => 1) Dict{AbstractAlgebra.Perm, Nemo.FqFieldElem}() Dict{AbstractAlgebra.Perm, Nemo.FqFieldElem}() Dict{AbstractAlgebra.Perm, Nemo.FqFieldElem}() Dict{AbstractAlgebra.Perm, Nemo.FqFieldElem}() Dict{AbstractAlgebra.Perm{Int64}, Nemo.FqFieldElem}(() => 1) Dict{AbstractAlgebra.Perm{Int64}, Nemo.FqFieldElem}((1,55,46,37,28,19,10)(2,56,47,38,29,20,11)(3,57,48,39,30,21,12)(4,58,49,40,31, … => 1); Dict{AbstractAlgebra.Perm{Int64}, Nemo.FqFieldElem}((1,55,46,37,28,19,10)(2,56,47,38,29,20,11)(3,57,48,39,30,21,12)(4,58,49,40,31, … => 1) Dict{AbstractAlgebra.Perm{Int64}, Nemo.FqFieldElem}((1,28,55,19,46,10,37)(2,29,56,20,47,11,38)(3,30,57,21,48,12,39)(4,31,58,22,49, … => 1) Dict{AbstractAlgebra.Perm, Nemo.FqFieldElem}() Dict{AbstractAlgebra.Perm, Nemo.FqFieldElem}() Dict{AbstractAlgebra.Perm, Nemo.FqFieldElem}() Dict{AbstractAlgebra.Perm, Nemo.FqFieldElem}() Dict{AbstractAlgebra.Perm{Int64}, Nemo.FqFieldElem}(() => 1); Dict{AbstractAlgebra.Perm{Int64}, Nemo.FqFieldElem}(() => 1) Dict{AbstractAlgebra.Perm{Int64}, Nemo.FqFieldElem}((1,55,46,37,28,19,10)(2,56,47,38,29,20,11)(3,57,48,39,30,21,12)(4,58,49,40,31, … => 1) Dict{AbstractAlgebra.Perm{Int64}, Nemo.FqFieldElem}((1,28,55,19,46,10,37)(2,29,56,20,47,11,38)(3,30,57,21,48,12,39)(4,31,58,22,49, … => 1) Dict{AbstractAlgebra.Perm, Nemo.FqFieldElem}() Dict{AbstractAlgebra.Perm, Nemo.FqFieldElem}() Dict{AbstractAlgebra.Perm, Nemo.FqFieldElem}() Dict{AbstractAlgebra.Perm, Nemo.FqFieldElem}(); Dict{AbstractAlgebra.Perm, Nemo.FqFieldElem}() Dict{AbstractAlgebra.Perm{Int64}, Nemo.FqFieldElem}(() => 1) Dict{AbstractAlgebra.Perm{Int64}, Nemo.FqFieldElem}((1,55,46,37,28,19,10)(2,56,47,38,29,20,11)(3,57,48,39,30,21,12)(4,58,49,40,31, … => 1) Dict{AbstractAlgebra.Perm{Int64}, Nemo.FqFieldElem}((1,28,55,19,46,10,37)(2,29,56,20,47,11,38)(3,30,57,21,48,12,39)(4,31,58,22,49, … => 1) Dict{AbstractAlgebra.Perm, Nemo.FqFieldElem}() Dict{AbstractAlgebra.Perm, Nemo.FqFieldElem}() Dict{AbstractAlgebra.Perm, Nemo.FqFieldElem}(); Dict{AbstractAlgebra.Perm, Nemo.FqFieldElem}() Dict{AbstractAlgebra.Perm, Nemo.FqFieldElem}() Dict{AbstractAlgebra.Perm{Int64}, Nemo.FqFieldElem}(() => 1) Dict{AbstractAlgebra.Perm{Int64}, Nemo.FqFieldElem}((1,55,46,37,28,19,10)(2,56,47,38,29,20,11)(3,57,48,39,30,21,12)(4,58,49,40,31, … => 1) Dict{AbstractAlgebra.Perm{Int64}, Nemo.FqFieldElem}((1,28,55,19,46,10,37)(2,29,56,20,47,11,38)(3,30,57,21,48,12,39)(4,31,58,22,49, … => 1) Dict{AbstractAlgebra.Perm, Nemo.FqFieldElem}() Dict{AbstractAlgebra.Perm, Nemo.FqFieldElem}(); Dict{AbstractAlgebra.Perm, Nemo.FqFieldElem}() Dict{AbstractAlgebra.Perm, Nemo.FqFieldElem}() Dict{AbstractAlgebra.Perm, Nemo.FqFieldElem}() Dict{AbstractAlgebra.Perm{Int64}, Nemo.FqFieldElem}(() => 1) Dict{AbstractAlgebra.Perm{Int64}, Nemo.FqFieldElem}((1,55,46,37,28,19,10)(2,56,47,38,29,20,11)(3,57,48,39,30,21,12)(4,58,49,40,31, … => 1) Dict{AbstractAlgebra.Perm{Int64}, Nemo.FqFieldElem}((1,28,55,19,46,10,37)(2,29,56,20,47,11,38)(3,30,57,21,48,12,39)(4,31,58,22,49, … => 1) Dict{AbstractAlgebra.Perm, Nemo.FqFieldElem}(); Dict{AbstractAlgebra.Perm, Nemo.FqFieldElem}() Dict{AbstractAlgebra.Perm, Nemo.FqFieldElem}() Dict{AbstractAlgebra.Perm, Nemo.FqFieldElem}() Dict{AbstractAlgebra.Perm, Nemo.FqFieldElem}() Dict{AbstractAlgebra.Perm{Int64}, Nemo.FqFieldElem}(() => 1) Dict{AbstractAlgebra.Perm{Int64}, Nemo.FqFieldElem}((1,55,46,37,28,19,10)(2,56,47,38,29,20,11)(3,57,48,39,30,21,12)(4,58,49,40,31, … => 1) Dict{AbstractAlgebra.Perm{Int64}, Nemo.FqFieldElem}((1,28,55,19,46,10,37)(2,29,56,20,47,11,38)(3,30,57,21,48,12,39)(4,31,58,22,49, … => 1)], PermGroupRingElem[Dict{AbstractAlgebra.Perm, Nemo.FqFieldElem}(() => 1, (1,58,52,46,40,34,28,22,16,10,4,61,55,49,43,37,31,25,19,13,7)(2,59,53,47,41,35 … => 1, (1,63,62,61,60,59,58,57,56,55,54,53,52,51,50,49,48,47,46,45,44,43,42,41,40,39, … => 1);;], QuantumClifford.ECC.permutation_repr)\n",
      "s = NaiveSyndromeECCSetup(0.001, 0.0)\n"
     ]
    },
    {
     "name": "stderr",
     "output_type": "stream",
     "text": [
      "\u001b[33m\u001b[1m┌ \u001b[22m\u001b[39m\u001b[33m\u001b[1mWarning: \u001b[22m\u001b[39m`faults_matrix` was called on an ECC that has redundant rows (is rank-deficient). `faults_matrix` corrected for that, however this is a frequent source of mistakes and inefficiencies. We advise you remove redundant rows from your ECC.\n",
      "\u001b[33m\u001b[1m└ \u001b[22m\u001b[39m\u001b[90m@ QuantumClifford.ECC ~/Documents/Repos/QuantumClifford.jl/src/ecc/ECC.jl:310\u001b[39m\n",
      "\u001b[33m\u001b[1m┌ \u001b[22m\u001b[39m\u001b[33m\u001b[1mWarning: \u001b[22m\u001b[39m`faults_matrix` was called on an ECC that has redundant rows (is rank-deficient). `faults_matrix` corrected for that, however this is a frequent source of mistakes and inefficiencies. We advise you remove redundant rows from your ECC.\n",
      "\u001b[33m\u001b[1m└ \u001b[22m\u001b[39m\u001b[90m@ QuantumClifford.ECC ~/Documents/Repos/QuantumClifford.jl/src/ecc/ECC.jl:310\u001b[39m\n"
     ]
    },
    {
     "name": "stdout",
     "output_type": "stream",
     "text": [
      "e = (0.0, 0.0)\n",
      "c = LPCode(PermGroupRingElem[Dict{AbstractAlgebra.Perm{Int64}, Nemo.FqFieldElem}((1,28,55,19,46,10,37)(2,29,56,20,47,11,38)(3,30,57,21,48,12,39)(4,31,58,22,49, … => 1) Dict{AbstractAlgebra.Perm, Nemo.FqFieldElem}() Dict{AbstractAlgebra.Perm, Nemo.FqFieldElem}() Dict{AbstractAlgebra.Perm, Nemo.FqFieldElem}() Dict{AbstractAlgebra.Perm, Nemo.FqFieldElem}() Dict{AbstractAlgebra.Perm{Int64}, Nemo.FqFieldElem}(() => 1) Dict{AbstractAlgebra.Perm{Int64}, Nemo.FqFieldElem}((1,55,46,37,28,19,10)(2,56,47,38,29,20,11)(3,57,48,39,30,21,12)(4,58,49,40,31, … => 1); Dict{AbstractAlgebra.Perm{Int64}, Nemo.FqFieldElem}((1,55,46,37,28,19,10)(2,56,47,38,29,20,11)(3,57,48,39,30,21,12)(4,58,49,40,31, … => 1) Dict{AbstractAlgebra.Perm{Int64}, Nemo.FqFieldElem}((1,28,55,19,46,10,37)(2,29,56,20,47,11,38)(3,30,57,21,48,12,39)(4,31,58,22,49, … => 1) Dict{AbstractAlgebra.Perm, Nemo.FqFieldElem}() Dict{AbstractAlgebra.Perm, Nemo.FqFieldElem}() Dict{AbstractAlgebra.Perm, Nemo.FqFieldElem}() Dict{AbstractAlgebra.Perm, Nemo.FqFieldElem}() Dict{AbstractAlgebra.Perm{Int64}, Nemo.FqFieldElem}(() => 1); Dict{AbstractAlgebra.Perm{Int64}, Nemo.FqFieldElem}(() => 1) Dict{AbstractAlgebra.Perm{Int64}, Nemo.FqFieldElem}((1,55,46,37,28,19,10)(2,56,47,38,29,20,11)(3,57,48,39,30,21,12)(4,58,49,40,31, … => 1) Dict{AbstractAlgebra.Perm{Int64}, Nemo.FqFieldElem}((1,28,55,19,46,10,37)(2,29,56,20,47,11,38)(3,30,57,21,48,12,39)(4,31,58,22,49, … => 1) Dict{AbstractAlgebra.Perm, Nemo.FqFieldElem}() Dict{AbstractAlgebra.Perm, Nemo.FqFieldElem}() Dict{AbstractAlgebra.Perm, Nemo.FqFieldElem}() Dict{AbstractAlgebra.Perm, Nemo.FqFieldElem}(); Dict{AbstractAlgebra.Perm, Nemo.FqFieldElem}() Dict{AbstractAlgebra.Perm{Int64}, Nemo.FqFieldElem}(() => 1) Dict{AbstractAlgebra.Perm{Int64}, Nemo.FqFieldElem}((1,55,46,37,28,19,10)(2,56,47,38,29,20,11)(3,57,48,39,30,21,12)(4,58,49,40,31, … => 1) Dict{AbstractAlgebra.Perm{Int64}, Nemo.FqFieldElem}((1,28,55,19,46,10,37)(2,29,56,20,47,11,38)(3,30,57,21,48,12,39)(4,31,58,22,49, … => 1) Dict{AbstractAlgebra.Perm, Nemo.FqFieldElem}() Dict{AbstractAlgebra.Perm, Nemo.FqFieldElem}() Dict{AbstractAlgebra.Perm, Nemo.FqFieldElem}(); Dict{AbstractAlgebra.Perm, Nemo.FqFieldElem}() Dict{AbstractAlgebra.Perm, Nemo.FqFieldElem}() Dict{AbstractAlgebra.Perm{Int64}, Nemo.FqFieldElem}(() => 1) Dict{AbstractAlgebra.Perm{Int64}, Nemo.FqFieldElem}((1,55,46,37,28,19,10)(2,56,47,38,29,20,11)(3,57,48,39,30,21,12)(4,58,49,40,31, … => 1) Dict{AbstractAlgebra.Perm{Int64}, Nemo.FqFieldElem}((1,28,55,19,46,10,37)(2,29,56,20,47,11,38)(3,30,57,21,48,12,39)(4,31,58,22,49, … => 1) Dict{AbstractAlgebra.Perm, Nemo.FqFieldElem}() Dict{AbstractAlgebra.Perm, Nemo.FqFieldElem}(); Dict{AbstractAlgebra.Perm, Nemo.FqFieldElem}() Dict{AbstractAlgebra.Perm, Nemo.FqFieldElem}() Dict{AbstractAlgebra.Perm, Nemo.FqFieldElem}() Dict{AbstractAlgebra.Perm{Int64}, Nemo.FqFieldElem}(() => 1) Dict{AbstractAlgebra.Perm{Int64}, Nemo.FqFieldElem}((1,55,46,37,28,19,10)(2,56,47,38,29,20,11)(3,57,48,39,30,21,12)(4,58,49,40,31, … => 1) Dict{AbstractAlgebra.Perm{Int64}, Nemo.FqFieldElem}((1,28,55,19,46,10,37)(2,29,56,20,47,11,38)(3,30,57,21,48,12,39)(4,31,58,22,49, … => 1) Dict{AbstractAlgebra.Perm, Nemo.FqFieldElem}(); Dict{AbstractAlgebra.Perm, Nemo.FqFieldElem}() Dict{AbstractAlgebra.Perm, Nemo.FqFieldElem}() Dict{AbstractAlgebra.Perm, Nemo.FqFieldElem}() Dict{AbstractAlgebra.Perm, Nemo.FqFieldElem}() Dict{AbstractAlgebra.Perm{Int64}, Nemo.FqFieldElem}(() => 1) Dict{AbstractAlgebra.Perm{Int64}, Nemo.FqFieldElem}((1,55,46,37,28,19,10)(2,56,47,38,29,20,11)(3,57,48,39,30,21,12)(4,58,49,40,31, … => 1) Dict{AbstractAlgebra.Perm{Int64}, Nemo.FqFieldElem}((1,28,55,19,46,10,37)(2,29,56,20,47,11,38)(3,30,57,21,48,12,39)(4,31,58,22,49, … => 1)], PermGroupRingElem[Dict{AbstractAlgebra.Perm, Nemo.FqFieldElem}(() => 1, (1,58,52,46,40,34,28,22,16,10,4,61,55,49,43,37,31,25,19,13,7)(2,59,53,47,41,35 … => 1, (1,63,62,61,60,59,58,57,56,55,54,53,52,51,50,49,48,47,46,45,44,43,42,41,40,39, … => 1);;], QuantumClifford.ECC.permutation_repr)\n",
      "s = ShorSyndromeECCSetup(0.001, 0.0)\n"
     ]
    },
    {
     "name": "stderr",
     "output_type": "stream",
     "text": [
      "\u001b[33m\u001b[1m┌ \u001b[22m\u001b[39m\u001b[33m\u001b[1mWarning: \u001b[22m\u001b[39m`faults_matrix` was called on an ECC that has redundant rows (is rank-deficient). `faults_matrix` corrected for that, however this is a frequent source of mistakes and inefficiencies. We advise you remove redundant rows from your ECC.\n",
      "\u001b[33m\u001b[1m└ \u001b[22m\u001b[39m\u001b[90m@ QuantumClifford.ECC ~/Documents/Repos/QuantumClifford.jl/src/ecc/ECC.jl:310\u001b[39m\n",
      "\u001b[33m\u001b[1m┌ \u001b[22m\u001b[39m\u001b[33m\u001b[1mWarning: \u001b[22m\u001b[39m`faults_matrix` was called on an ECC that has redundant rows (is rank-deficient). `faults_matrix` corrected for that, however this is a frequent source of mistakes and inefficiencies. We advise you remove redundant rows from your ECC.\n",
      "\u001b[33m\u001b[1m└ \u001b[22m\u001b[39m\u001b[90m@ QuantumClifford.ECC ~/Documents/Repos/QuantumClifford.jl/src/ecc/ECC.jl:310\u001b[39m\n"
     ]
    },
    {
     "name": "stdout",
     "output_type": "stream",
     "text": [
      "e = (0.0, 0.0)\n"
     ]
    }
   ],
   "source": [
    "import PyQDecoders\n",
    "\n",
    "codes = vcat(LP04, LP118, other_lifted_product_codes)\n",
    "\n",
    "noise = 0.001\n",
    "\n",
    "setups = [\n",
    "    CommutationCheckECCSetup(noise),\n",
    "    NaiveSyndromeECCSetup(noise, 0),\n",
    "    ShorSyndromeECCSetup(noise, 0),\n",
    "]\n",
    "# lifted product codes currently trigger errors in syndrome circuits\n",
    "\n",
    "for c in codes\n",
    "    for s in setups\n",
    "        for d in [c->PyBeliefPropOSDecoder(c, maxiter=10)]\n",
    "            @show c\n",
    "            @show s\n",
    "            nsamples = code_n(c)>400 ? 1000 : 100000\n",
    "            # take fewer samples for larger codes to save time\n",
    "            e = evaluate_decoder(d(c), s, nsamples)\n",
    "            @show e\n",
    "\n",
    "            @assert max(e...) < noise/4 (c, s, e)\n",
    "        end\n",
    "    end\n",
    "end"
   ]
  },
  {
   "cell_type": "markdown",
   "id": "0cd1108f-0913-486b-9743-84ca42b04265",
   "metadata": {},
   "source": [
    "# Deal with promote errors\n",
    "\n",
    "solved by using `vcat`, as reported in https://github.com/JuliaLang/julia/issues/45454"
   ]
  },
  {
   "cell_type": "code",
   "execution_count": 33,
   "id": "a2dbcff7-7bb1-455e-8d79-1e3a784256d4",
   "metadata": {},
   "outputs": [
    {
     "data": {
      "text/plain": [
       "(QuantumClifford.AbstractOperation[QuantumClifford.sHadamard(426), QuantumClifford.sCNOT(426,427), QuantumClifford.sCNOT(427,428), QuantumClifford.sCNOT(428,429), QuantumClifford.sCNOT(429,430), QuantumClifford.sCNOT(430,431), QuantumClifford.sCNOT(431,432), QuantumClifford.sHadamard(433), QuantumClifford.sCNOT(433,434), QuantumClifford.sCNOT(434,435)  …  QuantumClifford.sCNOT(3271,3272), QuantumClifford.sCNOT(3272,3273), QuantumClifford.sCNOT(3273,3274), QuantumClifford.sHadamard(3275), QuantumClifford.sCNOT(3275,3276), QuantumClifford.sCNOT(3276,3277), QuantumClifford.sCNOT(3277,3278), QuantumClifford.sCNOT(3278,3279), QuantumClifford.sCNOT(3279,3280), QuantumClifford.sCNOT(3280,3281)], QuantumClifford.AbstractOperation[QuantumClifford.sXCZ(1,426), QuantumClifford.sXCZ(69,427), QuantumClifford.sXCZ(137,428), QuantumClifford.sXCZ(205,429), QuantumClifford.sXCZ(273,430), QuantumClifford.sXCZ(290,431), QuantumClifford.sXCZ(307,432), QuantumClifford.sMRX(426, 1), QuantumClifford.sMRX(427, 2), QuantumClifford.sMRX(428, 3)  …  QuantumClifford.ClassicalXOR{7}((2787, 2788, 2789, 2790, 2791, 2792, 2793), 3255), QuantumClifford.ClassicalXOR{7}((2794, 2795, 2796, 2797, 2798, 2799, 2800), 3256), QuantumClifford.ClassicalXOR{7}((2801, 2802, 2803, 2804, 2805, 2806, 2807), 3257), QuantumClifford.ClassicalXOR{7}((2808, 2809, 2810, 2811, 2812, 2813, 2814), 3258), QuantumClifford.ClassicalXOR{7}((2815, 2816, 2817, 2818, 2819, 2820, 2821), 3259), QuantumClifford.ClassicalXOR{7}((2822, 2823, 2824, 2825, 2826, 2827, 2828), 3260), QuantumClifford.ClassicalXOR{7}((2829, 2830, 2831, 2832, 2833, 2834, 2835), 3261), QuantumClifford.ClassicalXOR{7}((2836, 2837, 2838, 2839, 2840, 2841, 2842), 3262), QuantumClifford.ClassicalXOR{7}((2843, 2844, 2845, 2846, 2847, 2848, 2849), 3263), QuantumClifford.ClassicalXOR{7}((2850, 2851, 2852, 2853, 2854, 2855, 2856), 3264)], 2856, 2857:3264)"
      ]
     },
     "execution_count": 33,
     "metadata": {},
     "output_type": "execute_result"
    }
   ],
   "source": [
    "shor_syndrome_circuit(LP04[3])"
   ]
  },
  {
   "cell_type": "code",
   "execution_count": 32,
   "id": "498fdd5d-24a2-46c5-aef5-b34ea85475e2",
   "metadata": {},
   "outputs": [],
   "source": [
    "# naive_encoding_circuit(parity_checks(code))"
   ]
  },
  {
   "cell_type": "code",
   "execution_count": 34,
   "id": "bb1f6a59-6b90-4ebb-b3bb-81696911c887",
   "metadata": {},
   "outputs": [
    {
     "data": {
      "text/plain": [
       "(QuantumClifford.AbstractOperation[QuantumClifford.sHadamard(426), QuantumClifford.sCNOT(426,427), QuantumClifford.sCNOT(427,428), QuantumClifford.sCNOT(428,429), QuantumClifford.sCNOT(429,430), QuantumClifford.sCNOT(430,431), QuantumClifford.sCNOT(431,432), QuantumClifford.sHadamard(433), QuantumClifford.sCNOT(433,434), QuantumClifford.sCNOT(434,435)  …  QuantumClifford.sCNOT(3271,3272), QuantumClifford.sCNOT(3272,3273), QuantumClifford.sCNOT(3273,3274), QuantumClifford.sHadamard(3275), QuantumClifford.sCNOT(3275,3276), QuantumClifford.sCNOT(3276,3277), QuantumClifford.sCNOT(3277,3278), QuantumClifford.sCNOT(3278,3279), QuantumClifford.sCNOT(3279,3280), QuantumClifford.sCNOT(3280,3281)], QuantumClifford.AbstractOperation[QuantumClifford.sXCZ(1,426), QuantumClifford.sXCZ(69,427), QuantumClifford.sXCZ(137,428), QuantumClifford.sXCZ(205,429), QuantumClifford.sXCZ(273,430), QuantumClifford.sXCZ(290,431), QuantumClifford.sXCZ(307,432), QuantumClifford.sMRX(426, 1), QuantumClifford.sMRX(427, 2), QuantumClifford.sMRX(428, 3)  …  QuantumClifford.ClassicalXOR{7}((2787, 2788, 2789, 2790, 2791, 2792, 2793), 3255), QuantumClifford.ClassicalXOR{7}((2794, 2795, 2796, 2797, 2798, 2799, 2800), 3256), QuantumClifford.ClassicalXOR{7}((2801, 2802, 2803, 2804, 2805, 2806, 2807), 3257), QuantumClifford.ClassicalXOR{7}((2808, 2809, 2810, 2811, 2812, 2813, 2814), 3258), QuantumClifford.ClassicalXOR{7}((2815, 2816, 2817, 2818, 2819, 2820, 2821), 3259), QuantumClifford.ClassicalXOR{7}((2822, 2823, 2824, 2825, 2826, 2827, 2828), 3260), QuantumClifford.ClassicalXOR{7}((2829, 2830, 2831, 2832, 2833, 2834, 2835), 3261), QuantumClifford.ClassicalXOR{7}((2836, 2837, 2838, 2839, 2840, 2841, 2842), 3262), QuantumClifford.ClassicalXOR{7}((2843, 2844, 2845, 2846, 2847, 2848, 2849), 3263), QuantumClifford.ClassicalXOR{7}((2850, 2851, 2852, 2853, 2854, 2855, 2856), 3264)], 2856, 2857:3264)"
      ]
     },
     "execution_count": 34,
     "metadata": {},
     "output_type": "execute_result"
    }
   ],
   "source": [
    "shor_syndrome_circuit(parity_checks(LP04[3]))"
   ]
  },
  {
   "cell_type": "code",
   "execution_count": 58,
   "id": "2ea31a22-cded-467a-a324-8de8eefcde5d",
   "metadata": {},
   "outputs": [
    {
     "data": {
      "text/plain": [
       "evaluate_decoder_debug (generic function with 1 method)"
      ]
     },
     "execution_count": 58,
     "metadata": {},
     "output_type": "execute_result"
    }
   ],
   "source": [
    "function evaluate_decoder_debug(d, nsamples, circuit, syndrome_bits, logical_bits, faults_submatrix)\n",
    "    frames = pftrajectories(circuit;trajectories=nsamples,threads=true) # bug here\n",
    "    print(\"111\")\n",
    "    syndromes = @view pfmeasurements(frames)[:, syndrome_bits]\n",
    "    measured_faults = @view pfmeasurements(frames)[:, logical_bits]\n",
    "    guesses = batchdecode(d, syndromes)\n",
    "    evaluate_guesses(measured_faults, guesses, faults_submatrix)\n",
    "end"
   ]
  },
  {
   "cell_type": "code",
   "execution_count": 68,
   "id": "25a3735d-bdaa-47b4-95d1-9f6c67df63b5",
   "metadata": {
    "scrolled": true
   },
   "outputs": [
    {
     "name": "stderr",
     "output_type": "stream",
     "text": [
      "\u001b[33m\u001b[1m┌ \u001b[22m\u001b[39m\u001b[33m\u001b[1mWarning: \u001b[22m\u001b[39m`faults_matrix` was called on an ECC that has redundant rows (is rank-deficient). `faults_matrix` corrected for that, however this is a frequent source of mistakes and inefficiencies. We advise you remove redundant rows from your ECC.\n",
      "\u001b[33m\u001b[1m└ \u001b[22m\u001b[39m\u001b[90m@ QuantumClifford.ECC ~/Documents/Repos/QuantumClifford.jl/src/ecc/ECC.jl:298\u001b[39m\n",
      "\u001b[33m\u001b[1m┌ \u001b[22m\u001b[39m\u001b[33m\u001b[1mWarning: \u001b[22m\u001b[39m`faults_matrix` was called on an ECC that has redundant rows (is rank-deficient). `faults_matrix` corrected for that, however this is a frequent source of mistakes and inefficiencies. We advise you remove redundant rows from your ECC.\n",
      "\u001b[33m\u001b[1m└ \u001b[22m\u001b[39m\u001b[90m@ QuantumClifford.ECC ~/Documents/Repos/QuantumClifford.jl/src/ecc/ECC.jl:298\u001b[39m\n"
     ]
    },
    {
     "data": {
      "text/plain": [
       "PauliFrame{Stabilizer{QuantumClifford.Tableau{Vector{UInt8}, LinearAlgebra.Adjoint{UInt64, Matrix{UInt64}}}}, Matrix{Bool}}(Stabilizer 5000×862, Bool[0 0 … 0 0; 0 0 … 0 0; … ; 0 0 … 0 0; 0 0 … 0 0])"
      ]
     },
     "execution_count": 68,
     "metadata": {},
     "output_type": "execute_result"
    }
   ],
   "source": [
    "code = LP04[3]\n",
    "\n",
    "d = code->PyBeliefPropOSDecoder(code, maxiter=10)\n",
    "setup = NaiveSyndromeECCSetup(noise, 0)\n",
    "nsamples= 10\n",
    "\n",
    "function physical_ECC_circuit_debug(H, setup::NaiveSyndromeECCSetup)\n",
    "    # syndrome_circ, n_anc, syndrome_bits = naive_syndrome_circuit(remove_redundant_rows(H)) # TODO as reported, this seems to be a bad idea\n",
    "    syndrome_circ, n_anc, syndrome_bits = naive_syndrome_circuit(H)\n",
    "    noisy_syndrome_circ = []\n",
    "\n",
    "    for op in syndrome_circ\n",
    "        push!(noisy_syndrome_circ, op)\n",
    "        # for noise_op in add_two_qubit_gate_noise(op, setup.two_qubit_gate_noise)\n",
    "        #     push!(noisy_syndrome_circ, noise_op)\n",
    "        # end\n",
    "    end\n",
    "\n",
    "    # mem_error_circ = [PauliError(i, setup.mem_noise) for i in 1:175]\n",
    "    # circ = [mem_error_circ..., noisy_syndrome_circ...]\n",
    "    circ = noisy_syndrome_circ\n",
    "    return circ, syndrome_bits, n_anc\n",
    "end\n",
    "\n",
    "H = parity_checks(d(code))\n",
    "n = code_n(H)\n",
    "k = code_k(H)\n",
    "O = faults_matrix(H)\n",
    "\n",
    "physical_noisy_circ, syndrome_bits, n_anc = physical_ECC_circuit_debug(H, setup)\n",
    "encoding_circ = naive_encoding_circuit(H)\n",
    "preX = [sHadamard(i) for i in n-k+1:n]\n",
    "\n",
    "mdH = MixedDestabilizer(H)\n",
    "logX_circ, _, logX_bits = naive_syndrome_circuit(logicalxview(mdH), n_anc+1, last(syndrome_bits)+1)\n",
    "logZ_circ, _, logZ_bits = naive_syndrome_circuit(logicalzview(mdH), n_anc+1, last(syndrome_bits)+1)\n",
    "\n",
    "# pftrajectories([encoding_circ..., physical_noisy_circ..., logZ_circ...])\n",
    "\n",
    "pftrajectories(vcat(encoding_circ, physical_noisy_circ, logZ_circ))\n",
    "\n",
    "\n",
    "# # Evaluate the probability for X logical error (the Z-observable part of the faults matrix is used)\n",
    "# X_error = evaluate_decoder(\n",
    "#     d(code), nsamples,\n",
    "#     [encoding_circ..., physical_noisy_circ..., logZ_circ...],\n",
    "#     syndrome_bits, logZ_bits, O[end÷2+1:end,:])\n",
    "# # Evaluate the probability for Z logical error (the X-observable part of the faults matrix is used)\n",
    "# Z_error = evaluate_decoder(\n",
    "#     d(code), nsamples,\n",
    "#     [preX..., encoding_circ..., physical_noisy_circ..., logX_circ...],\n",
    "#     syndrome_bits, logX_bits, O[1:end÷2,:])\n",
    "\n",
    "# return (X_error, Z_error)"
   ]
  },
  {
   "cell_type": "code",
   "execution_count": null,
   "id": "3243daa4-a544-49bd-a70a-3b603b8c0c3b",
   "metadata": {},
   "outputs": [],
   "source": []
  }
 ],
 "metadata": {
  "kernelspec": {
   "display_name": "Julia 1.10.4",
   "language": "julia",
   "name": "julia-1.10"
  },
  "language_info": {
   "file_extension": ".jl",
   "mimetype": "application/julia",
   "name": "julia",
   "version": "1.10.4"
  }
 },
 "nbformat": 4,
 "nbformat_minor": 5
}
