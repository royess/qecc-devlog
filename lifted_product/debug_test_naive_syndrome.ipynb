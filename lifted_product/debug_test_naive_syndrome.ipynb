{
 "cells": [
  {
   "cell_type": "code",
   "execution_count": 1,
   "metadata": {},
   "outputs": [],
   "source": [
    "using Revise\n",
    "using QuantumClifford\n",
    "using QuantumClifford.ECC"
   ]
  },
  {
   "cell_type": "code",
   "execution_count": 2,
   "metadata": {},
   "outputs": [
    {
     "data": {
      "text/plain": [
       "3-element Vector{LPCode}:\n",
       " LPCode(PermGroupRingElem[Dict{AbstractAlgebra.Perm{Int64}, Nemo.FqFieldElem}(() => 1) Dict{AbstractAlgebra.Perm{Int64}, Nemo.FqFieldElem}(() => 1) … Dict{AbstractAlgebra.Perm{Int64}, Nemo.FqFieldElem}(() => 1) Dict{AbstractAlgebra.Perm{Int64}, Nemo.FqFieldElem}(() => 1); Dict{AbstractAlgebra.Perm{Int64}, Nemo.FqFieldElem}(() => 1) Dict{AbstractAlgebra.Perm{Int64}, Nemo.FqFieldElem}((1,3,5,7,9,11,13,15)(2,4,6,8,10,12,14,16) => 1) … Dict{AbstractAlgebra.Perm{Int64}, Nemo.FqFieldElem}((1,8,15,6,13,4,11,2,9,16,7,14,5,12,3,10) => 1) Dict{AbstractAlgebra.Perm{Int64}, Nemo.FqFieldElem}((1,12,7,2,13,8,3,14,9,4,15,10,5,16,11,6) => 1); Dict{AbstractAlgebra.Perm{Int64}, Nemo.FqFieldElem}(() => 1) Dict{AbstractAlgebra.Perm{Int64}, Nemo.FqFieldElem}((1,4,7,10,13,16,3,6,9,12,15,2,5,8,11,14) => 1) … Dict{AbstractAlgebra.Perm{Int64}, Nemo.FqFieldElem}((1,15,13,11,9,7,5,3)(2,16,14,12,10,8,6,4) => 1) Dict{AbstractAlgebra.Perm{Int64}, Nemo.FqFieldElem}((1,16,15,14,13,12,11,10,9,8,7,6,5,4,3,2) => 1)], PermGroupRingElem[Dict{AbstractAlgebra.Perm{Int64}, Nemo.FqFieldElem}(() => 1) Dict{AbstractAlgebra.Perm{Int64}, Nemo.FqFieldElem}(() => 1) … Dict{AbstractAlgebra.Perm{Int64}, Nemo.FqFieldElem}(() => 1) Dict{AbstractAlgebra.Perm{Int64}, Nemo.FqFieldElem}(() => 1); Dict{AbstractAlgebra.Perm{Int64}, Nemo.FqFieldElem}(() => 1) Dict{AbstractAlgebra.Perm{Int64}, Nemo.FqFieldElem}((1,3,5,7,9,11,13,15)(2,4,6,8,10,12,14,16) => 1) … Dict{AbstractAlgebra.Perm{Int64}, Nemo.FqFieldElem}((1,8,15,6,13,4,11,2,9,16,7,14,5,12,3,10) => 1) Dict{AbstractAlgebra.Perm{Int64}, Nemo.FqFieldElem}((1,12,7,2,13,8,3,14,9,4,15,10,5,16,11,6) => 1); Dict{AbstractAlgebra.Perm{Int64}, Nemo.FqFieldElem}(() => 1) Dict{AbstractAlgebra.Perm{Int64}, Nemo.FqFieldElem}((1,4,7,10,13,16,3,6,9,12,15,2,5,8,11,14) => 1) … Dict{AbstractAlgebra.Perm{Int64}, Nemo.FqFieldElem}((1,15,13,11,9,7,5,3)(2,16,14,12,10,8,6,4) => 1) Dict{AbstractAlgebra.Perm{Int64}, Nemo.FqFieldElem}((1,16,15,14,13,12,11,10,9,8,7,6,5,4,3,2) => 1)], QuantumClifford.ECC.permutation_repr)\n",
       " LPCode(PermGroupRingElem[Dict{AbstractAlgebra.Perm{Int64}, Nemo.FqFieldElem}(() => 1) Dict{AbstractAlgebra.Perm{Int64}, Nemo.FqFieldElem}(() => 1) … Dict{AbstractAlgebra.Perm{Int64}, Nemo.FqFieldElem}(() => 1) Dict{AbstractAlgebra.Perm{Int64}, Nemo.FqFieldElem}(() => 1); Dict{AbstractAlgebra.Perm{Int64}, Nemo.FqFieldElem}(() => 1) Dict{AbstractAlgebra.Perm{Int64}, Nemo.FqFieldElem}((1,5,9,13,17,21,4,8,12,16,20,3,7,11,15,19,2,6,10,14,18) => 1) … Dict{AbstractAlgebra.Perm{Int64}, Nemo.FqFieldElem}((1,8,15)(2,9,16)(3,10,17)(4,11,18)(5,12,19)(6,13,20)(7,14,21) => 1) Dict{AbstractAlgebra.Perm{Int64}, Nemo.FqFieldElem}((1,18,14,10,6,2,19,15,11,7,3,20,16,12,8,4,21,17,13,9,5) => 1); Dict{AbstractAlgebra.Perm{Int64}, Nemo.FqFieldElem}(() => 1) Dict{AbstractAlgebra.Perm{Int64}, Nemo.FqFieldElem}((1,15,8)(2,16,9)(3,17,10)(4,18,11)(5,19,12)(6,20,13)(7,21,14) => 1) … Dict{AbstractAlgebra.Perm{Int64}, Nemo.FqFieldElem}((1,13,4,16,7,19,10)(2,14,5,17,8,20,11)(3,15,6,18,9,21,12) => 1) Dict{AbstractAlgebra.Perm{Int64}, Nemo.FqFieldElem}((1,12,2,13,3,14,4,15,5,16,6,17,7,18,8,19,9,20,10,21,11) => 1)], PermGroupRingElem[Dict{AbstractAlgebra.Perm{Int64}, Nemo.FqFieldElem}(() => 1) Dict{AbstractAlgebra.Perm{Int64}, Nemo.FqFieldElem}(() => 1) … Dict{AbstractAlgebra.Perm{Int64}, Nemo.FqFieldElem}(() => 1) Dict{AbstractAlgebra.Perm{Int64}, Nemo.FqFieldElem}(() => 1); Dict{AbstractAlgebra.Perm{Int64}, Nemo.FqFieldElem}(() => 1) Dict{AbstractAlgebra.Perm{Int64}, Nemo.FqFieldElem}((1,5,9,13,17,21,4,8,12,16,20,3,7,11,15,19,2,6,10,14,18) => 1) … Dict{AbstractAlgebra.Perm{Int64}, Nemo.FqFieldElem}((1,8,15)(2,9,16)(3,10,17)(4,11,18)(5,12,19)(6,13,20)(7,14,21) => 1) Dict{AbstractAlgebra.Perm{Int64}, Nemo.FqFieldElem}((1,18,14,10,6,2,19,15,11,7,3,20,16,12,8,4,21,17,13,9,5) => 1); Dict{AbstractAlgebra.Perm{Int64}, Nemo.FqFieldElem}(() => 1) Dict{AbstractAlgebra.Perm{Int64}, Nemo.FqFieldElem}((1,15,8)(2,16,9)(3,17,10)(4,18,11)(5,19,12)(6,20,13)(7,21,14) => 1) … Dict{AbstractAlgebra.Perm{Int64}, Nemo.FqFieldElem}((1,13,4,16,7,19,10)(2,14,5,17,8,20,11)(3,15,6,18,9,21,12) => 1) Dict{AbstractAlgebra.Perm{Int64}, Nemo.FqFieldElem}((1,12,2,13,3,14,4,15,5,16,6,17,7,18,8,19,9,20,10,21,11) => 1)], QuantumClifford.ECC.permutation_repr)\n",
       " LPCode(PermGroupRingElem[Dict{AbstractAlgebra.Perm{Int64}, Nemo.FqFieldElem}(() => 1) Dict{AbstractAlgebra.Perm{Int64}, Nemo.FqFieldElem}(() => 1) … Dict{AbstractAlgebra.Perm{Int64}, Nemo.FqFieldElem}(() => 1) Dict{AbstractAlgebra.Perm{Int64}, Nemo.FqFieldElem}(() => 1); Dict{AbstractAlgebra.Perm{Int64}, Nemo.FqFieldElem}(() => 1) Dict{AbstractAlgebra.Perm{Int64}, Nemo.FqFieldElem}((1,3,5,7,9,11,13,15,17,19,21,23,25,27,29)(2,4,6,8,10,12,14,16,18,20,22,24,26,2 … => 1) … Dict{AbstractAlgebra.Perm{Int64}, Nemo.FqFieldElem}((1,25,19,13,7)(2,26,20,14,8)(3,27,21,15,9)(4,28,22,16,10)(5,29,23,17,11)(6,30, … => 1) Dict{AbstractAlgebra.Perm{Int64}, Nemo.FqFieldElem}((1,26,21,16,11,6)(2,27,22,17,12,7)(3,28,23,18,13,8)(4,29,24,19,14,9)(5,30,25,2 … => 1); Dict{AbstractAlgebra.Perm{Int64}, Nemo.FqFieldElem}(() => 1) Dict{AbstractAlgebra.Perm{Int64}, Nemo.FqFieldElem}((1,17,3,19,5,21,7,23,9,25,11,27,13,29,15)(2,18,4,20,6,22,8,24,10,26,12,28,14,3 … => 1) … Dict{AbstractAlgebra.Perm{Int64}, Nemo.FqFieldElem}((1,15,29,13,27,11,25,9,23,7,21,5,19,3,17)(2,16,30,14,28,12,26,10,24,8,22,6,20, … => 1) Dict{AbstractAlgebra.Perm{Int64}, Nemo.FqFieldElem}((1,14,27,10,23,6,19,2,15,28,11,24,7,20,3,16,29,12,25,8,21,4,17,30,13,26,9,22,5 … => 1)], PermGroupRingElem[Dict{AbstractAlgebra.Perm{Int64}, Nemo.FqFieldElem}(() => 1) Dict{AbstractAlgebra.Perm{Int64}, Nemo.FqFieldElem}(() => 1) … Dict{AbstractAlgebra.Perm{Int64}, Nemo.FqFieldElem}(() => 1) Dict{AbstractAlgebra.Perm{Int64}, Nemo.FqFieldElem}(() => 1); Dict{AbstractAlgebra.Perm{Int64}, Nemo.FqFieldElem}(() => 1) Dict{AbstractAlgebra.Perm{Int64}, Nemo.FqFieldElem}((1,3,5,7,9,11,13,15,17,19,21,23,25,27,29)(2,4,6,8,10,12,14,16,18,20,22,24,26,2 … => 1) … Dict{AbstractAlgebra.Perm{Int64}, Nemo.FqFieldElem}((1,25,19,13,7)(2,26,20,14,8)(3,27,21,15,9)(4,28,22,16,10)(5,29,23,17,11)(6,30, … => 1) Dict{AbstractAlgebra.Perm{Int64}, Nemo.FqFieldElem}((1,26,21,16,11,6)(2,27,22,17,12,7)(3,28,23,18,13,8)(4,29,24,19,14,9)(5,30,25,2 … => 1); Dict{AbstractAlgebra.Perm{Int64}, Nemo.FqFieldElem}(() => 1) Dict{AbstractAlgebra.Perm{Int64}, Nemo.FqFieldElem}((1,17,3,19,5,21,7,23,9,25,11,27,13,29,15)(2,18,4,20,6,22,8,24,10,26,12,28,14,3 … => 1) … Dict{AbstractAlgebra.Perm{Int64}, Nemo.FqFieldElem}((1,15,29,13,27,11,25,9,23,7,21,5,19,3,17)(2,16,30,14,28,12,26,10,24,8,22,6,20, … => 1) Dict{AbstractAlgebra.Perm{Int64}, Nemo.FqFieldElem}((1,14,27,10,23,6,19,2,15,28,11,24,7,20,3,16,29,12,25,8,21,4,17,30,13,26,9,22,5 … => 1)], QuantumClifford.ECC.permutation_repr)"
      ]
     },
     "execution_count": 2,
     "metadata": {},
     "output_type": "execute_result"
    }
   ],
   "source": [
    "B04 = Dict(\n",
    "    7 => [0 0 0 0; 0 1 2 5; 0 6 3 1],\n",
    "    9 => [0 0 0 0; 0 1 6 7; 0 4 5 2],\n",
    "    17 => [0 0 0 0; 0 1 2 11; 0 8 12 13],\n",
    "    19 => [0 0 0 0; 0 2 6 9; 0 16 7 11]\n",
    ")\n",
    "\n",
    "B118 = Dict(\n",
    "    16 => [0 0 0 0 0; 0 2 4 7 11; 0 3 10 14 15],\n",
    "    21 => [0 0 0 0 0; 0 4 5 7 17; 0 14 18 12 11],\n",
    "    30 => [0 0 0 0 0; 0 2 14 24 25; 0 16 11 14 13],\n",
    ")\n",
    "\n",
    "LP04 = [LPCode(base_matrix, base_matrix, l) for (l, base_matrix) in B04]\n",
    "LP118 = [LPCode(base_matrix, base_matrix, l) for (l, base_matrix) in B118]"
   ]
  },
  {
   "cell_type": "code",
   "execution_count": 46,
   "metadata": {},
   "outputs": [
    {
     "name": "stdout",
     "output_type": "stream",
     "text": [
      "ic = 1\n",
      "ic = 2\n",
      "ic = 3\n",
      "ic = 4\n",
      "ic = 5\n",
      "ic = 6\n",
      "ic = 7\n"
     ]
    }
   ],
   "source": [
    "# codes = all_testablable_code_instances()\n",
    "ic = 1\n",
    "\n",
    "for c in vcat(LP04, LP118)\n",
    "# for c in LP118\n",
    "    @show ic\n",
    "    ic += 1\n",
    "    unencoded_qubits = random_stabilizer(code_k(c))\n",
    "    bufferqubits = one(Stabilizer, code_n(c) - code_k(c))\n",
    "    logicalqubits = bufferqubits⊗unencoded_qubits\n",
    "    mctrajectory!(logicalqubits, naive_encoding_circuit(c))\n",
    "    # if e\n",
    "    #     #add some noise to logicalqubits\n",
    "    #     apply!(logicalqubits, P\"X\", rand(1:code_n(c)))\n",
    "    #     apply!(logicalqubits, P\"Z\", rand(1:code_n(c)))\n",
    "    # end\n",
    "    # measure using `project!`\n",
    "    s1 = copy(logicalqubits)\n",
    "    syndrome1 = [project!(s1, check)[3] for check in parity_checks(c)]\n",
    "    # measure using `naive_syndrome_circuit`\n",
    "    naive_circuit, _ = naive_syndrome_circuit(c)\n",
    "    ancillaryqubits = one(Stabilizer,code_s(c))\n",
    "    s2 = copy(logicalqubits)\n",
    "    syndrome2 = Register(s2⊗ancillaryqubits, falses(code_s(c)))\n",
    "    mctrajectory!(syndrome2, naive_circuit)\n",
    "    # if !e\n",
    "    #     @test all(syndrome1 .== 0)\n",
    "    #     @test all(bitview(syndrome2) .== 0)\n",
    "    # end\n",
    "    @assert bitview(syndrome2) == syndrome1.÷2\n",
    "end"
   ]
  },
  {
   "cell_type": "markdown",
   "metadata": {},
   "source": [
    "## breakdown"
   ]
  },
  {
   "cell_type": "code",
   "execution_count": 32,
   "metadata": {},
   "outputs": [
    {
     "data": {
      "text/plain": [
       "LPCode(PermGroupRingElem[Dict{AbstractAlgebra.Perm{Int64}, Nemo.FqFieldElem}(() => 1) Dict{AbstractAlgebra.Perm{Int64}, Nemo.FqFieldElem}(() => 1) … Dict{AbstractAlgebra.Perm{Int64}, Nemo.FqFieldElem}(() => 1) Dict{AbstractAlgebra.Perm{Int64}, Nemo.FqFieldElem}(() => 1); Dict{AbstractAlgebra.Perm{Int64}, Nemo.FqFieldElem}(() => 1) Dict{AbstractAlgebra.Perm{Int64}, Nemo.FqFieldElem}((1,3,5,7,9,11,13,15,17,19,21,23,25,27,29)(2,4,6,8,10,12,14,16,18,20,22,24,26,2 … => 1) … Dict{AbstractAlgebra.Perm{Int64}, Nemo.FqFieldElem}((1,25,19,13,7)(2,26,20,14,8)(3,27,21,15,9)(4,28,22,16,10)(5,29,23,17,11)(6,30, … => 1) Dict{AbstractAlgebra.Perm{Int64}, Nemo.FqFieldElem}((1,26,21,16,11,6)(2,27,22,17,12,7)(3,28,23,18,13,8)(4,29,24,19,14,9)(5,30,25,2 … => 1); Dict{AbstractAlgebra.Perm{Int64}, Nemo.FqFieldElem}(() => 1) Dict{AbstractAlgebra.Perm{Int64}, Nemo.FqFieldElem}((1,17,3,19,5,21,7,23,9,25,11,27,13,29,15)(2,18,4,20,6,22,8,24,10,26,12,28,14,3 … => 1) … Dict{AbstractAlgebra.Perm{Int64}, Nemo.FqFieldElem}((1,15,29,13,27,11,25,9,23,7,21,5,19,3,17)(2,16,30,14,28,12,26,10,24,8,22,6,20, … => 1) Dict{AbstractAlgebra.Perm{Int64}, Nemo.FqFieldElem}((1,14,27,10,23,6,19,2,15,28,11,24,7,20,3,16,29,12,25,8,21,4,17,30,13,26,9,22,5 … => 1)], PermGroupRingElem[Dict{AbstractAlgebra.Perm{Int64}, Nemo.FqFieldElem}(() => 1) Dict{AbstractAlgebra.Perm{Int64}, Nemo.FqFieldElem}(() => 1) … Dict{AbstractAlgebra.Perm{Int64}, Nemo.FqFieldElem}(() => 1) Dict{AbstractAlgebra.Perm{Int64}, Nemo.FqFieldElem}(() => 1); Dict{AbstractAlgebra.Perm{Int64}, Nemo.FqFieldElem}(() => 1) Dict{AbstractAlgebra.Perm{Int64}, Nemo.FqFieldElem}((1,3,5,7,9,11,13,15,17,19,21,23,25,27,29)(2,4,6,8,10,12,14,16,18,20,22,24,26,2 … => 1) … Dict{AbstractAlgebra.Perm{Int64}, Nemo.FqFieldElem}((1,25,19,13,7)(2,26,20,14,8)(3,27,21,15,9)(4,28,22,16,10)(5,29,23,17,11)(6,30, … => 1) Dict{AbstractAlgebra.Perm{Int64}, Nemo.FqFieldElem}((1,26,21,16,11,6)(2,27,22,17,12,7)(3,28,23,18,13,8)(4,29,24,19,14,9)(5,30,25,2 … => 1); Dict{AbstractAlgebra.Perm{Int64}, Nemo.FqFieldElem}(() => 1) Dict{AbstractAlgebra.Perm{Int64}, Nemo.FqFieldElem}((1,17,3,19,5,21,7,23,9,25,11,27,13,29,15)(2,18,4,20,6,22,8,24,10,26,12,28,14,3 … => 1) … Dict{AbstractAlgebra.Perm{Int64}, Nemo.FqFieldElem}((1,15,29,13,27,11,25,9,23,7,21,5,19,3,17)(2,16,30,14,28,12,26,10,24,8,22,6,20, … => 1) Dict{AbstractAlgebra.Perm{Int64}, Nemo.FqFieldElem}((1,14,27,10,23,6,19,2,15,28,11,24,7,20,3,16,29,12,25,8,21,4,17,30,13,26,9,22,5 … => 1)], QuantumClifford.ECC.permutation_repr)"
      ]
     },
     "execution_count": 32,
     "metadata": {},
     "output_type": "execute_result"
    }
   ],
   "source": [
    "c = LP118[3]\n",
    "# c = parity_checks(Surface(20,20))"
   ]
  },
  {
   "cell_type": "code",
   "execution_count": 33,
   "metadata": {},
   "outputs": [
    {
     "data": {
      "text/plain": [
       "- ZYZXX_X_ZY_X____YYZZZZX_ZZYXX_XXZZYY⋯YXXZYZXZZ_Y__YXYYZZX__XZXXY_XYY__YYXY\n",
       "+ _YZXZX_Y_Z__ZYY_ZYXZXZ_X_Y_XYZYXZXZZ⋯_X__ZZYXYYYY__ZXXX__X_Z___Y_YZ_YYYX__\n",
       "- _X_XYXZZZYY_XY_YX_ZY_YYZXXZ_YXZZZYXZ⋯YXZ__YX_X_X_YZ_XX_ZZYYY_YYYXZ_YXX_Z_Y\n",
       "- _Y_Y_XYXXX_XZZ_ZZYZ_Z__ZZZXYYXYXX_YY⋯Y__ZYYZZ__YYZ__Z_YXX_ZZ__YYXYYXY__XZ_\n",
       "- ZX_ZX__XY_YX_ZZYZZYXZXXZ_Y_XY_YXYXZ_⋯Z_Z__XYZ_Z_Y_Z_Y___YZXY_Y___ZYZX_XXX_\n",
       "- XYYZXX___Z__Y_XZXXZY__XXZZ__ZZY__YYY⋯ZY_XZYZXYZYZZX_Y__YXYZXY___XXYZYY_XZX\n",
       "- Y_XYY__ZY_ZX_XYXYZZYX_Y_ZYZZXY__YYZY⋯Y_ZZXYZYXXYZYX_XYZYZYXXYXX_YZY_XZYZX_\n",
       "- YXXYZ_X___ZZY_YY_ZY__ZYZZX__Y_ZXY_YY⋯YX__YXYZXYXZZYXYXZZXZZZZXZXY_XYZYZ_XX\n",
       "- YXYZXYY_Z_XZY_XZZZXYZ_ZZXXZZX_ZZZY_X⋯XYX_Z_Y_ZXYYXXZ_ZYY_Y_Z_YYX_Z__X__ZYZ\n",
       "+ YXZXX_ZZXYXZZXY_XYXZXYZ__YZ_ZZXZYYZ_⋯___X_X_YYYYY_YZZZYZYZYZX_YZZ_Z_Z_YXYX\n",
       "- _ZZ_YY_Z_ZYXZYXZYZ_YXXZ_YZYZ_XYYXXXZ⋯Y_ZYY_ZZZXYXZYYYX_ZX_YZXX_ZX_Z___ZYXZ\n",
       "- ZXXYXYYYXYYZXXZYY__Y_XXZ__ZZY_Z_XZZZ⋯Z_Y_ZZZY_XX_X__XZXY_YYYZZZXYXYXYZYYXY\n",
       " ⋮\n",
       "- YZZY_XYX__Z_Y_ZZ_ZZZ_XZ_YXXYXXZXZZZZ⋯X_ZZX_YYZYY__XZ_X_Y_Z___XY_X_Z_YXZX__\n",
       "- __Z_Z__X_YZ_Z__XZZ_YXXXZY__YYY__Y_Y_⋯YXX__YXZZZZ_Z__Z_ZYYZYXZ_YYZ__Z_Y_Y_X\n",
       "- XZXX_ZYX_ZXZ_Y_X__XZX_Z_ZXZYZXYXXYZ_⋯_XYX_XXZYXYY_XY_XXXZXYYXXX_Y_Z_ZXZYZY\n",
       "+ XYXXYZYX_XXYX_ZZY_X_XXZ_YXXYXZ_YX__X⋯__YXXXX_XY_XX_YXXXZ__YZZXXYXXZZ_YY_YZ\n",
       "+ YY_YX__XXYYXXX__YZXZY_YXZXZZ_XZYZ__X⋯Y_ZXZYZXYXYYXZXZ_Y_XXZZZYZ_XYZXZYZ___\n",
       "+ ZXXXXZZYZY_XX_Y_ZZZX_YYY_ZY__X_ZXYZ_⋯ZYZZ_YYY__XXXY_Y_YYXXYZYZZYZZY_XX_YY_\n",
       "- ZYXXXZZ_XXZXX_ZZX_XZXZXYXXYZXYYYXZY_⋯YXYZ___XYXXX_YZY__YY__X_ZY_YXY_ZZZ__Z\n",
       "- Y_XZ__ZYXZXZX_XZ_YYZXZYXXZ__Y_Z_X_YZ⋯X_XX_Z_Z_ZXYX__YXYX_XZ_X_ZY_ZYYXY__X_\n",
       "- _ZXYZXXXXZXYZZ_YYYX_ZYZXY_YYYYZXYYZX⋯ZXYX_YYXYZYZZZZ_ZZZ_ZY_ZYYYZYZYX_Z___\n",
       "+ XX_ZYZXXXXX_ZYYZ_Y_Y_X_XZXZYZZX_ZY_Z⋯Y_YXXYXYZZ_XY_XYYXX___XZY__X_ZX_XZYY_\n",
       "+ ZXYZXZZ__X_Y_ZXYYXY_X__X_Y__Y_YYZ__X⋯_ZYYZZYZXZYYZXYZZXZYXZYX___Y_XXYYYZYZ"
      ]
     },
     "execution_count": 33,
     "metadata": {},
     "output_type": "execute_result"
    }
   ],
   "source": [
    "# unencoded_qubits = one(Stabilizer, code_k(c))\n",
    "# for i in 1:code_n(c)\n",
    "#     apply!(unencoded_qubits, sHadamard(i))\n",
    "# end    \n",
    "unencoded_qubits = random_stabilizer(code_k(c))"
   ]
  },
  {
   "cell_type": "code",
   "execution_count": 34,
   "metadata": {},
   "outputs": [
    {
     "data": {
      "text/plain": [
       "136"
      ]
     },
     "execution_count": 34,
     "metadata": {},
     "output_type": "execute_result"
    }
   ],
   "source": [
    "import LinearAlgebra\n",
    "LinearAlgebra.rank(MixedDestabilizer(unencoded_qubits))"
   ]
  },
  {
   "cell_type": "code",
   "execution_count": 35,
   "metadata": {},
   "outputs": [
    {
     "data": {
      "text/plain": [
       "+ Z___________________________________⋯_____________________________________\n",
       "+ _Z__________________________________⋯_____________________________________\n",
       "+ __Z_________________________________⋯_____________________________________\n",
       "+ ___Z________________________________⋯_____________________________________\n",
       "+ ____Z_______________________________⋯_____________________________________\n",
       "+ _____Z______________________________⋯_____________________________________\n",
       "+ ______Z_____________________________⋯_____________________________________\n",
       "+ _______Z____________________________⋯_____________________________________\n",
       "+ ________Z___________________________⋯_____________________________________\n",
       "+ _________Z__________________________⋯_____________________________________\n",
       "+ __________Z_________________________⋯_____________________________________\n",
       "+ ___________Z________________________⋯_____________________________________\n",
       " ⋮\n",
       "- ____________________________________⋯X_ZZX_YYZYY__XZ_X_Y_Z___XY_X_Z_YXZX__\n",
       "- ____________________________________⋯YXX__YXZZZZ_Z__Z_ZYYZYXZ_YYZ__Z_Y_Y_X\n",
       "- ____________________________________⋯_XYX_XXZYXYY_XY_XXXZXYYXXX_Y_Z_ZXZYZY\n",
       "+ ____________________________________⋯__YXXXX_XY_XX_YXXXZ__YZZXXYXXZZ_YY_YZ\n",
       "+ ____________________________________⋯Y_ZXZYZXYXYYXZXZ_Y_XXZZZYZ_XYZXZYZ___\n",
       "+ ____________________________________⋯ZYZZ_YYY__XXXY_Y_YYXXYZYZZYZZY_XX_YY_\n",
       "- ____________________________________⋯YXYZ___XYXXX_YZY__YY__X_ZY_YXY_ZZZ__Z\n",
       "- ____________________________________⋯X_XX_Z_Z_ZXYX__YXYX_XZ_X_ZY_ZYYXY__X_\n",
       "- ____________________________________⋯ZXYX_YYXYZYZZZZ_ZZZ_ZY_ZYYYZYZYX_Z___\n",
       "+ ____________________________________⋯Y_YXXYXYZZ_XY_XYYXX___XZY__X_ZX_XZYY_\n",
       "+ ____________________________________⋯_ZYYZZYZXZYYZXYZZXZYXZYX___Y_XXYYYZYZ"
      ]
     },
     "execution_count": 35,
     "metadata": {},
     "output_type": "execute_result"
    }
   ],
   "source": [
    "bufferqubits = one(Stabilizer, code_n(c) - code_k(c))\n",
    "logicalqubits = bufferqubits⊗unencoded_qubits"
   ]
  },
  {
   "cell_type": "code",
   "execution_count": 36,
   "metadata": {},
   "outputs": [
    {
     "data": {
      "text/plain": [
       "(Stabilizer 1020×1020, continue:CircuitStatus(0))"
      ]
     },
     "execution_count": 36,
     "metadata": {},
     "output_type": "execute_result"
    }
   ],
   "source": [
    "# mctrajectory!(logicalqubits, naive_encoding_circuit(c))\n",
    "mctrajectory!(logicalqubits, naive_encoding_circuit(c))"
   ]
  },
  {
   "cell_type": "code",
   "execution_count": 37,
   "metadata": {},
   "outputs": [
    {
     "data": {
      "text/plain": [
       "1020"
      ]
     },
     "execution_count": 37,
     "metadata": {},
     "output_type": "execute_result"
    }
   ],
   "source": [
    "logicalqubits |> MixedDestabilizer |> LinearAlgebra.rank"
   ]
  },
  {
   "cell_type": "code",
   "execution_count": 38,
   "metadata": {},
   "outputs": [
    {
     "data": {
      "text/plain": [
       "1020"
      ]
     },
     "execution_count": 38,
     "metadata": {},
     "output_type": "execute_result"
    }
   ],
   "source": [
    "code_n(c)"
   ]
  },
  {
   "cell_type": "code",
   "execution_count": 39,
   "metadata": {},
   "outputs": [
    {
     "data": {
      "text/plain": [
       "900-element Vector{UInt8}:\n",
       " 0x00\n",
       " 0x00\n",
       " 0x00\n",
       " 0x00\n",
       " 0x00\n",
       " 0x00\n",
       " 0x00\n",
       " 0x00\n",
       " 0x00\n",
       " 0x00\n",
       " 0x00\n",
       " 0x00\n",
       " 0x00\n",
       "    ⋮\n",
       " 0x00\n",
       " 0x00\n",
       " 0x00\n",
       " 0x00\n",
       " 0x00\n",
       " 0x00\n",
       " 0x00\n",
       " 0x00\n",
       " 0x00\n",
       " 0x00\n",
       " 0x00\n",
       " 0x00"
      ]
     },
     "execution_count": 39,
     "metadata": {},
     "output_type": "execute_result"
    }
   ],
   "source": [
    "# e = false\n",
    "# if e\n",
    "#     #add some noise to logicalqubits\n",
    "#     apply!(logicalqubits, P\"X\", rand(1:code_n(c)))\n",
    "#     apply!(logicalqubits, P\"Z\", rand(1:code_n(c)))\n",
    "# end\n",
    "# measure using `project!`\n",
    "s1 = copy(logicalqubits)\n",
    "syndrome1 = [project!(s1, check)[3] for check in parity_checks(c)]"
   ]
  },
  {
   "cell_type": "code",
   "execution_count": 40,
   "metadata": {
    "scrolled": true
   },
   "outputs": [
    {
     "data": {
      "text/plain": [
       "true"
      ]
     },
     "execution_count": 40,
     "metadata": {},
     "output_type": "execute_result"
    }
   ],
   "source": [
    "all(syndrome1 .== 0)"
   ]
  },
  {
   "cell_type": "markdown",
   "metadata": {},
   "source": [
    "Shor is good, but naive is wrong. The problem should be related to `naive_syndrome_circuit`."
   ]
  },
  {
   "cell_type": "code",
   "execution_count": 41,
   "metadata": {},
   "outputs": [
    {
     "data": {
      "text/plain": [
       "(Register{QuantumClifford.Tableau{Vector{UInt8}, Matrix{UInt64}}}(MixedDestablizer 1920×1920, Bool[0, 0, 0, 0, 0, 0, 0, 0, 0, 0  …  0, 0, 0, 0, 0, 0, 0, 0, 0, 0]), continue:CircuitStatus(0))"
      ]
     },
     "execution_count": 41,
     "metadata": {},
     "output_type": "execute_result"
    }
   ],
   "source": [
    "# measure using `naive_syndrome_circuit`\n",
    "naive_circuit, _ = naive_syndrome_circuit(c)\n",
    "# naive_circuit, _ = shor_syndrome_circuit(c)\n",
    "ancillaryqubits = one(Stabilizer, code_s(c))\n",
    "s2 = copy(logicalqubits)\n",
    "# syndrome2 = Register(s2⊗ancillaryqubits, falses(length(parity_checks(c))))\n",
    "syndrome2 = Register(s2⊗ancillaryqubits, falses(code_s(c)))\n",
    "mctrajectory!(syndrome2, naive_circuit)"
   ]
  },
  {
   "cell_type": "code",
   "execution_count": 42,
   "metadata": {},
   "outputs": [
    {
     "data": {
      "text/plain": [
       "true"
      ]
     },
     "execution_count": 42,
     "metadata": {},
     "output_type": "execute_result"
    }
   ],
   "source": [
    "syndrome2\n",
    "all(syndrome1 .== 0)"
   ]
  },
  {
   "cell_type": "code",
   "execution_count": 31,
   "metadata": {},
   "outputs": [
    {
     "data": {
      "text/plain": []
     },
     "execution_count": 31,
     "metadata": {},
     "output_type": "execute_result"
    }
   ],
   "source": [
    "wrong_stabs = parity_checks(c)[findall(x->x==1, bitview(syndrome2))]"
   ]
  },
  {
   "cell_type": "code",
   "execution_count": 16,
   "metadata": {
    "scrolled": true
   },
   "outputs": [],
   "source": [
    "# wrong_stabs .|> s -> sum(stab_to_gf2(s))"
   ]
  },
  {
   "cell_type": "code",
   "execution_count": 18,
   "metadata": {},
   "outputs": [],
   "source": [
    "# findall(x->x==1, stab_to_gf2(wrong_stabs[10]))"
   ]
  },
  {
   "cell_type": "markdown",
   "metadata": {},
   "source": [
    "all mistakes are Xs"
   ]
  },
  {
   "cell_type": "code",
   "execution_count": 108,
   "metadata": {},
   "outputs": [
    {
     "data": {
      "text/plain": [
       "15"
      ]
     },
     "execution_count": 108,
     "metadata": {},
     "output_type": "execute_result"
    }
   ],
   "source": [
    "syndrome2 |> bitview |> sum"
   ]
  },
  {
   "cell_type": "code",
   "execution_count": 109,
   "metadata": {},
   "outputs": [
    {
     "data": {
      "text/plain": [
       "(480, 480, 544, 80)"
      ]
     },
     "execution_count": 109,
     "metadata": {},
     "output_type": "execute_result"
    }
   ],
   "source": [
    "code_s(c), length(parity_checks(c)), code_n(c), code_k(c)"
   ]
  },
  {
   "cell_type": "code",
   "execution_count": 111,
   "metadata": {},
   "outputs": [],
   "source": [
    "# parity_checks(c)[1:2]"
   ]
  },
  {
   "cell_type": "code",
   "execution_count": 112,
   "metadata": {},
   "outputs": [
    {
     "data": {
      "text/plain": [
       "4320-element Vector{QuantumClifford.AbstractOperation}:\n",
       " sXCX(1,545)\n",
       " sXCX(81,545)\n",
       " sXCX(161,545)\n",
       " sXCX(241,545)\n",
       " sXCX(321,545)\n",
       " sXCX(401,545)\n",
       " sXCX(417,545)\n",
       " sXCX(433,545)\n",
       " sMRZ(545, 1)\n",
       " sXCX(2,546)\n",
       " sXCX(82,546)\n",
       " sXCX(162,546)\n",
       " sXCX(242,546)\n",
       " ⋮\n",
       " sCNOT(484,1023)\n",
       " sCNOT(544,1023)\n",
       " sMRZ(1023, 479)\n",
       " sCNOT(336,1024)\n",
       " sCNOT(339,1024)\n",
       " sCNOT(362,1024)\n",
       " sCNOT(382,1024)\n",
       " sCNOT(399,1024)\n",
       " sCNOT(448,1024)\n",
       " sCNOT(485,1024)\n",
       " sCNOT(529,1024)\n",
       " sMRZ(1024, 480)"
      ]
     },
     "execution_count": 112,
     "metadata": {},
     "output_type": "execute_result"
    }
   ],
   "source": [
    "naive_circuit"
   ]
  },
  {
   "cell_type": "code",
   "execution_count": 114,
   "metadata": {},
   "outputs": [],
   "source": [
    "# random_all_to_all_clifford_circuit(10, 3)"
   ]
  },
  {
   "cell_type": "code",
   "execution_count": 115,
   "metadata": {},
   "outputs": [
    {
     "data": {
      "text/plain": [
       "naive_ancillary_paulimeasurement_debug (generic function with 3 methods)"
      ]
     },
     "execution_count": 115,
     "metadata": {},
     "output_type": "execute_result"
    }
   ],
   "source": [
    "function naive_ancillary_paulimeasurement_debug(p::PauliOperator, ancillary_index=1, bit_index=1)\n",
    "    circuit = QuantumClifford.AbstractOperation[]\n",
    "    # circuit = ci\n",
    "    n = nqubits(p)\n",
    "    for qubit in 1:n\n",
    "        if p[qubit] == (1,0)\n",
    "            push!(circuit, sXCX(qubit, n + ancillary_index))\n",
    "        elseif p[qubit] == (0,1)\n",
    "            push!(circuit, sCNOT(qubit, n + ancillary_index))\n",
    "        elseif p[qubit] == (1,1)\n",
    "            push!(circuit, sYCX(qubit, n + ancillary_index))\n",
    "        end\n",
    "    end\n",
    "    p.phase[] == 0 || push!(circuit, sX(n + ancillary_index))\n",
    "    mz = sMRZ(n + ancillary_index, bit_index)\n",
    "    push!(circuit, mz)\n",
    "\n",
    "    return circuit\n",
    "end"
   ]
  },
  {
   "cell_type": "code",
   "execution_count": 124,
   "metadata": {
    "scrolled": true
   },
   "outputs": [
    {
     "data": {
      "text/plain": [
       "(Register{QuantumClifford.Tableau{Vector{UInt8}, Matrix{UInt64}}}(MixedDestablizer 1024×1024, Bool[1]), continue:CircuitStatus(0))"
      ]
     },
     "execution_count": 124,
     "metadata": {},
     "output_type": "execute_result"
    }
   ],
   "source": [
    "s3 = copy(logicalqubits)\n",
    "ancillaryqubits = one(Stabilizer, code_s(c))\n",
    "# canonicalize!(logicalqubits)\n",
    "# syndrome2 = Register(s2⊗ancillaryqubits, falses(length(parity_checks(c))))\n",
    "syndrome3 = Register(s3⊗ancillaryqubits, falses(1))\n",
    "mctrajectory!(syndrome3, naive_ancillary_paulimeasurement_debug(wrong_stabs[1]))"
   ]
  },
  {
   "cell_type": "code",
   "execution_count": 125,
   "metadata": {},
   "outputs": [
    {
     "data": {
      "text/plain": [
       "true"
      ]
     },
     "execution_count": 125,
     "metadata": {},
     "output_type": "execute_result"
    }
   ],
   "source": [
    "all(comm(parity_checks(c), wrong_stabs[1]) .== 0x00)"
   ]
  },
  {
   "cell_type": "code",
   "execution_count": 126,
   "metadata": {},
   "outputs": [
    {
     "data": {
      "text/plain": [
       "true"
      ]
     },
     "execution_count": 126,
     "metadata": {},
     "output_type": "execute_result"
    }
   ],
   "source": [
    "all(comm(logicalqubits, wrong_stabs[1]) .== 0x00)"
   ]
  },
  {
   "cell_type": "code",
   "execution_count": 127,
   "metadata": {},
   "outputs": [
    {
     "data": {
      "text/plain": [
       "(544, 544)"
      ]
     },
     "execution_count": 127,
     "metadata": {},
     "output_type": "execute_result"
    }
   ],
   "source": [
    "nqubits(logicalqubits), LinearAlgebra.rank(MixedDestabilizer(logicalqubits))"
   ]
  },
  {
   "cell_type": "code",
   "execution_count": 128,
   "metadata": {},
   "outputs": [
    {
     "data": {
      "text/plain": [
       "9-element Vector{QuantumClifford.AbstractOperation}:\n",
       " sXCX(3,545)\n",
       " sXCX(83,545)\n",
       " sXCX(163,545)\n",
       " sXCX(243,545)\n",
       " sXCX(323,545)\n",
       " sXCX(403,545)\n",
       " sXCX(419,545)\n",
       " sXCX(435,545)\n",
       " sMRZ(545, 1)"
      ]
     },
     "execution_count": 128,
     "metadata": {},
     "output_type": "execute_result"
    }
   ],
   "source": [
    "naive_ancillary_paulimeasurement_debug(wrong_stabs[1])"
   ]
  },
  {
   "cell_type": "code",
   "execution_count": 135,
   "metadata": {},
   "outputs": [
    {
     "ename": "LoadError",
     "evalue": "UndefVarError: `ZCX` not defined",
     "output_type": "error",
     "traceback": [
      "UndefVarError: `ZCX` not defined",
      "",
      "Stacktrace:",
      " [1] getproperty(x::Module, f::Symbol)",
      "   @ Base ./Base.jl:31",
      " [2] top-level scope",
      "   @ In[135]:1"
     ]
    }
   ],
   "source": []
  },
  {
   "cell_type": "code",
   "execution_count": null,
   "metadata": {},
   "outputs": [],
   "source": [
    "findall(isone, stab_to_gf2(wrong_stabs[1]))"
   ]
  },
  {
   "cell_type": "code",
   "execution_count": 131,
   "metadata": {},
   "outputs": [
    {
     "data": {
      "text/plain": [
       "0x00"
      ]
     },
     "execution_count": 131,
     "metadata": {},
     "output_type": "execute_result"
    }
   ],
   "source": [
    "s4 = copy(logicalqubits)\n",
    "syndrome4 = project!(s4, wrong_stabs[1])[3]"
   ]
  },
  {
   "cell_type": "code",
   "execution_count": 94,
   "metadata": {},
   "outputs": [],
   "source": [
    "# small_logical_qubits = copy(logicalqubits)[:,findall(isone, stab_to_gf2(wrong_stabs[1]))]\n",
    "# canonicalize!(small_logical_qubits)"
   ]
  },
  {
   "cell_type": "code",
   "execution_count": 95,
   "metadata": {},
   "outputs": [],
   "source": [
    "# small_logical_qubits = copy(logicalqubits)[:,findall(isone, stab_to_gf2(wrong_stabs[1]))]\n",
    "# syndrome4 = Register(small_logical_qubits⊗ancillaryqubits, falses(1))\n",
    "# mctrajectory!(syndrome4, naive_ancillary_paulimeasurement_debug(P\"XXXXXXXX\"))"
   ]
  },
  {
   "cell_type": "code",
   "execution_count": 136,
   "metadata": {},
   "outputs": [
    {
     "data": {
      "text/plain": [
       "+ XXXX\n",
       "- ZZ__\n",
       "+ _ZZ_\n",
       "+ __ZZ"
      ]
     },
     "execution_count": 136,
     "metadata": {},
     "output_type": "execute_result"
    }
   ],
   "source": [
    "test_st = S\"\"\"\n",
    "+XXXX\n",
    "-ZZII\n",
    "+IZZI\n",
    "+IIZZ\"\"\""
   ]
  },
  {
   "cell_type": "code",
   "execution_count": 139,
   "metadata": {},
   "outputs": [
    {
     "data": {
      "text/plain": [
       "+ XXXX"
      ]
     },
     "execution_count": 139,
     "metadata": {},
     "output_type": "execute_result"
    }
   ],
   "source": [
    "test_pauli = P\"XXXX\""
   ]
  },
  {
   "cell_type": "code",
   "execution_count": 140,
   "metadata": {},
   "outputs": [
    {
     "data": {
      "text/plain": [
       "0x00"
      ]
     },
     "execution_count": 140,
     "metadata": {},
     "output_type": "execute_result"
    }
   ],
   "source": [
    "test_syndrome4 = project!(copy(test_st), test_pauli)[3]"
   ]
  },
  {
   "cell_type": "code",
   "execution_count": 142,
   "metadata": {},
   "outputs": [
    {
     "data": {
      "text/plain": [
       "(Register{QuantumClifford.Tableau{Vector{UInt8}, Matrix{UInt64}}}(MixedDestablizer 5×5, Bool[0]), continue:CircuitStatus(0))"
      ]
     },
     "execution_count": 142,
     "metadata": {},
     "output_type": "execute_result"
    }
   ],
   "source": [
    "# s3 = copy(logicalqubits)\n",
    "ancillaryqubits = one(Stabilizer, 1)\n",
    "test_syndrome5 = Register(copy(test_st) ⊗ ancillaryqubits, falses(1))\n",
    "mctrajectory!(test_syndrome5, naive_ancillary_paulimeasurement_debug(test_pauli))"
   ]
  },
  {
   "cell_type": "markdown",
   "metadata": {},
   "source": [
    "# Pauli frame is good"
   ]
  },
  {
   "cell_type": "code",
   "execution_count": 143,
   "metadata": {},
   "outputs": [
    {
     "data": {
      "text/plain": [
       "0"
      ]
     },
     "execution_count": 143,
     "metadata": {},
     "output_type": "execute_result"
    }
   ],
   "source": [
    "code = c\n",
    "ecirc = naive_encoding_circuit(code)\n",
    "scirc, _ = naive_syndrome_circuit(code)\n",
    "nframes = 10000\n",
    "dataqubits = code_n(code)\n",
    "ancqubits = code_s(code)\n",
    "regbits = ancqubits\n",
    "frames = PauliFrame(nframes, dataqubits+ancqubits, regbits)\n",
    "circuit = vcat(ecirc, scirc)\n",
    "pftrajectories(frames, circuit)\n",
    "sum(pfmeasurements(frames))\n",
    "# @test sum(pfmeasurements(frames)) == 0"
   ]
  },
  {
   "cell_type": "markdown",
   "metadata": {},
   "source": [
    "## Check a random"
   ]
  },
  {
   "cell_type": "code",
   "execution_count": 178,
   "metadata": {},
   "outputs": [
    {
     "data": {
      "text/plain": [
       "+ Y_XZXXXZ_XXYYZZ_ZZZZXYYYXZ_Z___ZXZZY⋯__ZYYYXXX_YYYXZXYYXXYZYYZXX_ZXXX_ZZYX\n",
       "- YZ_ZY_Z___XY_ZXX_XY_XXY_XZYYZ___XXXY⋯ZZXY_XZYZXYYZXZY__YZXYZZYZZXX_ZZXXZZZ\n",
       "+ _Y_XZ_ZZZZ_Z_ZYXZ_YXZXYXY_YXX_Y_Y_Y_⋯_XYYYXXYZ_YYXZXYZZXXZ_ZZYXZYX_XX_YZXY\n",
       "- ZY_YXZX_Z_ZXYZYZXYXZYZ_XXZZZZYXXZZY_⋯YZZXYYY__ZXYX_Y_YZZYXX_ZYYYY_XXXXYXX_\n",
       "+ XX_ZZZXZ_XYYXZY_XZYZYYYX_XYYZZYYXXYX⋯_YXZXZXXYXX_XYZZXZ__ZYZXX_YYYYY__YZYZ\n",
       "+ ZXZZYY_Y_ZXY____XYYYZYZX_YZXXZYX_YZZ⋯_XYXYY_ZZXZ_ZZYZXXXZXXYZYXY_YZXXY_Z_Y\n",
       "- _YXXY__XYZ_YYXZ_ZXXZ__ZZ_XZXYXZ_ZX_Z⋯_Z_ZYXZZX_YYYY_ZYXXYY_YYZ_ZXXY_YXZZXY\n",
       "+ XZZZXXXZXZZ_YYXYXZYXZ___X_XY___Z_YXZ⋯YY__XYXZYZYZY___ZY__ZZ_XZYYZXYYXYYY_X\n",
       "- X_XYZ__ZXZYYY_YZ__Y__ZZ_XYXXY_Y_YX_Y⋯Z__XZ___YYXYYZ_Z_XYZ_X_XYX_ZZ_ZXYZ_X_\n",
       "+ Z_Z_YYXY__ZYZXZ_YXZYXYXY_ZY_YXZXXXXY⋯Y_YZ_XZ_YZXY_XYX_YYYXZY_XXYXY__X_XZZ_\n",
       "+ ZZY__X_X__YZ__X__ZY_XX___XX_Y_XZ__YY⋯Z_X_YZ_ZYY_XYXY_YX_YZ__Z__X_ZX_YZY_XZ\n",
       "+ Y_Z_XXZY__XY_XYYZZZYYXY__X_XYXYYYZ_X⋯XX_XX_YXYZ__XYXZXZXZ_XZZXX__ZX_XY_Y_Y\n",
       " ⋮\n",
       "+ XXZY__Y_ZZX_Z_Y_Y_ZXZ_YYZX_YX__XYX__⋯XYYXZYZYZ_XZ_ZYYZ__XYXXXXYYYYX_ZY_XXZ\n",
       "- ZYYYZ_YX_YX_ZZXXX_YXXYX_ZYYZ_Y_ZY_ZY⋯X__X__XYYZZZXZZYY_XX_YZZZ_ZYZ_X_YYXZY\n",
       "+ _YXZ_XZZXZYXY___Y_YZ_Y__XYXYY_XYZZ_Z⋯ZZ__ZX__XZZY_YZZYYZZZ_Y_YYXZY_YZZYYY_\n",
       "+ Y__X_YXZYZ__YZX_ZX_X_ZYYZYY_ZZ_XZY_X⋯Y___Y_Y_YX_YXY_YZYYY_YZZ_YYYXYYYYYXZZ\n",
       "+ YYXZXZYXYXZX_YYYYZXZZYX__ZY_ZZY_ZZYX⋯_XZZX_YZXZYYYYXXXZZZZZXXY_Z__YYX__XXZ\n",
       "+ YZ_YXXY____YZ__YX__ZYYXZZ_XZXXZZXX__⋯X_XXYYYXX_YXXXX_X_XZ_Y_YZZYZYZYZ_YY_Z\n",
       "- ZX_YXXXX_YXZZ_X_ZX_XX_ZXYXZYZZ_XZZZZ⋯ZZ_Y_YXYXXXZZ_YX_XYZY_YY_ZYX_Z_ZZXZY_\n",
       "- XYYYXYZXZXZZ_YYXY_ZZZ___Z_ZYYYYXYYZZ⋯Z_ZZXZ_YY_Y_XX_XX__X_XYZ__ZX_XZZXZZYY\n",
       "- YZ__YYXXXZ_X_XXYXY_Y_XX_ZZZX_XX_XXYY⋯_XXY_XYZY_ZX_ZYZYYX_XZYY_ZZZ_XXYXZYXY\n",
       "- Y_XX__ZYY_XZXX__YYZXY_XZYX_YXXZY_Z_X⋯YZYXYYXZ_YZ_XZYZYXYZZYYZZ_YX_X_Z_YZX_\n",
       "+ Z_XZ_ZXXXZZ__ZZZ__XZYYX_ZYX_ZX_XY_ZX⋯XX_ZXXZXX_YZZXX_YY_XXZZYX__XXX_XZXZZ_"
      ]
     },
     "execution_count": 178,
     "metadata": {},
     "output_type": "execute_result"
    }
   ],
   "source": [
    "test_st = random_stabilizer(100)"
   ]
  },
  {
   "cell_type": "code",
   "execution_count": 185,
   "metadata": {},
   "outputs": [
    {
     "data": {
      "text/plain": [
       "+ Y_XZXXXZ_XXYYZZ_ZZZZXYYYXZ_Z___ZXZZY⋯__ZYYYXXX_YYYXZXYYXXYZYYZXX_ZXXX_ZZYX"
      ]
     },
     "execution_count": 185,
     "metadata": {},
     "output_type": "execute_result"
    }
   ],
   "source": [
    "test_pauil = copy(test_st)[1]"
   ]
  },
  {
   "cell_type": "code",
   "execution_count": 187,
   "metadata": {},
   "outputs": [
    {
     "data": {
      "text/plain": [
       "(Register{QuantumClifford.Tableau{Vector{UInt8}, Matrix{UInt64}}}(MixedDestablizer 101×101, Bool[1]), continue:CircuitStatus(0))"
      ]
     },
     "execution_count": 187,
     "metadata": {},
     "output_type": "execute_result"
    }
   ],
   "source": [
    "ancillaryqubits = one(Stabilizer, 1)\n",
    "test_syndrome = Register(copy(test_st) ⊗ ancillaryqubits, falses(1))\n",
    "mctrajectory!(test_syndrome, naive_ancillary_paulimeasurement_debug(test_pauli))"
   ]
  },
  {
   "cell_type": "code",
   "execution_count": 183,
   "metadata": {},
   "outputs": [
    {
     "data": {
      "text/plain": [
       "1"
      ]
     },
     "execution_count": 183,
     "metadata": {},
     "output_type": "execute_result"
    }
   ],
   "source": [
    "bitview(test_syndrome) |> sum"
   ]
  },
  {
   "cell_type": "code",
   "execution_count": null,
   "metadata": {},
   "outputs": [],
   "source": []
  }
 ],
 "metadata": {
  "kernelspec": {
   "display_name": "Julia 1.10.4",
   "language": "julia",
   "name": "julia-1.10"
  },
  "language_info": {
   "file_extension": ".jl",
   "mimetype": "application/julia",
   "name": "julia",
   "version": "1.10.4"
  }
 },
 "nbformat": 4,
 "nbformat_minor": 4
}
