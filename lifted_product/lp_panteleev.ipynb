{
 "cells": [
  {
   "cell_type": "code",
   "execution_count": 1,
   "metadata": {},
   "outputs": [],
   "source": [
    "import numpy as np\n",
    "import ldpc.protograph as ptg\n",
    "import ldpc.mod2"
   ]
  },
  {
   "cell_type": "code",
   "execution_count": 2,
   "metadata": {},
   "outputs": [],
   "source": [
    "m1, n1 = 1, 1\n",
    "m2, n2 = 7, 7\n",
    "A1 = ptg.array([\n",
    "    [ptg.RingOfCirculantsF2((0, 1, 6))]\n",
    "    ])\n",
    "A2 = ptg.array([\n",
    "    [ptg.RingOfCirculantsF2((36)), ptg.RingOfCirculantsF2(()), ptg.RingOfCirculantsF2(()), ptg.RingOfCirculantsF2(()), ptg.RingOfCirculantsF2(()), ptg.RingOfCirculantsF2((0)), ptg.RingOfCirculantsF2((9))],\n",
    "    [ptg.RingOfCirculantsF2((9)), ptg.RingOfCirculantsF2((36)), ptg.RingOfCirculantsF2(()), ptg.RingOfCirculantsF2(()), ptg.RingOfCirculantsF2(()), ptg.RingOfCirculantsF2(()), ptg.RingOfCirculantsF2((0))],\n",
    "    [ptg.RingOfCirculantsF2((0)), ptg.RingOfCirculantsF2((9)), ptg.RingOfCirculantsF2((36)), ptg.RingOfCirculantsF2(()), ptg.RingOfCirculantsF2(()), ptg.RingOfCirculantsF2(()), ptg.RingOfCirculantsF2(())],\n",
    "    [ptg.RingOfCirculantsF2(()), ptg.RingOfCirculantsF2((0)), ptg.RingOfCirculantsF2((9)), ptg.RingOfCirculantsF2((36)), ptg.RingOfCirculantsF2(()), ptg.RingOfCirculantsF2(()), ptg.RingOfCirculantsF2(())],\n",
    "    [ptg.RingOfCirculantsF2(()), ptg.RingOfCirculantsF2(()), ptg.RingOfCirculantsF2((0)), ptg.RingOfCirculantsF2((9)), ptg.RingOfCirculantsF2((36)), ptg.RingOfCirculantsF2(()), ptg.RingOfCirculantsF2(())],\n",
    "    [ptg.RingOfCirculantsF2(()), ptg.RingOfCirculantsF2(()), ptg.RingOfCirculantsF2(()), ptg.RingOfCirculantsF2((0)), ptg.RingOfCirculantsF2((9)), ptg.RingOfCirculantsF2((36)), ptg.RingOfCirculantsF2(())],\n",
    "    [ptg.RingOfCirculantsF2(()), ptg.RingOfCirculantsF2(()), ptg.RingOfCirculantsF2(()), ptg.RingOfCirculantsF2(()), ptg.RingOfCirculantsF2((0)), ptg.RingOfCirculantsF2((9)), ptg.RingOfCirculantsF2((36))]\n",
    "    ])\n",
    "A1T = A1.T\n",
    "A2T = A2.T"
   ]
  },
  {
   "cell_type": "code",
   "execution_count": 15,
   "metadata": {},
   "outputs": [
    {
     "data": {
      "text/plain": [
       "array([0, 0, 0, 0, 0, 0, 0, 0, 0, 1, 0, 0, 0, 0, 0, 0, 0, 0, 0, 0, 0, 0,\n",
       "       0, 0, 0, 0, 0, 0, 0, 0, 0, 0, 0, 0, 0, 0, 0, 0, 0, 0, 0, 0, 0, 0,\n",
       "       0, 0, 0, 0, 0, 0, 0, 0, 0, 0, 0, 0, 0, 0, 0, 0, 0, 0, 0])"
      ]
     },
     "execution_count": 15,
     "metadata": {},
     "output_type": "execute_result"
    }
   ],
   "source": [
    "L = 63\n",
    "A2[1,0].to_binary(L)[0,:]"
   ]
  },
  {
   "cell_type": "code",
   "execution_count": 17,
   "metadata": {},
   "outputs": [],
   "source": [
    "# for Hx\n",
    "def kron_A1In2():\n",
    "    rtn = np.zeros((m1 * n2, n1 * n2), dtype=object)\n",
    "    for i in range(rtn.shape[0]):\n",
    "        for j in range(rtn.shape[1]):\n",
    "            rtn[i, j] = ptg.RingOfCirculantsF2(())\n",
    "    for i in range(m1):\n",
    "        for j in range(n1):\n",
    "            for k in range(n2):\n",
    "                rtn[i * n2 + k, j * n2 + k] = A1[i, j]\n",
    "    return rtn\n",
    "\n",
    "def kron_Im1A2T():\n",
    "    rtn = np.zeros((m1 * n2, m1 * m2), dtype=object)\n",
    "    for k in range(m1):\n",
    "        for i in range(n2):\n",
    "            for j in range(m2):\n",
    "                rtn[k * n2 + i, k * m2 + j] = A2T[i, j]\n",
    "    return rtn\n",
    "\n",
    "# for Hz\n",
    "def kron_A1TIm2():\n",
    "    rtn = np.zeros((n1 * m2, m1 * m2), dtype=object)\n",
    "    for i in range(rtn.shape[0]):\n",
    "        for j in range(rtn.shape[1]):\n",
    "            rtn[i, j] = ptg.RingOfCirculantsF2(())\n",
    "    for i in range(n1):\n",
    "        for j in range(m1):\n",
    "            for k in range(m2):\n",
    "                rtn[i * m2 + k, j * m2 + k] = A1T[i, j]\n",
    "    return rtn\n",
    "\n",
    "def kron_In1A2():\n",
    "    rtn = np.zeros((n1 * m2, n1 * n2), dtype=object)\n",
    "    for k in range(n1):\n",
    "        for i in range(m2):\n",
    "            for j in range(n2):\n",
    "                rtn[k * m2 + i, k * n2 + j] = A2[i, j]\n",
    "    return rtn\n",
    "\n",
    "def hx_ptg():\n",
    "    return ptg.array(np.hstack((kron_A1In2(), kron_Im1A2T())))\n",
    "\n",
    "def hz_ptg():\n",
    "    return ptg.array(np.hstack((kron_In1A2(), kron_A1TIm2())))"
   ]
  },
  {
   "cell_type": "code",
   "execution_count": 18,
   "metadata": {},
   "outputs": [
    {
     "data": {
      "text/plain": [
       "24"
      ]
     },
     "execution_count": 18,
     "metadata": {},
     "output_type": "execute_result"
    }
   ],
   "source": [
    "L = 63\n",
    "882 - ldpc.mod2.rank(hx_ptg().to_binary(L)) - ldpc.mod2.rank(hz_ptg().to_binary(L))"
   ]
  },
  {
   "cell_type": "code",
   "execution_count": 19,
   "metadata": {},
   "outputs": [
    {
     "data": {
      "text/plain": [
       "array([[(0,1,6), (), (), (), (), (), ()],\n",
       "       [(), (0,1,6), (), (), (), (), ()],\n",
       "       [(), (), (0,1,6), (), (), (), ()],\n",
       "       [(), (), (), (0,1,6), (), (), ()],\n",
       "       [(), (), (), (), (0,1,6), (), ()],\n",
       "       [(), (), (), (), (), (0,1,6), ()],\n",
       "       [(), (), (), (), (), (), (0,1,6)]], dtype=object)"
      ]
     },
     "execution_count": 19,
     "metadata": {},
     "output_type": "execute_result"
    }
   ],
   "source": [
    "kron_A1In2()"
   ]
  },
  {
   "cell_type": "code",
   "execution_count": 20,
   "metadata": {},
   "outputs": [
    {
     "data": {
      "text/plain": [
       "array([[(-36), (-9), (0), (), (), (), ()],\n",
       "       [(), (-36), (-9), (0), (), (), ()],\n",
       "       [(), (), (-36), (-9), (0), (), ()],\n",
       "       [(), (), (), (-36), (-9), (0), ()],\n",
       "       [(), (), (), (), (-36), (-9), (0)],\n",
       "       [(0), (), (), (), (), (-36), (-9)],\n",
       "       [(-9), (0), (), (), (), (), (-36)]], dtype=object)"
      ]
     },
     "execution_count": 20,
     "metadata": {},
     "output_type": "execute_result"
    }
   ],
   "source": [
    "kron_Im1A2T()"
   ]
  },
  {
   "cell_type": "code",
   "execution_count": null,
   "metadata": {},
   "outputs": [],
   "source": []
  }
 ],
 "metadata": {
  "kernelspec": {
   "display_name": "Python 3 (ipykernel)",
   "language": "python",
   "name": "python3"
  },
  "language_info": {
   "codemirror_mode": {
    "name": "ipython",
    "version": 3
   },
   "file_extension": ".py",
   "mimetype": "text/x-python",
   "name": "python",
   "nbconvert_exporter": "python",
   "pygments_lexer": "ipython3",
   "version": "3.11.5"
  }
 },
 "nbformat": 4,
 "nbformat_minor": 4
}
