{
 "cells": [
  {
   "cell_type": "code",
   "execution_count": 34,
   "id": "3a03b680-5556-4e71-990d-6880ec4a30cd",
   "metadata": {},
   "outputs": [],
   "source": [
    "import Pkg"
   ]
  },
  {
   "cell_type": "code",
   "execution_count": 35,
   "id": "5165742f-38fd-4a8e-bfc9-02a798cd6ae6",
   "metadata": {},
   "outputs": [
    {
     "name": "stdout",
     "output_type": "stream",
     "text": [
      "\u001b[32m\u001b[1mStatus\u001b[22m\u001b[39m `~/.julia/environments/v1.10/Project.toml`\n",
      "  \u001b[90m[7073ff75] \u001b[39mIJulia v1.24.2\n",
      "  \u001b[90m[2b0e0bc5] \u001b[39mLanguageServer v4.5.1\n",
      "  \u001b[90m[0525e862] \u001b[39mQuantumClifford v0.9.4 `../../../Documents/Repos/QuantumClifford.jl`\n",
      "  \u001b[90m[295af30f] \u001b[39mRevise v3.5.14\n",
      "  \u001b[90m[37e2e46d] \u001b[39mLinearAlgebra\n"
     ]
    }
   ],
   "source": [
    "Pkg.status()"
   ]
  },
  {
   "cell_type": "code",
   "execution_count": 5,
   "id": "e3032a6c-3a70-4923-b63f-157ea06a307e",
   "metadata": {},
   "outputs": [],
   "source": [
    "using QuantumClifford"
   ]
  },
  {
   "cell_type": "code",
   "execution_count": 18,
   "id": "f81366d0-8bb9-4c45-94a5-1f877fa34a5d",
   "metadata": {},
   "outputs": [],
   "source": [
    "using QuantumClifford.ECC"
   ]
  },
  {
   "cell_type": "markdown",
   "id": "8dbbe629-49d7-4a85-999b-396011221e8a",
   "metadata": {},
   "source": [
    "## QECC interface "
   ]
  },
  {
   "cell_type": "code",
   "execution_count": 60,
   "id": "07746a86-e604-40a7-b0de-0586288f98a6",
   "metadata": {},
   "outputs": [
    {
     "data": {
      "text/plain": [
       "Toric(2, 2)"
      ]
     },
     "execution_count": 60,
     "metadata": {},
     "output_type": "execute_result"
    }
   ],
   "source": [
    "# c = Shor9()\n",
    "c = Toric(2,2)"
   ]
  },
  {
   "cell_type": "code",
   "execution_count": 61,
   "id": "5a650631-c7af-4032-ba1c-9bbf02c03be6",
   "metadata": {
    "scrolled": true
   },
   "outputs": [
    {
     "data": {
      "text/plain": [
       "+ X_X_XX__\n",
       "+ _X_XXX__\n",
       "+ X_X___XX\n",
       "+ ZZ__Z_Z_\n",
       "+ ZZ___Z_Z\n",
       "+ __ZZZ_Z_"
      ]
     },
     "execution_count": 61,
     "metadata": {},
     "output_type": "execute_result"
    }
   ],
   "source": [
    "parity_checks(c)"
   ]
  },
  {
   "cell_type": "markdown",
   "id": "b38c756b-2132-45e1-ab85-18a2d94d1107",
   "metadata": {},
   "source": [
    "Copy the functions that compute logical operators here. They are not exported in `QuantumClifford.jl/src/ecc/ECC.jl`."
   ]
  },
  {
   "cell_type": "code",
   "execution_count": 62,
   "id": "a3303329-a2a3-4ac6-be95-3a4a381b2f3f",
   "metadata": {},
   "outputs": [
    {
     "data": {
      "text/plain": [
       "logz_ops"
      ]
     },
     "execution_count": 62,
     "metadata": {},
     "output_type": "execute_result"
    }
   ],
   "source": [
    "\"\"\"Logical X operations of a code.\"\"\"\n",
    "function logx_ops(c)\n",
    "    md = MixedDestabilizer(parity_checks(c))\n",
    "    logicalxview(md)\n",
    "end\n",
    "\n",
    "\"\"\"Logical Z operations of a code.\"\"\"\n",
    "function logz_ops(c)\n",
    "    md = MixedDestabilizer(parity_checks(c))\n",
    "    logicalzview(md)\n",
    "end"
   ]
  },
  {
   "cell_type": "code",
   "execution_count": 63,
   "id": "cb0dd906-910a-4402-9372-e9e7f988b2be",
   "metadata": {},
   "outputs": [
    {
     "data": {
      "text/plain": [
       "+ __XX____\n",
       "+ _____X_X"
      ]
     },
     "execution_count": 63,
     "metadata": {},
     "output_type": "execute_result"
    }
   ],
   "source": [
    "logx_ops(c)"
   ]
  },
  {
   "cell_type": "code",
   "execution_count": 64,
   "id": "09ed42bb-65cc-44bd-9922-5fa18a8c869a",
   "metadata": {},
   "outputs": [
    {
     "data": {
      "text/plain": [
       "+ _Z_Z____\n",
       "+ ZZ__Z__Z"
      ]
     },
     "execution_count": 64,
     "metadata": {},
     "output_type": "execute_result"
    }
   ],
   "source": [
    "logz_ops(c)"
   ]
  },
  {
   "cell_type": "code",
   "execution_count": 65,
   "id": "20eb5b12-4b44-4e93-b5e1-2ee93533dc71",
   "metadata": {},
   "outputs": [
    {
     "name": "stdout",
     "output_type": "stream",
     "text": [
      "search: \u001b[0m\u001b[1ml\u001b[22m\u001b[0m\u001b[1mo\u001b[22m\u001b[0m\u001b[1mg\u001b[22m\u001b[0m\u001b[1mi\u001b[22m\u001b[0m\u001b[1mc\u001b[22m\u001b[0m\u001b[1ma\u001b[22m\u001b[0m\u001b[1ml\u001b[22m\u001b[0m\u001b[1mx\u001b[22m\u001b[0m\u001b[1mv\u001b[22m\u001b[0m\u001b[1mi\u001b[22m\u001b[0m\u001b[1me\u001b[22m\u001b[0m\u001b[1mw\u001b[22m\n",
      "\n"
     ]
    },
    {
     "data": {
      "text/latex": [
       "A view of the subtableau corresponding to the logical X operators. See also \\href{@ref}{\\texttt{tab}}, \\href{@ref}{\\texttt{stabilizerview}}, \\href{@ref}{\\texttt{destabilizerview}}, \\href{@ref}{\\texttt{logicalzview}}\n",
       "\n"
      ],
      "text/markdown": [
       "A view of the subtableau corresponding to the logical X operators. See also [`tab`](@ref), [`stabilizerview`](@ref), [`destabilizerview`](@ref), [`logicalzview`](@ref)\n"
      ],
      "text/plain": [
       "  A view of the subtableau corresponding to the logical X operators. See also\n",
       "  \u001b[36mtab\u001b[39m, \u001b[36mstabilizerview\u001b[39m, \u001b[36mdestabilizerview\u001b[39m, \u001b[36mlogicalzview\u001b[39m"
      ]
     },
     "execution_count": 65,
     "metadata": {},
     "output_type": "execute_result"
    }
   ],
   "source": [
    "? logicalxview"
   ]
  },
  {
   "cell_type": "markdown",
   "id": "45e0fed4-7ffa-4583-a66d-b74614468cdd",
   "metadata": {},
   "source": [
    "Note that there is a redundency in logics. We may consider provide a API that accepct logical operators."
   ]
  },
  {
   "cell_type": "code",
   "execution_count": 66,
   "id": "2f4f66fe-48ec-4a35-ba6d-9ec971fbad1c",
   "metadata": {},
   "outputs": [
    {
     "data": {
      "text/plain": [
       "3×8 SparseArrays.SparseMatrixCSC{Bool, Int64} with 12 stored entries:\n",
       " 1  ⋅  1  ⋅  1  1  ⋅  ⋅\n",
       " ⋅  1  ⋅  1  1  1  ⋅  ⋅\n",
       " 1  ⋅  1  ⋅  ⋅  ⋅  1  1"
      ]
     },
     "execution_count": 66,
     "metadata": {},
     "output_type": "execute_result"
    }
   ],
   "source": [
    "parity_checks_x(c)"
   ]
  },
  {
   "cell_type": "code",
   "execution_count": 67,
   "id": "32ed1a95-b687-4300-b02d-5b04e426116d",
   "metadata": {},
   "outputs": [
    {
     "data": {
      "text/plain": [
       "3×8 SparseArrays.SparseMatrixCSC{Bool, Int64} with 12 stored entries:\n",
       " 1  1  ⋅  ⋅  1  ⋅  1  ⋅\n",
       " 1  1  ⋅  ⋅  ⋅  1  ⋅  1\n",
       " ⋅  ⋅  1  1  1  ⋅  1  ⋅"
      ]
     },
     "execution_count": 67,
     "metadata": {},
     "output_type": "execute_result"
    }
   ],
   "source": [
    "parity_checks_z(c)"
   ]
  },
  {
   "cell_type": "code",
   "execution_count": 68,
   "id": "7e09b226-8351-4be1-af47-10c02ce000f7",
   "metadata": {},
   "outputs": [
    {
     "data": {
      "text/plain": [
       "+ X_X_XX__\n",
       "+ _X_XXX__\n",
       "+ X_X___XX\n",
       "+ ZZ__Z_Z_\n",
       "+ ZZ___Z_Z\n",
       "+ __ZZZ_Z_"
      ]
     },
     "execution_count": 68,
     "metadata": {},
     "output_type": "execute_result"
    }
   ],
   "source": [
    "parity_checks(c)"
   ]
  },
  {
   "cell_type": "code",
   "execution_count": 69,
   "id": "d42ea11e-49ff-4cd3-bb02-478f1bad5e01",
   "metadata": {
    "scrolled": true
   },
   "outputs": [
    {
     "data": {
      "text/plain": [
       "+ X_X_XX__\n",
       "+ _X_XXX__\n",
       "+ X_X___XX\n",
       "+ ZZ__Z_Z_\n",
       "+ ZZ___Z_Z\n",
       "+ __ZZZ_Z_"
      ]
     },
     "execution_count": 69,
     "metadata": {},
     "output_type": "execute_result"
    }
   ],
   "source": [
    "parity_checks(c)"
   ]
  },
  {
   "cell_type": "code",
   "execution_count": 70,
   "id": "0e3a9a0b-1217-4aab-8e65-5ceaff577cb7",
   "metadata": {},
   "outputs": [
    {
     "data": {
      "text/plain": [
       "6×16 Matrix{Bool}:\n",
       " 1  0  1  0  1  1  0  0  0  0  0  0  0  0  0  0\n",
       " 0  1  0  1  1  1  0  0  0  0  0  0  0  0  0  0\n",
       " 1  0  1  0  0  0  1  1  0  0  0  0  0  0  0  0\n",
       " 0  0  0  0  0  0  0  0  1  1  0  0  1  0  1  0\n",
       " 0  0  0  0  0  0  0  0  1  1  0  0  0  1  0  1\n",
       " 0  0  0  0  0  0  0  0  0  0  1  1  1  0  1  0"
      ]
     },
     "execution_count": 70,
     "metadata": {},
     "output_type": "execute_result"
    }
   ],
   "source": [
    "stab_to_gf2(parity_checks(c))"
   ]
  },
  {
   "cell_type": "markdown",
   "id": "cb7dc4b0-a8c3-488c-9226-7fc3273c156e",
   "metadata": {},
   "source": [
    "## Concatenation"
   ]
  },
  {
   "cell_type": "markdown",
   "id": "77bac51d-c74f-4979-8ce1-ee79bccb2f79",
   "metadata": {},
   "source": [
    "We consider cocantation of two small Toric codes."
   ]
  },
  {
   "cell_type": "code",
   "execution_count": 108,
   "id": "d6d5fd45-c17e-4436-adf9-9eca4583fedb",
   "metadata": {},
   "outputs": [
    {
     "data": {
      "text/plain": [
       "6"
      ]
     },
     "execution_count": 108,
     "metadata": {},
     "output_type": "execute_result"
    }
   ],
   "source": [
    "c1 = Toric(2,2) # inner\n",
    "c2 = Toric(2,2)# outer\n",
    "k1 = code_k(c1)\n",
    "k2 = code_k(c2)\n",
    "n1 = code_n(c1)\n",
    "n2 = code_n(c2)\n",
    "s1 = code_s(c1)\n",
    "s2 = code_s(c2)"
   ]
  },
  {
   "cell_type": "code",
   "execution_count": 168,
   "id": "07faa099-17ba-44c1-9c49-d4ee3024699f",
   "metadata": {},
   "outputs": [
    {
     "data": {
      "text/plain": [
       "(8, 2, 6)"
      ]
     },
     "execution_count": 168,
     "metadata": {},
     "output_type": "execute_result"
    }
   ],
   "source": [
    "n1, k1, s1"
   ]
  },
  {
   "cell_type": "markdown",
   "id": "bec2309e-0548-4d9f-a32d-92be9119885c",
   "metadata": {},
   "source": [
    "Each of the $n_2$ qubits of c2 is replaced by a $n_1$-qubit c1 code.\n",
    "\n",
    "Two kinds of checks:\n",
    "\n",
    "1. Parity checks of c1 codes. Their number is $n_2 (n_1-k_1)$.\n",
    "2. Parity checks of the c2 code, where Pauli operators are replaced by c1 codes' logical operators. Their number is $(n_2-k_2) k_1$. Note that there are $k_2$ pairs of X and Z logics.\n",
    "\n",
    "In total, there are $n_1 n_2 - k_1 k_2$ parity checks, consistent with the code parameter of the concatenated code."
   ]
  },
  {
   "cell_type": "markdown",
   "id": "34a7d329-da24-4803-987a-d0cadc6e8dcd",
   "metadata": {},
   "source": [
    "The first type of checks:"
   ]
  },
  {
   "cell_type": "code",
   "execution_count": 109,
   "id": "8d3c18a2-22ae-4227-9d4b-d5ee8483760d",
   "metadata": {},
   "outputs": [
    {
     "data": {
      "text/plain": [
       "+ X_X_XX__\n",
       "+ _X_XXX__\n",
       "+ X_X___XX\n",
       "+ ZZ__Z_Z_\n",
       "+ ZZ___Z_Z\n",
       "+ __ZZZ_Z_"
      ]
     },
     "execution_count": 109,
     "metadata": {},
     "output_type": "execute_result"
    }
   ],
   "source": [
    "parity_checks(c1)"
   ]
  },
  {
   "cell_type": "code",
   "execution_count": 110,
   "id": "3cb7a92d-7def-4fa6-9214-47ccd150c209",
   "metadata": {},
   "outputs": [
    {
     "data": {
      "text/plain": [
       "+ X_X_XX__"
      ]
     },
     "execution_count": 110,
     "metadata": {},
     "output_type": "execute_result"
    }
   ],
   "source": [
    "parity_checks(c1)[1]"
   ]
  },
  {
   "cell_type": "code",
   "execution_count": 111,
   "id": "2d0a2cc6-787f-4b59-a0e8-d355b1c3a229",
   "metadata": {},
   "outputs": [
    {
     "data": {
      "text/plain": [
       "+ _X_X_XX___"
      ]
     },
     "execution_count": 111,
     "metadata": {},
     "output_type": "execute_result"
    }
   ],
   "source": [
    "I ⊗ parity_checks(c1)[1]  ⊗ I"
   ]
  },
  {
   "cell_type": "code",
   "execution_count": 112,
   "id": "bebdbdb4-7caa-4e2a-aca4-aafd0c66ff8b",
   "metadata": {},
   "outputs": [
    {
     "data": {
      "text/plain": [
       "+ X_X_XX__________________________________________________________"
      ]
     },
     "execution_count": 112,
     "metadata": {},
     "output_type": "execute_result"
    }
   ],
   "source": [
    "embed(n1*n2, 1:n1, parity_checks(c1)[1])"
   ]
  },
  {
   "cell_type": "code",
   "execution_count": 113,
   "id": "be8da9bf-ba69-4054-a7d5-7ee44c4e4eef",
   "metadata": {},
   "outputs": [
    {
     "data": {
      "text/plain": [
       "48-element Vector{PauliOperator{Array{UInt8, 0}, Vector{UInt64}}}:\n",
       " + X_X_X⋯______\n",
       " + _X_XX⋯______\n",
       " + X_X__⋯______\n",
       " + ZZ__Z⋯______\n",
       " + ZZ___⋯______\n",
       " + __ZZZ⋯______\n",
       " + _____⋯______\n",
       " + _____⋯______\n",
       " + _____⋯______\n",
       " + _____⋯______\n",
       " + _____⋯______\n",
       " + _____⋯______\n",
       " + _____⋯______\n",
       " ⋮\n",
       " + _____⋯______\n",
       " + _____⋯______\n",
       " + _____⋯______\n",
       " + _____⋯______\n",
       " + _____⋯______\n",
       " + _____⋯______\n",
       " + _____⋯X_XX__\n",
       " + _____⋯_XXX__\n",
       " + _____⋯X___XX\n",
       " + _____⋯__Z_Z_\n",
       " + _____⋯___Z_Z\n",
       " + _____⋯ZZZ_Z_"
      ]
     },
     "execution_count": 113,
     "metadata": {},
     "output_type": "execute_result"
    }
   ],
   "source": [
    "vcat([embed(n1*n2, 1+(i-1)*n1:i*n1, parity_checks(c1)[j]) for i in 1:n2 for j in 1:s1])"
   ]
  },
  {
   "cell_type": "markdown",
   "id": "3dd6b22f-fd7c-4ffa-87af-b0fa0a3a953f",
   "metadata": {},
   "source": [
    "The second types can be implemented by some kinds of tensor product on gf2 representation."
   ]
  },
  {
   "cell_type": "code",
   "execution_count": 114,
   "id": "5fc21ad0-809c-46d4-bb99-e064588f5e15",
   "metadata": {
    "scrolled": true
   },
   "outputs": [
    {
     "data": {
      "text/plain": [
       "6×16 Matrix{Bool}:\n",
       " 1  0  1  0  1  1  0  0  0  0  0  0  0  0  0  0\n",
       " 0  1  0  1  1  1  0  0  0  0  0  0  0  0  0  0\n",
       " 1  0  1  0  0  0  1  1  0  0  0  0  0  0  0  0\n",
       " 0  0  0  0  0  0  0  0  1  1  0  0  1  0  1  0\n",
       " 0  0  0  0  0  0  0  0  1  1  0  0  0  1  0  1\n",
       " 0  0  0  0  0  0  0  0  0  0  1  1  1  0  1  0"
      ]
     },
     "execution_count": 114,
     "metadata": {},
     "output_type": "execute_result"
    }
   ],
   "source": [
    "h2 = stab_to_gf2(parity_checks(c2))"
   ]
  },
  {
   "cell_type": "code",
   "execution_count": 179,
   "id": "96098cd0-f0f1-4e87-a439-8dcb41738cda",
   "metadata": {},
   "outputs": [
    {
     "data": {
      "text/plain": [
       "6-element Vector{UInt8}:\n",
       " 0x00\n",
       " 0x00\n",
       " 0x00\n",
       " 0x00\n",
       " 0x00\n",
       " 0x00"
      ]
     },
     "execution_count": 179,
     "metadata": {},
     "output_type": "execute_result"
    }
   ],
   "source": [
    "phases2 = phases(parity_checks(c2))"
   ]
  },
  {
   "cell_type": "markdown",
   "id": "1354161e-5af4-462e-b72b-a7f2e68c2932",
   "metadata": {},
   "source": [
    "Take the logics of c1."
   ]
  },
  {
   "cell_type": "code",
   "execution_count": 138,
   "id": "bce56f9b-93b5-44a3-9e33-e4ebe57939b2",
   "metadata": {},
   "outputs": [
    {
     "data": {
      "text/plain": [
       "2×16 Matrix{Bool}:\n",
       " 0  0  1  1  0  0  0  0  0  0  0  0  0  0  0  0\n",
       " 0  0  0  0  0  1  0  1  0  0  0  0  0  0  0  0"
      ]
     },
     "execution_count": 138,
     "metadata": {},
     "output_type": "execute_result"
    }
   ],
   "source": [
    "vx1 = stab_to_gf2(logx_ops(c1))"
   ]
  },
  {
   "cell_type": "code",
   "execution_count": 177,
   "id": "9fd17c5f-498f-4ff0-aa0e-ff333bedeed5",
   "metadata": {},
   "outputs": [
    {
     "data": {
      "text/plain": [
       "2-element view(::Vector{UInt8}, 7:8) with eltype UInt8:\n",
       " 0x00\n",
       " 0x00"
      ]
     },
     "execution_count": 177,
     "metadata": {},
     "output_type": "execute_result"
    }
   ],
   "source": [
    "phases_x1 = phases(logx_ops(c1))"
   ]
  },
  {
   "cell_type": "code",
   "execution_count": 137,
   "id": "55a443e9-ce7f-43c8-8031-a5e988a10d07",
   "metadata": {},
   "outputs": [
    {
     "data": {
      "text/plain": [
       "2×16 Matrix{Bool}:\n",
       " 0  0  0  0  0  0  0  0  0  1  0  1  0  0  0  0\n",
       " 0  0  0  0  0  0  0  0  1  1  0  0  1  0  0  1"
      ]
     },
     "execution_count": 137,
     "metadata": {},
     "output_type": "execute_result"
    }
   ],
   "source": [
    "vz1 = stab_to_gf2(logz_ops(c1))"
   ]
  },
  {
   "cell_type": "code",
   "execution_count": 178,
   "id": "314ad71a-32e4-4141-a406-866c445d9f3d",
   "metadata": {},
   "outputs": [
    {
     "data": {
      "text/plain": [
       "2-element view(::Vector{UInt8}, 15:16) with eltype UInt8:\n",
       " 0x00\n",
       " 0x00"
      ]
     },
     "execution_count": 178,
     "metadata": {},
     "output_type": "execute_result"
    }
   ],
   "source": [
    "phases_z1 = phases(logz_ops(c1))"
   ]
  },
  {
   "cell_type": "code",
   "execution_count": 136,
   "id": "10ec9e19-7c52-4661-8e98-1ff08fe7c6f2",
   "metadata": {},
   "outputs": [],
   "source": [
    "# logz_ops(c1)[1,1][1]"
   ]
  },
  {
   "cell_type": "code",
   "execution_count": 150,
   "id": "5109b312-60c9-4df6-9934-437bb439e222",
   "metadata": {},
   "outputs": [
    {
     "data": {
      "text/plain": [
       "128-element Vector{Bool}:\n",
       " 0\n",
       " 0\n",
       " 1\n",
       " 1\n",
       " 0\n",
       " 0\n",
       " 0\n",
       " 0\n",
       " 0\n",
       " 0\n",
       " 0\n",
       " 0\n",
       " 0\n",
       " ⋮\n",
       " 0\n",
       " 0\n",
       " 0\n",
       " 0\n",
       " 0\n",
       " 0\n",
       " 0\n",
       " 0\n",
       " 0\n",
       " 0\n",
       " 0\n",
       " 0"
      ]
     },
     "execution_count": 150,
     "metadata": {},
     "output_type": "execute_result"
    }
   ],
   "source": [
    "vcat(kron(h2[1,1:end÷2], vx1[1,1:end÷2]), kron(h2[1,end÷2+1:end], vz1[1,1:end÷2]))"
   ]
  },
  {
   "cell_type": "code",
   "execution_count": 171,
   "id": "ff2c568d-d135-48c4-bc21-b5179caab06b",
   "metadata": {
    "scrolled": true
   },
   "outputs": [
    {
     "data": {
      "text/plain": [
       "12×128 transpose(::Matrix{Bool}) with eltype Bool:\n",
       " 0  0  1  1  0  0  0  0  0  0  0  0  0  …  0  0  0  0  0  0  0  0  0  0  0  0\n",
       " 0  0  0  0  0  1  0  1  0  0  0  0  0     0  0  0  0  0  0  0  0  0  0  0  0\n",
       " 0  0  0  0  0  0  0  0  0  0  1  1  0     0  0  0  0  0  0  0  0  0  0  0  0\n",
       " 0  0  0  0  0  0  0  0  0  0  0  0  0     0  0  0  0  0  0  0  0  0  0  0  0\n",
       " 0  0  1  1  0  0  0  0  0  0  0  0  0     0  0  0  0  0  0  0  0  0  0  0  0\n",
       " 0  0  0  0  0  1  0  1  0  0  0  0  0  …  0  0  0  0  0  0  0  0  0  0  0  0\n",
       " 0  0  0  0  0  0  0  0  0  0  0  0  0     0  0  0  0  0  0  0  0  0  0  0  0\n",
       " 0  0  0  0  0  0  0  0  0  0  0  0  0     1  0  0  1  0  0  0  0  0  0  0  0\n",
       " 0  0  0  0  0  0  0  0  0  0  0  0  0     0  0  0  0  0  1  0  1  0  0  0  0\n",
       " 0  0  0  0  0  0  0  0  0  0  0  0  0     0  0  0  0  1  1  0  0  1  0  0  1\n",
       " 0  0  0  0  0  0  0  0  0  0  0  0  0  …  0  0  0  0  0  0  0  0  0  0  0  0\n",
       " 0  0  0  0  0  0  0  0  0  0  0  0  0     1  0  0  1  0  0  0  0  0  0  0  0"
      ]
     },
     "execution_count": 171,
     "metadata": {},
     "output_type": "execute_result"
    }
   ],
   "source": [
    "hlog = transpose(hcat([vcat(kron(h2[i,1:end÷2], vx1[j,1:end÷2]), kron(h2[i,end÷2+1:end], vz1[j,end÷2+1:end])) for i in 1:s2 for j in 1:k1]...))"
   ]
  },
  {
   "cell_type": "markdown",
   "id": "bc67b810-c53e-47fb-87a9-366b972dcd06",
   "metadata": {},
   "source": [
    "Then, we deal with the phase. If i=1, j=1:"
   ]
  },
  {
   "cell_type": "code",
   "execution_count": 225,
   "id": "954b57d8-7e1b-4236-8718-57b1b6f4575b",
   "metadata": {},
   "outputs": [
    {
     "data": {
      "text/plain": [
       "0x00"
      ]
     },
     "execution_count": 225,
     "metadata": {},
     "output_type": "execute_result"
    }
   ],
   "source": [
    "UInt8((sum(h2[1,1:end÷2] * phases_x1[1]) + sum(h2[1,end÷2+1:end] * phases_z1[1]) + phases2[1]) & 0x3)"
   ]
  },
  {
   "cell_type": "code",
   "execution_count": 227,
   "id": "5cd782a6-9655-403d-bcd1-75cf0a710ff3",
   "metadata": {},
   "outputs": [
    {
     "data": {
      "text/plain": [
       "12-element Vector{UInt8}:\n",
       " 0x00\n",
       " 0x00\n",
       " 0x00\n",
       " 0x00\n",
       " 0x00\n",
       " 0x00\n",
       " 0x00\n",
       " 0x00\n",
       " 0x00\n",
       " 0x00\n",
       " 0x00\n",
       " 0x00"
      ]
     },
     "execution_count": 227,
     "metadata": {},
     "output_type": "execute_result"
    }
   ],
   "source": [
    "phases_log = [UInt8((sum(h2[1,1:end÷2] * phases_x1[1]) + sum(h2[1,end÷2+1:end] * phases_z1[1]) + phases2[1]) & 0x3) for i in 1:s2 for j in 1:k1]"
   ]
  },
  {
   "cell_type": "code",
   "execution_count": 232,
   "id": "ee38e388-53b8-4237-9aa3-461e9a4c31ec",
   "metadata": {},
   "outputs": [
    {
     "data": {
      "text/plain": [
       "+ __XX______________XX______________XX______XX____________________\n",
       "+ _____X_X_____________X_X_____________X_X_____X_X________________\n",
       "+ __________XX______________XX______XX______XX____________________\n",
       "+ _____________X_X_____________X_X_____X_X_____X_X________________\n",
       "+ __XX______________XX______________________________XX______XX____\n",
       "+ _____X_X_____________X_X_____________________________X_X_____X_X\n",
       "+ _Z_Z_____Z_Z_____________________Z_Z_____________Z_Z____________\n",
       "+ ZZ__Z__ZZZ__Z__Z________________ZZ__Z__Z________ZZ__Z__Z________\n",
       "+ _Z_Z_____Z_Z_____________________________Z_Z_____________Z_Z____\n",
       "+ ZZ__Z__ZZZ__Z__Z________________________ZZ__Z__Z________ZZ__Z__Z\n",
       "+ _________________Z_Z_____Z_Z_____Z_Z_____________Z_Z____________\n",
       "+ ________________ZZ__Z__ZZZ__Z__ZZZ__Z__Z________ZZ__Z__Z________"
      ]
     },
     "execution_count": 232,
     "metadata": {},
     "output_type": "execute_result"
    }
   ],
   "source": [
    "Stabilizer(phases_log, hlog)"
   ]
  },
  {
   "cell_type": "markdown",
   "id": "dc49b6d3-5043-4ab6-a77e-a4d31cf1c329",
   "metadata": {},
   "source": [
    "Next to do:\n",
    "\n",
    "- Construct ECC data structure.\n",
    "- What if the resulting code is not CSS? Some API design considerations.\n",
    "- Design test."
   ]
  },
  {
   "cell_type": "code",
   "execution_count": null,
   "id": "d2498c7b-6dce-418e-9143-ec6bd212ddc5",
   "metadata": {},
   "outputs": [],
   "source": []
  }
 ],
 "metadata": {
  "kernelspec": {
   "display_name": "Julia 1.10.3",
   "language": "julia",
   "name": "julia-1.10"
  },
  "language_info": {
   "file_extension": ".jl",
   "mimetype": "application/julia",
   "name": "julia",
   "version": "1.10.3"
  }
 },
 "nbformat": 4,
 "nbformat_minor": 5
}
