{
 "cells": [
  {
   "cell_type": "code",
   "execution_count": 1,
   "id": "3a03b680-5556-4e71-990d-6880ec4a30cd",
   "metadata": {},
   "outputs": [],
   "source": [
    "import Pkg"
   ]
  },
  {
   "cell_type": "code",
   "execution_count": 2,
   "id": "5165742f-38fd-4a8e-bfc9-02a798cd6ae6",
   "metadata": {},
   "outputs": [
    {
     "name": "stdout",
     "output_type": "stream",
     "text": [
      "\u001b[32m\u001b[1mStatus\u001b[22m\u001b[39m `~/.julia/environments/v1.10/Project.toml`\n",
      "  \u001b[90m[861a8166] \u001b[39mCombinatorics v1.0.2\n",
      "  \u001b[90m[7073ff75] \u001b[39mIJulia v1.24.2\n",
      "  \u001b[90m[2b0e0bc5] \u001b[39mLanguageServer v4.5.1\n",
      "  \u001b[90m[91a5bcdd] \u001b[39mPlots v1.40.4\n",
      "  \u001b[90m[b0d11df0] \u001b[39mQuantikz v1.3.1\n",
      "  \u001b[90m[0525e862] \u001b[39mQuantumClifford v0.9.4 `../../../Documents/Repos/QuantumClifford.jl`\n",
      "  \u001b[90m[295af30f] \u001b[39mRevise v3.5.14\n",
      "  \u001b[90m[37e2e46d] \u001b[39mLinearAlgebra\n"
     ]
    }
   ],
   "source": [
    "Pkg.status()"
   ]
  },
  {
   "cell_type": "code",
   "execution_count": 3,
   "id": "e3032a6c-3a70-4923-b63f-157ea06a307e",
   "metadata": {},
   "outputs": [],
   "source": [
    "using QuantumClifford"
   ]
  },
  {
   "cell_type": "code",
   "execution_count": 4,
   "id": "f81366d0-8bb9-4c45-94a5-1f877fa34a5d",
   "metadata": {},
   "outputs": [],
   "source": [
    "using QuantumClifford.ECC"
   ]
  },
  {
   "cell_type": "markdown",
   "id": "8dbbe629-49d7-4a85-999b-396011221e8a",
   "metadata": {},
   "source": [
    "## QECC interface "
   ]
  },
  {
   "cell_type": "code",
   "execution_count": 5,
   "id": "07746a86-e604-40a7-b0de-0586288f98a6",
   "metadata": {},
   "outputs": [
    {
     "data": {
      "text/plain": [
       "Toric(2, 2)"
      ]
     },
     "execution_count": 5,
     "metadata": {},
     "output_type": "execute_result"
    }
   ],
   "source": [
    "# c = Shor9()\n",
    "c = Toric(2,2)"
   ]
  },
  {
   "cell_type": "code",
   "execution_count": 6,
   "id": "5a650631-c7af-4032-ba1c-9bbf02c03be6",
   "metadata": {
    "scrolled": true
   },
   "outputs": [
    {
     "data": {
      "text/plain": [
       "+ X_X_XX__\n",
       "+ _X_XXX__\n",
       "+ X_X___XX\n",
       "+ ZZ__Z_Z_\n",
       "+ ZZ___Z_Z\n",
       "+ __ZZZ_Z_"
      ]
     },
     "execution_count": 6,
     "metadata": {},
     "output_type": "execute_result"
    }
   ],
   "source": [
    "parity_checks(c)"
   ]
  },
  {
   "cell_type": "markdown",
   "id": "b38c756b-2132-45e1-ab85-18a2d94d1107",
   "metadata": {},
   "source": [
    "Copy the functions that compute logical operators here. They are not exported in `QuantumClifford.jl/src/ecc/ECC.jl`."
   ]
  },
  {
   "cell_type": "code",
   "execution_count": 28,
   "id": "a3303329-a2a3-4ac6-be95-3a4a381b2f3f",
   "metadata": {},
   "outputs": [
    {
     "data": {
      "text/plain": [
       "logz_ops"
      ]
     },
     "execution_count": 28,
     "metadata": {},
     "output_type": "execute_result"
    }
   ],
   "source": [
    "\"\"\"Logical X operations of a code.\"\"\"\n",
    "function logx_ops(c)\n",
    "    md = MixedDestabilizer(parity_checks(c))\n",
    "    logicalxview(md)\n",
    "end\n",
    "\n",
    "\"\"\"Logical Z operations of a code.\"\"\"\n",
    "function logz_ops(c)\n",
    "    md = MixedDestabilizer(parity_checks(c))\n",
    "    logicalzview(md)\n",
    "end"
   ]
  },
  {
   "cell_type": "code",
   "execution_count": 29,
   "id": "cb0dd906-910a-4402-9372-e9e7f988b2be",
   "metadata": {},
   "outputs": [
    {
     "data": {
      "text/plain": [
       "+ __XX____\n",
       "+ _____X_X"
      ]
     },
     "execution_count": 29,
     "metadata": {},
     "output_type": "execute_result"
    }
   ],
   "source": [
    "logx_ops(c)"
   ]
  },
  {
   "cell_type": "code",
   "execution_count": 30,
   "id": "09ed42bb-65cc-44bd-9922-5fa18a8c869a",
   "metadata": {},
   "outputs": [
    {
     "data": {
      "text/plain": [
       "+ _Z_Z____\n",
       "+ ZZ__Z__Z"
      ]
     },
     "execution_count": 30,
     "metadata": {},
     "output_type": "execute_result"
    }
   ],
   "source": [
    "logz_ops(c)"
   ]
  },
  {
   "cell_type": "code",
   "execution_count": 31,
   "id": "20eb5b12-4b44-4e93-b5e1-2ee93533dc71",
   "metadata": {},
   "outputs": [
    {
     "name": "stdout",
     "output_type": "stream",
     "text": [
      "search: \u001b[0m\u001b[1ml\u001b[22m\u001b[0m\u001b[1mo\u001b[22m\u001b[0m\u001b[1mg\u001b[22m\u001b[0m\u001b[1mi\u001b[22m\u001b[0m\u001b[1mc\u001b[22m\u001b[0m\u001b[1ma\u001b[22m\u001b[0m\u001b[1ml\u001b[22m\u001b[0m\u001b[1mx\u001b[22m\u001b[0m\u001b[1mv\u001b[22m\u001b[0m\u001b[1mi\u001b[22m\u001b[0m\u001b[1me\u001b[22m\u001b[0m\u001b[1mw\u001b[22m\n",
      "\n"
     ]
    },
    {
     "data": {
      "text/latex": [
       "A view of the subtableau corresponding to the logical X operators. See also \\href{@ref}{\\texttt{tab}}, \\href{@ref}{\\texttt{stabilizerview}}, \\href{@ref}{\\texttt{destabilizerview}}, \\href{@ref}{\\texttt{logicalzview}}\n",
       "\n"
      ],
      "text/markdown": [
       "A view of the subtableau corresponding to the logical X operators. See also [`tab`](@ref), [`stabilizerview`](@ref), [`destabilizerview`](@ref), [`logicalzview`](@ref)\n"
      ],
      "text/plain": [
       "  A view of the subtableau corresponding to the logical X operators. See also\n",
       "  \u001b[36mtab\u001b[39m, \u001b[36mstabilizerview\u001b[39m, \u001b[36mdestabilizerview\u001b[39m, \u001b[36mlogicalzview\u001b[39m"
      ]
     },
     "execution_count": 31,
     "metadata": {},
     "output_type": "execute_result"
    }
   ],
   "source": [
    "? logicalxview"
   ]
  },
  {
   "cell_type": "markdown",
   "id": "45e0fed4-7ffa-4583-a66d-b74614468cdd",
   "metadata": {},
   "source": [
    "Note that there is a redundency in logics. We may consider provide a API that accepct logical operators."
   ]
  },
  {
   "cell_type": "code",
   "execution_count": 32,
   "id": "2f4f66fe-48ec-4a35-ba6d-9ec971fbad1c",
   "metadata": {},
   "outputs": [
    {
     "data": {
      "text/plain": [
       "3×8 SparseArrays.SparseMatrixCSC{Bool, Int64} with 12 stored entries:\n",
       " 1  ⋅  1  ⋅  1  1  ⋅  ⋅\n",
       " ⋅  1  ⋅  1  1  1  ⋅  ⋅\n",
       " 1  ⋅  1  ⋅  ⋅  ⋅  1  1"
      ]
     },
     "execution_count": 32,
     "metadata": {},
     "output_type": "execute_result"
    }
   ],
   "source": [
    "parity_checks_x(c)"
   ]
  },
  {
   "cell_type": "code",
   "execution_count": 33,
   "id": "32ed1a95-b687-4300-b02d-5b04e426116d",
   "metadata": {},
   "outputs": [
    {
     "data": {
      "text/plain": [
       "3×8 SparseArrays.SparseMatrixCSC{Bool, Int64} with 12 stored entries:\n",
       " 1  1  ⋅  ⋅  1  ⋅  1  ⋅\n",
       " 1  1  ⋅  ⋅  ⋅  1  ⋅  1\n",
       " ⋅  ⋅  1  1  1  ⋅  1  ⋅"
      ]
     },
     "execution_count": 33,
     "metadata": {},
     "output_type": "execute_result"
    }
   ],
   "source": [
    "parity_checks_z(c)"
   ]
  },
  {
   "cell_type": "code",
   "execution_count": 34,
   "id": "7e09b226-8351-4be1-af47-10c02ce000f7",
   "metadata": {},
   "outputs": [
    {
     "data": {
      "text/plain": [
       "+ X_X_XX__\n",
       "+ _X_XXX__\n",
       "+ X_X___XX\n",
       "+ ZZ__Z_Z_\n",
       "+ ZZ___Z_Z\n",
       "+ __ZZZ_Z_"
      ]
     },
     "execution_count": 34,
     "metadata": {},
     "output_type": "execute_result"
    }
   ],
   "source": [
    "parity_checks(c)"
   ]
  },
  {
   "cell_type": "code",
   "execution_count": 35,
   "id": "d42ea11e-49ff-4cd3-bb02-478f1bad5e01",
   "metadata": {
    "scrolled": true
   },
   "outputs": [
    {
     "data": {
      "text/plain": [
       "+ X_X_XX__\n",
       "+ _X_XXX__\n",
       "+ X_X___XX\n",
       "+ ZZ__Z_Z_\n",
       "+ ZZ___Z_Z\n",
       "+ __ZZZ_Z_"
      ]
     },
     "execution_count": 35,
     "metadata": {},
     "output_type": "execute_result"
    }
   ],
   "source": [
    "parity_checks(c)"
   ]
  },
  {
   "cell_type": "code",
   "execution_count": 36,
   "id": "0e3a9a0b-1217-4aab-8e65-5ceaff577cb7",
   "metadata": {},
   "outputs": [
    {
     "data": {
      "text/plain": [
       "6×16 Matrix{Bool}:\n",
       " 1  0  1  0  1  1  0  0  0  0  0  0  0  0  0  0\n",
       " 0  1  0  1  1  1  0  0  0  0  0  0  0  0  0  0\n",
       " 1  0  1  0  0  0  1  1  0  0  0  0  0  0  0  0\n",
       " 0  0  0  0  0  0  0  0  1  1  0  0  1  0  1  0\n",
       " 0  0  0  0  0  0  0  0  1  1  0  0  0  1  0  1\n",
       " 0  0  0  0  0  0  0  0  0  0  1  1  1  0  1  0"
      ]
     },
     "execution_count": 36,
     "metadata": {},
     "output_type": "execute_result"
    }
   ],
   "source": [
    "stab_to_gf2(parity_checks(c))"
   ]
  },
  {
   "cell_type": "markdown",
   "id": "cb7dc4b0-a8c3-488c-9226-7fc3273c156e",
   "metadata": {},
   "source": [
    "## Concatenation"
   ]
  },
  {
   "cell_type": "markdown",
   "id": "77bac51d-c74f-4979-8ce1-ee79bccb2f79",
   "metadata": {},
   "source": [
    "We consider cocantation of two small Toric codes."
   ]
  },
  {
   "cell_type": "code",
   "execution_count": 37,
   "id": "d6d5fd45-c17e-4436-adf9-9eca4583fedb",
   "metadata": {},
   "outputs": [
    {
     "data": {
      "text/plain": [
       "6"
      ]
     },
     "execution_count": 37,
     "metadata": {},
     "output_type": "execute_result"
    }
   ],
   "source": [
    "c₁ = Toric(2,2) # inner\n",
    "c₂ = Toric(2,2)# outer\n",
    "k₁ = code_k(c₁)\n",
    "n₁ = code_n(c₁)\n",
    "n₂ = code_n(c₂)\n",
    "s₁ = code_s(c₁)\n",
    "s₂ = code_s(c₂)"
   ]
  },
  {
   "cell_type": "code",
   "execution_count": 38,
   "id": "07faa099-17ba-44c1-9c49-d4ee3024699f",
   "metadata": {},
   "outputs": [
    {
     "data": {
      "text/plain": [
       "(8, 2, 6)"
      ]
     },
     "execution_count": 38,
     "metadata": {},
     "output_type": "execute_result"
    }
   ],
   "source": [
    "n₁, k₁, s₁"
   ]
  },
  {
   "cell_type": "markdown",
   "id": "bec2309e-0548-4d9f-a32d-92be9119885c",
   "metadata": {},
   "source": [
    "Each of the $n_2$ qubits of c2 is replaced by a $n_1$-qubit c1 code.\n",
    "\n",
    "Two kinds of checks:\n",
    "\n",
    "1. Parity checks of c1 codes. Their number is $n_2 (n_1-k_1)$.\n",
    "2. Parity checks of the c2 code, where Pauli operators are replaced by c1 codes' logical operators. Their number is $(n_2-k_2) k_1$. Note that there are $k_2$ pairs of X and Z logics.\n",
    "\n",
    "In total, there are $n_1 n_2 - k_1 k_2$ parity checks, consistent with the code parameter of the concatenated code."
   ]
  },
  {
   "cell_type": "markdown",
   "id": "34a7d329-da24-4803-987a-d0cadc6e8dcd",
   "metadata": {},
   "source": [
    "The first type of checks:"
   ]
  },
  {
   "cell_type": "code",
   "execution_count": 39,
   "id": "8d3c18a2-22ae-4227-9d4b-d5ee8483760d",
   "metadata": {},
   "outputs": [
    {
     "data": {
      "text/plain": [
       "+ X_X_XX__\n",
       "+ _X_XXX__\n",
       "+ X_X___XX\n",
       "+ ZZ__Z_Z_\n",
       "+ ZZ___Z_Z\n",
       "+ __ZZZ_Z_"
      ]
     },
     "execution_count": 39,
     "metadata": {},
     "output_type": "execute_result"
    }
   ],
   "source": [
    "parity_checks(c₁)"
   ]
  },
  {
   "cell_type": "code",
   "execution_count": 40,
   "id": "3cb7a92d-7def-4fa6-9214-47ccd150c209",
   "metadata": {},
   "outputs": [
    {
     "data": {
      "text/plain": [
       "+ X_X_XX__"
      ]
     },
     "execution_count": 40,
     "metadata": {},
     "output_type": "execute_result"
    }
   ],
   "source": [
    "parity_checks(c₁)[1]"
   ]
  },
  {
   "cell_type": "code",
   "execution_count": 41,
   "id": "2d0a2cc6-787f-4b59-a0e8-d355b1c3a229",
   "metadata": {},
   "outputs": [
    {
     "data": {
      "text/plain": [
       "+ _X_X_XX___"
      ]
     },
     "execution_count": 41,
     "metadata": {},
     "output_type": "execute_result"
    }
   ],
   "source": [
    "I ⊗ parity_checks(c₁)[1]  ⊗ I"
   ]
  },
  {
   "cell_type": "code",
   "execution_count": 43,
   "id": "bebdbdb4-7caa-4e2a-aca4-aafd0c66ff8b",
   "metadata": {},
   "outputs": [
    {
     "data": {
      "text/plain": [
       "+ X_X_XX__________________________________________________________"
      ]
     },
     "execution_count": 43,
     "metadata": {},
     "output_type": "execute_result"
    }
   ],
   "source": [
    "embed(n₁*n₂, 1:n₁, parity_checks(c₁)[1])"
   ]
  },
  {
   "cell_type": "code",
   "execution_count": 44,
   "id": "be8da9bf-ba69-4054-a7d5-7ee44c4e4eef",
   "metadata": {},
   "outputs": [
    {
     "data": {
      "text/plain": [
       "+ X_X_XX__________________________________________________________\n",
       "+ _X_XXX__________________________________________________________\n",
       "+ X_X___XX________________________________________________________\n",
       "+ ZZ__Z_Z_________________________________________________________\n",
       "+ ZZ___Z_Z________________________________________________________\n",
       "+ __ZZZ_Z_________________________________________________________\n",
       "+ ________X_X_XX__________________________________________________\n",
       "+ _________X_XXX__________________________________________________\n",
       "+ ________X_X___XX________________________________________________\n",
       "+ ________ZZ__Z_Z_________________________________________________\n",
       "+ ________ZZ___Z_Z________________________________________________\n",
       "+ __________ZZZ_Z_________________________________________________\n",
       " ⋮\n",
       "+ _________________________________________________X_XXX__________\n",
       "+ ________________________________________________X_X___XX________\n",
       "+ ________________________________________________ZZ__Z_Z_________\n",
       "+ ________________________________________________ZZ___Z_Z________\n",
       "+ __________________________________________________ZZZ_Z_________\n",
       "+ ________________________________________________________X_X_XX__\n",
       "+ _________________________________________________________X_XXX__\n",
       "+ ________________________________________________________X_X___XX\n",
       "+ ________________________________________________________ZZ__Z_Z_\n",
       "+ ________________________________________________________ZZ___Z_Z\n",
       "+ __________________________________________________________ZZZ_Z_"
      ]
     },
     "execution_count": 44,
     "metadata": {},
     "output_type": "execute_result"
    }
   ],
   "source": [
    "inner_checks = Stabilizer(vcat([embed(n₁ * n₂, 1+(i-1)*n₁:i*n₁, parity_checks(c₁)[j]) for i in 1:n₂ for j in 1:s₁])) # parity checks of c₁ on each qubit of c₂"
   ]
  },
  {
   "cell_type": "markdown",
   "id": "3dd6b22f-fd7c-4ffa-87af-b0fa0a3a953f",
   "metadata": {},
   "source": [
    "The second types can be implemented by some kinds of tensor product on gf2 representation."
   ]
  },
  {
   "cell_type": "code",
   "execution_count": 48,
   "id": "d2498c7b-6dce-418e-9143-ec6bd212ddc5",
   "metadata": {},
   "outputs": [
    {
     "data": {
      "text/plain": [
       "+ __XX______________XX______________XX______XX____________________\n",
       "+ _____X_X_____________X_X_____________X_X_____X_X________________\n",
       "+ __________XX______________XX______XX______XX____________________\n",
       "+ _____________X_X_____________X_X_____X_X_____X_X________________\n",
       "+ __XX______________XX______________________________XX______XX____\n",
       "+ _____X_X_____________X_X_____________________________X_X_____X_X\n",
       "+ _Z_Z_____Z_Z_____________________Z_Z_____________Z_Z____________\n",
       "+ ZZ__Z__ZZZ__Z__Z________________ZZ__Z__Z________ZZ__Z__Z________\n",
       "+ _Z_Z_____Z_Z_____________________________Z_Z_____________Z_Z____\n",
       "+ ZZ__Z__ZZZ__Z__Z________________________ZZ__Z__Z________ZZ__Z__Z\n",
       "+ _________________Z_Z_____Z_Z_____Z_Z_____________Z_Z____________\n",
       "+ ________________ZZ__Z__ZZZ__Z__ZZZ__Z__Z________ZZ__Z__Z________"
      ]
     },
     "execution_count": 48,
     "metadata": {},
     "output_type": "execute_result"
    }
   ],
   "source": [
    "# h₂ = parity_matrix(c₂)\n",
    "h₂ = stab_to_gf2(parity_checks(c₂))\n",
    "phases₂ = phases(parity_checks(c₂))\n",
    "h_logx₁ = stab_to_gf2(logx_ops(c₁))\n",
    "phases_logx₁ = phases(logx_ops(c₁))\n",
    "h_logz₁ = stab_to_gf2(logz_ops(c₁))\n",
    "phases_logz₁ = phases(logz_ops(c₁))\n",
    "# parity checks of c₂ with qubits repalced with logical qubits of c₁\n",
    "outer_check_h = transpose(hcat([vcat(\n",
    "    kron(h₂[i, 1:end÷2], h_logx₁[j, 1:end÷2]) .⊻ kron(h₂[i, end÷2+1:end], h_logz₁[j, 1:end÷2]), # X part\n",
    "    kron(h₂[i, 1:end÷2], h_logx₁[j, end÷2+1:end]) .⊻ kron(h₂[i, end÷2+1:end], h_logz₁[j, end÷2+1:end]) # Z part\n",
    ") for i in 1:s₂ for j in 1:k₁]...))\n",
    "outer_check_phase = [UInt8(sum(h₂[i, 1:end÷2] * phases_logx₁[j]) + sum(h₂[i, end÷2+1:end] * phases_logz₁[j]) + phases₂[i]) & 0x3 for i in 1:s₂ for j in 1:k₁]\n",
    "outer_checks = Stabilizer(outer_check_phase, outer_check_h)"
   ]
  },
  {
   "cell_type": "code",
   "execution_count": 49,
   "id": "cd819dd3-27eb-4e63-94eb-91208cf86f43",
   "metadata": {},
   "outputs": [
    {
     "data": {
      "text/plain": [
       "+ X_X_XX__________________________________________________________\n",
       "+ _X_XXX__________________________________________________________\n",
       "+ X_X___XX________________________________________________________\n",
       "+ ZZ__Z_Z_________________________________________________________\n",
       "+ ZZ___Z_Z________________________________________________________\n",
       "+ __ZZZ_Z_________________________________________________________\n",
       "+ ________X_X_XX__________________________________________________\n",
       "+ _________X_XXX__________________________________________________\n",
       "+ ________X_X___XX________________________________________________\n",
       "+ ________ZZ__Z_Z_________________________________________________\n",
       "+ ________ZZ___Z_Z________________________________________________\n",
       "+ __________ZZZ_Z_________________________________________________\n",
       " ⋮\n",
       "+ _____X_X_____________X_X_____________X_X_____X_X________________\n",
       "+ __________XX______________XX______XX______XX____________________\n",
       "+ _____________X_X_____________X_X_____X_X_____X_X________________\n",
       "+ __XX______________XX______________________________XX______XX____\n",
       "+ _____X_X_____________X_X_____________________________X_X_____X_X\n",
       "+ _Z_Z_____Z_Z_____________________Z_Z_____________Z_Z____________\n",
       "+ ZZ__Z__ZZZ__Z__Z________________ZZ__Z__Z________ZZ__Z__Z________\n",
       "+ _Z_Z_____Z_Z_____________________________Z_Z_____________Z_Z____\n",
       "+ ZZ__Z__ZZZ__Z__Z________________________ZZ__Z__Z________ZZ__Z__Z\n",
       "+ _________________Z_Z_____Z_Z_____Z_Z_____________Z_Z____________\n",
       "+ ________________ZZ__Z__ZZZ__Z__ZZZ__Z__Z________ZZ__Z__Z________"
      ]
     },
     "execution_count": 49,
     "metadata": {},
     "output_type": "execute_result"
    }
   ],
   "source": [
    "checks = vcat(inner_checks, outer_checks)"
   ]
  },
  {
   "cell_type": "code",
   "execution_count": 50,
   "id": "91281953-03cf-40e7-a461-e433e53f198c",
   "metadata": {},
   "outputs": [
    {
     "data": {
      "text/plain": [
       "64"
      ]
     },
     "execution_count": 50,
     "metadata": {},
     "output_type": "execute_result"
    }
   ],
   "source": [
    "checks.tab.nqubits"
   ]
  },
  {
   "cell_type": "code",
   "execution_count": null,
   "id": "f0a755d8-7d12-4bcb-beb6-97b2d7d466a9",
   "metadata": {},
   "outputs": [],
   "source": []
  }
 ],
 "metadata": {
  "kernelspec": {
   "display_name": "Julia 1.10.4",
   "language": "julia",
   "name": "julia-1.10"
  },
  "language_info": {
   "file_extension": ".jl",
   "mimetype": "application/julia",
   "name": "julia",
   "version": "1.10.4"
  }
 },
 "nbformat": 4,
 "nbformat_minor": 5
}
