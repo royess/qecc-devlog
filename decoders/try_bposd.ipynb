{
 "cells": [
  {
   "cell_type": "code",
   "execution_count": 4,
   "metadata": {},
   "outputs": [
    {
     "name": "stdout",
     "output_type": "stream",
     "text": [
      "\u001b[32m\u001b[1mStatus\u001b[22m\u001b[39m `~/.julia/environments/v1.10/Project.toml`\n",
      "\u001b[33m⌅\u001b[39m \u001b[90m[c3fe647b] \u001b[39mAbstractAlgebra v0.41.9\n",
      "  \u001b[90m[4c88cf16] \u001b[39mAqua v0.8.7\n",
      "  \u001b[90m[861a8166] \u001b[39mCombinatorics v1.0.2\n",
      "\u001b[32m⌃\u001b[39m \u001b[90m[e30172f5] \u001b[39mDocumenter v1.4.1\n",
      "  \u001b[90m[daee34ce] \u001b[39mDocumenterCitations v1.3.3\n",
      "\u001b[32m⌃\u001b[39m \u001b[90m[7073ff75] \u001b[39mIJulia v1.24.2\n",
      "  \u001b[90m[3c486d74] \u001b[39mLDPCDecoders v0.3.1 `../../../Documents/Repos/LDPCDecoders.jl`\n",
      "  \u001b[90m[2b0e0bc5] \u001b[39mLanguageServer v4.5.1\n",
      "\u001b[32m⌃\u001b[39m \u001b[90m[2edaba10] \u001b[39mNemo v0.45.5\n",
      "\u001b[32m⌃\u001b[39m \u001b[90m[91a5bcdd] \u001b[39mPlots v1.40.4\n",
      "  \u001b[90m[17f5de1a] \u001b[39mPyQDecoders v0.2.1\n",
      "\u001b[32m⌃\u001b[39m \u001b[90m[6099a3de] \u001b[39mPythonCall v0.9.20\n",
      "  \u001b[90m[b0d11df0] \u001b[39mQuantikz v1.3.1\n",
      "  \u001b[90m[0525e862] \u001b[39mQuantumClifford v0.9.8 `../../../Documents/Repos/QuantumClifford.jl`\n",
      "  \u001b[90m[5717a53b] \u001b[39mQuantumInterface v0.3.4\n",
      "  \u001b[90m[fb686558] \u001b[39mRandomExtensions v0.4.4\n",
      "\u001b[32m⌃\u001b[39m \u001b[90m[295af30f] \u001b[39mRevise v3.5.14\n",
      "  \u001b[90m[1bc83da4] \u001b[39mSafeTestsets v0.1.0\n",
      "  \u001b[90m[f8b46487] \u001b[39mTestItemRunner v1.0.4\n",
      "  \u001b[90m[37e2e46d] \u001b[39mLinearAlgebra\n",
      "\u001b[36m\u001b[1mInfo\u001b[22m\u001b[39m Packages marked with \u001b[32m⌃\u001b[39m and \u001b[33m⌅\u001b[39m have new versions available. Those with \u001b[32m⌃\u001b[39m may be upgradable, but those with \u001b[33m⌅\u001b[39m are restricted by compatibility constraints from upgrading. To see why use `status --outdated`\n"
     ]
    }
   ],
   "source": [
    "import Pkg; Pkg.status()"
   ]
  },
  {
   "cell_type": "code",
   "execution_count": 3,
   "metadata": {},
   "outputs": [],
   "source": [
    "using LDPCDecoders"
   ]
  },
  {
   "cell_type": "code",
   "execution_count": 6,
   "metadata": {},
   "outputs": [],
   "source": [
    "H = LDPCDecoders.parity_check_matrix(1000, 10, 9);\n"
   ]
  },
  {
   "cell_type": "code",
   "execution_count": 12,
   "metadata": {},
   "outputs": [],
   "source": [
    "# decoder = BPOSDDecoder(H, 0.01, 100);\n",
    "decoder = BeliefPropagationDecoder(H, 0.01, 100);"
   ]
  },
  {
   "cell_type": "code",
   "execution_count": 13,
   "metadata": {},
   "outputs": [],
   "source": [
    "error = rand(1000) .< 0.01;"
   ]
  },
  {
   "cell_type": "code",
   "execution_count": 16,
   "metadata": {},
   "outputs": [
    {
     "data": {
      "text/plain": [
       "9"
      ]
     },
     "metadata": {},
     "output_type": "display_data"
    }
   ],
   "source": [
    "sum(error)"
   ]
  },
  {
   "cell_type": "code",
   "execution_count": 17,
   "metadata": {},
   "outputs": [],
   "source": [
    "syndrome = (H * error) .% 2;"
   ]
  },
  {
   "cell_type": "code",
   "execution_count": 18,
   "metadata": {},
   "outputs": [
    {
     "data": {
      "text/plain": [
       "([0.0, 0.0, 0.0, 0.0, 0.0, 0.0, 0.0, 0.0, 0.0, 0.0  …  0.0, 0.0, 0.0, 0.0, 0.0, 0.0, 0.0, 0.0, 0.0, 0.0], true)"
      ]
     },
     "metadata": {},
     "output_type": "display_data"
    }
   ],
   "source": [
    "guess, success = decode!(decoder, syndrome)"
   ]
  },
  {
   "cell_type": "code",
   "execution_count": 19,
   "metadata": {},
   "outputs": [
    {
     "data": {
      "text/plain": [
       "true"
      ]
     },
     "metadata": {},
     "output_type": "display_data"
    }
   ],
   "source": [
    "error == guess"
   ]
  },
  {
   "cell_type": "code",
   "execution_count": null,
   "metadata": {},
   "outputs": [],
   "source": []
  }
 ],
 "metadata": {
  "kernelspec": {
   "display_name": "Julia 1.10.4",
   "language": "julia",
   "name": "julia-1.10"
  },
  "language_info": {
   "file_extension": ".jl",
   "mimetype": "application/julia",
   "name": "julia",
   "version": "1.10.4"
  }
 },
 "nbformat": 4,
 "nbformat_minor": 2
}
