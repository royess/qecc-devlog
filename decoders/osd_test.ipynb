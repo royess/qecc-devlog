{
 "cells": [
  {
   "cell_type": "code",
   "execution_count": 21,
   "metadata": {},
   "outputs": [
    {
     "name": "stdout",
     "output_type": "stream",
     "text": [
      "\u001b[32m\u001b[1mStatus\u001b[22m\u001b[39m `~/.julia/environments/v1.11/Project.toml`\n",
      "  \u001b[90m[c3fe647b] \u001b[39mAbstractAlgebra v0.43.7\n",
      "  \u001b[90m[3e1990a7] \u001b[39mHecke v0.34.4\n",
      "  \u001b[90m[7073ff75] \u001b[39mIJulia v1.25.0\n",
      "  \u001b[90m[3c486d74] \u001b[39mLDPCDecoders v0.3.1 `../../../Documents/Repos/LDPCDecoders.jl`\n",
      "  \u001b[90m[2edaba10] \u001b[39mNemo v0.47.2\n",
      "  \u001b[90m[17f5de1a] \u001b[39mPyQDecoders v0.2.1\n",
      "  \u001b[90m[6099a3de] \u001b[39mPythonCall v0.9.23\n",
      "  \u001b[90m[0525e862] \u001b[39mQuantumClifford v0.9.12 `../../../Documents/Repos/QuantumClifford.jl`\n",
      "  \u001b[90m[295af30f] \u001b[39mRevise v3.6.2\n"
     ]
    }
   ],
   "source": [
    "import Pkg; Pkg.status()"
   ]
  },
  {
   "cell_type": "code",
   "execution_count": 22,
   "metadata": {},
   "outputs": [],
   "source": [
    "using Revise"
   ]
  },
  {
   "cell_type": "markdown",
   "metadata": {},
   "source": [
    "## PyQDecoders as a reference"
   ]
  },
  {
   "cell_type": "code",
   "execution_count": 23,
   "metadata": {},
   "outputs": [],
   "source": [
    "import LDPCDecoders\n",
    "import PyQDecoders"
   ]
  },
  {
   "cell_type": "code",
   "execution_count": 24,
   "metadata": {},
   "outputs": [],
   "source": [
    "using PyQDecoders: sps, np, ldpc"
   ]
  },
  {
   "cell_type": "code",
   "execution_count": 25,
   "metadata": {},
   "outputs": [
    {
     "data": {
      "text/plain": [
       "Python: 3"
      ]
     },
     "metadata": {},
     "output_type": "display_data"
    }
   ],
   "source": [
    "H = ldpc.codes.rep_code(3) # parity check matrix for the length-3 repetition code\n",
    "n = H.shape[1] # the codeword length, same as `size(H, 2)`\n"
   ]
  },
  {
   "cell_type": "code",
   "execution_count": 26,
   "metadata": {},
   "outputs": [
    {
     "data": {
      "text/plain": [
       "Python: <ldpc.bp_decoder.bp_decoder object at 0x7fab55350e40>"
      ]
     },
     "metadata": {},
     "output_type": "display_data"
    }
   ],
   "source": [
    "bpd = ldpc.bp_decoder(\n",
    "           H, # the parity check matrix\n",
    "           error_rate=0.1, # the error rate on each bit\n",
    "           max_iter=n, # the maximum iteration depth for BP\n",
    "           bp_method=\"product_sum\", # BP method. The other option is `minimum_sum'\n",
    "           channel_probs=[nothing] # channel probability probabilities. Will override error rate.\n",
    "       )"
   ]
  },
  {
   "cell_type": "code",
   "execution_count": 27,
   "metadata": {},
   "outputs": [
    {
     "data": {
      "text/plain": [
       "Python: array([0, 1, 0])"
      ]
     },
     "metadata": {},
     "output_type": "display_data"
    }
   ],
   "source": [
    "error = [0,1,0]\n",
    "using PythonCall: PyArray\n",
    "syndrome = PyArray(H)*error .% 2\n",
    "decoding = bpd.decode(np.array(syndrome))"
   ]
  },
  {
   "cell_type": "code",
   "execution_count": 28,
   "metadata": {},
   "outputs": [
    {
     "data": {
      "text/plain": [
       "Python: <ldpc.osd.bposd_decoder object at 0x7fab553a0930>"
      ]
     },
     "metadata": {},
     "output_type": "display_data"
    }
   ],
   "source": [
    "bposdd = ldpc.osd.bposd_decoder(H, error_rate=0.1, max_iter=n)"
   ]
  },
  {
   "cell_type": "code",
   "execution_count": 29,
   "metadata": {},
   "outputs": [
    {
     "data": {
      "text/plain": [
       "Python: array([0, 1, 0])"
      ]
     },
     "metadata": {},
     "output_type": "display_data"
    }
   ],
   "source": [
    "decoding = bposdd.decode(np.array(syndrome))"
   ]
  },
  {
   "cell_type": "markdown",
   "metadata": {},
   "source": [
    "## Run through"
   ]
  },
  {
   "cell_type": "code",
   "execution_count": 30,
   "metadata": {},
   "outputs": [],
   "source": [
    "H = LDPCDecoders.parity_check_matrix(40, 10, 4);"
   ]
  },
  {
   "cell_type": "code",
   "execution_count": 31,
   "metadata": {},
   "outputs": [],
   "source": []
  },
  {
   "cell_type": "code",
   "execution_count": null,
   "metadata": {},
   "outputs": [],
   "source": []
  }
 ],
 "metadata": {
  "kernelspec": {
   "display_name": "Julia 1.11.1",
   "language": "julia",
   "name": "julia-1.11"
  },
  "language_info": {
   "file_extension": ".jl",
   "mimetype": "application/julia",
   "name": "julia",
   "version": "1.11.1"
  }
 },
 "nbformat": 4,
 "nbformat_minor": 2
}
