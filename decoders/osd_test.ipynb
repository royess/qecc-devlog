{
 "cells": [
  {
   "cell_type": "code",
   "execution_count": 1,
   "metadata": {},
   "outputs": [
    {
     "name": "stdout",
     "output_type": "stream",
     "text": [
      "\u001b[32m\u001b[1mStatus\u001b[22m\u001b[39m `~/.julia/environments/v1.11/Project.toml`\n",
      "\u001b[32m⌃\u001b[39m \u001b[90m[c3fe647b] \u001b[39mAbstractAlgebra v0.43.5\n",
      "  \u001b[90m[3e1990a7] \u001b[39mHecke v0.34.4\n",
      "  \u001b[90m[7073ff75] \u001b[39mIJulia v1.25.0\n",
      "  \u001b[90m[3c486d74] \u001b[39mLDPCDecoders v0.3.1 `../../../Documents/Repos/LDPCDecoders.jl`\n",
      "\u001b[32m⌃\u001b[39m \u001b[90m[2edaba10] \u001b[39mNemo v0.47.1\n",
      "  \u001b[90m[17f5de1a] \u001b[39mPyQDecoders v0.2.1\n",
      "  \u001b[90m[0525e862] \u001b[39mQuantumClifford v0.9.12 `../../../Documents/Repos/QuantumClifford.jl`\n",
      "\u001b[36m\u001b[1mInfo\u001b[22m\u001b[39m Packages marked with \u001b[32m⌃\u001b[39m have new versions available and may be upgradable.\n"
     ]
    }
   ],
   "source": [
    "import Pkg; Pkg.status()"
   ]
  },
  {
   "cell_type": "code",
   "execution_count": 2,
   "metadata": {},
   "outputs": [],
   "source": [
    "# using SparseArrays"
   ]
  },
  {
   "cell_type": "markdown",
   "metadata": {},
   "source": [
    "# PyQDecoders as a reference"
   ]
  },
  {
   "cell_type": "code",
   "execution_count": 3,
   "metadata": {},
   "outputs": [],
   "source": [
    "import LDPCDecoders\n",
    "import PyQDecoders"
   ]
  },
  {
   "cell_type": "code",
   "execution_count": 6,
   "metadata": {},
   "outputs": [],
   "source": [
    "using PyQDecoders: sps, np, ldpc"
   ]
  },
  {
   "cell_type": "code",
   "execution_count": 8,
   "metadata": {},
   "outputs": [
    {
     "data": {
      "text/plain": [
       "Python: 3"
      ]
     },
     "metadata": {},
     "output_type": "display_data"
    }
   ],
   "source": [
    "H = ldpc.codes.rep_code(3) # parity check matrix for the length-3 repetition code\n",
    "n = H.shape[1] # the codeword length, same as `size(H, 2)`\n"
   ]
  },
  {
   "cell_type": "code",
   "execution_count": 9,
   "metadata": {},
   "outputs": [
    {
     "data": {
      "text/plain": [
       "Python: <ldpc.bp_decoder.bp_decoder object at 0x7fab553509c0>"
      ]
     },
     "metadata": {},
     "output_type": "display_data"
    }
   ],
   "source": [
    "bpd = ldpc.bp_decoder(\n",
    "           H, # the parity check matrix\n",
    "           error_rate=0.1, # the error rate on each bit\n",
    "           max_iter=n, # the maximum iteration depth for BP\n",
    "           bp_method=\"product_sum\", # BP method. The other option is `minimum_sum'\n",
    "           channel_probs=[nothing] # channel probability probabilities. Will override error rate.\n",
    "       )"
   ]
  },
  {
   "cell_type": "code",
   "execution_count": 12,
   "metadata": {},
   "outputs": [
    {
     "data": {
      "text/plain": [
       "Python: array([0, 1, 0])"
      ]
     },
     "metadata": {},
     "output_type": "display_data"
    }
   ],
   "source": [
    "error = [0,1,0]\n",
    "using PythonCall: PyArray\n",
    "syndrome = PyArray(H)*error .% 2\n",
    "decoding = bpd.decode(np.array(syndrome))"
   ]
  },
  {
   "cell_type": "code",
   "execution_count": 14,
   "metadata": {},
   "outputs": [
    {
     "data": {
      "text/plain": [
       "Python: <ldpc.osd.bposd_decoder object at 0x7fab55bb5930>"
      ]
     },
     "metadata": {},
     "output_type": "display_data"
    }
   ],
   "source": [
    "bposdd = ldpc.osd.bposd_decoder(H, error_rate=0.1, max_iter=n)"
   ]
  },
  {
   "cell_type": "code",
   "execution_count": 15,
   "metadata": {},
   "outputs": [
    {
     "data": {
      "text/plain": [
       "Python: array([0, 1, 0])"
      ]
     },
     "metadata": {},
     "output_type": "display_data"
    }
   ],
   "source": [
    "decoding = bposdd.decode(np.array(syndrome))"
   ]
  },
  {
   "cell_type": "markdown",
   "metadata": {},
   "source": [
    "## Run through"
   ]
  },
  {
   "cell_type": "code",
   "execution_count": 4,
   "metadata": {},
   "outputs": [],
   "source": [
    "H = LDPCDecoders.parity_check_matrix(40, 10, 4);"
   ]
  },
  {
   "cell_type": "code",
   "execution_count": 5,
   "metadata": {},
   "outputs": [
    {
     "ename": "UndefVarError",
     "evalue": "UndefVarError: `BeliefPropagationOSDDecoder` not defined in `PyQDecoders`\nSuggestion: check for spelling errors or missing imports.",
     "output_type": "error",
     "traceback": [
      "UndefVarError: `BeliefPropagationOSDDecoder` not defined in `PyQDecoders`\n",
      "Suggestion: check for spelling errors or missing imports.\n",
      "\n",
      "Stacktrace:\n",
      " [1] getproperty(x::Module, f::Symbol)\n",
      "   @ Base ./Base.jl:42\n",
      " [2] top-level scope\n",
      "   @ ~/Documents/Repos/qecc-devlog/decoders/jl_notebook_cell_df34fa98e69747e1a8f8a730347b8e2f_W4sdnNjb2RlLXJlbW90ZQ==.jl:1"
     ]
    }
   ],
   "source": [
    "PyQDecoders.BeliefPropagationOSDDecoder(H)"
   ]
  },
  {
   "cell_type": "code",
   "execution_count": null,
   "metadata": {},
   "outputs": [],
   "source": []
  }
 ],
 "metadata": {
  "kernelspec": {
   "display_name": "Julia 1.11.1",
   "language": "julia",
   "name": "julia-1.11"
  },
  "language_info": {
   "file_extension": ".jl",
   "mimetype": "application/julia",
   "name": "julia",
   "version": "1.11.1"
  }
 },
 "nbformat": 4,
 "nbformat_minor": 2
}
