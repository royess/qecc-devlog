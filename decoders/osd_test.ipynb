{
 "cells": [
  {
   "cell_type": "code",
   "execution_count": 2,
   "metadata": {},
   "outputs": [
    {
     "name": "stdout",
     "output_type": "stream",
     "text": [
      "\u001b[32m\u001b[1mStatus\u001b[22m\u001b[39m `C:\\Users\\yanyx\\.julia\\environments\\v1.11\\Project.toml`\n",
      "  \u001b[90m[3e1990a7] \u001b[39mHecke v0.34.6\n",
      "  \u001b[90m[7073ff75] \u001b[39mIJulia v1.26.0\n",
      "  \u001b[90m[3c486d74] \u001b[39mLDPCDecoders v0.3.1 `..\\..\\..\\Documents\\LDPCDecoders.jl`\n",
      "  \u001b[90m[91a5bcdd] \u001b[39mPlots v1.40.8\n",
      "  \u001b[90m[17f5de1a] \u001b[39mPyQDecoders v0.2.1\n",
      "  \u001b[90m[6099a3de] \u001b[39mPythonCall v0.9.23\n",
      "  \u001b[90m[0525e862] \u001b[39mQuantumClifford v0.9.14\n",
      "  \u001b[90m[295af30f] \u001b[39mRevise v3.6.2\n"
     ]
    }
   ],
   "source": [
    "import Pkg; Pkg.status()"
   ]
  },
  {
   "cell_type": "code",
   "execution_count": 3,
   "metadata": {},
   "outputs": [],
   "source": [
    "using Revise"
   ]
  },
  {
   "cell_type": "code",
   "execution_count": 4,
   "metadata": {
    "scrolled": true
   },
   "outputs": [],
   "source": [
    "import LDPCDecoders\n",
    "# import PyQDecoders"
   ]
  },
  {
   "cell_type": "markdown",
   "metadata": {
    "jp-MarkdownHeadingCollapsed": true
   },
   "source": [
    "## PyQDecoders as a reference"
   ]
  },
  {
   "cell_type": "code",
   "execution_count": 5,
   "metadata": {
    "collapsed": true,
    "jupyter": {
     "outputs_hidden": true
    }
   },
   "outputs": [
    {
     "name": "stderr",
     "output_type": "stream",
     "text": [
      "\u001b[36m\u001b[1m[ \u001b[22m\u001b[39m\u001b[36m\u001b[1mInfo: \u001b[22m\u001b[39mPrecompiling PyQDecoders [17f5de1a-9b79-4409-a58d-4d45812840f7] \n",
      "\u001b[32m\u001b[1m    CondaPkg \u001b[22m\u001b[39m\u001b[0mFound dependencies: C:\\Users\\yanyx\\.julia\\packages\\PyQDecoders\\4MMwN\\CondaPkg.toml\n",
      "\u001b[32m\u001b[1m    CondaPkg \u001b[22m\u001b[39m\u001b[0mFound dependencies: C:\\Users\\yanyx\\.julia\\packages\\PythonCall\\Nr75f\\CondaPkg.toml\n",
      "\u001b[32m\u001b[1m    CondaPkg \u001b[22m\u001b[39m\u001b[0mResolving changes\n",
      "\u001b[32m\u001b[1m             \u001b[22m\u001b[39m\u001b[32m+ ldpc (pip)\u001b[39m\n",
      "\u001b[32m\u001b[1m             \u001b[22m\u001b[39m\u001b[32m+ numpy (pip)\u001b[39m\n",
      "\u001b[32m\u001b[1m             \u001b[22m\u001b[39m\u001b[32m+ openssl\u001b[39m\n",
      "\u001b[32m\u001b[1m             \u001b[22m\u001b[39m\u001b[32m+ pip\u001b[39m\n",
      "\u001b[32m\u001b[1m             \u001b[22m\u001b[39m\u001b[32m+ pymatching (pip)\u001b[39m\n",
      "\u001b[32m\u001b[1m             \u001b[22m\u001b[39m\u001b[32m+ python\u001b[39m\n",
      "\u001b[32m\u001b[1m             \u001b[22m\u001b[39m\u001b[32m+ scipy (pip)\u001b[39m\n",
      "\u001b[32m\u001b[1m    CondaPkg \u001b[22m\u001b[39m\u001b[0mRemoving environment\n",
      "\u001b[32m\u001b[1m             \u001b[22m\u001b[39m│ \u001b[90mC:\\Users\\yanyx\\.julia\\artifacts\\cba433181fa6470b206db49415f1b7593a9d25ff\\bin\\micromamba.exe\u001b[39m\n",
      "\u001b[32m\u001b[1m             \u001b[22m\u001b[39m│ \u001b[90m-r C:\\Users\\yanyx\\.julia\\scratchspaces\\0b3b1443-0f03-428d-bdfb-f27f9c1191ea\\root\u001b[39m\n",
      "\u001b[32m\u001b[1m             \u001b[22m\u001b[39m│ \u001b[90mremove\u001b[39m\n",
      "\u001b[32m\u001b[1m             \u001b[22m\u001b[39m│ \u001b[90m-y\u001b[39m\n",
      "\u001b[32m\u001b[1m             \u001b[22m\u001b[39m│ \u001b[90m-p C:\\Users\\yanyx\\.julia\\environments\\v1.11\\.CondaPkg\\env\u001b[39m\n",
      "\u001b[32m\u001b[1m             \u001b[22m\u001b[39m└ \u001b[90m--all\u001b[39m\n"
     ]
    },
    {
     "name": "stdout",
     "output_type": "stream",
     "text": [
      "Transaction\n",
      "\n",
      "  Prefix: C:\\Users\\yanyx\\.julia\\environments\\v1.11\\.CondaPkg\\env\n",
      "\n",
      "  Removing specs:\n",
      "\n",
      "   - bzip2\n",
      "   - ca-certificates\n",
      "   - libffi\n",
      "   - libsqlite\n",
      "   - libzlib\n",
      "   - openssl\n",
      "   - pip\n",
      "   - python\n",
      "   - setuptools\n",
      "   - tk\n",
      "   - tzdata\n",
      "   - ucrt\n",
      "   - vc\n",
      "   - vc14_runtime\n",
      "   - vs2015_runtime\n",
      "   - wheel\n",
      "   - xz\n",
      "\n",
      "\n",
      "  Package                 Version  Build               Channel           Size\n",
      "-------------------------------------------------------------------------------\n",
      "  Remove:\n",
      "-------------------------------------------------------------------------------\n",
      "\n",
      "  - libzlib                 1.3.1  h2466b09_2          conda-forge     Cached\n",
      "  - pip                    24.3.1  pyh8b19718_0        conda-forge     Cached\n",
      "  - python                 3.11.0  hcf16a7b_0_cpython  conda-forge     Cached\n",
      "  - setuptools             75.3.0  pyhd8ed1ab_0        conda-forge     Cached\n",
      "  - wheel                  0.44.0  pyhd8ed1ab_0        conda-forge     Cached\n",
      "  - xz                      5.2.6  h8d14728_0          conda-forge     Cached\n",
      "  - tzdata                  2024b  hc8b5060_0          conda-forge     Cached\n",
      "  - tk                     8.6.13  h5226925_1          conda-forge     Cached\n",
      "  - openssl                3.0.14  h2466b09_0          conda-forge     Cached\n",
      "  - libsqlite              3.47.0  h2466b09_1          conda-forge     Cached\n",
      "  - libffi                  3.4.2  h8ffe710_5          conda-forge     Cached\n",
      "  - bzip2                   1.0.8  h2466b09_7          conda-forge     Cached\n",
      "  - ca-certificates     2024.8.30  h56e8100_0          conda-forge     Cached\n",
      "  - vs2015_runtime    14.40.33810  h3bf8584_22         conda-forge     Cached\n",
      "  - vc                       14.3  h8a93ad2_22         conda-forge     Cached\n",
      "  - vc14_runtime      14.40.33810  hcc2c482_22         conda-forge     Cached\n",
      "  - ucrt             10.0.22621.0  h57928b3_1          conda-forge     Cached\n",
      "\n",
      "  Summary:\n",
      "\n",
      "  Remove: 17 packages\n",
      "\n",
      "  Total download: 0 B\n",
      "\n",
      "-------------------------------------------------------------------------------\n",
      "\n",
      "\n",
      "\n",
      "Transaction starting\n",
      "Unlinking libzlib-1.3.1-h2466b09_2\n",
      "Unlinking pip-24.3.1-pyh8b19718_0\n",
      "Unlinking python-3.11.0-hcf16a7b_0_cpython\n",
      "Unlinking setuptools-75.3.0-pyhd8ed1ab_0\n",
      "Unlinking wheel-0.44.0-pyhd8ed1ab_0\n",
      "Unlinking xz-5.2.6-h8d14728_0\n",
      "Unlinking tzdata-2024b-hc8b5060_0\n",
      "Unlinking tk-8.6.13-h5226925_1\n",
      "Unlinking openssl-3.0.14-h2466b09_0\n",
      "Unlinking libsqlite-3.47.0-h2466b09_1\n",
      "Unlinking libffi-3.4.2-h8ffe710_5\n",
      "Unlinking bzip2-1.0.8-h2466b09_7\n",
      "Unlinking ca-certificates-2024.8.30-h56e8100_0\n",
      "Unlinking vs2015_runtime-14.40.33810-h3bf8584_22\n",
      "Unlinking vc-14.3-h8a93ad2_22\n",
      "Unlinking vc14_runtime-14.40.33810-hcc2c482_22\n",
      "Unlinking ucrt-10.0.22621.0-h57928b3_1\n",
      "\n",
      "Transaction finished\n",
      "\n",
      "To activate this environment, use:\n",
      "\n",
      "    micromamba activate C:\\Users\\yanyx\\.julia\\environments\\v1.11\\.CondaPkg\\env\n",
      "\n",
      "Or to execute a single command in this environment, use:\n",
      "\n",
      "    micromamba run -p C:\\Users\\yanyx\\.julia\\environments\\v1.11\\.CondaPkg\\env mycommand\n",
      "\n"
     ]
    },
    {
     "name": "stderr",
     "output_type": "stream",
     "text": [
      "\u001b[32m\u001b[1m    CondaPkg \u001b[22m\u001b[39m\u001b[0mCreating environment\n",
      "\u001b[32m\u001b[1m             \u001b[22m\u001b[39m│ \u001b[90mC:\\Users\\yanyx\\.julia\\artifacts\\cba433181fa6470b206db49415f1b7593a9d25ff\\bin\\micromamba.exe\u001b[39m\n",
      "\u001b[32m\u001b[1m             \u001b[22m\u001b[39m│ \u001b[90m-r C:\\Users\\yanyx\\.julia\\scratchspaces\\0b3b1443-0f03-428d-bdfb-f27f9c1191ea\\root\u001b[39m\n",
      "\u001b[32m\u001b[1m             \u001b[22m\u001b[39m│ \u001b[90mcreate\u001b[39m\n",
      "\u001b[32m\u001b[1m             \u001b[22m\u001b[39m│ \u001b[90m-y\u001b[39m\n",
      "\u001b[32m\u001b[1m             \u001b[22m\u001b[39m│ \u001b[90m-p C:\\Users\\yanyx\\.julia\\environments\\v1.11\\.CondaPkg\\env\u001b[39m\n",
      "\u001b[32m\u001b[1m             \u001b[22m\u001b[39m│ \u001b[90m--override-channels\u001b[39m\n",
      "\u001b[32m\u001b[1m             \u001b[22m\u001b[39m│ \u001b[90m--no-channel-priority\u001b[39m\n",
      "\u001b[32m\u001b[1m             \u001b[22m\u001b[39m│ \u001b[90mopenssl[version='>=3, <3.1']\u001b[39m\n",
      "\u001b[32m\u001b[1m             \u001b[22m\u001b[39m│ \u001b[90mpip[version='>=22.0.0']\u001b[39m\n",
      "\u001b[32m\u001b[1m             \u001b[22m\u001b[39m│ \u001b[90mpython[version='>=3.8,<4',channel='conda-forge',build='*cpython*']\u001b[39m\n",
      "\u001b[32m\u001b[1m             \u001b[22m\u001b[39m└ \u001b[90m-c conda-forge\u001b[39m\n"
     ]
    },
    {
     "name": "stdout",
     "output_type": "stream",
     "text": [
      "\n",
      "Transaction\n",
      "\n",
      "  Prefix: C:\\Users\\yanyx\\.julia\\environments\\v1.11\\.CondaPkg\\env\n",
      "\n",
      "  Updating specs:\n",
      "\n",
      "   - openssl[version='>=3, <3.1']\n",
      "   - pip[version='>=22.0.0']\n",
      "   - conda-forge::python[version='>=3.8,<4',build=*cpython*]\n",
      "\n",
      "\n",
      "  Package                 Version  Build               Channel           Size\n",
      "-------------------------------------------------------------------------------\n",
      "  Install:\n",
      "-------------------------------------------------------------------------------\n",
      "\n",
      "  + ca-certificates     2024.8.30  h56e8100_0          conda-forge     Cached\n",
      "  + ucrt             10.0.22621.0  h57928b3_1          conda-forge     Cached\n",
      "  + vc14_runtime      14.40.33810  hcc2c482_22         conda-forge     Cached\n",
      "  + vc                       14.3  h8a93ad2_22         conda-forge     Cached\n",
      "  + vs2015_runtime    14.40.33810  h3bf8584_22         conda-forge     Cached\n",
      "  + tk                     8.6.13  h5226925_1          conda-forge     Cached\n",
      "  + libzlib                 1.3.1  h2466b09_2          conda-forge     Cached\n",
      "  + libsqlite              3.47.0  h2466b09_1          conda-forge     Cached\n",
      "  + bzip2                   1.0.8  h2466b09_7          conda-forge     Cached\n",
      "  + openssl                3.0.14  h2466b09_0          conda-forge     Cached\n",
      "  + libffi                  3.4.2  h8ffe710_5          conda-forge     Cached\n",
      "  + xz                      5.2.6  h8d14728_0          conda-forge     Cached\n",
      "  + tzdata                  2024b  hc8b5060_0          conda-forge     Cached\n",
      "  + python                 3.11.0  hcf16a7b_0_cpython  conda-forge     Cached\n",
      "  + wheel                  0.44.0  pyhd8ed1ab_0        conda-forge     Cached\n",
      "  + setuptools             75.3.0  pyhd8ed1ab_0        conda-forge     Cached\n",
      "  + pip                    24.3.1  pyh8b19718_0        conda-forge     Cached\n",
      "\n",
      "  Summary:\n",
      "\n",
      "  Install: 17 packages\n",
      "\n",
      "  Total download: 0 B\n",
      "\n",
      "-------------------------------------------------------------------------------\n",
      "\n",
      "\n",
      "\n",
      "Transaction starting\n",
      "Linking ca-certificates-2024.8.30-h56e8100_0\n",
      "Linking ucrt-10.0.22621.0-h57928b3_1\n",
      "Linking vc14_runtime-14.40.33810-hcc2c482_22\n",
      "Linking vc-14.3-h8a93ad2_22\n",
      "Linking vs2015_runtime-14.40.33810-h3bf8584_22\n",
      "Linking tk-8.6.13-h5226925_1\n",
      "Linking libzlib-1.3.1-h2466b09_2\n",
      "Linking libsqlite-3.47.0-h2466b09_1\n",
      "Linking bzip2-1.0.8-h2466b09_7\n",
      "Linking openssl-3.0.14-h2466b09_0\n",
      "Linking libffi-3.4.2-h8ffe710_5\n",
      "Linking xz-5.2.6-h8d14728_0\n",
      "Linking tzdata-2024b-hc8b5060_0\n",
      "Linking python-3.11.0-hcf16a7b_0_cpython\n",
      "Linking wheel-0.44.0-pyhd8ed1ab_0\n",
      "Linking setuptools-75.3.0-pyhd8ed1ab_0\n",
      "Linking pip-24.3.1-pyh8b19718_0\n",
      "\n",
      "Transaction finished\n",
      "\n",
      "To activate this environment, use:\n",
      "\n",
      "    micromamba activate C:\\Users\\yanyx\\.julia\\environments\\v1.11\\.CondaPkg\\env\n",
      "\n",
      "Or to execute a single command in this environment, use:\n",
      "\n",
      "    micromamba run -p C:\\Users\\yanyx\\.julia\\environments\\v1.11\\.CondaPkg\\env mycommand\n",
      "\n"
     ]
    },
    {
     "name": "stderr",
     "output_type": "stream",
     "text": [
      "\u001b[32m\u001b[1m    CondaPkg \u001b[22m\u001b[39m\u001b[0mInstalling Pip packages\n",
      "\u001b[32m\u001b[1m             \u001b[22m\u001b[39m│ \u001b[90mC:\\Users\\yanyx\\.julia\\environments\\v1.11\\.CondaPkg\\env\\Scripts\\pip.exe\u001b[39m\n",
      "\u001b[32m\u001b[1m             \u001b[22m\u001b[39m│ \u001b[90minstall\u001b[39m\n",
      "\u001b[32m\u001b[1m             \u001b[22m\u001b[39m│ \u001b[90mldpc @ https://github.com/QuantumSavory/ldpc/archive/refs/heads/numpy2.zip\u001b[39m\n",
      "\u001b[32m\u001b[1m             \u001b[22m\u001b[39m│ \u001b[90mnumpy <2\u001b[39m\n",
      "\u001b[32m\u001b[1m             \u001b[22m\u001b[39m│ \u001b[90mpymatching\u001b[39m\n",
      "\u001b[32m\u001b[1m             \u001b[22m\u001b[39m└ \u001b[90mscipy\u001b[39m\n"
     ]
    },
    {
     "name": "stdout",
     "output_type": "stream",
     "text": [
      "Collecting ldpc@ https://github.com/QuantumSavory/ldpc/archive/refs/heads/numpy2.zip\n"
     ]
    },
    {
     "name": "stderr",
     "output_type": "stream",
     "text": [
      "base64 binary data: ICBXQVJOSU5HOiBSZXRyeWluZyAoUmV0cnkodG90YWw9NCwgY29ubmVjdD1Ob25lLCByZWFkPU5vbmUsIHJlZGlyZWN0PU5vbmUsIHN0YXR1cz1Ob25lKSkgYWZ0ZXIgY29ubmVjdGlvbiBicm9rZW4gYnkgJ05ld0Nvbm5lY3Rpb25FcnJvcignPHBpcC5fdmVuZG9yLnVybGxpYjMuY29ubmVjdGlvbi5IVFRQU0Nvbm5lY3Rpb24gb2JqZWN0IGF0IDB4MDAwMDAxQ0U5MzU5N0E1MD46IEZhaWxlZCB0byBlc3RhYmxpc2ggYSBuZXcgY29ubmVjdGlvbjogW1dpbkVycm9yIDEwMDYxXSDTydPaxL+x6rzGy+O7+rv9vKu+3L74o6zO3reoway906GjJyknOiAvUXVhbnR1bVNhdm9yeS9sZHBjL2FyY2hpdmUvcmVmcy9oZWFkcy9udW1weTIuemlwDQo=\n",
      "base64 binary data: ICBXQVJOSU5HOiBSZXRyeWluZyAoUmV0cnkodG90YWw9MywgY29ubmVjdD1Ob25lLCByZWFkPU5vbmUsIHJlZGlyZWN0PU5vbmUsIHN0YXR1cz1Ob25lKSkgYWZ0ZXIgY29ubmVjdGlvbiBicm9rZW4gYnkgJ05ld0Nvbm5lY3Rpb25FcnJvcignPHBpcC5fdmVuZG9yLnVybGxpYjMuY29ubmVjdGlvbi5IVFRQU0Nvbm5lY3Rpb24gb2JqZWN0IGF0IDB4MDAwMDAxQ0U5MzVBQzc1MD46IEZhaWxlZCB0byBlc3RhYmxpc2ggYSBuZXcgY29ubmVjdGlvbjogW1dpbkVycm9yIDEwMDYxXSDTydPaxL+x6rzGy+O7+rv9vKu+3L74o6zO3reoway906GjJyknOiAvUXVhbnR1bVNhdm9yeS9sZHBjL2FyY2hpdmUvcmVmcy9oZWFkcy9udW1weTIuemlwDQo=\n",
      "base64 binary data: ICBXQVJOSU5HOiBSZXRyeWluZyAoUmV0cnkodG90YWw9MiwgY29ubmVjdD1Ob25lLCByZWFkPU5vbmUsIHJlZGlyZWN0PU5vbmUsIHN0YXR1cz1Ob25lKSkgYWZ0ZXIgY29ubmVjdGlvbiBicm9rZW4gYnkgJ05ld0Nvbm5lY3Rpb25FcnJvcignPHBpcC5fdmVuZG9yLnVybGxpYjMuY29ubmVjdGlvbi5IVFRQU0Nvbm5lY3Rpb24gb2JqZWN0IGF0IDB4MDAwMDAxQ0U5MzVBRDMxMD46IEZhaWxlZCB0byBlc3RhYmxpc2ggYSBuZXcgY29ubmVjdGlvbjogW1dpbkVycm9yIDEwMDYxXSDTydPaxL+x6rzGy+O7+rv9vKu+3L74o6zO3reoway906GjJyknOiAvUXVhbnR1bVNhdm9yeS9sZHBjL2FyY2hpdmUvcmVmcy9oZWFkcy9udW1weTIuemlwDQo=\n",
      "base64 binary data: ICBXQVJOSU5HOiBSZXRyeWluZyAoUmV0cnkodG90YWw9MSwgY29ubmVjdD1Ob25lLCByZWFkPU5vbmUsIHJlZGlyZWN0PU5vbmUsIHN0YXR1cz1Ob25lKSkgYWZ0ZXIgY29ubmVjdGlvbiBicm9rZW4gYnkgJ05ld0Nvbm5lY3Rpb25FcnJvcignPHBpcC5fdmVuZG9yLnVybGxpYjMuY29ubmVjdGlvbi5IVFRQU0Nvbm5lY3Rpb24gb2JqZWN0IGF0IDB4MDAwMDAxQ0U5MzVBREU5MD46IEZhaWxlZCB0byBlc3RhYmxpc2ggYSBuZXcgY29ubmVjdGlvbjogW1dpbkVycm9yIDEwMDYxXSDTydPaxL+x6rzGy+O7+rv9vKu+3L74o6zO3reoway906GjJyknOiAvUXVhbnR1bVNhdm9yeS9sZHBjL2FyY2hpdmUvcmVmcy9oZWFkcy9udW1weTIuemlwDQo=\n",
      "base64 binary data: ICBXQVJOSU5HOiBSZXRyeWluZyAoUmV0cnkodG90YWw9MCwgY29ubmVjdD1Ob25lLCByZWFkPU5vbmUsIHJlZGlyZWN0PU5vbmUsIHN0YXR1cz1Ob25lKSkgYWZ0ZXIgY29ubmVjdGlvbiBicm9rZW4gYnkgJ05ld0Nvbm5lY3Rpb25FcnJvcignPHBpcC5fdmVuZG9yLnVybGxpYjMuY29ubmVjdGlvbi5IVFRQU0Nvbm5lY3Rpb24gb2JqZWN0IGF0IDB4MDAwMDAxQ0U5MzVBRUE5MD46IEZhaWxlZCB0byBlc3RhYmxpc2ggYSBuZXcgY29ubmVjdGlvbjogW1dpbkVycm9yIDEwMDYxXSDTydPaxL+x6rzGy+O7+rv9vKu+3L74o6zO3reoway906GjJyknOiAvUXVhbnR1bVNhdm9yeS9sZHBjL2FyY2hpdmUvcmVmcy9oZWFkcy9udW1weTIuemlwDQo=\n",
      "base64 binary data: RVJST1I6IENvdWxkIG5vdCBpbnN0YWxsIHBhY2thZ2VzIGR1ZSB0byBhbiBPU0Vycm9yOiBIVFRQU0Nvbm5lY3Rpb25Qb29sKGhvc3Q9J2dpdGh1Yi5jb20nLCBwb3J0PTQ0Myk6IE1heCByZXRyaWVzIGV4Y2VlZGVkIHdpdGggdXJsOiAvUXVhbnR1bVNhdm9yeS9sZHBjL2FyY2hpdmUvcmVmcy9oZWFkcy9udW1weTIuemlwIChDYXVzZWQgYnkgTmV3Q29ubmVjdGlvbkVycm9yKCc8cGlwLl92ZW5kb3IudXJsbGliMy5jb25uZWN0aW9uLkhUVFBTQ29ubmVjdGlvbiBvYmplY3QgYXQgMHgwMDAwMDFDRTkzNUFGNjEwPjogRmFpbGVkIHRvIGVzdGFibGlzaCBhIG5ldyBjb25uZWN0aW9uOiBbV2luRXJyb3IgMTAwNjFdINPJ09rEv7HqvMbL47v6u/28q77cvvijrM7et6jBrL3ToaMnKSkNCg0K\n",
      "\u001b[91m\u001b[1mERROR: \u001b[22m\u001b[39mLoadError: InitError: failed process: Process(`\u001b[4m'C:\\Users\\yanyx\\.julia\\environments\\v1.11\\.CondaPkg\\env\\Scripts\\pip.exe'\u001b[24m \u001b[4minstall\u001b[24m \u001b[4m'ldpc @ https://github.com/QuantumSavory/ldpc/archive/refs/heads/numpy2.zip'\u001b[24m \u001b[4m'numpy <2'\u001b[24m \u001b[4mpymatching\u001b[24m \u001b[4mscipy\u001b[24m`, ProcessExited(1)) [1]\n",
      "\n",
      "Stacktrace:\n",
      "  [1] \u001b[0m\u001b[1mpipeline_error\u001b[22m\n",
      "\u001b[90m    @\u001b[39m \u001b[90m.\\\u001b[39m\u001b[90m\u001b[4mprocess.jl:598\u001b[24m\u001b[39m\u001b[90m [inlined]\u001b[39m\n",
      "  [2] \u001b[0m\u001b[1mrun\u001b[22m\u001b[0m\u001b[1m(\u001b[22m::\u001b[0mCmd; \u001b[90mwait\u001b[39m::\u001b[0mBool\u001b[0m\u001b[1m)\u001b[22m\n",
      "\u001b[90m    @\u001b[39m \u001b[90mBase\u001b[39m \u001b[90m.\\\u001b[39m\u001b[90m\u001b[4mprocess.jl:513\u001b[24m\u001b[39m\n",
      "  [3] \u001b[0m\u001b[1mrun\u001b[22m\u001b[0m\u001b[1m(\u001b[22m::\u001b[0mCmd\u001b[0m\u001b[1m)\u001b[22m\n",
      "\u001b[90m    @\u001b[39m \u001b[90mBase\u001b[39m \u001b[90m.\\\u001b[39m\u001b[90m\u001b[4mprocess.jl:510\u001b[24m\u001b[39m\n",
      "  [4] \u001b[0m\u001b[1m_run\u001b[22m\u001b[0m\u001b[1m(\u001b[22m\u001b[90mio\u001b[39m::\u001b[0mIO, \u001b[90mcmd\u001b[39m::\u001b[0mCmd, \u001b[90margs\u001b[39m::\u001b[0mAny; \u001b[90mflags\u001b[39m::\u001b[0mAny\u001b[0m\u001b[1m)\u001b[22m\n",
      "\u001b[90m    @\u001b[39m \u001b[35mCondaPkg\u001b[39m \u001b[90mC:\\Users\\yanyx\\.julia\\packages\\CondaPkg\\iPD6F\\src\\\u001b[39m\u001b[90m\u001b[4mresolve.jl:464\u001b[24m\u001b[39m\n",
      "  [5] \u001b[0m\u001b[1m(::CondaPkg.var\"#37#38\"{IOContext{Base.PipeEndpoint}, Vector{String}, Vector{String}, Vector{String}})\u001b[22m\u001b[0m\u001b[1m(\u001b[22m\u001b[0m\u001b[1m)\u001b[22m\n",
      "\u001b[90m    @\u001b[39m \u001b[35mCondaPkg\u001b[39m \u001b[90mC:\\Users\\yanyx\\.julia\\packages\\CondaPkg\\iPD6F\\src\\\u001b[39m\u001b[90m\u001b[4mresolve.jl:394\u001b[24m\u001b[39m\n",
      "  [6] \u001b[0m\u001b[1mwithenv\u001b[22m\u001b[0m\u001b[1m(\u001b[22m\u001b[90mf\u001b[39m::\u001b[0mFunction\u001b[0m\u001b[1m)\u001b[22m\n",
      "\u001b[90m    @\u001b[39m \u001b[35mCondaPkg\u001b[39m \u001b[90mC:\\Users\\yanyx\\.julia\\packages\\CondaPkg\\iPD6F\\src\\\u001b[39m\u001b[90m\u001b[4menv.jl:44\u001b[24m\u001b[39m\n",
      "  [7] \u001b[0m\u001b[1m_resolve_pip_install\u001b[22m\u001b[0m\u001b[1m(\u001b[22m\u001b[90mio\u001b[39m::\u001b[0mAny, \u001b[90mpip_specs\u001b[39m::\u001b[0mAny, \u001b[90mload_path\u001b[39m::\u001b[0mAny\u001b[0m\u001b[1m)\u001b[22m\n",
      "\u001b[90m    @\u001b[39m \u001b[35mCondaPkg\u001b[39m \u001b[90mC:\\Users\\yanyx\\.julia\\packages\\CondaPkg\\iPD6F\\src\\\u001b[39m\u001b[90m\u001b[4mresolve.jl:391\u001b[24m\u001b[39m\n",
      "  [8] \u001b[0m\u001b[1mresolve\u001b[22m\u001b[0m\u001b[1m(\u001b[22m; \u001b[90mforce\u001b[39m::\u001b[0mBool, \u001b[90mio\u001b[39m::\u001b[0mIO, \u001b[90minteractive\u001b[39m::\u001b[0mBool, \u001b[90mdry_run\u001b[39m::\u001b[0mBool\u001b[0m\u001b[1m)\u001b[22m\n",
      "\u001b[90m    @\u001b[39m \u001b[35mCondaPkg\u001b[39m \u001b[90mC:\\Users\\yanyx\\.julia\\packages\\CondaPkg\\iPD6F\\src\\\u001b[39m\u001b[90m\u001b[4mresolve.jl:642\u001b[24m\u001b[39m\n",
      "  [9] \u001b[0m\u001b[1mresolve\u001b[22m\u001b[0m\u001b[1m(\u001b[22m\u001b[0m\u001b[1m)\u001b[22m\n",
      "\u001b[90m    @\u001b[39m \u001b[35mCondaPkg\u001b[39m \u001b[90mC:\\Users\\yanyx\\.julia\\packages\\CondaPkg\\iPD6F\\src\\\u001b[39m\u001b[90m\u001b[4mresolve.jl:471\u001b[24m\u001b[39m\n",
      " [10] \u001b[0m\u001b[1menvdir\u001b[22m\u001b[0m\u001b[1m(\u001b[22m\u001b[0m\u001b[1m)\u001b[22m\n",
      "\u001b[90m    @\u001b[39m \u001b[35mCondaPkg\u001b[39m \u001b[90mC:\\Users\\yanyx\\.julia\\packages\\CondaPkg\\iPD6F\\src\\\u001b[39m\u001b[90m\u001b[4menv.jl:70\u001b[24m\u001b[39m\n",
      " [11] \u001b[0m\u001b[1minit_context\u001b[22m\u001b[0m\u001b[1m(\u001b[22m\u001b[0m\u001b[1m)\u001b[22m\n",
      "\u001b[90m    @\u001b[39m \u001b[36mPythonCall.C\u001b[39m \u001b[90mC:\\Users\\yanyx\\.julia\\packages\\PythonCall\\Nr75f\\src\\C\\\u001b[39m\u001b[90m\u001b[4mcontext.jl:63\u001b[24m\u001b[39m\n",
      " [12] \u001b[0m\u001b[1m__init__\u001b[22m\u001b[0m\u001b[1m(\u001b[22m\u001b[0m\u001b[1m)\u001b[22m\n",
      "\u001b[90m    @\u001b[39m \u001b[36mPythonCall.C\u001b[39m \u001b[90mC:\\Users\\yanyx\\.julia\\packages\\PythonCall\\Nr75f\\src\\C\\\u001b[39m\u001b[90m\u001b[4mC.jl:23\u001b[24m\u001b[39m\n",
      " [13] \u001b[0m\u001b[1mrun_module_init\u001b[22m\u001b[0m\u001b[1m(\u001b[22m\u001b[90mmod\u001b[39m::\u001b[0mModule, \u001b[90mi\u001b[39m::\u001b[0mInt64\u001b[0m\u001b[1m)\u001b[22m\n",
      "\u001b[90m    @\u001b[39m \u001b[90mBase\u001b[39m \u001b[90m.\\\u001b[39m\u001b[90m\u001b[4mloading.jl:1336\u001b[24m\u001b[39m\n",
      " [14] \u001b[0m\u001b[1mregister_restored_modules\u001b[22m\u001b[0m\u001b[1m(\u001b[22m\u001b[90msv\u001b[39m::\u001b[0mCore.SimpleVector, \u001b[90mpkg\u001b[39m::\u001b[0mBase.PkgId, \u001b[90mpath\u001b[39m::\u001b[0mString\u001b[0m\u001b[1m)\u001b[22m\n",
      "\u001b[90m    @\u001b[39m \u001b[90mBase\u001b[39m \u001b[90m.\\\u001b[39m\u001b[90m\u001b[4mloading.jl:1324\u001b[24m\u001b[39m\n",
      " [15] \u001b[0m\u001b[1m_include_from_serialized\u001b[22m\u001b[0m\u001b[1m(\u001b[22m\u001b[90mpkg\u001b[39m::\u001b[0mBase.PkgId, \u001b[90mpath\u001b[39m::\u001b[0mString, \u001b[90mocachepath\u001b[39m::\u001b[0mString, \u001b[90mdepmods\u001b[39m::\u001b[0mVector\u001b[90m{Any}\u001b[39m, \u001b[90mignore_native\u001b[39m::\u001b[0mNothing; \u001b[90mregister\u001b[39m::\u001b[0mBool\u001b[0m\u001b[1m)\u001b[22m\n",
      "\u001b[90m    @\u001b[39m \u001b[90mBase\u001b[39m \u001b[90m.\\\u001b[39m\u001b[90m\u001b[4mloading.jl:1213\u001b[24m\u001b[39m\n",
      " [16] \u001b[0m\u001b[1m_include_from_serialized\u001b[22m\u001b[90m (repeats 2 times)\u001b[39m\n",
      "\u001b[90m    @\u001b[39m \u001b[90m.\\\u001b[39m\u001b[90m\u001b[4mloading.jl:1169\u001b[24m\u001b[39m\u001b[90m [inlined]\u001b[39m\n",
      " [17] \u001b[0m\u001b[1m_require_search_from_serialized\u001b[22m\u001b[0m\u001b[1m(\u001b[22m\u001b[90mpkg\u001b[39m::\u001b[0mBase.PkgId, \u001b[90msourcepath\u001b[39m::\u001b[0mString, \u001b[90mbuild_id\u001b[39m::\u001b[0mUInt128, \u001b[90mstalecheck\u001b[39m::\u001b[0mBool; \u001b[90mreasons\u001b[39m::\u001b[0mDict\u001b[90m{String, Int64}\u001b[39m, \u001b[90mDEPOT_PATH\u001b[39m::\u001b[0mVector\u001b[90m{String}\u001b[39m\u001b[0m\u001b[1m)\u001b[22m\n",
      "\u001b[90m    @\u001b[39m \u001b[90mBase\u001b[39m \u001b[90m.\\\u001b[39m\u001b[90m\u001b[4mloading.jl:1985\u001b[24m\u001b[39m\n",
      " [18] \u001b[0m\u001b[1m_require\u001b[22m\u001b[0m\u001b[1m(\u001b[22m\u001b[90mpkg\u001b[39m::\u001b[0mBase.PkgId, \u001b[90menv\u001b[39m::\u001b[0mString\u001b[0m\u001b[1m)\u001b[22m\n",
      "\u001b[90m    @\u001b[39m \u001b[90mBase\u001b[39m \u001b[90m.\\\u001b[39m\u001b[90m\u001b[4mloading.jl:2450\u001b[24m\u001b[39m\n",
      " [19] \u001b[0m\u001b[1m__require_prelocked\u001b[22m\u001b[0m\u001b[1m(\u001b[22m\u001b[90muuidkey\u001b[39m::\u001b[0mBase.PkgId, \u001b[90menv\u001b[39m::\u001b[0mString\u001b[0m\u001b[1m)\u001b[22m\n",
      "\u001b[90m    @\u001b[39m \u001b[90mBase\u001b[39m \u001b[90m.\\\u001b[39m\u001b[90m\u001b[4mloading.jl:2315\u001b[24m\u001b[39m\n",
      " [20] \u001b[0m\u001b[1m#invoke_in_world#3\u001b[22m\n",
      "\u001b[90m    @\u001b[39m \u001b[90m.\\\u001b[39m\u001b[90m\u001b[4messentials.jl:1089\u001b[24m\u001b[39m\u001b[90m [inlined]\u001b[39m\n",
      " [21] \u001b[0m\u001b[1minvoke_in_world\u001b[22m\n",
      "\u001b[90m    @\u001b[39m \u001b[90m.\\\u001b[39m\u001b[90m\u001b[4messentials.jl:1086\u001b[24m\u001b[39m\u001b[90m [inlined]\u001b[39m\n",
      " [22] \u001b[0m\u001b[1m_require_prelocked\u001b[22m\u001b[0m\u001b[1m(\u001b[22m\u001b[90muuidkey\u001b[39m::\u001b[0mBase.PkgId, \u001b[90menv\u001b[39m::\u001b[0mString\u001b[0m\u001b[1m)\u001b[22m\n",
      "\u001b[90m    @\u001b[39m \u001b[90mBase\u001b[39m \u001b[90m.\\\u001b[39m\u001b[90m\u001b[4mloading.jl:2302\u001b[24m\u001b[39m\n",
      " [23] \u001b[0m\u001b[1mmacro expansion\u001b[22m\n",
      "\u001b[90m    @\u001b[39m \u001b[90m.\\\u001b[39m\u001b[90m\u001b[4mloading.jl:2241\u001b[24m\u001b[39m\u001b[90m [inlined]\u001b[39m\n",
      " [24] \u001b[0m\u001b[1mmacro expansion\u001b[22m\n",
      "\u001b[90m    @\u001b[39m \u001b[90m.\\\u001b[39m\u001b[90m\u001b[4mlock.jl:273\u001b[24m\u001b[39m\u001b[90m [inlined]\u001b[39m\n",
      " [25] \u001b[0m\u001b[1m__require\u001b[22m\u001b[0m\u001b[1m(\u001b[22m\u001b[90minto\u001b[39m::\u001b[0mModule, \u001b[90mmod\u001b[39m::\u001b[0mSymbol\u001b[0m\u001b[1m)\u001b[22m\n",
      "\u001b[90m    @\u001b[39m \u001b[90mBase\u001b[39m \u001b[90m.\\\u001b[39m\u001b[90m\u001b[4mloading.jl:2198\u001b[24m\u001b[39m\n",
      " [26] \u001b[0m\u001b[1m#invoke_in_world#3\u001b[22m\n",
      "\u001b[90m    @\u001b[39m \u001b[90m.\\\u001b[39m\u001b[90m\u001b[4messentials.jl:1089\u001b[24m\u001b[39m\u001b[90m [inlined]\u001b[39m\n",
      " [27] \u001b[0m\u001b[1minvoke_in_world\u001b[22m\n",
      "\u001b[90m    @\u001b[39m \u001b[90m.\\\u001b[39m\u001b[90m\u001b[4messentials.jl:1086\u001b[24m\u001b[39m\u001b[90m [inlined]\u001b[39m\n",
      " [28] \u001b[0m\u001b[1mrequire\u001b[22m\u001b[0m\u001b[1m(\u001b[22m\u001b[90minto\u001b[39m::\u001b[0mModule, \u001b[90mmod\u001b[39m::\u001b[0mSymbol\u001b[0m\u001b[1m)\u001b[22m\n",
      "\u001b[90m    @\u001b[39m \u001b[90mBase\u001b[39m \u001b[90m.\\\u001b[39m\u001b[90m\u001b[4mloading.jl:2191\u001b[24m\u001b[39m\n",
      " [29] \u001b[0m\u001b[1minclude\u001b[22m\n",
      "\u001b[90m    @\u001b[39m \u001b[90m.\\\u001b[39m\u001b[90m\u001b[4mBase.jl:557\u001b[24m\u001b[39m\u001b[90m [inlined]\u001b[39m\n",
      " [30] \u001b[0m\u001b[1minclude_package_for_output\u001b[22m\u001b[0m\u001b[1m(\u001b[22m\u001b[90mpkg\u001b[39m::\u001b[0mBase.PkgId, \u001b[90minput\u001b[39m::\u001b[0mString, \u001b[90mdepot_path\u001b[39m::\u001b[0mVector\u001b[90m{String}\u001b[39m, \u001b[90mdl_load_path\u001b[39m::\u001b[0mVector\u001b[90m{String}\u001b[39m, \u001b[90mload_path\u001b[39m::\u001b[0mVector\u001b[90m{String}\u001b[39m, \u001b[90mconcrete_deps\u001b[39m::\u001b[0mVector\u001b[90m{Pair{Base.PkgId, UInt128}}\u001b[39m, \u001b[90msource\u001b[39m::\u001b[0mNothing\u001b[0m\u001b[1m)\u001b[22m\n",
      "\u001b[90m    @\u001b[39m \u001b[90mBase\u001b[39m \u001b[90m.\\\u001b[39m\u001b[90m\u001b[4mloading.jl:2790\u001b[24m\u001b[39m\n",
      " [31] top-level scope\n",
      "\u001b[90m    @\u001b[39m \u001b[90m\u001b[4mstdin:5\u001b[24m\u001b[39m\n",
      "during initialization of module C\n",
      "in expression starting at C:\\Users\\yanyx\\.julia\\packages\\PyQDecoders\\4MMwN\\src\\PyQDecoders.jl:1\n",
      "in expression starting at stdin:5\n"
     ]
    },
    {
     "ename": "LoadError",
     "evalue": "Failed to precompile PyQDecoders [17f5de1a-9b79-4409-a58d-4d45812840f7] to \"C:\\\\Users\\\\yanyx\\\\.julia\\\\compiled\\\\v1.11\\\\PyQDecoders\\\\jl_CC65.tmp\".",
     "output_type": "error",
     "traceback": [
      "Failed to precompile PyQDecoders [17f5de1a-9b79-4409-a58d-4d45812840f7] to \"C:\\\\Users\\\\yanyx\\\\.julia\\\\compiled\\\\v1.11\\\\PyQDecoders\\\\jl_CC65.tmp\".",
      "",
      "Stacktrace:",
      "  [1] error(s::String)",
      "    @ Base .\\error.jl:35",
      "  [2] compilecache(pkg::Base.PkgId, path::String, internal_stderr::IO, internal_stdout::IO, keep_loaded_modules::Bool; flags::Cmd, cacheflags::Base.CacheFlags, reasons::Dict{String, Int64}, isext::Bool)",
      "    @ Base .\\loading.jl:3085",
      "  [3] (::Base.var\"#1082#1083\"{Base.PkgId})()",
      "    @ Base .\\loading.jl:2492",
      "  [4] mkpidlock(f::Base.var\"#1082#1083\"{Base.PkgId}, at::String, pid::Int32; kwopts::@Kwargs{stale_age::Int64, wait::Bool})",
      "    @ FileWatching.Pidfile C:\\Users\\yanyx\\.julia\\juliaup\\julia-1.11.1+0.x64.w64.mingw32\\share\\julia\\stdlib\\v1.11\\FileWatching\\src\\pidfile.jl:95",
      "  [5] #mkpidlock#6",
      "    @ C:\\Users\\yanyx\\.julia\\juliaup\\julia-1.11.1+0.x64.w64.mingw32\\share\\julia\\stdlib\\v1.11\\FileWatching\\src\\pidfile.jl:90 [inlined]",
      "  [6] trymkpidlock(::Function, ::Vararg{Any}; kwargs::@Kwargs{stale_age::Int64})",
      "    @ FileWatching.Pidfile C:\\Users\\yanyx\\.julia\\juliaup\\julia-1.11.1+0.x64.w64.mingw32\\share\\julia\\stdlib\\v1.11\\FileWatching\\src\\pidfile.jl:116",
      "  [7] #invokelatest#2",
      "    @ .\\essentials.jl:1057 [inlined]",
      "  [8] invokelatest",
      "    @ .\\essentials.jl:1052 [inlined]",
      "  [9] maybe_cachefile_lock(f::Base.var\"#1082#1083\"{Base.PkgId}, pkg::Base.PkgId, srcpath::String; stale_age::Int64)",
      "    @ Base .\\loading.jl:3609",
      " [10] maybe_cachefile_lock",
      "    @ .\\loading.jl:3606 [inlined]",
      " [11] _require(pkg::Base.PkgId, env::String)",
      "    @ Base .\\loading.jl:2488",
      " [12] __require_prelocked(uuidkey::Base.PkgId, env::String)",
      "    @ Base .\\loading.jl:2315",
      " [13] #invoke_in_world#3",
      "    @ .\\essentials.jl:1089 [inlined]",
      " [14] invoke_in_world",
      "    @ .\\essentials.jl:1086 [inlined]",
      " [15] _require_prelocked(uuidkey::Base.PkgId, env::String)",
      "    @ Base .\\loading.jl:2302",
      " [16] macro expansion",
      "    @ .\\loading.jl:2241 [inlined]",
      " [17] macro expansion",
      "    @ .\\lock.jl:273 [inlined]",
      " [18] __require(into::Module, mod::Symbol)",
      "    @ Base .\\loading.jl:2198",
      " [19] #invoke_in_world#3",
      "    @ .\\essentials.jl:1089 [inlined]",
      " [20] invoke_in_world",
      "    @ .\\essentials.jl:1086 [inlined]",
      " [21] require(into::Module, mod::Symbol)",
      "    @ Base .\\loading.jl:2191"
     ]
    }
   ],
   "source": [
    "using PyQDecoders: sps, np, ldpc"
   ]
  },
  {
   "cell_type": "code",
   "execution_count": 6,
   "metadata": {},
   "outputs": [
    {
     "ename": "LoadError",
     "evalue": "UndefVarError: `ldpc` not defined in `Main`\nSuggestion: check for spelling errors or missing imports.",
     "output_type": "error",
     "traceback": [
      "UndefVarError: `ldpc` not defined in `Main`\nSuggestion: check for spelling errors or missing imports.",
      "",
      "Stacktrace:",
      " [1] top-level scope",
      "   @ In[6]:1"
     ]
    }
   ],
   "source": [
    "H = ldpc.codes.rep_code(3) # parity check matrix for the length-3 repetition code\n",
    "n = H.shape[1] # the codeword length, same as `size(H, 2)`\n"
   ]
  },
  {
   "cell_type": "code",
   "execution_count": 7,
   "metadata": {},
   "outputs": [
    {
     "ename": "LoadError",
     "evalue": "UndefVarError: `n` not defined in `Main`\nSuggestion: check for spelling errors or missing imports.",
     "output_type": "error",
     "traceback": [
      "UndefVarError: `n` not defined in `Main`\nSuggestion: check for spelling errors or missing imports.",
      "",
      "Stacktrace:",
      " [1] top-level scope",
      "   @ In[7]:1"
     ]
    }
   ],
   "source": [
    "bpd = ldpc.bp_decoder(\n",
    "           H, # the parity check matrix\n",
    "           error_rate=0.1, # the error rate on each bit\n",
    "           max_iter=n, # the maximum iteration depth for BP\n",
    "           bp_method=\"product_sum\", # BP method. The other option is `minimum_sum'\n",
    "           channel_probs=[nothing] # channel probability probabilities. Will override error rate.\n",
    "       )"
   ]
  },
  {
   "cell_type": "code",
   "execution_count": null,
   "metadata": {},
   "outputs": [
    {
     "name": "stderr",
     "output_type": "stream",
     "text": [
      "\u001b[32m\u001b[1m    CondaPkg \u001b[22m\u001b[39m\u001b[0mFound dependencies: C:\\Users\\yanyx\\.julia\\packages\\PyQDecoders\\4MMwN\\CondaPkg.toml\n",
      "\u001b[32m\u001b[1m    CondaPkg \u001b[22m\u001b[39m\u001b[0mFound dependencies: C:\\Users\\yanyx\\.julia\\packages\\PythonCall\\Nr75f\\CondaPkg.toml\n",
      "\u001b[32m\u001b[1m    CondaPkg \u001b[22m\u001b[39m\u001b[0mResolving changes\n",
      "\u001b[32m\u001b[1m             \u001b[22m\u001b[39m\u001b[32m+ ldpc (pip)\u001b[39m\n",
      "\u001b[32m\u001b[1m             \u001b[22m\u001b[39m\u001b[32m+ numpy (pip)\u001b[39m\n",
      "\u001b[32m\u001b[1m             \u001b[22m\u001b[39m\u001b[32m+ openssl\u001b[39m\n",
      "\u001b[32m\u001b[1m             \u001b[22m\u001b[39m\u001b[32m+ pip\u001b[39m\n",
      "\u001b[32m\u001b[1m             \u001b[22m\u001b[39m\u001b[32m+ pymatching (pip)\u001b[39m\n",
      "\u001b[32m\u001b[1m             \u001b[22m\u001b[39m\u001b[32m+ python\u001b[39m\n",
      "\u001b[32m\u001b[1m             \u001b[22m\u001b[39m\u001b[32m+ scipy (pip)\u001b[39m\n",
      "\u001b[32m\u001b[1m    CondaPkg \u001b[22m\u001b[39m\u001b[0mRemoving environment\n",
      "\u001b[32m\u001b[1m             \u001b[22m\u001b[39m│ \u001b[90mC:\\Users\\yanyx\\.julia\\artifacts\\cba433181fa6470b206db49415f1b7593a9d25ff\\bin\\micromamba.exe\u001b[39m\n",
      "\u001b[32m\u001b[1m             \u001b[22m\u001b[39m│ \u001b[90m-r C:\\Users\\yanyx\\.julia\\scratchspaces\\0b3b1443-0f03-428d-bdfb-f27f9c1191ea\\root\u001b[39m\n",
      "\u001b[32m\u001b[1m             \u001b[22m\u001b[39m│ \u001b[90mremove\u001b[39m\n",
      "\u001b[32m\u001b[1m             \u001b[22m\u001b[39m│ \u001b[90m-y\u001b[39m\n",
      "\u001b[32m\u001b[1m             \u001b[22m\u001b[39m│ \u001b[90m-p C:\\Users\\yanyx\\.julia\\environments\\v1.11\\.CondaPkg\\env\u001b[39m\n",
      "\u001b[32m\u001b[1m             \u001b[22m\u001b[39m└ \u001b[90m--all\u001b[39m\n"
     ]
    },
    {
     "name": "stdout",
     "output_type": "stream",
     "text": [
      "Transaction\n",
      "\n",
      "  Prefix: C:\\Users\\yanyx\\.julia\\environments\\v1.11\\.CondaPkg\\env\n",
      "\n",
      "  Removing specs:\n",
      "\n",
      "   - bzip2\n",
      "   - ca-certificates\n",
      "   - libffi\n",
      "   - libsqlite\n",
      "   - libzlib\n",
      "   - openssl\n",
      "   - pip\n",
      "   - python\n",
      "   - setuptools\n",
      "   - tk\n",
      "   - tzdata\n",
      "   - ucrt\n",
      "   - vc\n",
      "   - vc14_runtime\n",
      "   - vs2015_runtime\n",
      "   - wheel\n",
      "   - xz\n",
      "\n",
      "\n",
      "  Package                 Version  Build               Channel           Size\n",
      "-------------------------------------------------------------------------------\n",
      "  Remove:\n",
      "-------------------------------------------------------------------------------\n",
      "\n",
      "  - libzlib                 1.3.1  h2466b09_2          conda-forge     Cached\n",
      "  - pip                    24.3.1  pyh8b19718_0        conda-forge     Cached\n",
      "  - python                 3.11.0  hcf16a7b_0_cpython  conda-forge     Cached\n",
      "  - setuptools             75.3.0  pyhd8ed1ab_0        conda-forge     Cached\n",
      "  - wheel                  0.44.0  pyhd8ed1ab_0        conda-forge     Cached\n",
      "  - xz                      5.2.6  h8d14728_0          conda-forge     Cached\n",
      "  - tzdata                  2024b  hc8b5060_0          conda-forge     Cached\n",
      "  - tk                     8.6.13  h5226925_1          conda-forge     Cached\n",
      "  - openssl                3.0.14  h2466b09_0          conda-forge     Cached\n",
      "  - libsqlite              3.47.0  h2466b09_1          conda-forge     Cached\n",
      "  - libffi                  3.4.2  h8ffe710_5          conda-forge     Cached\n",
      "  - bzip2                   1.0.8  h2466b09_7          conda-forge     Cached\n",
      "  - ca-certificates     2024.8.30  h56e8100_0          conda-forge     Cached\n",
      "  - vs2015_runtime    14.40.33810  h3bf8584_22         conda-forge     Cached\n",
      "  - vc                       14.3  h8a93ad2_22         conda-forge     Cached\n",
      "  - vc14_runtime      14.40.33810  hcc2c482_22         conda-forge     Cached\n",
      "  - ucrt             10.0.22621.0  h57928b3_1          conda-forge     Cached\n",
      "\n",
      "  Summary:\n",
      "\n",
      "  Remove: 17 packages\n",
      "\n",
      "  Total download: 0 B\n",
      "\n",
      "-------------------------------------------------------------------------------\n",
      "\n",
      "\n",
      "\n",
      "Transaction starting\n",
      "Unlinking libzlib-1.3.1-h2466b09_2\n",
      "Unlinking pip-24.3.1-pyh8b19718_0\n",
      "Unlinking python-3.11.0-hcf16a7b_0_cpython\n",
      "Unlinking setuptools-75.3.0-pyhd8ed1ab_0\n",
      "Unlinking wheel-0.44.0-pyhd8ed1ab_0\n",
      "Unlinking xz-5.2.6-h8d14728_0\n",
      "Unlinking tzdata-2024b-hc8b5060_0\n",
      "Unlinking tk-8.6.13-h5226925_1\n",
      "Unlinking openssl-3.0.14-h2466b09_0\n",
      "Unlinking libsqlite-3.47.0-h2466b09_1\n",
      "Unlinking libffi-3.4.2-h8ffe710_5\n",
      "Unlinking bzip2-1.0.8-h2466b09_7\n",
      "Unlinking ca-certificates-2024.8.30-h56e8100_0\n",
      "Unlinking vs2015_runtime-14.40.33810-h3bf8584_22\n",
      "Unlinking vc-14.3-h8a93ad2_22\n",
      "Unlinking vc14_runtime-14.40.33810-hcc2c482_22\n",
      "Unlinking ucrt-10.0.22621.0-h57928b3_1\n",
      "\n",
      "Transaction finished\n",
      "\n",
      "To activate this environment, use:\n",
      "\n",
      "    micromamba activate C:\\Users\\yanyx\\.julia\\environments\\v1.11\\.CondaPkg\\env\n",
      "\n",
      "Or to execute a single command in this environment, use:\n",
      "\n",
      "    micromamba run -p C:\\Users\\yanyx\\.julia\\environments\\v1.11\\.CondaPkg\\env mycommand\n",
      "\n"
     ]
    },
    {
     "name": "stderr",
     "output_type": "stream",
     "text": [
      "\u001b[32m\u001b[1m    CondaPkg \u001b[22m\u001b[39m\u001b[0mCreating environment\n",
      "\u001b[32m\u001b[1m             \u001b[22m\u001b[39m│ \u001b[90mC:\\Users\\yanyx\\.julia\\artifacts\\cba433181fa6470b206db49415f1b7593a9d25ff\\bin\\micromamba.exe\u001b[39m\n",
      "\u001b[32m\u001b[1m             \u001b[22m\u001b[39m│ \u001b[90m-r C:\\Users\\yanyx\\.julia\\scratchspaces\\0b3b1443-0f03-428d-bdfb-f27f9c1191ea\\root\u001b[39m\n",
      "\u001b[32m\u001b[1m             \u001b[22m\u001b[39m│ \u001b[90mcreate\u001b[39m\n",
      "\u001b[32m\u001b[1m             \u001b[22m\u001b[39m│ \u001b[90m-y\u001b[39m\n",
      "\u001b[32m\u001b[1m             \u001b[22m\u001b[39m│ \u001b[90m-p C:\\Users\\yanyx\\.julia\\environments\\v1.11\\.CondaPkg\\env\u001b[39m\n",
      "\u001b[32m\u001b[1m             \u001b[22m\u001b[39m│ \u001b[90m--override-channels\u001b[39m\n",
      "\u001b[32m\u001b[1m             \u001b[22m\u001b[39m│ \u001b[90m--no-channel-priority\u001b[39m\n",
      "\u001b[32m\u001b[1m             \u001b[22m\u001b[39m│ \u001b[90mopenssl[version='>=3, <3.1']\u001b[39m\n",
      "\u001b[32m\u001b[1m             \u001b[22m\u001b[39m│ \u001b[90mpip[version='>=22.0.0']\u001b[39m\n",
      "\u001b[32m\u001b[1m             \u001b[22m\u001b[39m│ \u001b[90mpython[version='>=3.8,<4',channel='conda-forge',build='*cpython*']\u001b[39m\n",
      "\u001b[32m\u001b[1m             \u001b[22m\u001b[39m└ \u001b[90m-c conda-forge\u001b[39m\n"
     ]
    },
    {
     "name": "stdout",
     "output_type": "stream",
     "text": [
      "conda-forge/win-64                                          Using cache\n",
      "conda-forge/noarch                                          Using cache\n"
     ]
    }
   ],
   "source": [
    "error = [0,1,0]\n",
    "using PythonCall: PyArray\n",
    "syndrome = PyArray(H)*error .% 2\n",
    "decoding = bpd.decode(np.array(syndrome))"
   ]
  },
  {
   "cell_type": "code",
   "execution_count": null,
   "metadata": {},
   "outputs": [],
   "source": [
    "bposdd = ldpc.osd.bposd_decoder(H, error_rate=0.1, max_iter=n)"
   ]
  },
  {
   "cell_type": "code",
   "execution_count": null,
   "metadata": {},
   "outputs": [],
   "source": [
    "decoding = bposdd.decode(np.array(syndrome))"
   ]
  },
  {
   "cell_type": "markdown",
   "metadata": {},
   "source": [
    "## Run through"
   ]
  },
  {
   "cell_type": "markdown",
   "metadata": {},
   "source": [
    "## test"
   ]
  },
  {
   "cell_type": "code",
   "execution_count": 20,
   "metadata": {},
   "outputs": [
    {
     "data": {
      "text/plain": [
       "([0.0, 0.0, 0.0, 0.0, 0.0, 0.0, 0.0, 0.0, 0.0, 0.0  …  0.0, 0.0, 0.0, 0.0, 0.0, 0.0, 0.0, 0.0, 0.0, 0.0], true)"
      ]
     },
     "execution_count": 20,
     "metadata": {},
     "output_type": "execute_result"
    }
   ],
   "source": [
    "H = LDPCDecoders.parity_check_matrix(1000, 10, 9)\n",
    "per = 0.01\n",
    "err = rand(1000) .< per\n",
    "syn = (H * err) .% 2\n",
    "\n",
    "decoder = LDPCDecoders.BeliefPropagationDecoder(H, per, 100)\n",
    "guess, success = LDPCDecoders.decode!(decoder, syn)"
   ]
  },
  {
   "cell_type": "code",
   "execution_count": 22,
   "metadata": {},
   "outputs": [
    {
     "data": {
      "text/plain": [
       "true"
      ]
     },
     "execution_count": 22,
     "metadata": {},
     "output_type": "execute_result"
    }
   ],
   "source": [
    "guess == err"
   ]
  },
  {
   "cell_type": "code",
   "execution_count": 24,
   "metadata": {},
   "outputs": [
    {
     "data": {
      "text/plain": [
       "(Bool[0, 0, 0, 0, 0, 0, 0, 0, 0, 0  …  0, 0, 0, 0, 0, 0, 0, 0, 0, 0], true)"
      ]
     },
     "execution_count": 24,
     "metadata": {},
     "output_type": "execute_result"
    }
   ],
   "source": [
    "# H = LDPCDecoders.parity_check_matrix(1000, 10, 9)\n",
    "# per = 0.01\n",
    "# err = rand(1000) .< per\n",
    "# syn = (H * err) .% 2\n",
    "\n",
    "decoder = LDPCDecoders.BeliefPropagationOSDDecoder(H, per, 100; osd_order=0)\n",
    "osd_guess, success = LDPCDecoders.decode!(decoder, syn)"
   ]
  },
  {
   "cell_type": "code",
   "execution_count": 25,
   "metadata": {},
   "outputs": [
    {
     "data": {
      "text/plain": [
       "true"
      ]
     },
     "execution_count": 25,
     "metadata": {},
     "output_type": "execute_result"
    }
   ],
   "source": [
    "osd_guess == err"
   ]
  },
  {
   "cell_type": "markdown",
   "metadata": {},
   "source": [
    "## Larger error rate"
   ]
  },
  {
   "cell_type": "code",
   "execution_count": 45,
   "metadata": {},
   "outputs": [
    {
     "data": {
      "text/plain": [
       "false"
      ]
     },
     "execution_count": 45,
     "metadata": {},
     "output_type": "execute_result"
    }
   ],
   "source": [
    "H = LDPCDecoders.parity_check_matrix(1000, 10, 9)\n",
    "per = 0.2\n",
    "err = rand(1000) .< per\n",
    "syn = (H * err) .% 2\n",
    "\n",
    "decoder = LDPCDecoders.BeliefPropagationDecoder(H, per, 100)\n",
    "guess, success = LDPCDecoders.decode!(decoder, syn)\n",
    "\n",
    "guess == err"
   ]
  },
  {
   "cell_type": "code",
   "execution_count": 47,
   "metadata": {},
   "outputs": [
    {
     "data": {
      "text/plain": [
       "false"
      ]
     },
     "execution_count": 47,
     "metadata": {},
     "output_type": "execute_result"
    }
   ],
   "source": [
    "# H = LDPCDecoders.parity_check_matrix(1000, 10, 9)\n",
    "# per = 0.01\n",
    "# err = rand(1000) .< per\n",
    "# syn = (H * err) .% 2\n",
    "\n",
    "decoder = LDPCDecoders.BeliefPropagationOSDDecoder(H, per, 100; osd_order=0)\n",
    "osd_guess, success = LDPCDecoders.decode!(decoder, syn)\n",
    "\n",
    "osd_guess == err"
   ]
  },
  {
   "cell_type": "code",
   "execution_count": 51,
   "metadata": {},
   "outputs": [
    {
     "data": {
      "text/plain": [
       "false"
      ]
     },
     "execution_count": 51,
     "metadata": {},
     "output_type": "execute_result"
    }
   ],
   "source": [
    "syn == (H * guess) .% 2"
   ]
  },
  {
   "cell_type": "code",
   "execution_count": 55,
   "metadata": {},
   "outputs": [
    {
     "data": {
      "text/plain": [
       "true"
      ]
     },
     "execution_count": 55,
     "metadata": {},
     "output_type": "execute_result"
    }
   ],
   "source": [
    "syn == (H * osd_guess) .% 2"
   ]
  },
  {
   "cell_type": "markdown",
   "metadata": {},
   "source": [
    "## Error rate estimation"
   ]
  },
  {
   "cell_type": "code",
   "execution_count": 33,
   "metadata": {},
   "outputs": [
    {
     "data": {
      "text/plain": [
       "0.77"
      ]
     },
     "execution_count": 33,
     "metadata": {},
     "output_type": "execute_result"
    }
   ],
   "source": [
    "H = LDPCDecoders.parity_check_matrix(1000, 10, 9)\n",
    "per = 0.1\n",
    "decoder = LDPCDecoders.BeliefPropagationDecoder(H, per, 100)\n",
    "\n",
    "count = 0\n",
    "for _ in 1:100\n",
    "    error = rand(1000) .< per;\n",
    "    syndrome = (H * error) .% 2;\n",
    "    guess, success = LDPCDecoders.decode!(decoder, syndrome);\n",
    "    count += error == guess\n",
    "end\n",
    "1-count/100"
   ]
  },
  {
   "cell_type": "code",
   "execution_count": 35,
   "metadata": {},
   "outputs": [
    {
     "data": {
      "text/plain": [
       "0.0"
      ]
     },
     "execution_count": 35,
     "metadata": {},
     "output_type": "execute_result"
    }
   ],
   "source": [
    "decoder = LDPCDecoders.BeliefPropagationOSDDecoder(H, per, 100; osd_order=0)\n",
    "\n",
    "per = 0.01\n",
    "count = 0\n",
    "for _ in 1:100\n",
    "    error = rand(1000) .< per;\n",
    "    syndrome = (H * error) .% 2;\n",
    "    guess, success = LDPCDecoders.decode!(decoder, syndrome);\n",
    "    count += error == guess\n",
    "end\n",
    "1-count/100\n"
   ]
  },
  {
   "cell_type": "markdown",
   "metadata": {},
   "source": [
    "## Verify\n",
    "\n",
    "Try BP and BP-OSD on [[254,28]] generalized bicycle (GB) code and reproduce Fig. 1 of the paper https://doi.org/10.22331/q-2021-11-22-585."
   ]
  },
  {
   "cell_type": "code",
   "execution_count": null,
   "metadata": {},
   "outputs": [],
   "source": []
  }
 ],
 "metadata": {
  "kernelspec": {
   "display_name": "Julia 1.11.1",
   "language": "julia",
   "name": "julia-1.11"
  },
  "language_info": {
   "file_extension": ".jl",
   "mimetype": "application/julia",
   "name": "julia",
   "version": "1.11.1"
  }
 },
 "nbformat": 4,
 "nbformat_minor": 4
}
