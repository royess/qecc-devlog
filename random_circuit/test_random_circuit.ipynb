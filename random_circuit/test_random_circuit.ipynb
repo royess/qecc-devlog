{
 "cells": [
  {
   "cell_type": "code",
   "execution_count": 5,
   "id": "e315260b-89e9-42bb-8f87-3abaf5599e63",
   "metadata": {},
   "outputs": [
    {
     "name": "stdout",
     "output_type": "stream",
     "text": [
      "\u001b[32m\u001b[1mStatus\u001b[22m\u001b[39m `~/.julia/environments/v1.10/Project.toml`\n",
      "  \u001b[90m[e30172f5] \u001b[39mDocumenter v1.4.1\n",
      "  \u001b[90m[7073ff75] \u001b[39mIJulia v1.24.2\n",
      "  \u001b[90m[2b0e0bc5] \u001b[39mLanguageServer v4.5.1\n",
      "  \u001b[90m[2edaba10] \u001b[39mNemo v0.45.5\n",
      "  \u001b[90m[91a5bcdd] \u001b[39mPlots v1.40.4\n",
      "  \u001b[90m[17f5de1a] \u001b[39mPyQDecoders v0.2.1\n",
      "  \u001b[90m[6099a3de] \u001b[39mPythonCall v0.9.20\n",
      "  \u001b[90m[b0d11df0] \u001b[39mQuantikz v1.3.1\n",
      "  \u001b[90m[0525e862] \u001b[39mQuantumClifford v0.9.4 `../../../Documents/Repos/QuantumClifford.jl`\n",
      "  \u001b[90m[295af30f] \u001b[39mRevise v3.5.14\n",
      "  \u001b[90m[37e2e46d] \u001b[39mLinearAlgebra\n"
     ]
    }
   ],
   "source": [
    "import Pkg; Pkg.status()"
   ]
  },
  {
   "cell_type": "code",
   "execution_count": 6,
   "id": "6c3cb144-abc4-4f07-a8a4-97487f168b5f",
   "metadata": {},
   "outputs": [
    {
     "name": "stderr",
     "output_type": "stream",
     "text": [
      "\u001b[32m\u001b[1mPrecompiling\u001b[22m\u001b[39m QuantumClifford\n",
      "\u001b[32m  ✓ \u001b[39mQuantumClifford\n",
      "  1 dependency successfully precompiled in 15 seconds. 39 already precompiled.\n",
      "\u001b[32m\u001b[1mPrecompiling\u001b[22m\u001b[39m QuantumCliffordQuantikzExt\n",
      "\u001b[32m  ✓ \u001b[39m\u001b[90mQuantumClifford → QuantumCliffordQuantikzExt\u001b[39m\n",
      "  1 dependency successfully precompiled in 2 seconds. 110 already precompiled.\n",
      "\u001b[32m\u001b[1mPrecompiling\u001b[22m\u001b[39m QuantumCliffordPyQDecodersExt\n",
      "\u001b[32m  ✓ \u001b[39m\u001b[90mQuantumClifford → QuantumCliffordPyQDecodersExt\u001b[39m\n",
      "  1 dependency successfully precompiled in 3 seconds. 128 already precompiled.\n"
     ]
    }
   ],
   "source": [
    "using Revise\n",
    "using QuantumClifford, QuantumClifford.ECC\n",
    "using PyQDecoders"
   ]
  },
  {
   "cell_type": "code",
   "execution_count": 7,
   "id": "9d8319df-fdd1-4c03-84e7-68ed0a8c965c",
   "metadata": {},
   "outputs": [],
   "source": [
    "using Quantikz"
   ]
  },
  {
   "cell_type": "code",
   "execution_count": 8,
   "id": "b6d1baa7-8514-40dd-a318-53552dac73bd",
   "metadata": {},
   "outputs": [],
   "source": [
    "import PyQDecoders"
   ]
  },
  {
   "cell_type": "code",
   "execution_count": 9,
   "id": "11f69027-79d2-4542-8b28-37665703c260",
   "metadata": {},
   "outputs": [],
   "source": [
    "# methods(random_circuit_code)"
   ]
  },
  {
   "cell_type": "markdown",
   "id": "fda3b9aa-73dd-4a49-a261-02bab6254ff3",
   "metadata": {},
   "source": [
    "# All-to-all connection"
   ]
  },
  {
   "cell_type": "code",
   "execution_count": 11,
   "id": "7a6d0b9a-95d3-4dcc-8548-b50d58cba11f",
   "metadata": {},
   "outputs": [
    {
     "data": {
      "image/png": "[encoded data removed]",
      "text/plain": [
       "30-element Vector{QuantumClifford.AbstractOperation}:\n",
       " SparseGate{QuantumClifford.Tableau{Vector{UInt8}, Matrix{UInt64}}}(CliffordOperator on 2 qubits, [5, 8])\n",
       " SparseGate{QuantumClifford.Tableau{Vector{UInt8}, Matrix{UInt64}}}(CliffordOperator on 2 qubits, [9, 6])\n",
       " SparseGate{QuantumClifford.Tableau{Vector{UInt8}, Matrix{UInt64}}}(CliffordOperator on 2 qubits, [8, 3])\n",
       " SparseGate{QuantumClifford.Tableau{Vector{UInt8}, Matrix{UInt64}}}(CliffordOperator on 2 qubits, [7, 6])\n",
       " SparseGate{QuantumClifford.Tableau{Vector{UInt8}, Matrix{UInt64}}}(CliffordOperator on 2 qubits, [1, 7])\n",
       " SparseGate{QuantumClifford.Tableau{Vector{UInt8}, Matrix{UInt64}}}(CliffordOperator on 2 qubits, [1, 8])\n",
       " SparseGate{QuantumClifford.Tableau{Vector{UInt8}, Matrix{UInt64}}}(CliffordOperator on 2 qubits, [5, 4])\n",
       " SparseGate{QuantumClifford.Tableau{Vector{UInt8}, Matrix{UInt64}}}(CliffordOperator on 2 qubits, [2, 4])\n",
       " SparseGate{QuantumClifford.Tableau{Vector{UInt8}, Matrix{UInt64}}}(CliffordOperator on 2 qubits, [3, 10])\n",
       " SparseGate{QuantumClifford.Tableau{Vector{UInt8}, Matrix{UInt64}}}(CliffordOperator on 2 qubits, [10, 3])\n",
       " SparseGate{QuantumClifford.Tableau{Vector{UInt8}, Matrix{UInt64}}}(CliffordOperator on 2 qubits, [6, 10])\n",
       " SparseGate{QuantumClifford.Tableau{Vector{UInt8}, Matrix{UInt64}}}(CliffordOperator on 2 qubits, [5, 2])\n",
       " SparseGate{QuantumClifford.Tableau{Vector{UInt8}, Matrix{UInt64}}}(CliffordOperator on 2 qubits, [3, 9])\n",
       " ⋮\n",
       " SparseGate{QuantumClifford.Tableau{Vector{UInt8}, Matrix{UInt64}}}(CliffordOperator on 2 qubits, [5, 9])\n",
       " SparseGate{QuantumClifford.Tableau{Vector{UInt8}, Matrix{UInt64}}}(CliffordOperator on 2 qubits, [10, 6])\n",
       " SparseGate{QuantumClifford.Tableau{Vector{UInt8}, Matrix{UInt64}}}(CliffordOperator on 2 qubits, [3, 4])\n",
       " SparseGate{QuantumClifford.Tableau{Vector{UInt8}, Matrix{UInt64}}}(CliffordOperator on 2 qubits, [3, 9])\n",
       " SparseGate{QuantumClifford.Tableau{Vector{UInt8}, Matrix{UInt64}}}(CliffordOperator on 2 qubits, [10, 9])\n",
       " SparseGate{QuantumClifford.Tableau{Vector{UInt8}, Matrix{UInt64}}}(CliffordOperator on 2 qubits, [3, 6])\n",
       " SparseGate{QuantumClifford.Tableau{Vector{UInt8}, Matrix{UInt64}}}(CliffordOperator on 2 qubits, [1, 3])\n",
       " SparseGate{QuantumClifford.Tableau{Vector{UInt8}, Matrix{UInt64}}}(CliffordOperator on 2 qubits, [8, 3])\n",
       " SparseGate{QuantumClifford.Tableau{Vector{UInt8}, Matrix{UInt64}}}(CliffordOperator on 2 qubits, [1, 4])\n",
       " SparseGate{QuantumClifford.Tableau{Vector{UInt8}, Matrix{UInt64}}}(CliffordOperator on 2 qubits, [6, 9])\n",
       " SparseGate{QuantumClifford.Tableau{Vector{UInt8}, Matrix{UInt64}}}(CliffordOperator on 2 qubits, [7, 8])\n",
       " SparseGate{QuantumClifford.Tableau{Vector{UInt8}, Matrix{UInt64}}}(CliffordOperator on 2 qubits, [6, 3])"
      ]
     },
     "execution_count": 11,
     "metadata": {},
     "output_type": "execute_result"
    }
   ],
   "source": [
    "c1 = random_circuit_code(10, Val(:alltoall), 30, 2)\n",
    "c1.circ"
   ]
  },
  {
   "cell_type": "code",
   "execution_count": 12,
   "id": "6319e253-c08c-42a1-ab7e-63b75ab23c3f",
   "metadata": {},
   "outputs": [
    {
     "data": {
      "text/plain": [
       "+ Y_ZXZZZ___\n",
       "- Z_X_Z_Z_ZZ\n",
       "- ZYZZ____Y_\n",
       "+ __YZYZX_ZY\n",
       "- Z_XX_Z_Z__\n",
       "+ YXY___Y_ZX\n",
       "- ___YYYX_XX\n",
       "+ X__YXZY_Y_"
      ]
     },
     "execution_count": 12,
     "metadata": {},
     "output_type": "execute_result"
    }
   ],
   "source": [
    "c1 |> parity_checks"
   ]
  },
  {
   "cell_type": "code",
   "execution_count": 13,
   "id": "43a77ce6-a257-425e-b85c-bdcdd7a996d7",
   "metadata": {},
   "outputs": [
    {
     "data": {
      "image/png": "[encoded data removed]",
      "text/plain": [
       "30-element Vector{QuantumClifford.AbstractOperation}:\n",
       " SparseGate{QuantumClifford.Tableau{Vector{UInt8}, Matrix{UInt64}}}(CliffordOperator on 2 qubits, [2, 3])\n",
       " SparseGate{QuantumClifford.Tableau{Vector{UInt8}, Matrix{UInt64}}}(CliffordOperator on 2 qubits, [10, 6])\n",
       " SparseGate{QuantumClifford.Tableau{Vector{UInt8}, Matrix{UInt64}}}(CliffordOperator on 2 qubits, [7, 4])\n",
       " SparseGate{QuantumClifford.Tableau{Vector{UInt8}, Matrix{UInt64}}}(CliffordOperator on 2 qubits, [5, 9])\n",
       " SparseGate{QuantumClifford.Tableau{Vector{UInt8}, Matrix{UInt64}}}(CliffordOperator on 2 qubits, [7, 8])\n",
       " SparseGate{QuantumClifford.Tableau{Vector{UInt8}, Matrix{UInt64}}}(CliffordOperator on 2 qubits, [5, 2])\n",
       " SparseGate{QuantumClifford.Tableau{Vector{UInt8}, Matrix{UInt64}}}(CliffordOperator on 2 qubits, [5, 6])\n",
       " SparseGate{QuantumClifford.Tableau{Vector{UInt8}, Matrix{UInt64}}}(CliffordOperator on 2 qubits, [5, 6])\n",
       " SparseGate{QuantumClifford.Tableau{Vector{UInt8}, Matrix{UInt64}}}(CliffordOperator on 2 qubits, [2, 4])\n",
       " SparseGate{QuantumClifford.Tableau{Vector{UInt8}, Matrix{UInt64}}}(CliffordOperator on 2 qubits, [1, 4])\n",
       " SparseGate{QuantumClifford.Tableau{Vector{UInt8}, Matrix{UInt64}}}(CliffordOperator on 2 qubits, [7, 9])\n",
       " SparseGate{QuantumClifford.Tableau{Vector{UInt8}, Matrix{UInt64}}}(CliffordOperator on 2 qubits, [8, 5])\n",
       " SparseGate{QuantumClifford.Tableau{Vector{UInt8}, Matrix{UInt64}}}(CliffordOperator on 2 qubits, [1, 5])\n",
       " ⋮\n",
       " SparseGate{QuantumClifford.Tableau{Vector{UInt8}, Matrix{UInt64}}}(CliffordOperator on 2 qubits, [3, 6])\n",
       " SparseGate{QuantumClifford.Tableau{Vector{UInt8}, Matrix{UInt64}}}(CliffordOperator on 2 qubits, [10, 5])\n",
       " SparseGate{QuantumClifford.Tableau{Vector{UInt8}, Matrix{UInt64}}}(CliffordOperator on 2 qubits, [4, 10])\n",
       " SparseGate{QuantumClifford.Tableau{Vector{UInt8}, Matrix{UInt64}}}(CliffordOperator on 2 qubits, [1, 9])\n",
       " SparseGate{QuantumClifford.Tableau{Vector{UInt8}, Matrix{UInt64}}}(CliffordOperator on 2 qubits, [7, 4])\n",
       " SparseGate{QuantumClifford.Tableau{Vector{UInt8}, Matrix{UInt64}}}(CliffordOperator on 2 qubits, [3, 10])\n",
       " SparseGate{QuantumClifford.Tableau{Vector{UInt8}, Matrix{UInt64}}}(CliffordOperator on 2 qubits, [8, 6])\n",
       " SparseGate{QuantumClifford.Tableau{Vector{UInt8}, Matrix{UInt64}}}(CliffordOperator on 2 qubits, [2, 4])\n",
       " SparseGate{QuantumClifford.Tableau{Vector{UInt8}, Matrix{UInt64}}}(CliffordOperator on 2 qubits, [3, 7])\n",
       " SparseGate{QuantumClifford.Tableau{Vector{UInt8}, Matrix{UInt64}}}(CliffordOperator on 2 qubits, [1, 3])\n",
       " SparseGate{QuantumClifford.Tableau{Vector{UInt8}, Matrix{UInt64}}}(CliffordOperator on 2 qubits, [4, 7])\n",
       " SparseGate{QuantumClifford.Tableau{Vector{UInt8}, Matrix{UInt64}}}(CliffordOperator on 2 qubits, [6, 5])"
      ]
     },
     "execution_count": 13,
     "metadata": {},
     "output_type": "execute_result"
    }
   ],
   "source": [
    "c2 = random_circuit_code(10, Val(:alltoall), 30, 1:2:7)\n",
    "c2.circ"
   ]
  },
  {
   "cell_type": "code",
   "execution_count": 14,
   "id": "289d86a9-c049-4b35-b269-8093b91c723d",
   "metadata": {},
   "outputs": [
    {
     "data": {
      "text/plain": [
       "+ Z_Y_X___Z_\n",
       "+ _Y_Z__X___\n",
       "- ZZ_ZZXZXX_\n",
       "+ X_Y_Y__YZ_\n",
       "- _YX_____Y_\n",
       "- _ZYZXYYZ_Y"
      ]
     },
     "execution_count": 14,
     "metadata": {},
     "output_type": "execute_result"
    }
   ],
   "source": [
    "c2 |> parity_checks"
   ]
  },
  {
   "cell_type": "markdown",
   "id": "18d822fe-e1dc-4d90-b381-1f6ddeecb349",
   "metadata": {},
   "source": [
    "# Brickwork connection"
   ]
  },
  {
   "cell_type": "code",
   "execution_count": 15,
   "id": "0ae8f28f-29c1-44ff-8691-c50dfbee44c7",
   "metadata": {},
   "outputs": [
    {
     "data": {
      "image/png": "[encoded data removed]",
      "text/plain": [
       "9-element Vector{QuantumClifford.AbstractOperation}:\n",
       " SparseGate{QuantumClifford.Tableau{Vector{UInt8}, Matrix{UInt64}}}(CliffordOperator on 2 qubits, [1, 2])\n",
       " SparseGate{QuantumClifford.Tableau{Vector{UInt8}, Matrix{UInt64}}}(CliffordOperator on 2 qubits, [3, 4])\n",
       " SparseGate{QuantumClifford.Tableau{Vector{UInt8}, Matrix{UInt64}}}(CliffordOperator on 2 qubits, [5, 6])\n",
       " SparseGate{QuantumClifford.Tableau{Vector{UInt8}, Matrix{UInt64}}}(CliffordOperator on 2 qubits, [2, 3])\n",
       " SparseGate{QuantumClifford.Tableau{Vector{UInt8}, Matrix{UInt64}}}(CliffordOperator on 2 qubits, [4, 5])\n",
       " SparseGate{QuantumClifford.Tableau{Vector{UInt8}, Matrix{UInt64}}}(CliffordOperator on 2 qubits, [6, 7])\n",
       " SparseGate{QuantumClifford.Tableau{Vector{UInt8}, Matrix{UInt64}}}(CliffordOperator on 2 qubits, [1, 2])\n",
       " SparseGate{QuantumClifford.Tableau{Vector{UInt8}, Matrix{UInt64}}}(CliffordOperator on 2 qubits, [3, 4])\n",
       " SparseGate{QuantumClifford.Tableau{Vector{UInt8}, Matrix{UInt64}}}(CliffordOperator on 2 qubits, [5, 6])"
      ]
     },
     "execution_count": 15,
     "metadata": {},
     "output_type": "execute_result"
    }
   ],
   "source": [
    "c3 = random_circuit_code((7,), Val(:brickwork), 3, [1,3,7])\n",
    "c3.circ"
   ]
  },
  {
   "cell_type": "code",
   "execution_count": 16,
   "id": "6b964afb-4035-4447-b964-83bd59ef22fc",
   "metadata": {},
   "outputs": [
    {
     "data": {
      "text/plain": [
       "- XY_____\n",
       "+ ____YZ_\n",
       "+ __XX_ZY\n",
       "- __XX___"
      ]
     },
     "execution_count": 16,
     "metadata": {},
     "output_type": "execute_result"
    }
   ],
   "source": [
    "c3 |> parity_checks"
   ]
  },
  {
   "cell_type": "code",
   "execution_count": 17,
   "id": "3d1b5343-884c-4024-9719-88ce12956926",
   "metadata": {},
   "outputs": [
    {
     "data": {
      "image/png": "[encoded data removed]",
      "text/plain": [
       "38-element Vector{QuantumClifford.AbstractOperation}:\n",
       " SparseGate{QuantumClifford.Tableau{Vector{UInt8}, Matrix{UInt64}}}(CliffordOperator on 2 qubits, [1, 2])\n",
       " SparseGate{QuantumClifford.Tableau{Vector{UInt8}, Matrix{UInt64}}}(CliffordOperator on 2 qubits, [3, 4])\n",
       " SparseGate{QuantumClifford.Tableau{Vector{UInt8}, Matrix{UInt64}}}(CliffordOperator on 2 qubits, [5, 6])\n",
       " SparseGate{QuantumClifford.Tableau{Vector{UInt8}, Matrix{UInt64}}}(CliffordOperator on 2 qubits, [7, 8])\n",
       " SparseGate{QuantumClifford.Tableau{Vector{UInt8}, Matrix{UInt64}}}(CliffordOperator on 2 qubits, [9, 10])\n",
       " SparseGate{QuantumClifford.Tableau{Vector{UInt8}, Matrix{UInt64}}}(CliffordOperator on 2 qubits, [11, 12])\n",
       " SparseGate{QuantumClifford.Tableau{Vector{UInt8}, Matrix{UInt64}}}(CliffordOperator on 2 qubits, [13, 14])\n",
       " SparseGate{QuantumClifford.Tableau{Vector{UInt8}, Matrix{UInt64}}}(CliffordOperator on 2 qubits, [15, 16])\n",
       " SparseGate{QuantumClifford.Tableau{Vector{UInt8}, Matrix{UInt64}}}(CliffordOperator on 2 qubits, [17, 18])\n",
       " SparseGate{QuantumClifford.Tableau{Vector{UInt8}, Matrix{UInt64}}}(CliffordOperator on 2 qubits, [19, 20])\n",
       " SparseGate{QuantumClifford.Tableau{Vector{UInt8}, Matrix{UInt64}}}(CliffordOperator on 2 qubits, [2, 3])\n",
       " SparseGate{QuantumClifford.Tableau{Vector{UInt8}, Matrix{UInt64}}}(CliffordOperator on 2 qubits, [4, 5])\n",
       " SparseGate{QuantumClifford.Tableau{Vector{UInt8}, Matrix{UInt64}}}(CliffordOperator on 2 qubits, [6, 7])\n",
       " ⋮\n",
       " SparseGate{QuantumClifford.Tableau{Vector{UInt8}, Matrix{UInt64}}}(CliffordOperator on 2 qubits, [15, 16])\n",
       " SparseGate{QuantumClifford.Tableau{Vector{UInt8}, Matrix{UInt64}}}(CliffordOperator on 2 qubits, [17, 18])\n",
       " SparseGate{QuantumClifford.Tableau{Vector{UInt8}, Matrix{UInt64}}}(CliffordOperator on 2 qubits, [19, 20])\n",
       " SparseGate{QuantumClifford.Tableau{Vector{UInt8}, Matrix{UInt64}}}(CliffordOperator on 2 qubits, [2, 3])\n",
       " SparseGate{QuantumClifford.Tableau{Vector{UInt8}, Matrix{UInt64}}}(CliffordOperator on 2 qubits, [4, 5])\n",
       " SparseGate{QuantumClifford.Tableau{Vector{UInt8}, Matrix{UInt64}}}(CliffordOperator on 2 qubits, [6, 7])\n",
       " SparseGate{QuantumClifford.Tableau{Vector{UInt8}, Matrix{UInt64}}}(CliffordOperator on 2 qubits, [8, 9])\n",
       " SparseGate{QuantumClifford.Tableau{Vector{UInt8}, Matrix{UInt64}}}(CliffordOperator on 2 qubits, [10, 11])\n",
       " SparseGate{QuantumClifford.Tableau{Vector{UInt8}, Matrix{UInt64}}}(CliffordOperator on 2 qubits, [12, 13])\n",
       " SparseGate{QuantumClifford.Tableau{Vector{UInt8}, Matrix{UInt64}}}(CliffordOperator on 2 qubits, [14, 15])\n",
       " SparseGate{QuantumClifford.Tableau{Vector{UInt8}, Matrix{UInt64}}}(CliffordOperator on 2 qubits, [16, 17])\n",
       " SparseGate{QuantumClifford.Tableau{Vector{UInt8}, Matrix{UInt64}}}(CliffordOperator on 2 qubits, [18, 19])"
      ]
     },
     "execution_count": 17,
     "metadata": {},
     "output_type": "execute_result"
    }
   ],
   "source": [
    "c4 = random_circuit_code((20,), Val(:brickwork), 4, 1:2:20)\n",
    "c4.circ"
   ]
  },
  {
   "cell_type": "code",
   "execution_count": 18,
   "id": "57d5d5a2-36e3-457a-aa80-a063350678e2",
   "metadata": {},
   "outputs": [
    {
     "data": {
      "text/plain": [
       "- XZY_________________\n",
       "- Z_XZXZ______________\n",
       "+ _Z__________________\n",
       "+ ____ZXX__XX_________\n",
       "+ _____ZZZX__XX_______\n",
       "- _______XXXXZ________\n",
       "- ____________XZXZZ___\n",
       "+ ____________XXYZ_XZ_\n",
       "+ _______________ZZZYZ\n",
       "- _______________XX_YZ"
      ]
     },
     "execution_count": 18,
     "metadata": {},
     "output_type": "execute_result"
    }
   ],
   "source": [
    "c4 |> parity_checks"
   ]
  },
  {
   "cell_type": "code",
   "execution_count": 19,
   "id": "8e186dcd-7063-4f24-84a4-376f7723d293",
   "metadata": {},
   "outputs": [
    {
     "data": {
      "image/png": "[encoded data removed]",
      "text/plain": [
       "38-element Vector{QuantumClifford.AbstractOperation}:\n",
       " SparseGate{QuantumClifford.Tableau{Vector{UInt8}, Matrix{UInt64}}}(CliffordOperator on 2 qubits, [1, 2])\n",
       " SparseGate{QuantumClifford.Tableau{Vector{UInt8}, Matrix{UInt64}}}(CliffordOperator on 2 qubits, [3, 4])\n",
       " SparseGate{QuantumClifford.Tableau{Vector{UInt8}, Matrix{UInt64}}}(CliffordOperator on 2 qubits, [5, 6])\n",
       " SparseGate{QuantumClifford.Tableau{Vector{UInt8}, Matrix{UInt64}}}(CliffordOperator on 2 qubits, [7, 8])\n",
       " SparseGate{QuantumClifford.Tableau{Vector{UInt8}, Matrix{UInt64}}}(CliffordOperator on 2 qubits, [9, 10])\n",
       " SparseGate{QuantumClifford.Tableau{Vector{UInt8}, Matrix{UInt64}}}(CliffordOperator on 2 qubits, [11, 12])\n",
       " SparseGate{QuantumClifford.Tableau{Vector{UInt8}, Matrix{UInt64}}}(CliffordOperator on 2 qubits, [13, 14])\n",
       " SparseGate{QuantumClifford.Tableau{Vector{UInt8}, Matrix{UInt64}}}(CliffordOperator on 2 qubits, [15, 16])\n",
       " SparseGate{QuantumClifford.Tableau{Vector{UInt8}, Matrix{UInt64}}}(CliffordOperator on 2 qubits, [17, 18])\n",
       " SparseGate{QuantumClifford.Tableau{Vector{UInt8}, Matrix{UInt64}}}(CliffordOperator on 2 qubits, [19, 20])\n",
       " SparseGate{QuantumClifford.Tableau{Vector{UInt8}, Matrix{UInt64}}}(CliffordOperator on 2 qubits, [21, 22])\n",
       " SparseGate{QuantumClifford.Tableau{Vector{UInt8}, Matrix{UInt64}}}(CliffordOperator on 2 qubits, [23, 24])\n",
       " SparseGate{QuantumClifford.Tableau{Vector{UInt8}, Matrix{UInt64}}}(CliffordOperator on 2 qubits, [5, 9])\n",
       " ⋮\n",
       " SparseGate{QuantumClifford.Tableau{Vector{UInt8}, Matrix{UInt64}}}(CliffordOperator on 2 qubits, [1, 5])\n",
       " SparseGate{QuantumClifford.Tableau{Vector{UInt8}, Matrix{UInt64}}}(CliffordOperator on 2 qubits, [2, 6])\n",
       " SparseGate{QuantumClifford.Tableau{Vector{UInt8}, Matrix{UInt64}}}(CliffordOperator on 2 qubits, [3, 7])\n",
       " SparseGate{QuantumClifford.Tableau{Vector{UInt8}, Matrix{UInt64}}}(CliffordOperator on 2 qubits, [4, 8])\n",
       " SparseGate{QuantumClifford.Tableau{Vector{UInt8}, Matrix{UInt64}}}(CliffordOperator on 2 qubits, [9, 13])\n",
       " SparseGate{QuantumClifford.Tableau{Vector{UInt8}, Matrix{UInt64}}}(CliffordOperator on 2 qubits, [10, 14])\n",
       " SparseGate{QuantumClifford.Tableau{Vector{UInt8}, Matrix{UInt64}}}(CliffordOperator on 2 qubits, [11, 15])\n",
       " SparseGate{QuantumClifford.Tableau{Vector{UInt8}, Matrix{UInt64}}}(CliffordOperator on 2 qubits, [12, 16])\n",
       " SparseGate{QuantumClifford.Tableau{Vector{UInt8}, Matrix{UInt64}}}(CliffordOperator on 2 qubits, [17, 21])\n",
       " SparseGate{QuantumClifford.Tableau{Vector{UInt8}, Matrix{UInt64}}}(CliffordOperator on 2 qubits, [18, 22])\n",
       " SparseGate{QuantumClifford.Tableau{Vector{UInt8}, Matrix{UInt64}}}(CliffordOperator on 2 qubits, [19, 23])\n",
       " SparseGate{QuantumClifford.Tableau{Vector{UInt8}, Matrix{UInt64}}}(CliffordOperator on 2 qubits, [20, 24])"
      ]
     },
     "execution_count": 19,
     "metadata": {},
     "output_type": "execute_result"
    }
   ],
   "source": [
    "c5 = random_circuit_code((4,6), Val(:brickwork), 4, 1:10)\n",
    "c5.circ"
   ]
  },
  {
   "cell_type": "code",
   "execution_count": 20,
   "id": "035fefe3-2385-4a46-aa9c-c6a1ccd3f88e",
   "metadata": {},
   "outputs": [
    {
     "data": {
      "text/plain": [
       "+ _Z_Y_ZXZ___Y___Z________\n",
       "+ _Y_X__XZ________________\n",
       "+ _________Y__Z____XX__Z__\n",
       "- _________Y_______XX__Z__\n",
       "- ___________X___Y_______Z\n",
       "- _________YZX__ZY_______Z\n",
       "+ ____________Z___Y_______\n",
       "- _________X__ZZY_Y_Z_____\n",
       "+ ___________X___X_XZZ_X_Y\n",
       "+ _________YZX__ZX_X_Z_Z_X\n",
       "+ _________________X__Y_X_\n",
       "+ ________________YX__Z_Y_\n",
       "+ _________________Y_X_YZZ\n",
       "- _________________Y___YZ_"
      ]
     },
     "execution_count": 20,
     "metadata": {},
     "output_type": "execute_result"
    }
   ],
   "source": [
    "c5 |> parity_checks"
   ]
  },
  {
   "cell_type": "markdown",
   "id": "73217348-100b-4951-a166-3734c44f6343",
   "metadata": {},
   "source": [
    "# Decoding"
   ]
  },
  {
   "cell_type": "markdown",
   "id": "8543b642-f1d8-4279-b21d-63ce7065b09a",
   "metadata": {},
   "source": [
    "Here, we test logical error rates "
   ]
  },
  {
   "cell_type": "code",
   "execution_count": 21,
   "id": "efc77713-40df-42ef-b54b-7a182961ac90",
   "metadata": {},
   "outputs": [],
   "source": [
    "using Random"
   ]
  },
  {
   "cell_type": "code",
   "execution_count": 22,
   "id": "004c1033-795a-49a2-b2a4-4759ef8f8333",
   "metadata": {},
   "outputs": [
    {
     "data": {
      "text/plain": [
       "TaskLocalRNG()"
      ]
     },
     "execution_count": 22,
     "metadata": {},
     "output_type": "execute_result"
    }
   ],
   "source": [
    "Random.seed!(43)"
   ]
  },
  {
   "cell_type": "code",
   "execution_count": 23,
   "id": "e92c7175-809b-47e1-8f39-93cba52d1974",
   "metadata": {},
   "outputs": [],
   "source": [
    "codes_test = [random_circuit_code((20,), Val(:brickwork), 500, [1]) for i  in 1:10];"
   ]
  },
  {
   "cell_type": "code",
   "execution_count": 24,
   "id": "dbb1a52d-45db-4cca-acb7-ea389d78808c",
   "metadata": {},
   "outputs": [
    {
     "name": "stderr",
     "output_type": "stream",
     "text": [
      "\u001b[33m\u001b[1m┌ \u001b[22m\u001b[39m\u001b[33m\u001b[1mWarning: \u001b[22m\u001b[39mCould not compactify the circuit, falling back to a slower version of the simulation. Consider reporting this issue to the package maintainers to improve performance. The offending gate was `ClassicalXOR{17}((86, 87, 88, 89, 90, 91, 92, 93, 94, 95, 96, 97, 98, 99, 100, 101, 102), 292)`.\n",
      "\u001b[33m\u001b[1m└ \u001b[22m\u001b[39m\u001b[90m@ QuantumClifford ~/Documents/Repos/QuantumClifford.jl/src/pauli_frames.jl:181\u001b[39m\n",
      "\u001b[33m\u001b[1m┌ \u001b[22m\u001b[39m\u001b[33m\u001b[1mWarning: \u001b[22m\u001b[39mCould not compactify the circuit, falling back to a slower version of the simulation. Consider reporting this issue to the package maintainers to improve performance. The offending gate was `ClassicalXOR{17}((86, 87, 88, 89, 90, 91, 92, 93, 94, 95, 96, 97, 98, 99, 100, 101, 102), 292)`.\n",
      "\u001b[33m\u001b[1m└ \u001b[22m\u001b[39m\u001b[90m@ QuantumClifford ~/Documents/Repos/QuantumClifford.jl/src/pauli_frames.jl:181\u001b[39m\n",
      "\u001b[33m\u001b[1m┌ \u001b[22m\u001b[39m\u001b[33m\u001b[1mWarning: \u001b[22m\u001b[39mCould not compactify the circuit, falling back to a slower version of the simulation. Consider reporting this issue to the package maintainers to improve performance. The offending gate was `ClassicalXOR{19}((32, 33, 34, 35, 36, 37, 38, 39, 40, 41, 42, 43, 44, 45, 46, 47, 48, 49, 50), 304)`.\n",
      "\u001b[33m\u001b[1m└ \u001b[22m\u001b[39m\u001b[90m@ QuantumClifford ~/Documents/Repos/QuantumClifford.jl/src/pauli_frames.jl:181\u001b[39m\n",
      "\u001b[33m\u001b[1m┌ \u001b[22m\u001b[39m\u001b[33m\u001b[1mWarning: \u001b[22m\u001b[39mCould not compactify the circuit, falling back to a slower version of the simulation. Consider reporting this issue to the package maintainers to improve performance. The offending gate was `ClassicalXOR{19}((32, 33, 34, 35, 36, 37, 38, 39, 40, 41, 42, 43, 44, 45, 46, 47, 48, 49, 50), 304)`.\n",
      "\u001b[33m\u001b[1m└ \u001b[22m\u001b[39m\u001b[90m@ QuantumClifford ~/Documents/Repos/QuantumClifford.jl/src/pauli_frames.jl:181\u001b[39m\n",
      "\u001b[33m\u001b[1m┌ \u001b[22m\u001b[39m\u001b[33m\u001b[1mWarning: \u001b[22m\u001b[39mCould not compactify the circuit, falling back to a slower version of the simulation. Consider reporting this issue to the package maintainers to improve performance. The offending gate was `ClassicalXOR{18}((16, 17, 18, 19, 20, 21, 22, 23, 24, 25, 26, 27, 28, 29, 30, 31, 32, 33), 301)`.\n",
      "\u001b[33m\u001b[1m└ \u001b[22m\u001b[39m\u001b[90m@ QuantumClifford ~/Documents/Repos/QuantumClifford.jl/src/pauli_frames.jl:181\u001b[39m\n",
      "\u001b[33m\u001b[1m┌ \u001b[22m\u001b[39m\u001b[33m\u001b[1mWarning: \u001b[22m\u001b[39mCould not compactify the circuit, falling back to a slower version of the simulation. Consider reporting this issue to the package maintainers to improve performance. The offending gate was `ClassicalXOR{18}((16, 17, 18, 19, 20, 21, 22, 23, 24, 25, 26, 27, 28, 29, 30, 31, 32, 33), 301)`.\n",
      "\u001b[33m\u001b[1m└ \u001b[22m\u001b[39m\u001b[90m@ QuantumClifford ~/Documents/Repos/QuantumClifford.jl/src/pauli_frames.jl:181\u001b[39m\n",
      "\u001b[33m\u001b[1m┌ \u001b[22m\u001b[39m\u001b[33m\u001b[1mWarning: \u001b[22m\u001b[39mCould not compactify the circuit, falling back to a slower version of the simulation. Consider reporting this issue to the package maintainers to improve performance. The offending gate was `ClassicalXOR{17}((16, 17, 18, 19, 20, 21, 22, 23, 24, 25, 26, 27, 28, 29, 30, 31, 32), 293)`.\n",
      "\u001b[33m\u001b[1m└ \u001b[22m\u001b[39m\u001b[90m@ QuantumClifford ~/Documents/Repos/QuantumClifford.jl/src/pauli_frames.jl:181\u001b[39m\n",
      "\u001b[33m\u001b[1m┌ \u001b[22m\u001b[39m\u001b[33m\u001b[1mWarning: \u001b[22m\u001b[39mCould not compactify the circuit, falling back to a slower version of the simulation. Consider reporting this issue to the package maintainers to improve performance. The offending gate was `ClassicalXOR{17}((16, 17, 18, 19, 20, 21, 22, 23, 24, 25, 26, 27, 28, 29, 30, 31, 32), 293)`.\n",
      "\u001b[33m\u001b[1m└ \u001b[22m\u001b[39m\u001b[90m@ QuantumClifford ~/Documents/Repos/QuantumClifford.jl/src/pauli_frames.jl:181\u001b[39m\n",
      "\u001b[33m\u001b[1m┌ \u001b[22m\u001b[39m\u001b[33m\u001b[1mWarning: \u001b[22m\u001b[39mCould not compactify the circuit, falling back to a slower version of the simulation. Consider reporting this issue to the package maintainers to improve performance. The offending gate was `ClassicalXOR{17}((261, 262, 263, 264, 265, 266, 267, 268, 269, 270, 271, 272, 273, 274, 275, 276, 277), 296)`.\n",
      "\u001b[33m\u001b[1m└ \u001b[22m\u001b[39m\u001b[90m@ QuantumClifford ~/Documents/Repos/QuantumClifford.jl/src/pauli_frames.jl:181\u001b[39m\n",
      "\u001b[33m\u001b[1m┌ \u001b[22m\u001b[39m\u001b[33m\u001b[1mWarning: \u001b[22m\u001b[39mCould not compactify the circuit, falling back to a slower version of the simulation. Consider reporting this issue to the package maintainers to improve performance. The offending gate was `ClassicalXOR{17}((261, 262, 263, 264, 265, 266, 267, 268, 269, 270, 271, 272, 273, 274, 275, 276, 277), 296)`.\n",
      "\u001b[33m\u001b[1m└ \u001b[22m\u001b[39m\u001b[90m@ QuantumClifford ~/Documents/Repos/QuantumClifford.jl/src/pauli_frames.jl:181\u001b[39m\n",
      "\u001b[33m\u001b[1m┌ \u001b[22m\u001b[39m\u001b[33m\u001b[1mWarning: \u001b[22m\u001b[39mCould not compactify the circuit, falling back to a slower version of the simulation. Consider reporting this issue to the package maintainers to improve performance. The offending gate was `ClassicalXOR{19}((72, 73, 74, 75, 76, 77, 78, 79, 80, 81, 82, 83, 84, 85, 86, 87, 88, 89, 90), 304)`.\n",
      "\u001b[33m\u001b[1m└ \u001b[22m\u001b[39m\u001b[90m@ QuantumClifford ~/Documents/Repos/QuantumClifford.jl/src/pauli_frames.jl:181\u001b[39m\n",
      "\u001b[33m\u001b[1m┌ \u001b[22m\u001b[39m\u001b[33m\u001b[1mWarning: \u001b[22m\u001b[39mCould not compactify the circuit, falling back to a slower version of the simulation. Consider reporting this issue to the package maintainers to improve performance. The offending gate was `ClassicalXOR{19}((72, 73, 74, 75, 76, 77, 78, 79, 80, 81, 82, 83, 84, 85, 86, 87, 88, 89, 90), 304)`.\n",
      "\u001b[33m\u001b[1m└ \u001b[22m\u001b[39m\u001b[90m@ QuantumClifford ~/Documents/Repos/QuantumClifford.jl/src/pauli_frames.jl:181\u001b[39m\n",
      "\u001b[33m\u001b[1m┌ \u001b[22m\u001b[39m\u001b[33m\u001b[1mWarning: \u001b[22m\u001b[39mCould not compactify the circuit, falling back to a slower version of the simulation. Consider reporting this issue to the package maintainers to improve performance. The offending gate was `ClassicalXOR{18}((16, 17, 18, 19, 20, 21, 22, 23, 24, 25, 26, 27, 28, 29, 30, 31, 32, 33), 295)`.\n",
      "\u001b[33m\u001b[1m└ \u001b[22m\u001b[39m\u001b[90m@ QuantumClifford ~/Documents/Repos/QuantumClifford.jl/src/pauli_frames.jl:181\u001b[39m\n",
      "\u001b[33m\u001b[1m┌ \u001b[22m\u001b[39m\u001b[33m\u001b[1mWarning: \u001b[22m\u001b[39mCould not compactify the circuit, falling back to a slower version of the simulation. Consider reporting this issue to the package maintainers to improve performance. The offending gate was `ClassicalXOR{18}((16, 17, 18, 19, 20, 21, 22, 23, 24, 25, 26, 27, 28, 29, 30, 31, 32, 33), 295)`.\n",
      "\u001b[33m\u001b[1m└ \u001b[22m\u001b[39m\u001b[90m@ QuantumClifford ~/Documents/Repos/QuantumClifford.jl/src/pauli_frames.jl:181\u001b[39m\n",
      "\u001b[33m\u001b[1m┌ \u001b[22m\u001b[39m\u001b[33m\u001b[1mWarning: \u001b[22m\u001b[39mCould not compactify the circuit, falling back to a slower version of the simulation. Consider reporting this issue to the package maintainers to improve performance. The offending gate was `ClassicalXOR{17}((1, 2, 3, 4, 5, 6, 7, 8, 9, 10, 11, 12, 13, 14, 15, 16, 17), 282)`.\n",
      "\u001b[33m\u001b[1m└ \u001b[22m\u001b[39m\u001b[90m@ QuantumClifford ~/Documents/Repos/QuantumClifford.jl/src/pauli_frames.jl:181\u001b[39m\n",
      "\u001b[33m\u001b[1m┌ \u001b[22m\u001b[39m\u001b[33m\u001b[1mWarning: \u001b[22m\u001b[39mCould not compactify the circuit, falling back to a slower version of the simulation. Consider reporting this issue to the package maintainers to improve performance. The offending gate was `ClassicalXOR{17}((1, 2, 3, 4, 5, 6, 7, 8, 9, 10, 11, 12, 13, 14, 15, 16, 17), 282)`.\n",
      "\u001b[33m\u001b[1m└ \u001b[22m\u001b[39m\u001b[90m@ QuantumClifford ~/Documents/Repos/QuantumClifford.jl/src/pauli_frames.jl:181\u001b[39m\n",
      "\u001b[33m\u001b[1m┌ \u001b[22m\u001b[39m\u001b[33m\u001b[1mWarning: \u001b[22m\u001b[39mCould not compactify the circuit, falling back to a slower version of the simulation. Consider reporting this issue to the package maintainers to improve performance. The offending gate was `ClassicalXOR{17}((102, 103, 104, 105, 106, 107, 108, 109, 110, 111, 112, 113, 114, 115, 116, 117, 118), 284)`.\n",
      "\u001b[33m\u001b[1m└ \u001b[22m\u001b[39m\u001b[90m@ QuantumClifford ~/Documents/Repos/QuantumClifford.jl/src/pauli_frames.jl:181\u001b[39m\n",
      "\u001b[33m\u001b[1m┌ \u001b[22m\u001b[39m\u001b[33m\u001b[1mWarning: \u001b[22m\u001b[39mCould not compactify the circuit, falling back to a slower version of the simulation. Consider reporting this issue to the package maintainers to improve performance. The offending gate was `ClassicalXOR{17}((102, 103, 104, 105, 106, 107, 108, 109, 110, 111, 112, 113, 114, 115, 116, 117, 118), 284)`.\n",
      "\u001b[33m\u001b[1m└ \u001b[22m\u001b[39m\u001b[90m@ QuantumClifford ~/Documents/Repos/QuantumClifford.jl/src/pauli_frames.jl:181\u001b[39m\n",
      "\u001b[33m\u001b[1m┌ \u001b[22m\u001b[39m\u001b[33m\u001b[1mWarning: \u001b[22m\u001b[39mCould not compactify the circuit, falling back to a slower version of the simulation. Consider reporting this issue to the package maintainers to improve performance. The offending gate was `ClassicalXOR{17}((31, 32, 33, 34, 35, 36, 37, 38, 39, 40, 41, 42, 43, 44, 45, 46, 47), 290)`.\n",
      "\u001b[33m\u001b[1m└ \u001b[22m\u001b[39m\u001b[90m@ QuantumClifford ~/Documents/Repos/QuantumClifford.jl/src/pauli_frames.jl:181\u001b[39m\n",
      "\u001b[33m\u001b[1m┌ \u001b[22m\u001b[39m\u001b[33m\u001b[1mWarning: \u001b[22m\u001b[39mCould not compactify the circuit, falling back to a slower version of the simulation. Consider reporting this issue to the package maintainers to improve performance. The offending gate was `ClassicalXOR{17}((31, 32, 33, 34, 35, 36, 37, 38, 39, 40, 41, 42, 43, 44, 45, 46, 47), 290)`.\n",
      "\u001b[33m\u001b[1m└ \u001b[22m\u001b[39m\u001b[90m@ QuantumClifford ~/Documents/Repos/QuantumClifford.jl/src/pauli_frames.jl:181\u001b[39m\n"
     ]
    }
   ],
   "source": [
    "noise = 0.001\n",
    "\n",
    "setups = [\n",
    "    CommutationCheckECCSetup(noise),\n",
    "    NaiveSyndromeECCSetup(noise, 0),\n",
    "    ShorSyndromeECCSetup(noise, 0),\n",
    "]\n",
    "\n",
    "for c in codes_test\n",
    "    # @show c.arrange, c.connect\n",
    "    for s in setups\n",
    "        # @show s\n",
    "        for d in [TableDecoder]\n",
    "            e = evaluate_decoder(d(c), s, 100000)\n",
    "            if max(e...) >= noise/4\n",
    "                @info c.arrange, c.connect, max(e...), noise/4\n",
    "            end\n",
    "        end\n",
    "    end\n",
    "end"
   ]
  },
  {
   "cell_type": "code",
   "execution_count": 25,
   "id": "6b473a01-1bc6-4a4e-b7fa-918e5e8a216b",
   "metadata": {
    "scrolled": true
   },
   "outputs": [],
   "source": [
    "codes_test = [random_circuit_code((20,), Val(:brickwork), 1000, [1]) for i  in 1:5];"
   ]
  },
  {
   "cell_type": "code",
   "execution_count": 28,
   "id": "bae325a3-bd74-4a4a-a20e-6c1fa2babeee",
   "metadata": {},
   "outputs": [
    {
     "ename": "LoadError",
     "evalue": "\"Codes of type CircuitCode do not have separate X and Z parity checks, either because they are not a CSS code and thus inherently do not have separate checks, or because its separate checks are not yet implemented in this library.\"",
     "output_type": "error",
     "traceback": [
      "\"Codes of type CircuitCode do not have separate X and Z parity checks, either because they are not a CSS code and thus inherently do not have separate checks, or because its separate checks are not yet implemented in this library.\"",
      "",
      "Stacktrace:",
      " [1] parity_checks_x(code::CircuitCode)",
      "   @ QuantumClifford.ECC ~/Documents/Repos/QuantumClifford.jl/src/ecc/ECC.jl:41",
      " [2] QuantumCliffordPyQDecodersExt.PyBeliefPropDecoder(c::CircuitCode; maxiter::Nothing, bpmethod::Nothing, errorrate::Nothing)",
      "   @ QuantumCliffordPyQDecodersExt ~/Documents/Repos/QuantumClifford.jl/ext/QuantumCliffordPyQDecodersExt/QuantumCliffordPyQDecodersExt.jl:36",
      " [3] QuantumCliffordPyQDecodersExt.PyBeliefPropDecoder(c::CircuitCode)",
      "   @ QuantumCliffordPyQDecodersExt ~/Documents/Repos/QuantumClifford.jl/ext/QuantumCliffordPyQDecodersExt/QuantumCliffordPyQDecodersExt.jl:35",
      " [4] PyBeliefPropDecoder(args::CircuitCode; kwargs::@Kwargs{})",
      "   @ QuantumClifford.ECC ~/Documents/Repos/QuantumClifford.jl/src/ecc/decoder_pipeline.jl:288",
      " [5] PyBeliefPropDecoder(args::CircuitCode)",
      "   @ QuantumClifford.ECC ~/Documents/Repos/QuantumClifford.jl/src/ecc/decoder_pipeline.jl:283",
      " [6] top-level scope",
      "   @ ./In[28]:14"
     ]
    }
   ],
   "source": [
    "noise = 0.01\n",
    "\n",
    "setups = [\n",
    "    CommutationCheckECCSetup(noise),\n",
    "    NaiveSyndromeECCSetup(noise, 0),\n",
    "    ShorSyndromeECCSetup(noise, 0),\n",
    "]\n",
    "\n",
    "for c in codes_test\n",
    "    # @show c.arrange, c.connect\n",
    "    for s in setups\n",
    "        # @show s\n",
    "        for d in [PyBeliefPropDecoder]\n",
    "            e = evaluate_decoder(d(c), s, 10000)\n",
    "            if max(e...) >= noise/4\n",
    "                @info c.arrange, c.connect, max(e...), noise/5\n",
    "            end\n",
    "        end\n",
    "    end\n",
    "end"
   ]
  },
  {
   "cell_type": "code",
   "execution_count": null,
   "id": "ec9de17c-5d73-4db3-91ca-d129ae5c5276",
   "metadata": {},
   "outputs": [],
   "source": []
  },
  {
   "cell_type": "code",
   "execution_count": null,
   "id": "35e5b565-7396-4dad-be9d-162aa584e9ef",
   "metadata": {},
   "outputs": [],
   "source": []
  },
  {
   "cell_type": "markdown",
   "id": "564f8e88-17b1-4f4a-a61c-d06b646ab1d2",
   "metadata": {},
   "source": [
    "# P"
   ]
  }
 ],
 "metadata": {
  "kernelspec": {
   "display_name": "Julia 1.10.4",
   "language": "julia",
   "name": "julia-1.10"
  },
  "language_info": {
   "file_extension": ".jl",
   "mimetype": "application/julia",
   "name": "julia",
   "version": "1.10.4"
  }
 },
 "nbformat": 4,
 "nbformat_minor": 5
}
