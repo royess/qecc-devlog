{
 "cells": [
  {
   "cell_type": "markdown",
   "id": "b019ce75-b77e-45ab-96cd-95ab1fe3c6dd",
   "metadata": {},
   "source": [
    "# Random Clifford Circuit Code\n",
    "\n",
    "While doing this PR, I noticed that there is a notebook deomstrating codes from 1D local random Clifford circuit: [Stabilizer_Codes_Based_on_Random_Circuits.ipynb](https://github.com/QuantumSavory/QuantumClifford.jl/blob/5c73f403f9f1c9183574e92bded2eb518f954d2a/docs/src/notebooks/Stabilizer_Codes_Based_on_Random_Circuits.ipynb).\n",
    "\n",
    "What is new here:\n",
    "\n",
    "1. Use sparse gates that should improve efficiency.\n",
    "2. Use circuit of `AbstractOperation` to improve readability.\n",
    "3. Add all-to-all and multi-dimensioanl random Clifford circuits."
   ]
  },
  {
   "cell_type": "markdown",
   "id": "beb3d002-4ecc-4409-a8ad-abb5f4b15474",
   "metadata": {},
   "source": [
    "Use some old codes that construct (local) random circuits."
   ]
  },
  {
   "cell_type": "code",
   "execution_count": 5,
   "id": "833934eb-4736-470e-b71d-3b32a2a75622",
   "metadata": {},
   "outputs": [
    {
     "data": {
      "text/plain": [
       "random_clifford_with_measurements (generic function with 1 method)"
      ]
     },
     "execution_count": 5,
     "metadata": {},
     "output_type": "execute_result"
    }
   ],
   "source": [
    "include(\"mipt.jl\")"
   ]
  },
  {
   "cell_type": "code",
   "execution_count": 6,
   "id": "4a90959c-12cb-4609-b50c-a56ed7c00a1a",
   "metadata": {},
   "outputs": [
    {
     "data": {
      "text/plain": [
       "- __XZZ___YZ\n",
       "+ XX__XYYYYY\n",
       "- _YZXZXXX_Z\n",
       "+ _YZ_Z_Y__Y\n",
       "+ ZYZZZZ_Y_Y\n",
       "- ZZZ__YYXYX\n",
       "+ X_XXXZYYXY\n",
       "- YYXZXXZZ_X\n",
       "+ YZZXX_XXZZ\n",
       "- _XYZ_ZZXYX"
      ]
     },
     "execution_count": 6,
     "metadata": {},
     "output_type": "execute_result"
    }
   ],
   "source": [
    "apply_random_local_layers(random_stabilizer(10), 10)"
   ]
  },
  {
   "cell_type": "markdown",
   "id": "d9fc0433-4c18-49d1-94bd-e3810fcc3586",
   "metadata": {},
   "source": [
    "The circuit can also be applied to some Paulis."
   ]
  },
  {
   "cell_type": "code",
   "execution_count": 7,
   "id": "562c5425-6684-49c4-978f-ab96f6d4ab82",
   "metadata": {},
   "outputs": [
    {
     "data": {
      "text/plain": [
       "+ _XXYXYYX__\n",
       "- XZZZ_X_Y_Z"
      ]
     },
     "execution_count": 7,
     "metadata": {},
     "output_type": "execute_result"
    }
   ],
   "source": [
    "apply_random_local_layers(\n",
    "    Stabilizer(vcat(random_pauli(10), random_pauli(10))), 10)"
   ]
  },
  {
   "cell_type": "markdown",
   "id": "11e0878b-2704-4223-8f28-4993c7a8d220",
   "metadata": {},
   "source": [
    "What we still need to do:\n",
    "\n",
    "- Change the implementation to be based on `AbstractOperation`, which is more readable. (And test.)\n",
    "- Add random circuits that do not have locality.\n",
    "- QECC construction."
   ]
  },
  {
   "cell_type": "markdown",
   "id": "575ce257-b698-46f8-9f2e-e7afaafb090f",
   "metadata": {},
   "source": [
    "## Circuit API"
   ]
  },
  {
   "cell_type": "code",
   "execution_count": 8,
   "id": "ecc260b6-a2fb-4186-b486-ab4aa9ddc576",
   "metadata": {},
   "outputs": [],
   "source": [
    "using Quantikz"
   ]
  },
  {
   "cell_type": "code",
   "execution_count": 9,
   "id": "c054c2a3-fa0a-4dc3-9390-230a8715763d",
   "metadata": {},
   "outputs": [
    {
     "data": {
      "image/png": "[encoded data removed]"
     },
     "metadata": {},
     "output_type": "display_data"
    }
   ],
   "source": [
    "circ = QuantumClifford.AbstractOperation[]\n",
    "push!(circ, sZ(1))\n",
    "push!(circ, sZCZ(1,3))\n",
    "push!(circ, SparseGate(random_clifford(2), [1, 2]))\n",
    "push!(circ, SparseGate(random_clifford(2), [2, 4]))\n",
    "displaycircuit(circ)"
   ]
  },
  {
   "cell_type": "code",
   "execution_count": 10,
   "id": "3613fd16-0cb7-40e4-a332-d792556d78ed",
   "metadata": {},
   "outputs": [],
   "source": [
    "# using Random, Combinatorics"
   ]
  },
  {
   "cell_type": "code",
   "execution_count": 17,
   "id": "fc680650-4a7e-4b7d-a41f-a424392e78ac",
   "metadata": {},
   "outputs": [
    {
     "data": {
      "text/plain": [
       "random_all_to_all_clifford_circuit (generic function with 1 method)"
      ]
     },
     "execution_count": 17,
     "metadata": {},
     "output_type": "execute_result"
    }
   ],
   "source": [
    "function random_all_to_all_clifford_circuit(nqubits, ngates)\n",
    "    circ = QuantumClifford.AbstractOperation[]\n",
    "    for i in 1:ngates\n",
    "        j = rand(1:nqubits)\n",
    "        k = rand(1:nqubits-1)\n",
    "        push!(circ, SparseGate(random_clifford(2), [j, (j+k-1) % nqubits + 1]))\n",
    "    end\n",
    "    circ\n",
    "end"
   ]
  },
  {
   "cell_type": "code",
   "execution_count": 18,
   "id": "bee57918-696e-4a2d-8a7d-e2737475e404",
   "metadata": {
    "scrolled": true
   },
   "outputs": [
    {
     "data": {
      "image/png": "[encoded data removed]",
      "text/plain": [
       "10-element Vector{QuantumClifford.AbstractOperation}:\n",
       " SparseGate{QuantumClifford.Tableau{Vector{UInt8}, Matrix{UInt64}}}(CliffordOperator on 2 qubits, [5, 8])\n",
       " SparseGate{QuantumClifford.Tableau{Vector{UInt8}, Matrix{UInt64}}}(CliffordOperator on 2 qubits, [9, 3])\n",
       " SparseGate{QuantumClifford.Tableau{Vector{UInt8}, Matrix{UInt64}}}(CliffordOperator on 2 qubits, [5, 7])\n",
       " SparseGate{QuantumClifford.Tableau{Vector{UInt8}, Matrix{UInt64}}}(CliffordOperator on 2 qubits, [9, 3])\n",
       " SparseGate{QuantumClifford.Tableau{Vector{UInt8}, Matrix{UInt64}}}(CliffordOperator on 2 qubits, [2, 3])\n",
       " SparseGate{QuantumClifford.Tableau{Vector{UInt8}, Matrix{UInt64}}}(CliffordOperator on 2 qubits, [1, 4])\n",
       " SparseGate{QuantumClifford.Tableau{Vector{UInt8}, Matrix{UInt64}}}(CliffordOperator on 2 qubits, [2, 9])\n",
       " SparseGate{QuantumClifford.Tableau{Vector{UInt8}, Matrix{UInt64}}}(CliffordOperator on 2 qubits, [6, 3])\n",
       " SparseGate{QuantumClifford.Tableau{Vector{UInt8}, Matrix{UInt64}}}(CliffordOperator on 2 qubits, [9, 1])\n",
       " SparseGate{QuantumClifford.Tableau{Vector{UInt8}, Matrix{UInt64}}}(CliffordOperator on 2 qubits, [3, 7])"
      ]
     },
     "execution_count": 18,
     "metadata": {},
     "output_type": "execute_result"
    }
   ],
   "source": [
    "random_all_to_all_clifford_circuit(10, 10)"
   ]
  },
  {
   "cell_type": "code",
   "execution_count": 119,
   "id": "f9b7e4ac-9133-4fc9-9b8c-661f9a5cca7c",
   "metadata": {},
   "outputs": [
    {
     "data": {
      "text/plain": [
       "random_local_clifford_circuit (generic function with 1 method)"
      ]
     },
     "execution_count": 119,
     "metadata": {},
     "output_type": "execute_result"
    }
   ],
   "source": [
    "function random_local_clifford_circuit(l, dim, nlayers)\n",
    "    circ = QuantumClifford.AbstractOperation[]\n",
    "    cartesian = CartesianIndices(Tuple(repeat([l], dim)))\n",
    "    nqubits = l^dim\n",
    "    for i in 1:nlayers\n",
    "        gate_direction = (i-1) % dim + 1\n",
    "        brickwise_parity = (i ÷ dim) % 2\n",
    "        for j in 1:nqubits\n",
    "            cardj = collect(cartesian[j].I)\n",
    "            if cardj[gate_direction] % 2 == brickwise_parity && cardj[gate_direction]!=nqubits\n",
    "                cardk = cardj\n",
    "                cardk[gate_direction] = cardk[gate_direction] % l + 1\n",
    "                k = LinearIndices(cartesian)[cardk...]\n",
    "                push!(circ, SparseGate(random_clifford(2), [j, k]))\n",
    "            end\n",
    "        end\n",
    "    end\n",
    "    circ\n",
    "end"
   ]
  },
  {
   "cell_type": "code",
   "execution_count": 120,
   "id": "1dd9b183-5634-4a1f-b9d9-86ab0821e030",
   "metadata": {},
   "outputs": [
    {
     "data": {
      "image/png": "[encoded data removed]",
      "text/plain": [
       "20-element Vector{QuantumClifford.AbstractOperation}:\n",
       " SparseGate{QuantumClifford.Tableau{Vector{UInt8}, Matrix{UInt64}}}(CliffordOperator on 2 qubits, [1, 2])\n",
       " SparseGate{QuantumClifford.Tableau{Vector{UInt8}, Matrix{UInt64}}}(CliffordOperator on 2 qubits, [3, 4])\n",
       " SparseGate{QuantumClifford.Tableau{Vector{UInt8}, Matrix{UInt64}}}(CliffordOperator on 2 qubits, [2, 3])\n",
       " SparseGate{QuantumClifford.Tableau{Vector{UInt8}, Matrix{UInt64}}}(CliffordOperator on 2 qubits, [4, 5])\n",
       " SparseGate{QuantumClifford.Tableau{Vector{UInt8}, Matrix{UInt64}}}(CliffordOperator on 2 qubits, [1, 2])\n",
       " SparseGate{QuantumClifford.Tableau{Vector{UInt8}, Matrix{UInt64}}}(CliffordOperator on 2 qubits, [3, 4])\n",
       " SparseGate{QuantumClifford.Tableau{Vector{UInt8}, Matrix{UInt64}}}(CliffordOperator on 2 qubits, [2, 3])\n",
       " SparseGate{QuantumClifford.Tableau{Vector{UInt8}, Matrix{UInt64}}}(CliffordOperator on 2 qubits, [4, 5])\n",
       " SparseGate{QuantumClifford.Tableau{Vector{UInt8}, Matrix{UInt64}}}(CliffordOperator on 2 qubits, [1, 2])\n",
       " SparseGate{QuantumClifford.Tableau{Vector{UInt8}, Matrix{UInt64}}}(CliffordOperator on 2 qubits, [3, 4])\n",
       " SparseGate{QuantumClifford.Tableau{Vector{UInt8}, Matrix{UInt64}}}(CliffordOperator on 2 qubits, [2, 3])\n",
       " SparseGate{QuantumClifford.Tableau{Vector{UInt8}, Matrix{UInt64}}}(CliffordOperator on 2 qubits, [4, 5])\n",
       " SparseGate{QuantumClifford.Tableau{Vector{UInt8}, Matrix{UInt64}}}(CliffordOperator on 2 qubits, [1, 2])\n",
       " SparseGate{QuantumClifford.Tableau{Vector{UInt8}, Matrix{UInt64}}}(CliffordOperator on 2 qubits, [3, 4])\n",
       " SparseGate{QuantumClifford.Tableau{Vector{UInt8}, Matrix{UInt64}}}(CliffordOperator on 2 qubits, [2, 3])\n",
       " SparseGate{QuantumClifford.Tableau{Vector{UInt8}, Matrix{UInt64}}}(CliffordOperator on 2 qubits, [4, 5])\n",
       " SparseGate{QuantumClifford.Tableau{Vector{UInt8}, Matrix{UInt64}}}(CliffordOperator on 2 qubits, [1, 2])\n",
       " SparseGate{QuantumClifford.Tableau{Vector{UInt8}, Matrix{UInt64}}}(CliffordOperator on 2 qubits, [3, 4])\n",
       " SparseGate{QuantumClifford.Tableau{Vector{UInt8}, Matrix{UInt64}}}(CliffordOperator on 2 qubits, [2, 3])\n",
       " SparseGate{QuantumClifford.Tableau{Vector{UInt8}, Matrix{UInt64}}}(CliffordOperator on 2 qubits, [4, 5])"
      ]
     },
     "execution_count": 120,
     "metadata": {},
     "output_type": "execute_result"
    }
   ],
   "source": [
    "random_local_clifford_circuit(5, 1, 10)"
   ]
  },
  {
   "cell_type": "code",
   "execution_count": 121,
   "id": "d84afc19-200a-4153-8105-a365042872ad",
   "metadata": {},
   "outputs": [
    {
     "data": {
      "image/png": "[encoded data removed]",
      "text/plain": [
       "24-element Vector{QuantumClifford.AbstractOperation}:\n",
       " SparseGate{QuantumClifford.Tableau{Vector{UInt8}, Matrix{UInt64}}}(CliffordOperator on 2 qubits, [2, 3])\n",
       " SparseGate{QuantumClifford.Tableau{Vector{UInt8}, Matrix{UInt64}}}(CliffordOperator on 2 qubits, [4, 1])\n",
       " SparseGate{QuantumClifford.Tableau{Vector{UInt8}, Matrix{UInt64}}}(CliffordOperator on 2 qubits, [6, 7])\n",
       " SparseGate{QuantumClifford.Tableau{Vector{UInt8}, Matrix{UInt64}}}(CliffordOperator on 2 qubits, [8, 5])\n",
       " SparseGate{QuantumClifford.Tableau{Vector{UInt8}, Matrix{UInt64}}}(CliffordOperator on 2 qubits, [10, 11])\n",
       " SparseGate{QuantumClifford.Tableau{Vector{UInt8}, Matrix{UInt64}}}(CliffordOperator on 2 qubits, [12, 9])\n",
       " SparseGate{QuantumClifford.Tableau{Vector{UInt8}, Matrix{UInt64}}}(CliffordOperator on 2 qubits, [14, 15])\n",
       " SparseGate{QuantumClifford.Tableau{Vector{UInt8}, Matrix{UInt64}}}(CliffordOperator on 2 qubits, [16, 13])\n",
       " SparseGate{QuantumClifford.Tableau{Vector{UInt8}, Matrix{UInt64}}}(CliffordOperator on 2 qubits, [1, 5])\n",
       " SparseGate{QuantumClifford.Tableau{Vector{UInt8}, Matrix{UInt64}}}(CliffordOperator on 2 qubits, [2, 6])\n",
       " SparseGate{QuantumClifford.Tableau{Vector{UInt8}, Matrix{UInt64}}}(CliffordOperator on 2 qubits, [3, 7])\n",
       " SparseGate{QuantumClifford.Tableau{Vector{UInt8}, Matrix{UInt64}}}(CliffordOperator on 2 qubits, [4, 8])\n",
       " SparseGate{QuantumClifford.Tableau{Vector{UInt8}, Matrix{UInt64}}}(CliffordOperator on 2 qubits, [9, 13])\n",
       " SparseGate{QuantumClifford.Tableau{Vector{UInt8}, Matrix{UInt64}}}(CliffordOperator on 2 qubits, [10, 14])\n",
       " SparseGate{QuantumClifford.Tableau{Vector{UInt8}, Matrix{UInt64}}}(CliffordOperator on 2 qubits, [11, 15])\n",
       " SparseGate{QuantumClifford.Tableau{Vector{UInt8}, Matrix{UInt64}}}(CliffordOperator on 2 qubits, [12, 16])\n",
       " SparseGate{QuantumClifford.Tableau{Vector{UInt8}, Matrix{UInt64}}}(CliffordOperator on 2 qubits, [1, 2])\n",
       " SparseGate{QuantumClifford.Tableau{Vector{UInt8}, Matrix{UInt64}}}(CliffordOperator on 2 qubits, [3, 4])\n",
       " SparseGate{QuantumClifford.Tableau{Vector{UInt8}, Matrix{UInt64}}}(CliffordOperator on 2 qubits, [5, 6])\n",
       " SparseGate{QuantumClifford.Tableau{Vector{UInt8}, Matrix{UInt64}}}(CliffordOperator on 2 qubits, [7, 8])\n",
       " SparseGate{QuantumClifford.Tableau{Vector{UInt8}, Matrix{UInt64}}}(CliffordOperator on 2 qubits, [9, 10])\n",
       " SparseGate{QuantumClifford.Tableau{Vector{UInt8}, Matrix{UInt64}}}(CliffordOperator on 2 qubits, [11, 12])\n",
       " SparseGate{QuantumClifford.Tableau{Vector{UInt8}, Matrix{UInt64}}}(CliffordOperator on 2 qubits, [13, 14])\n",
       " SparseGate{QuantumClifford.Tableau{Vector{UInt8}, Matrix{UInt64}}}(CliffordOperator on 2 qubits, [15, 16])"
      ]
     },
     "execution_count": 121,
     "metadata": {},
     "output_type": "execute_result"
    }
   ],
   "source": [
    "random_local_clifford_circuit(4, 2, 3)"
   ]
  },
  {
   "cell_type": "code",
   "execution_count": 54,
   "id": "1414924c-0d24-45dd-9579-f1fcdc2a68dd",
   "metadata": {},
   "outputs": [],
   "source": [
    "# ?CartesianIndices"
   ]
  },
  {
   "cell_type": "markdown",
   "id": "95c2d8cd-4b5a-4a60-a064-9e09e08a58c7",
   "metadata": {},
   "source": [
    "Here, we use the `CartesianIndices` for conversion between lattice indices and linear indices."
   ]
  },
  {
   "cell_type": "code",
   "execution_count": 62,
   "id": "0c1280fe-1639-445a-b654-4a57ea78849a",
   "metadata": {},
   "outputs": [
    {
     "data": {
      "text/plain": [
       "CartesianIndex(1, 1, 2)"
      ]
     },
     "execution_count": 62,
     "metadata": {},
     "output_type": "execute_result"
    }
   ],
   "source": [
    "cartesian = CartesianIndices((4, 4, 4))\n",
    "cartesian[17]"
   ]
  },
  {
   "cell_type": "code",
   "execution_count": 63,
   "id": "3efb572e-628f-481d-9727-411f6b9791c4",
   "metadata": {},
   "outputs": [
    {
     "data": {
      "text/plain": [
       "(1, 1, 2)"
      ]
     },
     "execution_count": 63,
     "metadata": {},
     "output_type": "execute_result"
    }
   ],
   "source": [
    "cartesian[17].I"
   ]
  },
  {
   "cell_type": "code",
   "execution_count": 68,
   "id": "0c9bcd44-2406-4ed0-b7eb-b957b5db9bc3",
   "metadata": {},
   "outputs": [
    {
     "data": {
      "text/plain": [
       "17"
      ]
     },
     "execution_count": 68,
     "metadata": {},
     "output_type": "execute_result"
    }
   ],
   "source": [
    "ii = [1,1,2]\n",
    "LinearIndices(cartesian)[ii...]"
   ]
  },
  {
   "cell_type": "code",
   "execution_count": 154,
   "id": "44e982c0-c41c-4888-9e19-818d8a724aa4",
   "metadata": {},
   "outputs": [
    {
     "data": {
      "text/plain": [
       "4×4×4 LinearIndices{3, Tuple{Base.OneTo{Int64}, Base.OneTo{Int64}, Base.OneTo{Int64}}}:\n",
       "[:, :, 1] =\n",
       " 1  5   9  13\n",
       " 2  6  10  14\n",
       " 3  7  11  15\n",
       " 4  8  12  16\n",
       "\n",
       "[:, :, 2] =\n",
       " 17  21  25  29\n",
       " 18  22  26  30\n",
       " 19  23  27  31\n",
       " 20  24  28  32\n",
       "\n",
       "[:, :, 3] =\n",
       " 33  37  41  45\n",
       " 34  38  42  46\n",
       " 35  39  43  47\n",
       " 36  40  44  48\n",
       "\n",
       "[:, :, 4] =\n",
       " 49  53  57  61\n",
       " 50  54  58  62\n",
       " 51  55  59  63\n",
       " 52  56  60  64"
      ]
     },
     "execution_count": 154,
     "metadata": {},
     "output_type": "execute_result"
    }
   ],
   "source": [
    "LinearIndices(cartesian)"
   ]
  },
  {
   "cell_type": "code",
   "execution_count": 57,
   "id": "9979c380-765a-4afa-a6ca-e63ae6556db0",
   "metadata": {
    "scrolled": true
   },
   "outputs": [],
   "source": [
    "# cartesian[:,1:2:end,:] .|> println"
   ]
  },
  {
   "cell_type": "code",
   "execution_count": 69,
   "id": "70b99df8-f552-42ae-8252-d596322760e5",
   "metadata": {},
   "outputs": [],
   "source": [
    "# CartesianIndices(repeat([2], 4))"
   ]
  },
  {
   "cell_type": "code",
   "execution_count": 122,
   "id": "fb60e4e0-23f5-4e97-85af-e2b737077382",
   "metadata": {},
   "outputs": [],
   "source": [
    "# CartesianIndices((4, 4, 4))"
   ]
  },
  {
   "cell_type": "markdown",
   "id": "91475b18-d412-4fff-b977-5d1d42b0625c",
   "metadata": {},
   "source": [
    "## QECC"
   ]
  },
  {
   "cell_type": "code",
   "execution_count": 133,
   "id": "a9821c68-19f5-4738-ae46-6a9b76a1ab28",
   "metadata": {},
   "outputs": [
    {
     "data": {
      "text/plain": [
       "+ Z_________\n",
       "+ _Z________\n",
       "+ __Z_______\n",
       "+ ___Z______\n",
       "+ ____Z_____\n",
       "+ _____Z____\n",
       "+ ______Z___\n",
       "+ _______Z__\n",
       "+ ________Z_\n",
       "+ _________Z"
      ]
     },
     "execution_count": 133,
     "metadata": {},
     "output_type": "execute_result"
    }
   ],
   "source": [
    "l = 10\n",
    "dim = 1\n",
    "n = l^dim\n",
    "one(Stabilizer, n)"
   ]
  },
  {
   "cell_type": "code",
   "execution_count": 137,
   "id": "e2f1aabd-53d5-4f49-bb5e-e140f5e61bc9",
   "metadata": {},
   "outputs": [
    {
     "data": {
      "text/plain": [
       "- ZY________\n",
       "- XX________\n",
       "- __Z_______\n",
       "+ __ZX______\n",
       "+ ____ZY____\n",
       "+ ____XX____\n",
       "+ ______XY__\n",
       "- ______ZZ__\n",
       "+ ________YX\n",
       "- _________X"
      ]
     },
     "execution_count": 137,
     "metadata": {},
     "output_type": "execute_result"
    }
   ],
   "source": [
    "checks = one(Stabilizer, n)\n",
    "\n",
    "for op in random_local_clifford_circuit(l, dim, 1)\n",
    "    apply!(checks, op)\n",
    "end\n",
    "\n",
    "checks"
   ]
  },
  {
   "cell_type": "code",
   "execution_count": 135,
   "id": "aa0ff46a-cbb4-4c97-9384-d6ebf636a7a0",
   "metadata": {},
   "outputs": [
    {
     "data": {
      "text/plain": [
       "+ XXYZYYY___\n",
       "+ Z_ZXX_____\n",
       "+ YXYYZ_XYZ_\n",
       "- ZX_YZXYYZ_\n",
       "- _ZZZY_Y_XZ\n",
       "+ _ZZ_X_X_XZ\n",
       "+ Z_X_YZXX_Z\n",
       "- _______XXZ\n",
       "+ Z_X_YYYZXY\n",
       "- Z_XYX__YYZ"
      ]
     },
     "execution_count": 135,
     "metadata": {},
     "output_type": "execute_result"
    }
   ],
   "source": [
    "checks = one(Stabilizer, n)\n",
    "\n",
    "for op in random_local_clifford_circuit(l, dim, 10)\n",
    "    apply!(checks, op)\n",
    "end\n",
    "\n",
    "checks"
   ]
  },
  {
   "cell_type": "code",
   "execution_count": 155,
   "id": "9ab0bd2f-0cb1-450d-a72c-ccddea5e346b",
   "metadata": {},
   "outputs": [
    {
     "data": {
      "text/plain": [
       "nqubits (generic function with 9 methods)"
      ]
     },
     "execution_count": 155,
     "metadata": {},
     "output_type": "execute_result"
    }
   ],
   "source": []
  },
  {
   "cell_type": "code",
   "execution_count": null,
   "id": "d895a699-d6f9-4329-a7e4-23b6e856eaef",
   "metadata": {},
   "outputs": [],
   "source": []
  }
 ],
 "metadata": {
  "kernelspec": {
   "display_name": "Julia 1.10.4",
   "language": "julia",
   "name": "julia-1.10"
  },
  "language_info": {
   "file_extension": ".jl",
   "mimetype": "application/julia",
   "name": "julia",
   "version": "1.10.4"
  }
 },
 "nbformat": 4,
 "nbformat_minor": 5
}
