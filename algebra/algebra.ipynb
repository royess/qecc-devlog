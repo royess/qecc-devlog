{
 "cells": [
  {
   "cell_type": "code",
   "execution_count": 1,
   "id": "0ccacad4-473f-4865-89a2-6c57b1783058",
   "metadata": {},
   "outputs": [
    {
     "name": "stdout",
     "output_type": "stream",
     "text": [
      "\n",
      "Welcome to Nemo version 0.45.5\n",
      "\n",
      "Nemo comes with absolutely no warranty whatsoever\n"
     ]
    }
   ],
   "source": [
    "using Nemo"
   ]
  },
  {
   "cell_type": "code",
   "execution_count": 1,
   "id": "3aadcd68-6362-482d-8503-a18df83af239",
   "metadata": {},
   "outputs": [
    {
     "data": {
      "text/plain": [
       "-72462600*x^28 + 265281480*x^27 - 711671562*x^26 - 3328950498*x^25 + 10166082414*x^24 - 8654619024*x^23 - 12032959206*x^22 + 17700815814*x^21 - 215363353687*x^20 - 185499549996*x^19 - 85760265878*x^18 + 972954050625*x^17 - 1006087806518*x^16 - 63896648714*x^15 + 1418118414706*x^14 - 983420351908*x^13 + 3311067595626*x^12 + 671512190578*x^11 - 3607847000057*x^10 + 1024274077504*x^9 - 1760861784400*x^8 - 2871704787998*x^7 + 1748769644513*x^6 - 2741612609140*x^5 + 578017272279*x^4 - 489191507684*x^3 - 23944539253*x^2 + 108403267793*x + 9275569303"
      ]
     },
     "execution_count": 1,
     "metadata": {},
     "output_type": "execute_result"
    }
   ],
   "source": [
    "using AbstractAlgebra\n",
    "\n",
    "R, x = polynomial_ring(ZZ, \"x\")\n",
    "\n",
    "S = matrix_space(R, 10, 10)\n",
    "\n",
    "M = rand(S, 0:3, -10:10);\n",
    "\n",
    "det(M)"
   ]
  },
  {
   "cell_type": "code",
   "execution_count": 2,
   "id": "6c37ee24-6da2-413c-b296-0645f96f8071",
   "metadata": {},
   "outputs": [
    {
     "data": {
      "text/plain": [
       "[                     -9          4*x^2 + 2*x - 6          10*x^2 - 3*x - 9   9*x^3 + 7*x^2 - x + 9           -7*x^2 - 9*x - 10            5*x^2 - 10*x - 1                   -8*x - 3                   2*x - 4      -2*x^3 - x^2 + 6*x + 5                   x - 3]\n",
       "[                      6   -5*x^3 + x^2 + 9*x - 6          5*x^2 + 10*x - 1        10*x^2 + 2*x + 3                           3                         5*x                    6*x + 6                   7*x - 2                          -8                       7]\n",
       "[3*x^3 - 2*x^2 + 7*x + 1         -5*x^2 + 9*x + 8         -9*x^2 - 7*x + 10                       3             2*x^2 + 4*x + 9                    -5*x - 5                         -7                        -9                           9                      -7]\n",
       "[                      6                       -7         -10*x^2 - 3*x + 5                       7                          -3   -7*x^3 - 10*x^2 - 9*x + 1                         -4                         4                           8                -7*x - 1]\n",
       "[7*x^3 - 5*x^2 - 9*x + 8          4*x^2 - 8*x - 3          10*x^2 + 9*x + 5       -10*x^2 - 9*x - 8         5*x^3 + x^2 - x - 2             8*x^2 - 9*x + 2                          3   7*x^3 + 9*x^2 + 3*x + 5                          -4                       6]\n",
       "[               10*x + 6                 -2*x - 9   6*x^3 + 8*x^2 - 2*x - 2           2*x^2 + x - 3             4*x^2 + 9*x - 9              -x^2 + 5*x + 4   -9*x^3 + 7*x^2 + 2*x + 8                  -5*x - 3                     4*x - 3                 3*x + 4]\n",
       "[  5*x^3 - 4*x^2 + x + 7                        1               -10*x^2 + 4               -9*x - 10             8*x^2 + 7*x - 5            -5*x^2 - 9*x + 4                         -8          -2*x^2 - 8*x - 3   10*x^3 - 4*x^2 + 10*x - 2   6*x^3 - x^2 - 8*x + 1]\n",
       "[       3*x^2 - 9*x - 10                        1           9*x^2 + 7*x - 4                      -7   -9*x^3 + 10*x^2 - 8*x - 5            -6*x^2 - 3*x + 4            6*x^2 + 7*x - 3                         5    -4*x^3 + 9*x^2 + 9*x - 5                5*x - 10]\n",
       "[       3*x^2 + 7*x + 10         -8*x^2 - 3*x + 4             3*x^2 - x - 5         8*x^2 - 8*x + 8            -9*x^2 + 2*x - 1     5*x^3 - 6*x^2 - 8*x + 9           -3*x^2 - 3*x - 8                        -5                    -8*x - 4              -6*x^2 - 7]\n",
       "[                      4                       -7                 -10*x + 5                       6                   -9*x + 10       x^3 - 7*x^2 - 6*x - 6                         -2                        -4                           4                  -x + 1]"
      ]
     },
     "execution_count": 2,
     "metadata": {},
     "output_type": "execute_result"
    }
   ],
   "source": [
    "M"
   ]
  },
  {
   "cell_type": "code",
   "execution_count": 4,
   "id": "1fc03453-5d42-442f-9ad6-2f48feb95cc8",
   "metadata": {},
   "outputs": [
    {
     "name": "stdout",
     "output_type": "stream",
     "text": [
      "search: \u001b[0m\u001b[1mP\u001b[22m\u001b[0m\u001b[1me\u001b[22m\u001b[0m\u001b[1mr\u001b[22m\u001b[0m\u001b[1mm\u001b[22m \u001b[0m\u001b[1mp\u001b[22m\u001b[0m\u001b[1me\u001b[22m\u001b[0m\u001b[1mr\u001b[22m\u001b[0m\u001b[1mm\u001b[22m \u001b[0m\u001b[1mp\u001b[22m\u001b[0m\u001b[1me\u001b[22m\u001b[0m\u001b[1mr\u001b[22m\u001b[0m\u001b[1mm\u001b[22mute! \u001b[0m\u001b[1mp\u001b[22m\u001b[0m\u001b[1me\u001b[22m\u001b[0m\u001b[1mr\u001b[22m\u001b[0m\u001b[1mm\u001b[22mtype \u001b[0m\u001b[1mp\u001b[22m\u001b[0m\u001b[1me\u001b[22m\u001b[0m\u001b[1mr\u001b[22m\u001b[0m\u001b[1mm\u001b[22mutedims \u001b[0m\u001b[1mp\u001b[22m\u001b[0m\u001b[1me\u001b[22m\u001b[0m\u001b[1mr\u001b[22m\u001b[0m\u001b[1mm\u001b[22mutedims! \u001b[0m\u001b[1mP\u001b[22m\u001b[0m\u001b[1me\u001b[22m\u001b[0m\u001b[1mr\u001b[22m\u001b[0m\u001b[1mm\u001b[22mutedDimsArray\n",
      "\n"
     ]
    },
    {
     "data": {
      "text/latex": [
       "\\begin{verbatim}\n",
       "Perm{T<:Integer}\n",
       "\\end{verbatim}\n",
       "The type of permutations. Fieldnames:\n",
       "\n",
       "\\begin{itemize}\n",
       "\\item \\texttt{d::Vector\\{T\\}} - vector representing the permutation\n",
       "\n",
       "\n",
       "\\item \\texttt{modified::Bool} - bit to check the validity of cycle decomposition\n",
       "\n",
       "\n",
       "\\item \\texttt{cycles::CycleDec\\{T\\}} - (cached) cycle decomposition\n",
       "\n",
       "\\end{itemize}\n",
       "A permutation $p$ consists of a vector (\\texttt{p.d}) of $n$ integers from $1$ to $n$. If the $i$-th entry of the vector is $j$, this corresponds to $p$ sending $i \\to j$. The cycle decomposition (\\texttt{p.cycles}) is computed on demand and should never be accessed directly. Use \\href{@ref}{\\texttt{cycles(p)}} instead.\n",
       "\n",
       "There are two inner constructors of \\texttt{Perm}:\n",
       "\n",
       "\\begin{itemize}\n",
       "\\item \\texttt{Perm(n::T)} constructs the trivial \\texttt{Perm\\{T\\}}-permutation of length $n$.\n",
       "\n",
       "\n",
       "\\item \\texttt{Perm(v::AbstractVector\\{<:Integer\\} [,check=true])} constructs a permutation represented by \\texttt{v}. By default \\texttt{Perm} constructor checks if the vector constitutes a valid permutation. To skip the check call \\texttt{Perm(v, false)}.\n",
       "\n",
       "\\end{itemize}\n",
       "\\section{Examples}\n",
       "\\begin{verbatim}\n",
       "julia> Perm([1,2,3])\n",
       "()\n",
       "   \n",
       "julia> g = Perm(Int32[2,3,1])\n",
       "(1,2,3)\n",
       "\n",
       "julia> typeof(g)\n",
       "Perm{Int32}\n",
       "\\end{verbatim}\n"
      ],
      "text/markdown": [
       "```\n",
       "Perm{T<:Integer}\n",
       "```\n",
       "\n",
       "The type of permutations. Fieldnames:\n",
       "\n",
       "  * `d::Vector{T}` - vector representing the permutation\n",
       "  * `modified::Bool` - bit to check the validity of cycle decomposition\n",
       "  * `cycles::CycleDec{T}` - (cached) cycle decomposition\n",
       "\n",
       "A permutation $p$ consists of a vector (`p.d`) of $n$ integers from $1$ to $n$. If the $i$-th entry of the vector is $j$, this corresponds to $p$ sending $i \\to j$. The cycle decomposition (`p.cycles`) is computed on demand and should never be accessed directly. Use [`cycles(p)`](@ref) instead.\n",
       "\n",
       "There are two inner constructors of `Perm`:\n",
       "\n",
       "  * `Perm(n::T)` constructs the trivial `Perm{T}`-permutation of length $n$.\n",
       "  * `Perm(v::AbstractVector{<:Integer} [,check=true])` constructs a permutation represented by `v`. By default `Perm` constructor checks if the vector constitutes a valid permutation. To skip the check call `Perm(v, false)`.\n",
       "\n",
       "# Examples\n",
       "\n",
       "```jldoctest; setup = :(using AbstractAlgebra)\n",
       "julia> Perm([1,2,3])\n",
       "()\n",
       "   \n",
       "julia> g = Perm(Int32[2,3,1])\n",
       "(1,2,3)\n",
       "\n",
       "julia> typeof(g)\n",
       "Perm{Int32}\n",
       "```\n"
      ],
      "text/plain": [
       "\u001b[36m  Perm{T<:Integer}\u001b[39m\n",
       "\n",
       "  The type of permutations. Fieldnames:\n",
       "\n",
       "    •  \u001b[36md::Vector{T}\u001b[39m - vector representing the permutation\n",
       "\n",
       "    •  \u001b[36mmodified::Bool\u001b[39m - bit to check the validity of cycle decomposition\n",
       "\n",
       "    •  \u001b[36mcycles::CycleDec{T}\u001b[39m - (cached) cycle decomposition\n",
       "\n",
       "  A permutation \u001b[35mp\u001b[39m consists of a vector (\u001b[36mp.d\u001b[39m) of \u001b[35mn\u001b[39m integers from \u001b[35m1\u001b[39m to \u001b[35mn\u001b[39m. If the\n",
       "  \u001b[35mi\u001b[39m-th entry of the vector is \u001b[35mj\u001b[39m, this corresponds to \u001b[35mp\u001b[39m sending \u001b[35mi \\to j\u001b[39m. The\n",
       "  cycle decomposition (\u001b[36mp.cycles\u001b[39m) is computed on demand and should never be\n",
       "  accessed directly. Use \u001b[36mcycles(p)\u001b[39m instead.\n",
       "\n",
       "  There are two inner constructors of \u001b[36mPerm\u001b[39m:\n",
       "\n",
       "    •  \u001b[36mPerm(n::T)\u001b[39m constructs the trivial \u001b[36mPerm{T}\u001b[39m-permutation of length \u001b[35mn\u001b[39m.\n",
       "\n",
       "    •  \u001b[36mPerm(v::AbstractVector{<:Integer} [,check=true])\u001b[39m constructs a\n",
       "       permutation represented by \u001b[36mv\u001b[39m. By default \u001b[36mPerm\u001b[39m constructor checks\n",
       "       if the vector constitutes a valid permutation. To skip the check\n",
       "       call \u001b[36mPerm(v, false)\u001b[39m.\n",
       "\n",
       "\u001b[1m  Examples\u001b[22m\n",
       "\u001b[1m  ≡≡≡≡≡≡≡≡\u001b[22m\n",
       "\n",
       "\u001b[36m  julia> Perm([1,2,3])\u001b[39m\n",
       "\u001b[36m  ()\u001b[39m\n",
       "\u001b[36m     \u001b[39m\n",
       "\u001b[36m  julia> g = Perm(Int32[2,3,1])\u001b[39m\n",
       "\u001b[36m  (1,2,3)\u001b[39m\n",
       "\u001b[36m  \u001b[39m\n",
       "\u001b[36m  julia> typeof(g)\u001b[39m\n",
       "\u001b[36m  Perm{Int32}\u001b[39m"
      ]
     },
     "execution_count": 4,
     "metadata": {},
     "output_type": "execute_result"
    }
   ],
   "source": [
    "?Perm"
   ]
  },
  {
   "cell_type": "code",
   "execution_count": 5,
   "id": "5ecfe796-f979-4bfc-b85d-d2d838c800be",
   "metadata": {},
   "outputs": [
    {
     "data": {
      "text/plain": [
       "(1,2,3)"
      ]
     },
     "execution_count": 5,
     "metadata": {},
     "output_type": "execute_result"
    }
   ],
   "source": [
    "g = Perm(Int32[2,3,1])"
   ]
  },
  {
   "cell_type": "code",
   "execution_count": 6,
   "id": "64d23c19-74b5-4ed7-97c2-1e9721b3ed47",
   "metadata": {},
   "outputs": [
    {
     "data": {
      "text/plain": [
       "(1,2,3)"
      ]
     },
     "execution_count": 6,
     "metadata": {},
     "output_type": "execute_result"
    }
   ],
   "source": [
    "g"
   ]
  },
  {
   "cell_type": "code",
   "execution_count": 11,
   "id": "403c93f6-4dcb-4e94-ab47-cdddd39030fd",
   "metadata": {},
   "outputs": [
    {
     "data": {
      "text/plain": [
       "(1,2,3)"
      ]
     },
     "execution_count": 11,
     "metadata": {},
     "output_type": "execute_result"
    }
   ],
   "source": [
    "g"
   ]
  },
  {
   "cell_type": "code",
   "execution_count": 14,
   "id": "1d48051d-44a4-4045-adb1-6d76fa78a16a",
   "metadata": {},
   "outputs": [
    {
     "name": "stdout",
     "output_type": "stream",
     "text": [
      "\n",
      "Welcome to Nemo version 0.45.5\n",
      "\n",
      "Nemo comes with absolutely no warranty whatsoever\n"
     ]
    },
    {
     "name": "stderr",
     "output_type": "stream",
     "text": [
      "WARNING: using Nemo.ZZ in module Main conflicts with an existing identifier.\n"
     ]
    }
   ],
   "source": [
    "using Nemo"
   ]
  },
  {
   "cell_type": "code",
   "execution_count": 20,
   "id": "268a7a29-cb02-462f-a883-9cd8d4e56746",
   "metadata": {},
   "outputs": [],
   "source": [
    "# methods(perm)"
   ]
  },
  {
   "cell_type": "code",
   "execution_count": 2,
   "id": "aea5f8bf-28e0-44de-9646-02050bccc0d6",
   "metadata": {},
   "outputs": [
    {
     "data": {
      "text/plain": [
       "(Finite field of degree 2 and characteristic 2, a)"
      ]
     },
     "execution_count": 2,
     "metadata": {},
     "output_type": "execute_result"
    }
   ],
   "source": [
    "finite_field(2, 2, \"a\")"
   ]
  },
  {
   "cell_type": "code",
   "execution_count": 22,
   "id": "a78a5b2a-8380-4282-8bfd-51e0e508744e",
   "metadata": {},
   "outputs": [
    {
     "data": {
      "text/plain": [
       "(Univariate polynomial ring in x over GF(2), x)"
      ]
     },
     "execution_count": 22,
     "metadata": {},
     "output_type": "execute_result"
    }
   ],
   "source": [
    "R, x = Nemo.GF(2)[\"x\"]"
   ]
  },
  {
   "cell_type": "code",
   "execution_count": 30,
   "id": "656a628b-0d77-424e-8493-10e171aed44d",
   "metadata": {},
   "outputs": [
    {
     "data": {
      "text/plain": [
       "x^2 + x"
      ]
     },
     "execution_count": 30,
     "metadata": {},
     "output_type": "execute_result"
    }
   ],
   "source": [
    "x ^ 2 + 3*x"
   ]
  },
  {
   "cell_type": "code",
   "execution_count": 36,
   "id": "2110a0d8-4a1f-4d7a-8159-54f8f165d8f3",
   "metadata": {},
   "outputs": [
    {
     "data": {
      "text/plain": [
       "(Residue ring of R modulo x^3 + 1, Map: R -> R1)"
      ]
     },
     "execution_count": 36,
     "metadata": {},
     "output_type": "execute_result"
    }
   ],
   "source": [
    "R1, _ = residue_ring(R, x^3 - 1)"
   ]
  },
  {
   "cell_type": "code",
   "execution_count": 44,
   "id": "22db9d72-f50d-4e92-9f2a-7b7bba93e4c5",
   "metadata": {},
   "outputs": [
    {
     "data": {
      "text/plain": [
       "x + 1"
      ]
     },
     "execution_count": 44,
     "metadata": {},
     "output_type": "execute_result"
    }
   ],
   "source": [
    "R1(x^4 - 1)"
   ]
  },
  {
   "cell_type": "code",
   "execution_count": 47,
   "id": "fd5edd94-5327-4ec5-8dcf-e46351d9d787",
   "metadata": {},
   "outputs": [
    {
     "ename": "LoadError",
     "evalue": "MethodError: no method matching gen(::FqPolyRing, ::Int64)\n\n\u001b[0mClosest candidates are:\n\u001b[0m  gen(::FqPolyRing)\n\u001b[0m\u001b[90m   @\u001b[39m \u001b[35mNemo\u001b[39m \u001b[90m~/.julia/packages/Nemo/0n54t/src/flint/\u001b[39m\u001b[90m\u001b[4mfq_default_poly.jl:59\u001b[24m\u001b[39m\n\u001b[0m  gen(\u001b[91m::ZZMPolyRing\u001b[39m, ::Int64)\n\u001b[0m\u001b[90m   @\u001b[39m \u001b[35mNemo\u001b[39m \u001b[90m~/.julia/packages/Nemo/0n54t/src/flint/\u001b[39m\u001b[90m\u001b[4mfmpz_mpoly.jl:44\u001b[24m\u001b[39m\n\u001b[0m  gen(\u001b[91m::FpMPolyRing\u001b[39m, ::Int64)\n\u001b[0m\u001b[90m   @\u001b[39m \u001b[35mNemo\u001b[39m \u001b[90m~/.julia/packages/Nemo/0n54t/src/flint/\u001b[39m\u001b[90m\u001b[4mfmpz_mod_mpoly.jl:63\u001b[24m\u001b[39m\n\u001b[0m  ...\n",
     "output_type": "error",
     "traceback": [
      "MethodError: no method matching gen(::FqPolyRing, ::Int64)\n\n\u001b[0mClosest candidates are:\n\u001b[0m  gen(::FqPolyRing)\n\u001b[0m\u001b[90m   @\u001b[39m \u001b[35mNemo\u001b[39m \u001b[90m~/.julia/packages/Nemo/0n54t/src/flint/\u001b[39m\u001b[90m\u001b[4mfq_default_poly.jl:59\u001b[24m\u001b[39m\n\u001b[0m  gen(\u001b[91m::ZZMPolyRing\u001b[39m, ::Int64)\n\u001b[0m\u001b[90m   @\u001b[39m \u001b[35mNemo\u001b[39m \u001b[90m~/.julia/packages/Nemo/0n54t/src/flint/\u001b[39m\u001b[90m\u001b[4mfmpz_mpoly.jl:44\u001b[24m\u001b[39m\n\u001b[0m  gen(\u001b[91m::FpMPolyRing\u001b[39m, ::Int64)\n\u001b[0m\u001b[90m   @\u001b[39m \u001b[35mNemo\u001b[39m \u001b[90m~/.julia/packages/Nemo/0n54t/src/flint/\u001b[39m\u001b[90m\u001b[4mfmpz_mod_mpoly.jl:63\u001b[24m\u001b[39m\n\u001b[0m  ...\n",
      "",
      "Stacktrace:",
      " [1] top-level scope",
      "   @ In[47]:1"
     ]
    }
   ],
   "source": [
    "gen(R, 1)"
   ]
  },
  {
   "cell_type": "code",
   "execution_count": 48,
   "id": "44d81609-20ee-4516-b7bf-65c0fff56409",
   "metadata": {},
   "outputs": [
    {
     "data": {
      "text/plain": [
       "Univariate polynomial ring in x over GF(2)"
      ]
     },
     "execution_count": 48,
     "metadata": {},
     "output_type": "execute_result"
    }
   ],
   "source": [
    "R"
   ]
  },
  {
   "cell_type": "code",
   "execution_count": null,
   "id": "f153f5b1-c4cc-49f6-8da9-06489348f333",
   "metadata": {},
   "outputs": [],
   "source": []
  }
 ],
 "metadata": {
  "kernelspec": {
   "display_name": "Julia 1.10.4",
   "language": "julia",
   "name": "julia-1.10"
  },
  "language_info": {
   "file_extension": ".jl",
   "mimetype": "application/julia",
   "name": "julia",
   "version": "1.10.4"
  }
 },
 "nbformat": 4,
 "nbformat_minor": 5
}
