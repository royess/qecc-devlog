{
 "cells": [
  {
   "cell_type": "markdown",
   "id": "b019ce75-b77e-45ab-96cd-95ab1fe3c6dd",
   "metadata": {},
   "source": [
    "# Random Clifford Circuit Code\n",
    "\n",
    "Just noticed that there is a notebook doing this: [Stabilizer_Codes_Based_on_Random_Circuits.ipynb](https://github.com/QuantumSavory/QuantumClifford.jl/blob/5c73f403f9f1c9183574e92bded2eb518f954d2a/docs/src/notebooks/Stabilizer_Codes_Based_on_Random_Circuits.ipynb)."
   ]
  },
  {
   "cell_type": "markdown",
   "id": "beb3d002-4ecc-4409-a8ad-abb5f4b15474",
   "metadata": {},
   "source": [
    "Use some old codes that construct (local) random circuits."
   ]
  },
  {
   "cell_type": "code",
   "execution_count": 1,
   "id": "833934eb-4736-470e-b71d-3b32a2a75622",
   "metadata": {},
   "outputs": [
    {
     "data": {
      "text/plain": [
       "random_clifford_with_measurements (generic function with 1 method)"
      ]
     },
     "execution_count": 1,
     "metadata": {},
     "output_type": "execute_result"
    }
   ],
   "source": [
    "include(\"mipt.jl\")"
   ]
  },
  {
   "cell_type": "code",
   "execution_count": 2,
   "id": "4a90959c-12cb-4609-b50c-a56ed7c00a1a",
   "metadata": {},
   "outputs": [
    {
     "data": {
      "text/plain": [
       "+ Y__Y__ZXX_\n",
       "+ Y_YZZYXZYX\n",
       "+ _Z__YX_YYZ\n",
       "- Z_Y_Z_YZY_\n",
       "- _Z__ZXXXY_\n",
       "- XZYYY__Z_Y\n",
       "- XYZX_ZXXYY\n",
       "+ XYYXXZZX__\n",
       "+ XYYZ_XXZ__\n",
       "- _YXZ_ZYYY_"
      ]
     },
     "execution_count": 2,
     "metadata": {},
     "output_type": "execute_result"
    }
   ],
   "source": [
    "apply_random_local_layers(random_stabilizer(10), 10)"
   ]
  },
  {
   "cell_type": "markdown",
   "id": "d9fc0433-4c18-49d1-94bd-e3810fcc3586",
   "metadata": {},
   "source": [
    "The circuit can also be applied to some Paulis."
   ]
  },
  {
   "cell_type": "code",
   "execution_count": 3,
   "id": "562c5425-6684-49c4-978f-ab96f6d4ab82",
   "metadata": {},
   "outputs": [
    {
     "data": {
      "text/plain": [
       "+ _XYZZZX_XY\n",
       "- _Z_YXZZ_XY"
      ]
     },
     "execution_count": 3,
     "metadata": {},
     "output_type": "execute_result"
    }
   ],
   "source": [
    "apply_random_local_layers(\n",
    "    Stabilizer(vcat(random_pauli(10), random_pauli(10))), 10)"
   ]
  },
  {
   "cell_type": "markdown",
   "id": "11e0878b-2704-4223-8f28-4993c7a8d220",
   "metadata": {},
   "source": [
    "What we still need to do:\n",
    "\n",
    "- Change the implementation to be based on `AbstractOperation`, which is more readable. (And test.)\n",
    "- Add random circuits that do not have locality.\n",
    "- QECC construction."
   ]
  },
  {
   "cell_type": "markdown",
   "id": "575ce257-b698-46f8-9f2e-e7afaafb090f",
   "metadata": {},
   "source": [
    "## Circuit API"
   ]
  },
  {
   "cell_type": "code",
   "execution_count": 11,
   "id": "ecc260b6-a2fb-4186-b486-ab4aa9ddc576",
   "metadata": {},
   "outputs": [],
   "source": [
    "using Quantikz"
   ]
  },
  {
   "cell_type": "code",
   "execution_count": 14,
   "id": "c054c2a3-fa0a-4dc3-9390-230a8715763d",
   "metadata": {},
   "outputs": [
    {
     "data": {
      "image/png": "[encoded data removed]"
     },
     "metadata": {},
     "output_type": "display_data"
    }
   ],
   "source": [
    "circ = QuantumClifford.AbstractOperation[]\n",
    "# push!(circ, sZ(1))\n",
    "# push!(circ, sZCZ(1,3))\n",
    "push!(circ, SparseGate(random_clifford(2), [1, 2]))\n",
    "push!(circ, SparseGate(random_clifford(2), [2, 4]))\n",
    "displaycircuit(circ)"
   ]
  },
  {
   "cell_type": "code",
   "execution_count": 15,
   "id": "fc680650-4a7e-4b7d-a41f-a424392e78ac",
   "metadata": {},
   "outputs": [],
   "source": [
    "# function random_clifford_circuit(nqubits, ngates)\n",
    "#     circ = QuantumClifford.AbstractOperation[]"
   ]
  },
  {
   "cell_type": "code",
   "execution_count": null,
   "id": "b5bef569-3178-46d2-a1b3-a5e4414a468c",
   "metadata": {},
   "outputs": [],
   "source": []
  }
 ],
 "metadata": {
  "kernelspec": {
   "display_name": "Julia 1.10.3",
   "language": "julia",
   "name": "julia-1.10"
  },
  "language_info": {
   "file_extension": ".jl",
   "mimetype": "application/julia",
   "name": "julia",
   "version": "1.10.3"
  }
 },
 "nbformat": 4,
 "nbformat_minor": 5
}
